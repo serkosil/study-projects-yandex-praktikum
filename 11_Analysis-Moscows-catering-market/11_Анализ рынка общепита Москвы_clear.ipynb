{
 "cells": [
  {
   "cell_type": "markdown",
   "metadata": {},
   "source": [
    "# Анализ рынка общественного питания Москвы"
   ]
  },
  {
   "cell_type": "markdown",
   "metadata": {
    "jp-MarkdownHeadingCollapsed": true
   },
   "source": [
    "## <a id=\"0\"></a>Содержание\n",
    "1. [Оглавление](#0)<br>\n",
    "2. [Описание данных](#2_0)<br>\n",
    "3. [Задачи](#2)<br>\n",
    "4. [Загрузка и изучение данных](#3)<br>\n",
    "    * [Промежуточный вывод](#3_1)<br>\n",
    "<br>\n",
    "5. [Предобработка данных](#4)<br>\n",
    "    * [Типы данных](#4_1)<br>\n",
    "    * [Обработка дубликатов](#4_2)<br>\n",
    "    * [Столбец `street`](#4_3)<br>\n",
    "    * [Столбец `is_24_7`](#4_4)<br>\n",
    "    * [Обработка пропусков](#4_5)<br>\n",
    "    * [Промежуточный вывод](#4_6)<br>\n",
    "<br>\n",
    "6. [Анализ данных](#5)<br>\n",
    "    * [Категории (типы) заведений общепита](#5_1)<br>\n",
    "    * [Количество посадочных мест в заведениях по видам](#5_2)<br>\n",
    "    * [Соотношение сетевых и несетевых заведений](#5_3)<br>\n",
    "    * [Виды заведений в сетях общепита](#5_4)<br>\n",
    "    * [Топ-15 популярных сетей общепита в Москве](#5_5)<br>\n",
    "    * [Количество заведений по типам и округам](#5_6)<br>\n",
    "    * [Распределение средних рейтингов по видам заведений](#5_7)<br>\n",
    "    * [Средний рейтинг заведений по каждому округу](#5_8)<br>\n",
    "    * [Кластеры заведений из датасета на карте](#5_9)<br>\n",
    "    * [Топ-15 улиц по количеству заведений](#5_10)<br>\n",
    "    * [Улицы с одним объектом общепита](#5_11)<br>\n",
    "    * [Средний чек заведений по округам](#5_12)<br>\n",
    "    * [Влияние удалённости от центра на цены в заведениях](#5_13)<br>\n",
    "    * [Вывод по результатам анализа](#5_15)<br>\n",
    "<br>\n",
    "7. [Конкретизация исследования: открытие кофейни](#6)<br>\n",
    "    * [Особенности расположения кофеен по округам](#6_1)<br>\n",
    "    * [Круглосуточные кофейни](#6_2)<br>\n",
    "    * [Рейтинги кофеен по округам](#6_3)<br>\n",
    "    * [Показатели стоимости чашки капучино](#6_4)<br>\n",
    "<br>\n",
    "8. [Выводы и рекомендации](#7)<br>"
   ]
  },
  {
   "cell_type": "markdown",
   "metadata": {},
   "source": [
    "## <a id=\"2\"></a>Задачи\n",
    "[К содержанию](#0)<br><br>\n",
    "Шаг 1. Загрузка и изучение данных<br>\n",
    "- Какую общую информацию о заведениях общественного питания Москвы хранит датасет: сколько заведений представлено? Что можно сказать о каждом столбце? Значения какого типа они хранят?<br>\n",
    "\n",
    "Шаг 2. Предобработка данных<br>\n",
    "- Изучить, есть ли дубликаты в данных.<br>\n",
    "- Найти пропуски: встречаются ли они, в каких столбцах? Можно ли их обработать или оставить как есть?<br>\n",
    "- Создать столбец `street` с названиями улиц из столбца с адресом.<br>\n",
    "- Создать столбец `is_24_7` с обозначением, что заведение работает круглосуточно (24/7): логическое значение True — если заведение работает круглосуточно; логическое значение False — если работает по графику.<br>\n",
    "\n",
    "Шаг 3. Анализ данных<br>\n",
    "- Какие категории заведений представлены в данных?<br>\n",
    "- Исследование количества объектов общественного питания по категориям: рестораны, кофейни, пиццерии, бары и так далее. Построить визуализацию. Ответить на вопрос о распределении заведений по категориям.<br>\n",
    "- Исследование количества посадочных мест в местах по категориям: рестораны, кофейни, пиццерии, бары и так далее. Построить визуализацию. Проанализировать результаты и сделать выводы.<br>\n",
    "- Рассмотреть и изобразить соотношение сетевых и несетевых заведений в датасете. Каких заведений больше?<br>\n",
    "- Какие категории заведений чаще являются сетевыми? Исследовать данные и ответьте на вопрос графиком.<br>\n",
    "- Сгруппировать данные по названиям заведений и найти топ-15 популярных сетей в Москве. Построить подходящую для такой информации визуализацию. Уточнить популярность этих сетей? Найти признак, который их объединяет? К какой категории заведений они относятся? Отобразить общее количество заведений и количество заведений каждой категории по округам.<br>\n",
    "- Определить административные округа Москвы, присутствующие в датасете. Отобразить общее количество заведений и количество заведений каждой категории по округам. Проиллюстрировать эту информацию одним графиком.<br>\n",
    "- Визуализировать распределение средних рейтингов по категориям заведений. Сильно ли различаются усреднённые рейтинги в разных типах общепита?<br>\n",
    "- Постройте фоновую картограмму (хороплет) со средним рейтингом заведений каждого округа. Границы округов Москвы, которые встречаются в датасете, хранятся в файле admin_level_geomap.geojson.<br>\n",
    "- Отобразить все заведения датасета на карте с помощью кластеров средствами библиотеки folium.<br>\n",
    "- Найти топ-15 улиц по количеству заведений. Построить график распределения количества заведений и их категорий по этим улицам. Проиллюстрировать эту информацию одним графиком.<br>\n",
    "- Найти улицы, на которых находится только один объект общепита. Что можно сказать об этих заведениях?<br>\n",
    "- Значения средних чеков заведений хранятся в столбце. Эти числа показывают примерную стоимость заказа в рублях, которая чаще всего выражена диапазоном. Посчитать медиану столбца `middle_avg_bill` (значения средних чеков заведений) для каждого окурга. Использовать это значение в качестве ценового индикатора окурга.<br>\n",
    "- Построить фоновую картограмму (хороплет) с полученными значениями для каждого округа. Проанализировать цены в Центральном административном округе и других. Как удалённость от центра влияет на цены в заведениях?<br>\n",
    "- Собрать наблюдения по вопросам выше в один общий вывод.<br>\n",
    "\n",
    "Шаг 4. Конкретизация исследования: открытие кофейни<br>\n",
    "- Основатели фонда хотят открыть доступную кофейню в Москве. Считается, что заказчики не боятся конкуренции в этой сфере. Нужно определить, осуществимы ли планы клиентов.<br>\n",
    "- Ответить на следующие вопросы:<br>\n",
    "    - Сколько всего кофеен в датасете? В каких округах их больше всего, каковы особенности их расположения?<br>\n",
    "    - Есть ли круглосуточные кофейни?<br>\n",
    "    - Какие у кофеен рейтинги? Как они распределяются по округам?<br>\n",
    "    - На какую стоимость чашки капучино стоит ориентироваться при открытии и почему?<br>\n",
    "- По желанию можно расширить список вопросов для исследования, добавив собственные.<br>\n",
    "- Построить визуализацию.<br>\n",
    "- Дать рекомендацию для открытия нового заведения (здесь нет правильного или неправильного ответа, но решение должно быть чем-то обосновано). Объяснить свою рекомендацию можно текстом с описанием или маркерами на географической карте.<br>\n",
    "\n",
    "Шаг 5. Подготовка презентации<br>"
   ]
  },
  {
   "cell_type": "markdown",
   "metadata": {},
   "source": [
    "## <a id=\"2_0\"></a>Описание данных\n",
    "[К содержанию](#0)<br><br>\n",
    "__Файл moscow_places.csv__:\n",
    "* `name` — название заведения;\n",
    "* `address` — адрес заведения;\n",
    "* `category` — категория заведения, например «кафе», «пиццерия» или «кофейня»;\n",
    "* `hours` — информация о днях и часах работы;\n",
    "* `lat` — широта географической точки, в которой находится заведение;\n",
    "* `lng` — долгота географической точки, в которой находится заведение;\n",
    "* `rating` — рейтинг заведения по оценкам пользователей в Яндекс Картах (высшая оценка — 5.0);\n",
    "* `price` — категория цен в заведении, например «средние», «ниже среднего», «выше среднего» и так далее;\n",
    "* `avg_bill` — строка, которая хранит среднюю стоимость заказа в виде диапазона, например:\n",
    "«Средний счёт: 1000–1500 ₽»;\n",
    "«Цена чашки капучино: 130–220 ₽»;\n",
    "«Цена бокала пива: 400–600 ₽».\n",
    "и так далее;\n",
    "* `middle_avg_bill` — число с оценкой среднего чека, которое указано только для значений из столбца avg_bill, начинающихся с подстроки «Средний счёт»:\n",
    "Если в строке указан ценовой диапазон из двух значений, в столбец войдёт медиана этих двух значений.\n",
    "Если в строке указано одно число — цена без диапазона, то в столбец войдёт это число.\n",
    "Если значения нет или оно не начинается с подстроки «Средний счёт», то в столбец ничего не войдёт.\n",
    "middle_coffee_cup — число с оценкой одной чашки капучино, которое указано только для значений из столбца avg_bill, начинающихся с подстроки «Цена одной чашки капучино»:\n",
    "Если в строке указан ценовой диапазон из двух значений, в столбец войдёт медиана этих двух значений.\n",
    "Если в строке указано одно число — цена без диапазона, то в столбец войдёт это число.\n",
    "Если значения нет или оно не начинается с подстроки «Цена одной чашки капучино», то в столбец ничего не войдёт.\n",
    "* `chain` — число, выраженное 0 или 1, которое показывает, является ли заведение сетевым (для маленьких сетей могут встречаться ошибки):\n",
    "0 — заведение не является сетевым\n",
    "1 — заведение является сетевым\n",
    "* `district` — административный район, в котором находится заведение, например Центральный административный округ;\n",
    "* `seats` — количество посадочных мест.\n",
    "\n",
    "\n"
   ]
  },
  {
   "cell_type": "markdown",
   "metadata": {},
   "source": [
    "## <a id=\"3\"></a>Загрузка и изучение данных\n",
    "[К содержанию](#0)"
   ]
  },
  {
   "cell_type": "code",
   "execution_count": 1,
   "metadata": {},
   "outputs": [],
   "source": [
    "# Импорт библиотек и настройка работы\n",
    "import pandas as pd\n",
    "# количество строк в таблице не больше 5, чтобы не писать head() за каждым фреймом\n",
    "#pd.set_option('max_rows', 5)\n",
    "# при необходимости раскрыть из комментария полный вывод данных в колонке\n",
    "# pd.set_option('display.max_colwidth', None)\n",
    "# оставим один знак после запятой у чисел с плавающей точкой\n",
    "pd.set_option('display.float_format', '{:.3f}'.format)\n",
    "pd.options.display.float_format = '{:.3f}'.format\n",
    "# для работы с показателями времени\n",
    "from datetime import datetime as dt\n",
    "from datetime import timedelta # для расчёта продолжительности между датами или временем\n",
    "# для графиков и оформления\n",
    "import matplotlib.pyplot as plt\n",
    "# конвертеры, которые позволяют использовать типы pandas в matplotlib  \n",
    "from pandas.plotting import register_matplotlib_converters\n",
    "register_matplotlib_converters()\n",
    "import seaborn as sns\n",
    "# ставим палитру deep\n",
    "sns.set_palette('deep') \n",
    "sns.set_style(\"whitegrid\")\n",
    "import plotly.express as px\n",
    "from plotly import graph_objects as go\n",
    "# настроим стили графиков\n",
    "large = 16; med = 12; small = 10\n",
    "params = {'axes.titlesize': large,\n",
    "          'legend.fontsize': med,\n",
    "          'figure.figsize': (10, 8),\n",
    "          'axes.labelsize': med,\n",
    "          'axes.titlesize': med,\n",
    "          'xtick.labelsize': med,\n",
    "          'ytick.labelsize': med,\n",
    "          'figure.titlesize': large}\n",
    "plt.rcParams.update(params)\n",
    "#plt.style.use('seaborn-whitegrid')\n",
    "# графики в svg для более чёткого изображения и масштабируемости\n",
    "%config InlineBackend.figure_format = 'svg'\n",
    "# для математических и статистических операций\n",
    "import numpy as np\n",
    "import re\n",
    "import json\n",
    "import folium\n",
    "# импортируем карту и хороплет\n",
    "from folium import Map, Choropleth\n",
    "# импортируем карту и маркер\n",
    "from folium import Marker\n",
    "# импортируем кластер\n",
    "from folium.plugins import MarkerCluster\n",
    "import math as mth\n",
    "import scipy.stats\n",
    "from scipy import stats as st\n",
    "# библиотеки для работы с дашбордами\n",
    "import sys\n",
    "import getopt\n",
    "from sqlalchemy import create_engine\n",
    "# для создания двойного пути к базе данных\n",
    "import os"
   ]
  },
  {
   "cell_type": "code",
   "execution_count": 2,
   "metadata": {},
   "outputs": [
    {
     "ename": "FileNotFoundError",
     "evalue": "[Errno 2] No such file or directory: '/datasets/moscow_places.csv'",
     "output_type": "error",
     "traceback": [
      "\u001b[1;31m---------------------------------------------------------------------------\u001b[0m",
      "\u001b[1;31mFileNotFoundError\u001b[0m                         Traceback (most recent call last)",
      "Cell \u001b[1;32mIn[2], line 3\u001b[0m\n\u001b[0;32m      1\u001b[0m \u001b[38;5;66;03m# Получаем датафрейм\u001b[39;00m\n\u001b[0;32m      2\u001b[0m file_path \u001b[38;5;241m=\u001b[39m \u001b[38;5;124m'\u001b[39m\u001b[38;5;124m/datasets/moscow_places.csv\u001b[39m\u001b[38;5;124m'\u001b[39m\n\u001b[1;32m----> 3\u001b[0m df \u001b[38;5;241m=\u001b[39m \u001b[43mpd\u001b[49m\u001b[38;5;241;43m.\u001b[39;49m\u001b[43mread_csv\u001b[49m\u001b[43m(\u001b[49m\u001b[43mfile_path\u001b[49m\u001b[43m)\u001b[49m\n",
      "File \u001b[1;32mc:\\Users\\USER\\AppData\\Local\\Programs\\Python\\Python312\\Lib\\site-packages\\pandas\\io\\parsers\\readers.py:1026\u001b[0m, in \u001b[0;36mread_csv\u001b[1;34m(filepath_or_buffer, sep, delimiter, header, names, index_col, usecols, dtype, engine, converters, true_values, false_values, skipinitialspace, skiprows, skipfooter, nrows, na_values, keep_default_na, na_filter, verbose, skip_blank_lines, parse_dates, infer_datetime_format, keep_date_col, date_parser, date_format, dayfirst, cache_dates, iterator, chunksize, compression, thousands, decimal, lineterminator, quotechar, quoting, doublequote, escapechar, comment, encoding, encoding_errors, dialect, on_bad_lines, delim_whitespace, low_memory, memory_map, float_precision, storage_options, dtype_backend)\u001b[0m\n\u001b[0;32m   1013\u001b[0m kwds_defaults \u001b[38;5;241m=\u001b[39m _refine_defaults_read(\n\u001b[0;32m   1014\u001b[0m     dialect,\n\u001b[0;32m   1015\u001b[0m     delimiter,\n\u001b[1;32m   (...)\u001b[0m\n\u001b[0;32m   1022\u001b[0m     dtype_backend\u001b[38;5;241m=\u001b[39mdtype_backend,\n\u001b[0;32m   1023\u001b[0m )\n\u001b[0;32m   1024\u001b[0m kwds\u001b[38;5;241m.\u001b[39mupdate(kwds_defaults)\n\u001b[1;32m-> 1026\u001b[0m \u001b[38;5;28;01mreturn\u001b[39;00m \u001b[43m_read\u001b[49m\u001b[43m(\u001b[49m\u001b[43mfilepath_or_buffer\u001b[49m\u001b[43m,\u001b[49m\u001b[43m \u001b[49m\u001b[43mkwds\u001b[49m\u001b[43m)\u001b[49m\n",
      "File \u001b[1;32mc:\\Users\\USER\\AppData\\Local\\Programs\\Python\\Python312\\Lib\\site-packages\\pandas\\io\\parsers\\readers.py:620\u001b[0m, in \u001b[0;36m_read\u001b[1;34m(filepath_or_buffer, kwds)\u001b[0m\n\u001b[0;32m    617\u001b[0m _validate_names(kwds\u001b[38;5;241m.\u001b[39mget(\u001b[38;5;124m\"\u001b[39m\u001b[38;5;124mnames\u001b[39m\u001b[38;5;124m\"\u001b[39m, \u001b[38;5;28;01mNone\u001b[39;00m))\n\u001b[0;32m    619\u001b[0m \u001b[38;5;66;03m# Create the parser.\u001b[39;00m\n\u001b[1;32m--> 620\u001b[0m parser \u001b[38;5;241m=\u001b[39m \u001b[43mTextFileReader\u001b[49m\u001b[43m(\u001b[49m\u001b[43mfilepath_or_buffer\u001b[49m\u001b[43m,\u001b[49m\u001b[43m \u001b[49m\u001b[38;5;241;43m*\u001b[39;49m\u001b[38;5;241;43m*\u001b[39;49m\u001b[43mkwds\u001b[49m\u001b[43m)\u001b[49m\n\u001b[0;32m    622\u001b[0m \u001b[38;5;28;01mif\u001b[39;00m chunksize \u001b[38;5;129;01mor\u001b[39;00m iterator:\n\u001b[0;32m    623\u001b[0m     \u001b[38;5;28;01mreturn\u001b[39;00m parser\n",
      "File \u001b[1;32mc:\\Users\\USER\\AppData\\Local\\Programs\\Python\\Python312\\Lib\\site-packages\\pandas\\io\\parsers\\readers.py:1620\u001b[0m, in \u001b[0;36mTextFileReader.__init__\u001b[1;34m(self, f, engine, **kwds)\u001b[0m\n\u001b[0;32m   1617\u001b[0m     \u001b[38;5;28mself\u001b[39m\u001b[38;5;241m.\u001b[39moptions[\u001b[38;5;124m\"\u001b[39m\u001b[38;5;124mhas_index_names\u001b[39m\u001b[38;5;124m\"\u001b[39m] \u001b[38;5;241m=\u001b[39m kwds[\u001b[38;5;124m\"\u001b[39m\u001b[38;5;124mhas_index_names\u001b[39m\u001b[38;5;124m\"\u001b[39m]\n\u001b[0;32m   1619\u001b[0m \u001b[38;5;28mself\u001b[39m\u001b[38;5;241m.\u001b[39mhandles: IOHandles \u001b[38;5;241m|\u001b[39m \u001b[38;5;28;01mNone\u001b[39;00m \u001b[38;5;241m=\u001b[39m \u001b[38;5;28;01mNone\u001b[39;00m\n\u001b[1;32m-> 1620\u001b[0m \u001b[38;5;28mself\u001b[39m\u001b[38;5;241m.\u001b[39m_engine \u001b[38;5;241m=\u001b[39m \u001b[38;5;28;43mself\u001b[39;49m\u001b[38;5;241;43m.\u001b[39;49m\u001b[43m_make_engine\u001b[49m\u001b[43m(\u001b[49m\u001b[43mf\u001b[49m\u001b[43m,\u001b[49m\u001b[43m \u001b[49m\u001b[38;5;28;43mself\u001b[39;49m\u001b[38;5;241;43m.\u001b[39;49m\u001b[43mengine\u001b[49m\u001b[43m)\u001b[49m\n",
      "File \u001b[1;32mc:\\Users\\USER\\AppData\\Local\\Programs\\Python\\Python312\\Lib\\site-packages\\pandas\\io\\parsers\\readers.py:1880\u001b[0m, in \u001b[0;36mTextFileReader._make_engine\u001b[1;34m(self, f, engine)\u001b[0m\n\u001b[0;32m   1878\u001b[0m     \u001b[38;5;28;01mif\u001b[39;00m \u001b[38;5;124m\"\u001b[39m\u001b[38;5;124mb\u001b[39m\u001b[38;5;124m\"\u001b[39m \u001b[38;5;129;01mnot\u001b[39;00m \u001b[38;5;129;01min\u001b[39;00m mode:\n\u001b[0;32m   1879\u001b[0m         mode \u001b[38;5;241m+\u001b[39m\u001b[38;5;241m=\u001b[39m \u001b[38;5;124m\"\u001b[39m\u001b[38;5;124mb\u001b[39m\u001b[38;5;124m\"\u001b[39m\n\u001b[1;32m-> 1880\u001b[0m \u001b[38;5;28mself\u001b[39m\u001b[38;5;241m.\u001b[39mhandles \u001b[38;5;241m=\u001b[39m \u001b[43mget_handle\u001b[49m\u001b[43m(\u001b[49m\n\u001b[0;32m   1881\u001b[0m \u001b[43m    \u001b[49m\u001b[43mf\u001b[49m\u001b[43m,\u001b[49m\n\u001b[0;32m   1882\u001b[0m \u001b[43m    \u001b[49m\u001b[43mmode\u001b[49m\u001b[43m,\u001b[49m\n\u001b[0;32m   1883\u001b[0m \u001b[43m    \u001b[49m\u001b[43mencoding\u001b[49m\u001b[38;5;241;43m=\u001b[39;49m\u001b[38;5;28;43mself\u001b[39;49m\u001b[38;5;241;43m.\u001b[39;49m\u001b[43moptions\u001b[49m\u001b[38;5;241;43m.\u001b[39;49m\u001b[43mget\u001b[49m\u001b[43m(\u001b[49m\u001b[38;5;124;43m\"\u001b[39;49m\u001b[38;5;124;43mencoding\u001b[39;49m\u001b[38;5;124;43m\"\u001b[39;49m\u001b[43m,\u001b[49m\u001b[43m \u001b[49m\u001b[38;5;28;43;01mNone\u001b[39;49;00m\u001b[43m)\u001b[49m\u001b[43m,\u001b[49m\n\u001b[0;32m   1884\u001b[0m \u001b[43m    \u001b[49m\u001b[43mcompression\u001b[49m\u001b[38;5;241;43m=\u001b[39;49m\u001b[38;5;28;43mself\u001b[39;49m\u001b[38;5;241;43m.\u001b[39;49m\u001b[43moptions\u001b[49m\u001b[38;5;241;43m.\u001b[39;49m\u001b[43mget\u001b[49m\u001b[43m(\u001b[49m\u001b[38;5;124;43m\"\u001b[39;49m\u001b[38;5;124;43mcompression\u001b[39;49m\u001b[38;5;124;43m\"\u001b[39;49m\u001b[43m,\u001b[49m\u001b[43m \u001b[49m\u001b[38;5;28;43;01mNone\u001b[39;49;00m\u001b[43m)\u001b[49m\u001b[43m,\u001b[49m\n\u001b[0;32m   1885\u001b[0m \u001b[43m    \u001b[49m\u001b[43mmemory_map\u001b[49m\u001b[38;5;241;43m=\u001b[39;49m\u001b[38;5;28;43mself\u001b[39;49m\u001b[38;5;241;43m.\u001b[39;49m\u001b[43moptions\u001b[49m\u001b[38;5;241;43m.\u001b[39;49m\u001b[43mget\u001b[49m\u001b[43m(\u001b[49m\u001b[38;5;124;43m\"\u001b[39;49m\u001b[38;5;124;43mmemory_map\u001b[39;49m\u001b[38;5;124;43m\"\u001b[39;49m\u001b[43m,\u001b[49m\u001b[43m \u001b[49m\u001b[38;5;28;43;01mFalse\u001b[39;49;00m\u001b[43m)\u001b[49m\u001b[43m,\u001b[49m\n\u001b[0;32m   1886\u001b[0m \u001b[43m    \u001b[49m\u001b[43mis_text\u001b[49m\u001b[38;5;241;43m=\u001b[39;49m\u001b[43mis_text\u001b[49m\u001b[43m,\u001b[49m\n\u001b[0;32m   1887\u001b[0m \u001b[43m    \u001b[49m\u001b[43merrors\u001b[49m\u001b[38;5;241;43m=\u001b[39;49m\u001b[38;5;28;43mself\u001b[39;49m\u001b[38;5;241;43m.\u001b[39;49m\u001b[43moptions\u001b[49m\u001b[38;5;241;43m.\u001b[39;49m\u001b[43mget\u001b[49m\u001b[43m(\u001b[49m\u001b[38;5;124;43m\"\u001b[39;49m\u001b[38;5;124;43mencoding_errors\u001b[39;49m\u001b[38;5;124;43m\"\u001b[39;49m\u001b[43m,\u001b[49m\u001b[43m \u001b[49m\u001b[38;5;124;43m\"\u001b[39;49m\u001b[38;5;124;43mstrict\u001b[39;49m\u001b[38;5;124;43m\"\u001b[39;49m\u001b[43m)\u001b[49m\u001b[43m,\u001b[49m\n\u001b[0;32m   1888\u001b[0m \u001b[43m    \u001b[49m\u001b[43mstorage_options\u001b[49m\u001b[38;5;241;43m=\u001b[39;49m\u001b[38;5;28;43mself\u001b[39;49m\u001b[38;5;241;43m.\u001b[39;49m\u001b[43moptions\u001b[49m\u001b[38;5;241;43m.\u001b[39;49m\u001b[43mget\u001b[49m\u001b[43m(\u001b[49m\u001b[38;5;124;43m\"\u001b[39;49m\u001b[38;5;124;43mstorage_options\u001b[39;49m\u001b[38;5;124;43m\"\u001b[39;49m\u001b[43m,\u001b[49m\u001b[43m \u001b[49m\u001b[38;5;28;43;01mNone\u001b[39;49;00m\u001b[43m)\u001b[49m\u001b[43m,\u001b[49m\n\u001b[0;32m   1889\u001b[0m \u001b[43m\u001b[49m\u001b[43m)\u001b[49m\n\u001b[0;32m   1890\u001b[0m \u001b[38;5;28;01massert\u001b[39;00m \u001b[38;5;28mself\u001b[39m\u001b[38;5;241m.\u001b[39mhandles \u001b[38;5;129;01mis\u001b[39;00m \u001b[38;5;129;01mnot\u001b[39;00m \u001b[38;5;28;01mNone\u001b[39;00m\n\u001b[0;32m   1891\u001b[0m f \u001b[38;5;241m=\u001b[39m \u001b[38;5;28mself\u001b[39m\u001b[38;5;241m.\u001b[39mhandles\u001b[38;5;241m.\u001b[39mhandle\n",
      "File \u001b[1;32mc:\\Users\\USER\\AppData\\Local\\Programs\\Python\\Python312\\Lib\\site-packages\\pandas\\io\\common.py:873\u001b[0m, in \u001b[0;36mget_handle\u001b[1;34m(path_or_buf, mode, encoding, compression, memory_map, is_text, errors, storage_options)\u001b[0m\n\u001b[0;32m    868\u001b[0m \u001b[38;5;28;01melif\u001b[39;00m \u001b[38;5;28misinstance\u001b[39m(handle, \u001b[38;5;28mstr\u001b[39m):\n\u001b[0;32m    869\u001b[0m     \u001b[38;5;66;03m# Check whether the filename is to be opened in binary mode.\u001b[39;00m\n\u001b[0;32m    870\u001b[0m     \u001b[38;5;66;03m# Binary mode does not support 'encoding' and 'newline'.\u001b[39;00m\n\u001b[0;32m    871\u001b[0m     \u001b[38;5;28;01mif\u001b[39;00m ioargs\u001b[38;5;241m.\u001b[39mencoding \u001b[38;5;129;01mand\u001b[39;00m \u001b[38;5;124m\"\u001b[39m\u001b[38;5;124mb\u001b[39m\u001b[38;5;124m\"\u001b[39m \u001b[38;5;129;01mnot\u001b[39;00m \u001b[38;5;129;01min\u001b[39;00m ioargs\u001b[38;5;241m.\u001b[39mmode:\n\u001b[0;32m    872\u001b[0m         \u001b[38;5;66;03m# Encoding\u001b[39;00m\n\u001b[1;32m--> 873\u001b[0m         handle \u001b[38;5;241m=\u001b[39m \u001b[38;5;28;43mopen\u001b[39;49m\u001b[43m(\u001b[49m\n\u001b[0;32m    874\u001b[0m \u001b[43m            \u001b[49m\u001b[43mhandle\u001b[49m\u001b[43m,\u001b[49m\n\u001b[0;32m    875\u001b[0m \u001b[43m            \u001b[49m\u001b[43mioargs\u001b[49m\u001b[38;5;241;43m.\u001b[39;49m\u001b[43mmode\u001b[49m\u001b[43m,\u001b[49m\n\u001b[0;32m    876\u001b[0m \u001b[43m            \u001b[49m\u001b[43mencoding\u001b[49m\u001b[38;5;241;43m=\u001b[39;49m\u001b[43mioargs\u001b[49m\u001b[38;5;241;43m.\u001b[39;49m\u001b[43mencoding\u001b[49m\u001b[43m,\u001b[49m\n\u001b[0;32m    877\u001b[0m \u001b[43m            \u001b[49m\u001b[43merrors\u001b[49m\u001b[38;5;241;43m=\u001b[39;49m\u001b[43merrors\u001b[49m\u001b[43m,\u001b[49m\n\u001b[0;32m    878\u001b[0m \u001b[43m            \u001b[49m\u001b[43mnewline\u001b[49m\u001b[38;5;241;43m=\u001b[39;49m\u001b[38;5;124;43m\"\u001b[39;49m\u001b[38;5;124;43m\"\u001b[39;49m\u001b[43m,\u001b[49m\n\u001b[0;32m    879\u001b[0m \u001b[43m        \u001b[49m\u001b[43m)\u001b[49m\n\u001b[0;32m    880\u001b[0m     \u001b[38;5;28;01melse\u001b[39;00m:\n\u001b[0;32m    881\u001b[0m         \u001b[38;5;66;03m# Binary mode\u001b[39;00m\n\u001b[0;32m    882\u001b[0m         handle \u001b[38;5;241m=\u001b[39m \u001b[38;5;28mopen\u001b[39m(handle, ioargs\u001b[38;5;241m.\u001b[39mmode)\n",
      "\u001b[1;31mFileNotFoundError\u001b[0m: [Errno 2] No such file or directory: '/datasets/moscow_places.csv'"
     ]
    }
   ],
   "source": [
    "# Получаем датафрейм\n",
    "file_path = '/datasets/moscow_places.csv'\n",
    "df = pd.read_csv(file_path)"
   ]
  },
  {
   "cell_type": "code",
   "execution_count": null,
   "metadata": {},
   "outputs": [],
   "source": [
    "# Функция получения полной информации о датафрейме\n",
    "def data_info (data):\n",
    "    print('\\033[1m' + 'Первые 10 строк:' + '\\033[0m')\n",
    "    display(data.head(10))\n",
    "    print('-------------')\n",
    "    print('\\033[1m' + 'Последние 10 строк:' + '\\033[0m')\n",
    "    display(data.tail(10))\n",
    "    print('-------------')\n",
    "    print('\\033[1m' + 'Типы данных:' + '\\033[0m')\n",
    "    display(data.info(memory_usage='deep'))\n",
    "    print('-------------')\n",
    "    print('\\033[1m' + 'Полное статистическое описание:' + '\\033[0m')\n",
    "    display(data.describe(include = \"all\"))\n",
    "    print('-------------')\n",
    "    print('\\033[1m' + 'Категориальные признаки:' + '\\033[0m')\n",
    "    display(data.describe(include=[object]))\n",
    "    print('-------------')\n",
    "    print('\\033[1m' + 'Пропуски:' + '\\033[0m')\n",
    "    # Обход всех столбцов и проверка наличия пропущенных значений\n",
    "    for i in data.columns:\n",
    "        if data[i].isna().sum() > 0:\n",
    "            print(f\"Столбец {i} имеет {data[i].isna().sum()} пропусков\\n\")\n",
    "        else:\n",
    "            print(f\"В столбце {i} пропусков НЕТ\\n\")\n",
    "    print('-------------')\n",
    "    print('\\033[1m' + 'Доля пропусков от всех данных:' + '\\033[0m')\n",
    "    display(data.isna().mean().sort_values(ascending=False)*100)\n",
    "    print('-------------')\n",
    "    print('\\033[1m' + 'Явные дубликаты:' + '\\033[0m')\n",
    "    if data.duplicated().sum() > 0:\n",
    "        print('Дубликатов: ', data.duplicated().sum())\n",
    "    else:\n",
    "        print('Явных дублей НЕТ')"
   ]
  },
  {
   "cell_type": "code",
   "execution_count": null,
   "metadata": {
    "scrolled": true
   },
   "outputs": [],
   "source": [
    "data_info(df)"
   ]
  },
  {
   "cell_type": "markdown",
   "metadata": {},
   "source": [
    "### <a id=\"3_1\"></a>Промежуточный вывод\n",
    "[К содержанию](#0)<br><br>\n",
    "Всего в таблице было 8406 строк и 14 столбцов. Названия колонок корректные.<br>\n",
    "Сейчас видно, что в данных много пропусков. Так, в столбце со средним чеком чашки кофе `middle_coffee_cup` больше всего пропусков - почти 94%. Восстановить или заменить такое количество данных нельзя, поэтому, просто не обращаем внимания. В столбцах `price`, `avg_bill`, `middle_avg_bill` больше половины данных также отсутствуют. Их также не получится заменить, а таем более нельзя удалить. Оставим и эти столбцы без изменения, чтобы не допускать искажения результатов. Пропуски в столбце `seats` могут быть вызваны отсутствием посадочных мест в этих заведениях (люди кушают стоя, или забирают еду и уходят), думаю, что их можно заменить на 0, это не исказит результаты.<br>\n",
    "Столбец `chain` переведём в булевый тип, так как он содержит значения только 0 и 1. Столбец `seats` - количество посадочных мест должно быть целым положительным числом, значит в тип uint16, врядли в заведение влезет больше 65 тысяч посетителей сразу, а вот больше 255 запросто, тем более, что у нас максимум 1288.<br>\n",
    "Широту и долготу (`lat` и `lng`) переведём в тип float32, нам не нужны 64 разряда по умолчанию, незачем память забивать. То же самое сделаем со столбцами `rating`, `middle_avg_bill` и `middle_coffee_cup`, там тоже 32 разряда \"за глаза и за уши\". Остальные колонки оставляем без изменений."
   ]
  },
  {
   "cell_type": "markdown",
   "metadata": {},
   "source": [
    "## <a id=\"4\"></a>Предобработка данных\n",
    "[К содержанию](#0)<br><br>\n",
    "\n"
   ]
  },
  {
   "cell_type": "markdown",
   "metadata": {},
   "source": [
    "### <a id=\"4_1\"></a>Преобразование типов данных\n",
    "[К содержанию](#0)"
   ]
  },
  {
   "cell_type": "code",
   "execution_count": null,
   "metadata": {},
   "outputs": [],
   "source": [
    "# Перевод типа данных в столбцах\n",
    "df['chain'] = df['chain'].astype(bool)\n",
    "df['lat'] = df['lat'].astype('float32')\n",
    "df['lng'] = df['lng'].astype('float32')\n",
    "df['rating'] = df['rating'].astype('float32')\n",
    "df['middle_avg_bill'] = df['middle_avg_bill'].astype('float32')\n",
    "df['middle_coffee_cup'] = df['middle_coffee_cup'].astype('float32')\n",
    "# Заменяем пропущенные значения и значения бесконечности на значение, которое можно перевести в uint16\n",
    "# df['seats'] = df['seats'].fillna(0).replace([np.inf, -np.inf], 0).astype('uint16')\n",
    "df['seats'] = df['seats'].fillna(-1).replace([np.inf, -np.inf], -1).astype('int16')\n",
    "# Посмотрим на результат\n",
    "print('\\nТипы данных:\\n')\n",
    "display(df.info(memory_usage='deep'))"
   ]
  },
  {
   "cell_type": "markdown",
   "metadata": {},
   "source": [
    "### <a id=\"4_2\"></a>Обработка дубликатов\n",
    "[К содержанию](#0)<br><br>\n",
    "Так как явных повторов нет, то поищем неявные дубликаты. Для этого в столбцах `name`, `address`, `district` и `avg_bill` переведём текст в нижний регистр."
   ]
  },
  {
   "cell_type": "code",
   "execution_count": null,
   "metadata": {},
   "outputs": [],
   "source": [
    "# Переведём весь текст в нижний регистр\n",
    "df['name'] = df['name'].str.lower()\n",
    "df['address'] = df['address'].str.lower()\n",
    "df['district'] = df['district'].str.lower()\n",
    "df['avg_bill'] = df['avg_bill'].str.lower()\n",
    "display(df.head())"
   ]
  },
  {
   "cell_type": "code",
   "execution_count": null,
   "metadata": {
    "scrolled": true
   },
   "outputs": [],
   "source": [
    "# Посмотрим на названия, чтобы понимать масштаб неявных дублей\n",
    "sorted(df['name'].unique())"
   ]
  },
  {
   "cell_type": "markdown",
   "metadata": {},
   "source": [
    "Однако в названиях встречаются ненужные символы и прочие знаки пунктуации. Чтобы исключить разное написание одного и того же заведения, поработаем и с ними, потому что названия нам не важны."
   ]
  },
  {
   "cell_type": "code",
   "execution_count": null,
   "metadata": {
    "scrolled": true
   },
   "outputs": [],
   "source": [
    "# Удаляем ненужные символы в названиях\n",
    "symbols = ['-', '- ', ' - ', ' -', ';', '&', '!', '.', ',', '«', '»', '(', ')', '\"', '  ']\n",
    "\n",
    "# Создаем копию столбца 'name'\n",
    "temp_name = df['name'].copy()\n",
    "for s in symbols:\n",
    "    temp_name = temp_name.str.replace(s, ' ', regex=False)\n",
    "\n",
    "# Заменяем исходный столбец 'name' на обновленный временный столбец\n",
    "df['name'] = temp_name.str.rstrip()\n",
    "\n",
    "# Изменим использование знака номера\n",
    "df['name'] = df['name'].str.replace(' № ', ' №', regex=False)\n",
    "\n",
    "# И повторим убийство двойных пробелов\n",
    "df['name'] = df['name'].str.replace('  ', ' ', regex=False)\n",
    "\n",
    "# Проверим дубликаты по наименованию и адресу заведения\n",
    "df[df.duplicated(subset=['name','address'], keep=False)]"
   ]
  },
  {
   "cell_type": "markdown",
   "metadata": {},
   "source": [
    "Мы нашли 5 полных дублей по одному и тому же адресу, но указаны разные виды заведений. Кроме того, мы видим адреса, содержащие слова \"округ\" или \"район\", то есть в них не только город, улица и номер дома. Проверяем далее."
   ]
  },
  {
   "cell_type": "markdown",
   "metadata": {},
   "source": [
    "Теперь посмотрим на сокращения в адресах."
   ]
  },
  {
   "cell_type": "code",
   "execution_count": null,
   "metadata": {},
   "outputs": [],
   "source": [
    "# Создадим регулярное выражение для поиска сокращений типов адресов\n",
    "address_shortforms = r'д\\.|пр\\.|ш\\.|ул\\.|пер\\.|мкр\\.|просп\\.|пр-д|пр-т|п-д|п-т|пл\\.|алл\\.|бул\\.|бул-р|б-р|наб\\.|скв\\.|туп\\.|т-к|лин\\.|тер\\.|кв\\.|кв-л|к-л|прос\\.|пр-к|п-к|м-т'\n",
    "\n",
    "# Ищем совпадения\n",
    "shortform_matches = df[df['address'].str.contains(address_shortforms, regex=True, case=False)]\n",
    "\n",
    "# Считаем количество найденных сокращений\n",
    "total_shortforms = shortform_matches['address'].str.count(address_shortforms).sum()\n",
    "\n",
    "# Выводим результаты\n",
    "print(\"Найдено сокращений типов адресов:\", total_shortforms)\n",
    "print(shortform_matches[['address']])"
   ]
  },
  {
   "cell_type": "markdown",
   "metadata": {},
   "source": [
    "Здесь видно 3 отличающихся адреса (плюс два вхождения сокращённого \"д.\"), могут быть дублями. Кроме того, могут быть разные обозначения самих номеров домов (есть символы \"д.\"), корпусов и строений. Просто поменяем вручную, а потом посмотрим, как найденные адреса пишутся."
   ]
  },
  {
   "cell_type": "code",
   "execution_count": null,
   "metadata": {},
   "outputs": [],
   "source": [
    "# Убираем символы \"д.\"\n",
    "df['address'] = df['address'].str.replace(r'\\bд\\.', '', regex=True)\n",
    "\n",
    "# Заменим символы в адресах\n",
    "df['address'] = df['address'].str.replace(r'(\\d)(к)(\\d)', r'\\1, корп. \\3', regex=True)\n",
    "df['address'] = df['address'].str.replace(r'(\\d)(с)(\\d)', r'\\1, стр. \\3', regex=True)\n",
    "df['address'] = df['address'].str.replace(r'(\\d)(стр)(\\d)', r'\\1 стр. \\3', regex=True)"
   ]
  },
  {
   "cell_type": "markdown",
   "metadata": {},
   "source": [
    "Теперь займёмся \"округами\" и \"районами\"."
   ]
  },
  {
   "cell_type": "code",
   "execution_count": null,
   "metadata": {},
   "outputs": [],
   "source": [
    "# Найденные значения с \"округ\" или \"район\"\n",
    "filtered_addresses = df[df['address'].str.contains(\"округ|район\")]\n",
    "\n",
    "# Вывод количества b найденных значений\n",
    "print(\"\\nКоличество найденных адресов с 'округ' и 'район':\", len(filtered_addresses))\n",
    "print(\"\\nНайденные адреса со словами 'округ' и 'район':\")\n",
    "pd.set_option('display.max_colwidth', 115)\n",
    "filtered_addresses['address'].to_frame()"
   ]
  },
  {
   "cell_type": "markdown",
   "metadata": {},
   "source": [
    "Имеем 77 записей адресов с лишними данными. Почистим."
   ]
  },
  {
   "cell_type": "code",
   "execution_count": null,
   "metadata": {},
   "outputs": [],
   "source": [
    "# Функция для удаления части адреса, содержащей слова \"округ\" или \"район\"\n",
    "def remove_district(text):\n",
    "    address_parts = text.split(',')  # Разделение текста адреса по запятой\n",
    "    for i in range(len(address_parts)):\n",
    "        # Проверка есть ли слова \"округ\" или \"район\" в каждой части адреса\n",
    "        if 'округ' in address_parts[i] or 'район' in address_parts[i]:\n",
    "            address_parts[i] = address_parts[i].split('округ')[0].split('район')[0]\n",
    "            # Если слова \"округ\" или \"район\" найдены, удаляем их из этой части адреса\n",
    "    return ','.join(address_parts).strip()  # Склеиваем обработанные части адреса обратно и убираем пробелы в начале и конце\n",
    "\n",
    "# Применим функцию к столбцу 'address'\n",
    "df['address'] = df['address'].apply(remove_district)\n",
    "\n",
    "# Вывод количества адресов после обработки\n",
    "print(\"\\nКоличество адресов с 'округ' и 'район' после обработки:\")\n",
    "\n",
    "# Ищем значения с \"округ\" и \"район\"\n",
    "filtered_addresses = df[df['address'].str.contains(\"округ|район\")]\n",
    "if filtered_addresses.empty:\n",
    "    print(\"\\nТаких адресов не найдено\")\n",
    "else:\n",
    "    print(\"\\nНайденные адреса с 'округ' и 'район':\")\n",
    "    print(filtered_addresses['address'].to_frame())"
   ]
  },
  {
   "cell_type": "markdown",
   "metadata": {},
   "source": [
    "Продолжаем. На очереди нестандартные адреса."
   ]
  },
  {
   "cell_type": "code",
   "execution_count": null,
   "metadata": {},
   "outputs": [],
   "source": [
    "# Поиск слов в столбце address\n",
    "search_terms = ['ярославский', 'ярославская', 'комсомольский', 'профсоюзная']\n",
    "\n",
    "# Цикл вывода результатов\n",
    "for term in search_terms:\n",
    "    search_results = df[df['address'].str.contains(term, case=False, regex=True)][['name', 'address']]\n",
    "    print(f\"Результаты поиска для слова '{term}':\")\n",
    "    print(search_results)\n",
    "    print(\"\\n\")"
   ]
  },
  {
   "cell_type": "markdown",
   "metadata": {},
   "source": [
    "Задуманное получилось, записи: \"6276 москва, пр-т комсомольский, д.28\" и \"6847 москва, ул. профсоюзная, д.104\" потеряли сокращение \"дом\". Но тут мы получили ещё неявные дубликаты: \"ресторан ярославский\", например, или \"вьетнамская еда фобою\" с одинаковыми адресами. Изменим их также вручную, но сначала поищем другие неявные дубли в названиях."
   ]
  },
  {
   "cell_type": "code",
   "execution_count": null,
   "metadata": {},
   "outputs": [],
   "source": [
    "# Изменение адресов без использования regex\n",
    "df = df.replace({\n",
    "    \"москва, ул. ярославская, 8, корп. 1\":\"москва, ярославская улица, 8, корп. 1\",\n",
    "    \"москва, пр-т комсомольский, 28\":\"москва, комсомольский проспект, 28\",\n",
    "    \"москва, ул. профсоюзная, 104\":\"москва, профсоюзная улица, 104\"\n",
    "})"
   ]
  },
  {
   "cell_type": "markdown",
   "metadata": {},
   "source": [
    "Особое место в названии занимает апостроф - `'`. Изучим с ним ситуацию."
   ]
  },
  {
   "cell_type": "code",
   "execution_count": null,
   "metadata": {},
   "outputs": [],
   "source": [
    "# Поиск значений со знаком ' в столбце name\n",
    "result = df[df['name'].str.contains(\"'\")]\n",
    "unique_values = result['name'].value_counts()\n",
    "print(\"Количество уникальных названий с апострофом:\", len(unique_values))\n",
    "print(\"Названия и их количество:\")\n",
    "print(unique_values)"
   ]
  },
  {
   "cell_type": "markdown",
   "metadata": {},
   "source": [
    "Мы видим повторы в названиях с `jeffrey's` (проверим по адресам), но особо много у `доминос пиццы`. Это нужно исправить."
   ]
  },
  {
   "cell_type": "code",
   "execution_count": null,
   "metadata": {},
   "outputs": [],
   "source": [
    "# Поиск названий доминос со знаком ' в столбце name\n",
    "result = df[df['name'].str.contains(\"домино\")]\n",
    "unique_values = result['name'].unique()\n",
    "print(\"Количество названий сети доминос:\", len(unique_values))\n",
    "print(\"Уникальные значения:\")\n",
    "for val in unique_values:\n",
    "    print(val)"
   ]
  },
  {
   "cell_type": "code",
   "execution_count": null,
   "metadata": {},
   "outputs": [],
   "source": [
    "# Исправим названия с доминос\n",
    "df = df.apply(lambda x: x.replace({\"домино'с пицца\":'доминос пицца', \"домино'с\": 'доминос пицца'}, regex=True))"
   ]
  },
  {
   "cell_type": "code",
   "execution_count": null,
   "metadata": {},
   "outputs": [],
   "source": [
    "# Поиск значений \"jeffrey\" в столбце name\n",
    "result = df[df['name'].str.contains(\"jeffrey\")]\n",
    "# Вывод найденных значений с адресом\n",
    "print(result[['name', 'address']])"
   ]
  },
  {
   "cell_type": "markdown",
   "metadata": {},
   "source": [
    "Упс! Ещё видим явный дубль на Профсоюзной и разные варианты названий. Поиск в интернете показал, что все эти заведения из одной сети `jeffrey's coffeeshop`. Значит мы их переименуем, а дубль на Профсоюзной потом удалим вместе со всеми."
   ]
  },
  {
   "cell_type": "code",
   "execution_count": null,
   "metadata": {},
   "outputs": [],
   "source": [
    "# Посмотрим, что у нас с названиями получилось\n",
    "sorted(df.query('chain == True')['name'].unique())"
   ]
  },
  {
   "cell_type": "markdown",
   "metadata": {},
   "source": [
    "Ещё нашли неявные дубли, например, 'кулинариум' и 'кулинариум кулинария пироги салаты' или 'чайхана халаль'."
   ]
  },
  {
   "cell_type": "code",
   "execution_count": null,
   "metadata": {},
   "outputs": [],
   "source": [
    "# Изменение одинаковых названий без использования regex\n",
    "df = df.replace({\n",
    "    \"ярославский\":\"ресторан ярославский\",\n",
    "    \"вьетнамская еда фобою\":\"фо бо ю\",\n",
    "    \"халаль\":\"халяль\",\n",
    "    \"кулинариум кулинария пироги салаты\":\"кулинариум\",\n",
    "    \"jeffrey's кофе и сидр\":\"jeffrey's coffeeshop\", \n",
    "    \"jeffrey's coffee\":\"jeffrey's coffeeshop\",\n",
    "    \"jeffrey's\":\"jeffrey's coffeeshop\",\n",
    "    \"jeffrey's coffeeshop\":\"jeffrey's coffeeshop\",\n",
    "    \"jeffrey’s coffeeshop\":\"jeffrey's coffeeshop\"\n",
    "})"
   ]
  },
  {
   "cell_type": "markdown",
   "metadata": {},
   "source": [
    "Теперь посмотрим на названия сетевых заведений и поищем дубли у них, включая адреса."
   ]
  },
  {
   "cell_type": "code",
   "execution_count": null,
   "metadata": {},
   "outputs": [],
   "source": [
    "# Выбор значений 'name' и 'address' при условии, что значение в столбце 'chain' равно 1\n",
    "df[df['chain'] == True][['name', 'address']]"
   ]
  },
  {
   "cell_type": "code",
   "execution_count": null,
   "metadata": {},
   "outputs": [],
   "source": [
    "# Проверим ещё раз дубликаты по наименованию и адресу заведения\n",
    "df[df.duplicated(subset=['name','address'], keep=False)]"
   ]
  },
  {
   "cell_type": "markdown",
   "metadata": {},
   "source": [
    "Вот  они - неявные дубли, ставшие явными. И их уже восемь. Продолжим с сетевыми заведениями."
   ]
  },
  {
   "cell_type": "code",
   "execution_count": null,
   "metadata": {},
   "outputs": [],
   "source": [
    "# Посмотрим на сетевые заведения\n",
    "df[df['chain'] == True]['name'].value_counts().to_frame()"
   ]
  },
  {
   "cell_type": "markdown",
   "metadata": {},
   "source": [
    "А в сетевых встречаются явно не сетевые. Надо это проверить."
   ]
  },
  {
   "cell_type": "code",
   "execution_count": null,
   "metadata": {},
   "outputs": [],
   "source": [
    "# Получим количество заведений для каждой сети, где больше одного объекта\n",
    "df[df['chain'] == True]\\\n",
    "   .groupby('name')\\\n",
    "   .filter(lambda x: len(x['address']) > 1)\\\n",
    "   .groupby('name')\\\n",
    "   .size()\\\n",
    "   .sort_values(ascending=False)\\\n",
    "   .to_frame()"
   ]
  },
  {
   "cell_type": "markdown",
   "metadata": {},
   "source": [
    "Кажеться, нашли 60 \"сетевых\" заведений, у которых только один объект. Проверим их."
   ]
  },
  {
   "cell_type": "code",
   "execution_count": null,
   "metadata": {
    "scrolled": true
   },
   "outputs": [],
   "source": [
    "# Получим названия, если 'chain' равно 1 и количество адресов равно 1\n",
    "df[(df['chain'] == True) & (df.groupby('name')['address'].transform('nunique') == 1)]['name'].drop_duplicates().to_frame()"
   ]
  },
  {
   "cell_type": "markdown",
   "metadata": {},
   "source": [
    "Здесь мы получили странные результаты. Например, видны явные сети общепита, как \"Wаурма\", \"Суши Wok\", \"Пекарня № 1\", \"Бакинский дворик\", \"Bakery\" и т. д. Однако у них указан только один объект. Видимо здесь сработал эффект доставки или франшизы. А может другие объекты находятся в других регионах. Надо об этом сообщить разработчикам, чтобы добавили признаки.<br>\n",
    "Мы не будем ничего менять, потому что надо изучать каждую запись, а это требует много времени. Займёмся найдеными дублями."
   ]
  },
  {
   "cell_type": "code",
   "execution_count": null,
   "metadata": {},
   "outputs": [],
   "source": [
    "# Удаление дублей\n",
    "df = df.drop_duplicates(subset=['name', 'address'], keep='last')\n",
    "df['name'].value_counts().to_frame()"
   ]
  },
  {
   "cell_type": "markdown",
   "metadata": {},
   "source": [
    "Из 5614 уникальных названий после поиска и обработки дубликатов осталось 5465. Неявные дубликаты составляли чуть больше 2.65% уникальных названий. Это много."
   ]
  },
  {
   "cell_type": "markdown",
   "metadata": {},
   "source": [
    "### <a id=\"4_3\"></a>Столбец `street`\n",
    "[К содержанию](#0)<br><br>\n",
    "Создаём новый столбец `street` из данных адреса. Есть два решения, выберем простое."
   ]
  },
  {
   "cell_type": "code",
   "execution_count": null,
   "metadata": {},
   "outputs": [],
   "source": [
    "# Применим split для разделения текста на список и выделения улицы\n",
    "df['street'] = df['address'].apply(lambda x: x.split(',')[1])\n",
    "\n",
    "# Обрежем пробелы с обеих сторон\n",
    "df['street'] = df['street'].str.strip()\n",
    "\n",
    "df.head()"
   ]
  },
  {
   "cell_type": "code",
   "execution_count": null,
   "metadata": {},
   "outputs": [],
   "source": [
    "# Найдём процент пропущенных значений в столбце 'street'\n",
    "pd.DataFrame({'Процент пропущенных значений': [round(df['street'].isna().sum() / len(df) * 100)]}, index=['street'])"
   ]
  },
  {
   "cell_type": "markdown",
   "metadata": {},
   "source": [
    "О как! Пропусков в столбце `street` не обнаружено."
   ]
  },
  {
   "cell_type": "code",
   "execution_count": null,
   "metadata": {},
   "outputs": [],
   "source": [
    "# Ещё раз проврим на дубликаты\n",
    "df.duplicated().sum()"
   ]
  },
  {
   "cell_type": "markdown",
   "metadata": {},
   "source": [
    "### <a id=\"4_4\"></a>Столбец `is_24_7`\n",
    "[К содержанию](#0)<br><br>\n",
    "Создадим столбец `is_24/7` с обозначением круглосуточной работы заведеня:\n",
    "- логическое значение True, если заведение работает круглосуточно,\n",
    "- логическое значение False в противоположном случае."
   ]
  },
  {
   "cell_type": "code",
   "execution_count": null,
   "metadata": {},
   "outputs": [],
   "source": [
    "# Посмотрим на уникальные значения в столбце hours\n",
    "print(f\"Уникальные значения в столбце 'hours': {df['hours'].unique()}\\n\")\n",
    "\n",
    "# Получим количество записей со значением 'ежедневно, круглосуточно', 'ежедневно' и 'круглосуточно'\n",
    "print(f\"Количество записей со значением 'ежедневно, круглосуточно': {df['hours'].str.contains('ежедневно, круглосуточно').sum()}\\n\")\n",
    "print(f\"Количество записей со значением 'ежедневно': {df['hours'].str.contains('ежедневно').sum()}\\n\")\n",
    "print(f\"Количество записей со значением 'круглосуточно': {df['hours'].str.contains('круглосуточно').sum()}\\n\")"
   ]
  },
  {
   "cell_type": "markdown",
   "metadata": {},
   "source": [
    "Интересный результат. Значение 'ежедневно' встречается в графике работы у 5012 заведений, видимо они работют без выходных, но с перерывом.<br>\n",
    "В тоже время значение 'ежедневно, круглосуточно' встречается всего 730 раз, тогда как просто 'круглосуточно' - 772 раза. То есть в выборку крглосуточных заведений не попадёт 42 объекта.<br>\n",
    "Берём значение 'круглосуточно', потому что оно уже подразумевает ежедневный режим работы."
   ]
  },
  {
   "cell_type": "code",
   "execution_count": null,
   "metadata": {},
   "outputs": [],
   "source": [
    "# Создаём новый столбце в логическом формате\n",
    "df['is_24/7'] = df['hours'].str.contains('круглосуточно')\n",
    "#df['is_24/7'] = df['hours'].str.contains('круглосуточно', case=False, na=False)\n",
    "df.head()"
   ]
  },
  {
   "cell_type": "code",
   "execution_count": null,
   "metadata": {},
   "outputs": [],
   "source": [
    "# Найдём процент пропущенных значений в режиме работы 'is_24/7'\n",
    "pd.DataFrame({'Процент пропущенных значений': [round(df['is_24/7'].isna().sum() / len(df) * 100, 2)]}, index=['is_24/7'])"
   ]
  },
  {
   "cell_type": "markdown",
   "metadata": {},
   "source": [
    "Пропусков в этом столбце много - 6.4%, видимо, из-за ошибки заполнения данных."
   ]
  },
  {
   "cell_type": "code",
   "execution_count": null,
   "metadata": {},
   "outputs": [],
   "source": [
    "# Ещё раз проврим на дубликаты\n",
    "df.duplicated().sum()"
   ]
  },
  {
   "cell_type": "markdown",
   "metadata": {},
   "source": [
    "### <a id=\"4_5\"></a>Обработка пропусков\n",
    "[К содержанию](#0)<br><br>\n",
    "Можно опять вызвать функцию __data_info(df)__, но для разнообразия кроме пропусков поищем в таблице бесконечные значения."
   ]
  },
  {
   "cell_type": "code",
   "execution_count": null,
   "metadata": {
    "scrolled": true
   },
   "outputs": [],
   "source": [
    "# Найдём пропуски в каждом столбце\n",
    "missing_values = df.isnull().sum()\n",
    "\n",
    "# Найдём бесконечные значения в каждом столбце\n",
    "inf_values = df.isin([np.inf, -np.inf]).sum()\n",
    "\n",
    "# Выведем количество и доли пропущенных значений, а также бесконечных значений в каждом столбце\n",
    "for column, missing in missing_values.iteritems():\n",
    "    missing_percentage = (missing / len(df)) * 100\n",
    "    inf_count = inf_values[column]\n",
    "    inf_percentage = (inf_count / len(df)) * 100\n",
    "    print(f\"Столбец '{column}': \\n\"\n",
    "          f\"    Пропущенные значения: {missing}, ({missing_percentage:.2f}%)\\n\"\n",
    "          f\"    Бесконечные значения: {inf_count}, ({inf_percentage:.2f}%)\")"
   ]
  },
  {
   "cell_type": "markdown",
   "metadata": {},
   "source": [
    "Теоретически можно проверить график работы сетевых заведений и присвоить пропускам, если они у сетей, самые распространённые значения. Но это сомнительно. Пооверим."
   ]
  },
  {
   "cell_type": "code",
   "execution_count": null,
   "metadata": {
    "scrolled": true
   },
   "outputs": [],
   "source": [
    "# Группируем данные по столбцу 'name', если в булевом столбце 'chain' значение 'True'\n",
    "grouped_data = df[df['chain']].groupby('name')\n",
    "\n",
    "# Получим уникальные значения в столбце 'hours' для каждой группы\n",
    "for name, group in grouped_data:\n",
    "    unique_hours = group['hours'].astype(str).unique()\n",
    "    print(f\"График '{name}':\")\n",
    "    for hours in unique_hours:\n",
    "        print(hours)\n",
    "    print(\"---------------------------------\")"
   ]
  },
  {
   "cell_type": "markdown",
   "metadata": {},
   "source": [
    "Не будем трогать пропуски в режимах работы заведений, потому что даже в одной сети у разных объектов разное время работы."
   ]
  },
  {
   "cell_type": "markdown",
   "metadata": {},
   "source": [
    "В данных много пропусков, кроме уже известных: в столбце со средним чеком чашки кофе `middle_coffee_cup` не хватает почти 93.6%, в `middle_avg_bill` - 62.5%, в `price` - 60.5%, в `avg_bill` - 54.6%, а также в `hours` и `is_24/7'` - по 6.4%. Восстановить, заменить или удалить такое количество данных невозможно, поэтому просто не обращаем внимания, чтобы получить корректные результаты.<br>\n",
    "Пропуски в столбце `seats` мы ликвидировали, потому что отсутствие посадочных мест в заведении равно нулю, даже если они там не предусмотрены. Это не должно исказить результаты."
   ]
  },
  {
   "cell_type": "code",
   "execution_count": null,
   "metadata": {},
   "outputs": [],
   "source": [
    "# Вернём названия округов в нормальный вид\n",
    "df['district'] = df['district'].replace({\n",
    "    'северный административный округ': 'Северный административный округ',\n",
    "    'северо-восточный административный округ': 'Северо-Восточный административный округ',\n",
    "    'северо-западный административный округ': 'Северо-Западный административный округ',\n",
    "    'западный административный округ': 'Западный административный округ',\n",
    "    'центральный административный округ': 'Центральный административный округ',\n",
    "    'восточный административный округ': 'Восточный административный округ',\n",
    "    'юго-восточный административный округ': 'Юго-Восточный административный округ',\n",
    "    'южный административный округ': 'Южный административный округ',\n",
    "    'юго-западный административный округ': 'Юго-Западный административный округ'\n",
    "})"
   ]
  },
  {
   "cell_type": "code",
   "execution_count": null,
   "metadata": {},
   "outputs": [],
   "source": [
    "df.info()"
   ]
  },
  {
   "cell_type": "markdown",
   "metadata": {},
   "source": [
    "### <a id=\"4_6\"></a>Промежуточный вывод\n",
    "[К содержанию](#0)<br><br>\n",
    "В результате предобработки в таблице из имевшихся 8406 строк осталось 8398, то есть потери составили 8 записей или менее 0,1%, что очень хороший результат. К имевшимся 14 столбцам добавлены ещё две: `street` с улицей расположения объекта и `is_24/7` с признаком круглосуточного режима работы.<br>\n",
    "Были выявлены и обработаны дубликаты: 8 явных и 141 неявных.<br>\n",
    "Обнаружено значительное колличество пропущенных данных (бесконечных значений не найдено), удаление которых исказит результаты исследования. Кроме того, также  некорректно будет заполнение пропусков средними или медианными значениями. Оставим как есть."
   ]
  },
  {
   "cell_type": "markdown",
   "metadata": {},
   "source": [
    "## <a id=\"5\"></a>Анализ данных\n",
    "[К содержанию](#0)<br><br>\n"
   ]
  },
  {
   "cell_type": "markdown",
   "metadata": {},
   "source": [
    "### <a id=\"5_1\"></a> Категории (типы) заведений общепита\n",
    "[К содержанию](#0)<br><br>\n",
    "Надо выяснить количество объектов общепита по видам: рестораны, кофейни, пиццерии, бары и так далее. Построить визуализацию и ответить на вопрос о распределении заведений по видам."
   ]
  },
  {
   "cell_type": "code",
   "execution_count": null,
   "metadata": {},
   "outputs": [],
   "source": [
    "# Посмотрим на количество заведений по видам\n",
    "facility_type = (df.groupby('category')['name']\n",
    "                 .count()\n",
    "                 .reset_index()\n",
    "                 .rename(columns={'name': 'count'})\n",
    "                 .sort_values(by='count', ascending=False))\n",
    "facility_type"
   ]
  },
  {
   "cell_type": "code",
   "execution_count": null,
   "metadata": {},
   "outputs": [],
   "source": [
    "# Построим диаграмму видов заведений\n",
    "fig = px.bar(facility_type.sort_values(by='count'), \n",
    "             x='category', \n",
    "             y='count', \n",
    "             text='count')\n",
    "#             color='category')\n",
    "fig.update_layout(title='Виды заведений',\n",
    "                  xaxis_title='Виды',\n",
    "                  yaxis_title='Количество  заведений')\n",
    "fig.show()"
   ]
  },
  {
   "cell_type": "code",
   "execution_count": null,
   "metadata": {},
   "outputs": [],
   "source": [
    "# Построим круговую диаграмму долей видов заведений\n",
    "fig1, ax1 = plt.subplots()\n",
    "ax1.pie(facility_type['count'], labels=facility_type['category'], autopct='%1.1f%%')\n",
    "ax1.axis('equal')  # чтобы круг был кругом\n",
    "\n",
    "# Отображение диаграммы\n",
    "plt.title('Категории заведений общественного питания')\n",
    "plt.show()"
   ]
  },
  {
   "cell_type": "markdown",
   "metadata": {},
   "source": [
    "Грфики показали, что на первом месте в Москве кафе (2375 заведений и 28.3% рынка), на втором - рестораны (2041 и 24.3%), а на третьем - кофейня (1412 и 16.8%).<br>\n",
    "В середине расположились бары/пабы (764 и 9.1%), пиццерии (633 и 7.5%) и предприятия быстрого питания (603 и 7.2%)<br>\n",
    "На последних местах находятся столовые (315 и 3.8%) и булочные (255 и 3.0%)."
   ]
  },
  {
   "cell_type": "markdown",
   "metadata": {},
   "source": [
    "### <a id=\"5_2\"></a>Количество посадочных мест в заведениях по видам\n",
    "[К содержанию](#0)<br><br>\n",
    "Исследование количества посадочных мест в заведениях по видам: рестораны, кофейни, пиццерии, бары и так далее. Построить визуализацию, проанализировать результаты и сделать выводы.<br>\n",
    "Поскольку у нас есть заведения без посадочных мест, значит надо их исключить."
   ]
  },
  {
   "cell_type": "code",
   "execution_count": null,
   "metadata": {},
   "outputs": [],
   "source": [
    "# Посмотрим статистическую сводку столбца seats по категориям\n",
    "df.groupby('category')['seats'].describe()"
   ]
  },
  {
   "cell_type": "markdown",
   "metadata": {},
   "source": [
    "1200 посадочных мест в заведении? Странно. Надо проверять аномалии. Но для начала уберём заведения без посадочных мест."
   ]
  },
  {
   "cell_type": "code",
   "execution_count": null,
   "metadata": {},
   "outputs": [],
   "source": [
    "# Создадим новую таблицу\n",
    "df_sits = df[df['seats'] != -1]\n",
    "df_sits.sample(4)"
   ]
  },
  {
   "cell_type": "code",
   "execution_count": null,
   "metadata": {
    "scrolled": true
   },
   "outputs": [],
   "source": [
    "# Проверим новую таблицу\n",
    "print(\"Количество заведений без посадочных мест:\", (df_sits['seats'] == -1).sum())"
   ]
  },
  {
   "cell_type": "code",
   "execution_count": null,
   "metadata": {},
   "outputs": [],
   "source": [
    "# Посмотрим общую статистику посадочных мест\n",
    "print(\"Среднее =\", df_sits['seats'].mean())\n",
    "print(\"Медиана =\", df_sits['seats'].median())\n",
    "print(\"Мода =\", df_sits['seats'].mode().tolist())"
   ]
  },
  {
   "cell_type": "code",
   "execution_count": null,
   "metadata": {},
   "outputs": [],
   "source": [
    "# Посмотрим на среднее и медиану по каждому виду заведений\n",
    "df_sits.groupby('category')['seats'].agg(['median', 'mean']).sort_values(by='median', ascending=False)"
   ]
  },
  {
   "cell_type": "markdown",
   "metadata": {},
   "source": [
    "Надо построить графики."
   ]
  },
  {
   "cell_type": "code",
   "execution_count": null,
   "metadata": {},
   "outputs": [],
   "source": [
    "# Найдём медианное количество посадочных мест\n",
    "median_seat = df_sits.groupby('category')['seats'].median().sort_values(ascending=False)\n",
    "\n",
    "# Получим среднее количество посадочных мест\n",
    "mean_seat = df_sits.groupby('category')['seats'].mean().sort_values(ascending=False)\n",
    "\n",
    "# Создание два графика\n",
    "plt.figure(figsize=(10, 14))\n",
    "\n",
    "# Строим первый график медианного количества мест\n",
    "plt.subplot(2, 1, 1)\n",
    "plots1 = sns.barplot(x=median_seat.index, y=median_seat.values, order=median_seat.index, color='steelblue')\n",
    "for patch in plots1.patches:\n",
    "    x = patch.get_x() + patch.get_width() / 2\n",
    "    y = patch.get_height()\n",
    "    plots1.annotate(format(y, '.0f'), (x, y), ha='center', va='center', size=10, xytext=(0, 5), textcoords='offset points')\n",
    "plt.xlabel('Виды заведений')\n",
    "plt.ylabel('Количество мест')\n",
    "plt.title('Медианное количество посадочных мест')\n",
    "\n",
    "# Строим второй график среднего количества мест\n",
    "plt.subplot(2, 1, 2)\n",
    "plots2 = sns.barplot(x=mean_seat.index, y=mean_seat.values, order=mean_seat.index, color='steelblue')\n",
    "for patch in plots2.patches:\n",
    "    x = patch.get_x() + patch.get_width() / 2\n",
    "    y = patch.get_height()\n",
    "    plots2.annotate(format(y, '.0f'), (x, y), ha='center', va='center', size=10, xytext=(0, 5), textcoords='offset points')\n",
    "plt.xlabel('Виды заведений')\n",
    "plt.ylabel('Количество мест')\n",
    "plt.title('Среднее количество посадочных мест')\n",
    "\n",
    "# Отображение обоих графиков на одном полотне\n",
    "plt.tight_layout()\n",
    "plt.show()"
   ]
  },
  {
   "cell_type": "code",
   "execution_count": null,
   "metadata": {},
   "outputs": [],
   "source": [
    "# Создание двух графиков распределения количества посадочных мест по типам заведений\n",
    "fig, axes = plt.subplots(2, 1, figsize=(10, 13))\n",
    "\n",
    "# Первый график без ограничения по оси X\n",
    "sns.boxplot(data=df_sits, x='seats', y='category', ax=axes[0])\n",
    "axes[0].set_title('Распределение количества посадочных мест по типам заведений')\n",
    "axes[0].set_xlabel('Количество мест')\n",
    "axes[0].set_ylabel('Виды заведений')\n",
    "\n",
    "# Второй график с ограничением оси X до 350 мест\n",
    "sns.boxplot(data=df_sits, x='seats', y='category', ax=axes[1])\n",
    "axes[1].set_xlim(0, 350)  # Ограничение оси X значением 350\n",
    "axes[1].set_title('Распределение количества посадочных мест по типам заведений (до 350 мест)')\n",
    "axes[1].set_xlabel('Количество мест')\n",
    "axes[1].set_ylabel('Виды заведений')\n",
    "\n",
    "plt.show()"
   ]
  },
  {
   "cell_type": "markdown",
   "metadata": {},
   "source": [
    "По среднему бары и рестораны имеют больше посадочных мест (124 и 122 соответственно), а по медиане наоборот - рестораны, а потом бары (88 и 82). Затем идут кофейни (80), столовые (76) и предприятия быстрого питания, где по медиане у них 80, 76 и 65 мест соответственно, но по среднему количеству 111 мест в кофейнях, 99 в фастфудах и 100 в столовых. На последних местах кафе, пиццерии и булочные: медиана - 60, 55 и 50 мест соответственно, среднее - 97, 94 и 88 мест.<br>\n",
    "Ожидаемо, что больше всего посадочных мест в ресторанах. Также перспективны бары и кофейни."
   ]
  },
  {
   "cell_type": "markdown",
   "metadata": {},
   "source": [
    "### <a id=\"5_3\"></a>Соотношение сетевых и несетевых заведений\n",
    "[К содержанию](#0)<br><br>\n",
    "Исследование представленности на рынке сетей общепита и одиночных объектов."
   ]
  },
  {
   "cell_type": "code",
   "execution_count": null,
   "metadata": {},
   "outputs": [],
   "source": [
    "# Получим количество сетевых и несетевых объектов\n",
    "chain_count = df['chain'].value_counts().reset_index()\n",
    "chain_count.columns = ['chain', 'chain_count']\n",
    "chain_count = chain_count.sort_values(by='chain_count', ascending=False)\n",
    "\n",
    "# Добавим новый столбец с описанием типа объекта\n",
    "chain_count['chain_type'] = chain_count['chain'].apply(lambda x: 'сети' if x else 'одно')\n",
    "display(chain_count)\n",
    "\n",
    "# Создание круговой диаграммы\n",
    "fig = go.Figure(go.Pie(labels=chain_count['chain_type'], values=chain_count['chain_count']))\n",
    "fig.update_layout(title_text='Доли сетевых и несетевых типов заведений')\n",
    "fig.show()"
   ]
  },
  {
   "cell_type": "markdown",
   "metadata": {},
   "source": [
    "Большинство заведений несетевые, сетевых 38.1% объектов.<br>\n",
    "Теперь посмотрим, как представлены сетевые и одиночные объекты по видам заведений."
   ]
  },
  {
   "cell_type": "markdown",
   "metadata": {},
   "source": [
    "### <a id=\"5_4\"></a>Виды заведений в сетях общепита\n",
    "[К содержанию](#0)<br><br>\n",
    "Какие типы заведений чаще являются сетевыми? Исследовать данные и ответить на вопрос графиком."
   ]
  },
  {
   "cell_type": "code",
   "execution_count": null,
   "metadata": {},
   "outputs": [],
   "source": [
    "# Считаем количество сетевых и одиночных объектов и общее количество по каждому виду и типу (сетевой или одиночный)\n",
    "chain_category_totals = df.groupby(['category', 'chain']).size().unstack(fill_value=0)\n",
    "chain_category_totals.columns = ['сетевые' if c else 'одиночные' for c in chain_category_totals.columns]\n",
    "\n",
    "# Подсчёт общего количества сетевых и одиночных объектов\n",
    "chain_totals = chain_category_totals.sum()\n",
    "\n",
    "# Получим доли каждого вида и типа объекта (сетевой или одиночный)\n",
    "chain_category_percent = (chain_category_totals.div(chain_totals) * 100).round()\n",
    "\n",
    "# Вывод результатов в таблицу\n",
    "print('Процентное соотношение сетевых и одиночных заведений по видам')\n",
    "display(chain_category_percent)\n",
    "\n",
    "# Создём столбчатую диаграмму\n",
    "fig = go.Figure(data=[\n",
    "    go.Bar(name='сетевые', \n",
    "           x=chain_category_percent.index, \n",
    "           y=chain_category_percent['сетевые'], \n",
    "           text=chain_category_percent['сетевые'].round(2), \n",
    "           textposition='auto'),\n",
    "    go.Bar(name='одиночные', \n",
    "           x=chain_category_percent.index, \n",
    "           y=chain_category_percent['одиночные'], \n",
    "           text=chain_category_percent['одиночные'].round(2), \n",
    "           textposition='auto')\n",
    "])\n",
    "\n",
    "# Обновление макета графика для лучшего отображения\n",
    "fig.update_layout(\n",
    "    title='Доли сетевых и одиночных заведений по видам',\n",
    "    xaxis_title='Виды заведений',\n",
    "    yaxis_title='Доля объектов, %',\n",
    "    barmode='stack'\n",
    ")\n",
    "fig.show()"
   ]
  },
  {
   "cell_type": "code",
   "execution_count": null,
   "metadata": {},
   "outputs": [],
   "source": [
    "# Группируем данные по категории и сетевым заведениям\n",
    "chain_category_totals = df.groupby(['category', 'chain']).size().unstack(fill_value=0)\n",
    "\n",
    "# Считаем заведения\n",
    "chain_category_totals['общее_число_заведений'] = chain_category_totals.sum(axis=1)\n",
    "chain_category_totals['доля_сетевых'] = (chain_category_totals[True] / chain_category_totals['общее_число_заведений'] * 100).round(1)\n",
    "\n",
    "# Сортируем по столбцу \"общее_число_заведений\"\n",
    "#chain_category_totals = chain_category_totals.sort_values('общее_число_заведений', ascending=False)\n",
    "chain_category_totals = chain_category_totals.sort_values('доля_сетевых', ascending=False)\n",
    "plt_data = chain_category_totals[['доля_сетевых']].sort_values('доля_сетевых', ascending=False)\n",
    "\n",
    "# Переименуем столбцы для наглядности\n",
    "chain_category_totals = chain_category_totals.rename(columns={False: 'несетевые', True: 'сетевые'})\n",
    "print('Таблица: общее число заведений в категории, количество сетевых и доля сетевых')\n",
    "display(chain_category_totals)\n",
    "\n",
    "# Построим график графика\n",
    "plt.figure(figsize=(10, 6))\n",
    "plt.bar(plt_data.index, plt_data['доля_сетевых'])\n",
    "plt.xlabel('Вид заведения')\n",
    "plt.ylabel('Доля сетевых заведений (%)')\n",
    "plt.title('Доля сетевых заведений по видам')\n",
    "plt.xticks(rotation=90)\n",
    "plt.show()"
   ]
  },
  {
   "cell_type": "markdown",
   "metadata": {},
   "source": [
    "Среди несетевых объектов больше всего кафе (31%), ресторанов (25%) и кофеен (13%). В сетях общепита ситуация похожа - кафе (24%), рестораны(23%) и кофейни (22%).<br>\n",
    "Такое распределение связано с общей ситуацией на рынке, где большое число кафе, ресторанов и кофеен. При этом остальные заведения в различных соотношениях сетевых и несетевых каждого вида."
   ]
  },
  {
   "cell_type": "markdown",
   "metadata": {},
   "source": [
    "### <a id=\"5_5\"></a>Топ-15 популярных сетей общепита в Москве\n",
    "[К содержанию](#0)<br><br>\n",
    "Сгруппировав данные по названиям заведений, найти топ-15 популярных сетей в Москве. Построить подходящую для такой информации визуализацию. Уточнить популярность этих сетей. Найти признак, который их объединяет. К какой категории заведений они относятся? Отобразить общее количество заведений и количество заведений каждой категории по округам."
   ]
  },
  {
   "cell_type": "markdown",
   "metadata": {},
   "source": [
    "Ранее в списке видели \"яндекс лавка\", но это не сеть общепита, и хотя там продают готовую еду, в первую очередь это сервис заказа продуктов питания. Исключим его из списка заранее."
   ]
  },
  {
   "cell_type": "code",
   "execution_count": null,
   "metadata": {},
   "outputs": [],
   "source": [
    "# Убираем \"яндекс лавку\"\n",
    "df = df[df['name'] != 'яндекс лавка']\n",
    "\n",
    "# Фильтруем данные только сетевых заведений,\n",
    "# группируем по названию сети и считаем количествов заведений каждой сети,\n",
    "# выбираем 15 сетей с наибольшим количеством заведений\n",
    "top = (df\n",
    "       .query('chain == True')\n",
    "       .groupby('name')\n",
    "       .size()\n",
    "       .nlargest(15)\n",
    "       .reset_index(name='count')\n",
    "      )\n",
    "\n",
    "# Добавим новый столбец с долей каждой сети\n",
    "top['percent'] = (top['count'] / top['count'].sum()) * 100\n",
    "\n",
    "# Посмотрим таблицу\n",
    "with pd.option_context('display.max_rows', None):\n",
    "    display(top.head(15))\n",
    "\n",
    "# Получим общее количество топ-15\n",
    "print('Общее количество заведений в сетях топ-15:', top['count'].sum())\n",
    "\n",
    "# Рисуем столбчатую диаграмму\n",
    "#fig = px.bar(top, x='count', y='name', text='count', color='name')\n",
    "#fig.update_layout(title='Топ-15 сетевых заведений общепита в Москве',\n",
    "#                  xaxis_title='Количество заведений',\n",
    "#                  yaxis_title='Название сети',\n",
    "#                  yaxis_categoryorder='total ascending')\n",
    "#fig.show()"
   ]
  },
  {
   "cell_type": "code",
   "execution_count": null,
   "metadata": {},
   "outputs": [],
   "source": [
    "# Рисуем столбчатую диаграмму\n",
    "fig = px.bar(top, x='count', y='name', text='count')\n",
    "fig.update_layout(title='Топ-15 сетевых заведений общепита в Москве',\n",
    "                  xaxis_title='Количество заведений',\n",
    "                  yaxis_title='Название сети',\n",
    "                  yaxis_categoryorder='total ascending')\n",
    "fig.show()"
   ]
  },
  {
   "cell_type": "markdown",
   "metadata": {},
   "source": [
    "Теперь посмотрим, какого вида заведений больше в топ-15, но сначала добавим виды."
   ]
  },
  {
   "cell_type": "code",
   "execution_count": null,
   "metadata": {},
   "outputs": [],
   "source": [
    "# Отфильтруем данные по списку названий топ-15 сетей\n",
    "top_15_names = top['name'].head(15)\n",
    "filtered_df = df[df['name'].isin(top_15_names)]\n",
    "\n",
    "# Рассчитаем количество заведений по видам\n",
    "category_counts = filtered_df['category'].value_counts()\n",
    "\n",
    "# Создаём круговую диаграмму\n",
    "fig = go.Figure(data=[\n",
    "    go.Pie(labels=category_counts.index,\n",
    "           values=category_counts,\n",
    "           pull=[0.2 if x == category_counts.max() else 0 for x in category_counts],\n",
    "           hole=0.3)\n",
    "])\n",
    "fig.update_layout(\n",
    "    title='Диаграмма видов заведений топ-15 сетей',\n",
    "    annotations=[dict(x=0.5, y=0.5, text='Виды заведений', showarrow=False)]\n",
    ")\n",
    "fig.show()"
   ]
  },
  {
   "cell_type": "markdown",
   "metadata": {},
   "source": [
    "Здесь мы видим, что больше всего заведений в Москве у сети \"Шоколадница\" (120 объектов и 15.6% рынка), на втором и третьем местах пиццерии: \"Домино'с пицца\" (76 объектов и 9.9% рынка) и \"ДоДо пицца\" (74 и 9.6%). Меньше всего заведений у сетей \"Му-Му\" и \"Drive cafe\".<br>\n",
    "Сети из топ-15 по видам заведений распределены так: \n",
    "- 43,5% - кофейни, \n",
    "- 19,9% - пиццерии, \n",
    "- 16,0% - кафе,\n",
    "- 15,1% - рестораны,\n",
    "-  3,2% - булочные, \n",
    "-  1,5% - быстрое питание,\n",
    "-  0,5% - бары/пабы,\n",
    "-  0,3% - столовые.\n",
    "\n",
    "Всего в сетях топ-15 насчитывается 771 объект."
   ]
  },
  {
   "cell_type": "markdown",
   "metadata": {},
   "source": [
    "### <a id=\"5_6\"></a>Количество заведений по типам и округам\n",
    "[К содержанию](#0)<br><br>\n",
    "Определить административные округа Москвы, присутствующие в датасете. Отобразить общее количество заведений и их число по каждому виду по округам. Проиллюстрировать эту информацию одним графиком."
   ]
  },
  {
   "cell_type": "code",
   "execution_count": null,
   "metadata": {},
   "outputs": [],
   "source": [
    "df['district'].unique()"
   ]
  },
  {
   "cell_type": "markdown",
   "metadata": {},
   "source": [
    "В нашем датасете девять московских административных округов. Посмотрим как по ним распределены виды заведений."
   ]
  },
  {
   "cell_type": "code",
   "execution_count": null,
   "metadata": {},
   "outputs": [],
   "source": [
    "# Группируем данные по району и виду заведения, рассчитываем количество\n",
    "grouped_data = df.groupby(['district', 'category']).size().reset_index(name='count')\n",
    "\n",
    "# Создаём сводную таблицу с количеством заведений каждого вида в каждом округе\n",
    "pivot_table_data = grouped_data.pivot_table(index='district',\n",
    "                                            columns='category',\n",
    "                                            values='count',\n",
    "                                            aggfunc='sum',\n",
    "                                            fill_value=0\n",
    "                                            )\n",
    "\n",
    "# Создание отсортированной сводной таблицы\n",
    "sorted_pivot_table_data = pivot_table_data.sum(axis=1).sort_values(ascending=False).index\n",
    "pivot_table_data = pivot_table_data.loc[sorted_pivot_table_data]\n",
    "\n",
    "# Создаём график\n",
    "pivot_table_data.plot(kind='bar', stacked=True)\n",
    "plt.title('Количество заведений по виду в каждом округе')\n",
    "plt.xlabel('Округ')\n",
    "plt.ylabel('Количество заведений')\n",
    "plt.legend(title='Вид заведения')\n",
    "plt.show()"
   ]
  },
  {
   "cell_type": "markdown",
   "metadata": {},
   "source": [
    "Посмотрим в каких округах больше заведений сетей топ-15 и каких типов они."
   ]
  },
  {
   "cell_type": "code",
   "execution_count": null,
   "metadata": {
    "scrolled": true
   },
   "outputs": [],
   "source": [
    "# Фильтруем таблицу df по списку топ-15 сетей\n",
    "top_chains = df[df['name'].isin(top['name'])]\n",
    "\n",
    "# Группируем отфильтрованные данные по районам и виду заведения, рассчитываем количество\n",
    "grouped_data = top_chains.groupby(['name', 'district', 'category']).size().reset_index(name='count')\n",
    "\n",
    "with pd.option_context('display.max_rows', None):\n",
    "    display(grouped_data)"
   ]
  },
  {
   "cell_type": "markdown",
   "metadata": {},
   "source": [
    "По количеству заведений общепита с большим отрывом лидирует Центральный округ, где заведений в два раза больше, чем в любом другом округе. Это понятно, потому что центр Москвы — место большого скопления людей и офисов, соответственно проходимость и выручка там больше.<br>\n",
    "По видам заведений в ЦАО преобладают рестораны, затем идут кафе и кофейни. Ещё в центре много баров. Во всех остальных округах лидируют кафе. На втором месте — рестораны и кофейни.<br>\n",
    "При этом, 15 крупнейших сетей общепита предпочитают центр Москвы."
   ]
  },
  {
   "cell_type": "markdown",
   "metadata": {},
   "source": [
    "### <a id=\"5_7\"></a>Распределение средних рейтингов по видам заведений\n",
    "[К содержанию](#0)<br><br>\n",
    "Визуализировать распределение средних рейтингов по видам заведений. Сильно ли различаются усреднённые рейтинги в разных типах общепита?"
   ]
  },
  {
   "cell_type": "code",
   "execution_count": null,
   "metadata": {},
   "outputs": [],
   "source": [
    "# Посмотрим рейтинг по каждому виду\n",
    "rating_category = df.groupby('category')['rating'].mean().sort_values(ascending=True).reset_index()\n",
    "\n",
    "# Строим график\n",
    "fig = px.bar(rating_category,\n",
    "x='rating',\n",
    "y='category',\n",
    "text='rating',\n",
    "#color='category',\n",
    "title='Распределение средних рейтингов по видам заведений',\n",
    "labels={'rating': 'Рейтинг', 'category': 'Название вида'}\n",
    ")\n",
    "\n",
    "# Ограничиваем диапазон оси x\n",
    "fig.update_xaxes(range=[4, 4.5])\n",
    "\n",
    "# Форматирование hovertext с округлением до двух знаков после запятой\n",
    "fig.update_traces(\n",
    "hovertemplate='<b>%{y}</b><br>Рейтинг: %{text:.2f}',\n",
    "texttemplate='%{text:.2f}',\n",
    "textposition='inside'\n",
    ")\n",
    "\n",
    "# Отображение графика\n",
    "fig.show()"
   ]
  },
  {
   "cell_type": "markdown",
   "metadata": {},
   "source": [
    "Видно, что самый большой рейтинг у баров, а вот у ресторанов и пиццерий примерно одинаковый рейтинг. Затем идут кофейни и булочные. Самые маленькие рейтинги у предприятий быстрого питания. Чуть выше у кафе и столовых."
   ]
  },
  {
   "cell_type": "markdown",
   "metadata": {},
   "source": [
    "### <a id=\"5_8\"></a>Общепит на карте\n",
    "[К содержанию](#0)<br><br>\n",
    "Построим картограмму заведений по округам."
   ]
  },
  {
   "cell_type": "code",
   "execution_count": null,
   "metadata": {},
   "outputs": [],
   "source": [
    "# Установим координаты центра Москвы\n",
    "moscow_lat, moscow_lng = 55.751244, 37.618423\n",
    "\n",
    "# Создаём карту Москвы и пустой кластер, добавляем его на карту\n",
    "m = Map(location=[moscow_lat, moscow_lng], zoom_start=10)\n",
    "marker_cluster = MarkerCluster().add_to(m)\n",
    "\n",
    "# Функция создания маркера в текущей точке и добавления его в кластер marker_cluster\n",
    "def create_clusters(row):\n",
    "    folium.Marker(\n",
    "        [row['lat'], row['lng']],\n",
    "        popup=f\"{row['name']} {row['rating']}\",\n",
    "    ).add_to(marker_cluster)\n",
    "\n",
    "# применяем функцию\n",
    "df.apply(create_clusters, axis=1)\n",
    "\n",
    "# Выводим карту\n",
    "m"
   ]
  },
  {
   "cell_type": "markdown",
   "metadata": {},
   "source": [
    "Здесь видно, что больше всего заведений общепита находится в центре города, а меньше всего - на востоке и юго-востоке."
   ]
  },
  {
   "cell_type": "markdown",
   "metadata": {},
   "source": [
    "### <a id=\"5_8\"></a>Средний рейтинг заведений по каждому округу\n",
    "[К содержанию](#0)<br><br>\n",
    "Построить фоновую картограмму (хороплет) со средним рейтингом заведений каждого округа (границы округов Москвы, которые встречаются в датасете, хранятся в файле admin_level_geomap.geojson)."
   ]
  },
  {
   "cell_type": "code",
   "execution_count": null,
   "metadata": {},
   "outputs": [],
   "source": [
    "# Рассчитываем средний рейтинг по округам\n",
    "rating_district = df.groupby('district')['rating'].mean().sort_values(ascending=True).reset_index()\n",
    "\n",
    "# Строим график\n",
    "fig = px.bar(rating_district,\n",
    "    x='rating',\n",
    "    y='district',\n",
    "    text='rating',\n",
    "#    color='district',\n",
    "    title='Распределение средних рейтингов по округам',\n",
    "    labels={'rating': 'Рейтинг', 'district': 'Округ'}\n",
    ")\n",
    "\n",
    "# Ограничиваем диапазон оси x\n",
    "fig.update_xaxes(range=[4, 4.5])\n",
    "\n",
    "# Форматирование hovertext с округлением до двух знаков после запятой\n",
    "fig.update_traces(\n",
    "    hovertemplate='<b>%{y}</b><br>Рейтинг: %{text:.2f}',\n",
    "    texttemplate='%{text:.2f}',\n",
    "    textposition='inside'\n",
    ")\n",
    "\n",
    "# Отображение графика\n",
    "fig.show()"
   ]
  },
  {
   "cell_type": "code",
   "execution_count": null,
   "metadata": {},
   "outputs": [],
   "source": [
    "# Чтение файла 'admin_level_geomap.geojson'\n",
    "with open('/datasets/admin_level_geomap.geojson', 'r') as f:\n",
    "    geo_data = json.load(f)\n",
    "\n",
    "# Создаём карту\n",
    "m = folium.Map(location=[moscow_lat, moscow_lng], zoom_start=10)\n",
    "\n",
    "# Рисуем хороплет\n",
    "choropleth = folium.Choropleth(\n",
    "    geo_data=geo_data,\n",
    "    data=rating_district,\n",
    "    columns=['district', 'rating'],\n",
    "    key_on='feature.properties.name',\n",
    "    fill_color='YlOrRd',\n",
    "    fill_opacity=0.7,\n",
    "    line_opacity=0.2,\n",
    "    legend_name='Средний рейтинг заведений по районам',\n",
    "    highlight=True\n",
    ")\n",
    "\n",
    "# Объединяем с картой\n",
    "choropleth.add_to(m)\n",
    "m"
   ]
  },
  {
   "cell_type": "markdown",
   "metadata": {},
   "source": [
    "В ЦАО средняя оценка заведений общепита выше чем в других районах Москвы. Так же высокую оценку имеют заведния Северного и Северо-Западного округов. Самая низкая оценка у Юго-Восточного округа."
   ]
  },
  {
   "cell_type": "markdown",
   "metadata": {},
   "source": [
    "### <a id=\"5_9\"></a>Кластеры заведений из датасета на карте\n",
    "[К содержанию](#0)<br><br>\n",
    "Отобразить все заведения датасета на карте с помощью кластеров средствами библиотеки folium."
   ]
  },
  {
   "cell_type": "code",
   "execution_count": null,
   "metadata": {},
   "outputs": [],
   "source": [
    "# Создаём карту Москвы\n",
    "m = Map(location=[moscow_lat, moscow_lng], zoom_start=10)\n",
    "\n",
    "# Применяем функцию\n",
    "marker_cluster = MarkerCluster().add_to(m)\n",
    "df.apply(create_clusters, axis=1)\n",
    "\n",
    "# Выводим карту\n",
    "m "
   ]
  },
  {
   "cell_type": "markdown",
   "metadata": {},
   "source": [
    "### <a id=\"5_10\"></a>Топ-15 улиц по количеству заведений\n",
    "[К содержанию](#0)<br><br>\n",
    "Найти топ-15 улиц по количеству заведений и построить график их распределения и их видов по этим улицам. Проиллюстрировать эту информацию одним графиком."
   ]
  },
  {
   "cell_type": "code",
   "execution_count": null,
   "metadata": {},
   "outputs": [],
   "source": [
    "# Находим топ-15 улиц по количеству заведений\n",
    "top_street = df[df['street'].isin(df['street'].value_counts().head(15).index)]\n",
    "z = top_street.groupby(['street', 'category'], as_index=False)['address'].count()\n",
    "\n",
    "# Получим общее число заведений на каждой улице\n",
    "total_count = top_street.groupby('street')['address'].count().reset_index()\n",
    "total_count.columns = ['street', 'total_count']\n",
    "z = z.merge(total_count, on='street')\n",
    "\n",
    "# строим график\n",
    "fig = px.bar(z, x='street', y='address', color='category', text='address', hover_data=['total_count'])\n",
    "fig.update_layout(\n",
    "    xaxis={'categoryorder':'total descending'},\n",
    "    title='Распределение заведений по улицам из топ-15',\n",
    "    xaxis_title='Улица',\n",
    "    yaxis_title='Количество заведений'\n",
    ")\n",
    "\n",
    "# Переименование легенды\n",
    "fig.update_layout(legend_title_text='Виды заведений')\n",
    "fig.show()"
   ]
  },
  {
   "cell_type": "markdown",
   "metadata": {},
   "source": [
    "Здесь видно, что в топ-15 по количеству заведений в лидерах Проспект Мира, Профсоюзная улица и проспект Вернадского. По типу адреса именно улиц всего три: Профсоюзная, Люблинская и Миклуха-Маклая. Но чаще встречаются проспекты и шоссе из-за большей протяженности (больше заведений умещается).<br>\n",
    "На самой популярной улице  - Проспект Мира - находятся 183 заведения общепита большей частью кафе и рестораны. Булочные, пиццерии и столовые встречаются реже всего на улицах из топ-15."
   ]
  },
  {
   "cell_type": "markdown",
   "metadata": {},
   "source": [
    "### <a id=\"5_11\"></a>Улицы с одним объектом общепита\n",
    "[К содержанию](#0)<br><br>\n",
    "Найти улицы, на которых находится только один объект общепита. Что можно сказать об этих заведениях?"
   ]
  },
  {
   "cell_type": "code",
   "execution_count": null,
   "metadata": {},
   "outputs": [],
   "source": [
    "# Найдём улицы c единственным заведением \n",
    "print('Количество улиц с единственным заведением общепита:', df['street'].value_counts().eq(1).sum())\n",
    "\n",
    "# Посчитаем столько каких видов\n",
    "count_by_category = df[df['street'].isin(df['street'].value_counts()[df['street'].value_counts() == 1].index)]['category'].value_counts()\n",
    "print('Количество заведений по видам:')\n",
    "count_by_category"
   ]
  },
  {
   "cell_type": "code",
   "execution_count": null,
   "metadata": {},
   "outputs": [],
   "source": [
    "# Создаём карту\n",
    "m = Map(location=[moscow_lat, moscow_lng], zoom_start=10)\n",
    "\n",
    "# Создаём кластер маркеров\n",
    "marker_cluster = MarkerCluster().add_to(m)\n",
    "\n",
    "# Отфильтруем данные для создания кластеров\n",
    "street1 = df[\"street\"].value_counts()[df[\"street\"].value_counts() == 1].index.tolist()\n",
    "filtered_df = df[df[\"street\"].isin(street1)]\n",
    "\n",
    "# Функция для добавления маркеров на карту\n",
    "def add_marker(row):\n",
    "    marker = Marker([row[\"lat\"], row[\"lng\"]])\n",
    "    marker.add_to(marker_cluster)\n",
    "filtered_df.apply(add_marker, axis=1)\n",
    "m"
   ]
  },
  {
   "cell_type": "markdown",
   "metadata": {},
   "source": [
    "Понятно, что улицы с единственным заведением небольшие по протяжённости: переулки, тупики, аллеи и т.п."
   ]
  },
  {
   "cell_type": "markdown",
   "metadata": {},
   "source": [
    "### <a id=\"5_12\"></a>Средний чек заведений по округам\n",
    "[К содержанию](#0)<br><br>\n",
    "На данных примерной стоимости заказа (чаще всего выражена диапазоном) посчитать медиану столбца `middle_avg_bill` (значения средних чеков заведений) для каждого округа. Использовать это значение в качестве ценового индикатора округов."
   ]
  },
  {
   "cell_type": "code",
   "execution_count": null,
   "metadata": {},
   "outputs": [],
   "source": [
    "# Получаем данные по окрругам и считаем медиану среднего чека\n",
    "price_district = df[df['middle_avg_bill'] > 0].groupby('district')['middle_avg_bill'].median().round(2).reset_index()\n",
    "\n",
    "# Строим диаграмму со средним чеком по округам\n",
    "fig = px.bar(price_district.sort_values(by='middle_avg_bill'), x='middle_avg_bill', y='district', text='middle_avg_bill')\n",
    "fig.update_layout(title='Медиана среднего чека заведений по округам',\n",
    "                   xaxis_title='Средний чек',\n",
    "                   yaxis_title='Округ')\n",
    "fig.show()"
   ]
  },
  {
   "cell_type": "code",
   "execution_count": null,
   "metadata": {},
   "outputs": [],
   "source": [
    "# Создаем карту Москвы\n",
    "m = Map(location=[moscow_lat, moscow_lng], zoom_start=10)\n",
    "\n",
    "# Создаем хороплет и добавляем его на карту\n",
    "Choropleth(\n",
    "    geo_data=geo_data,\n",
    "    data=price_district,\n",
    "    columns=['district', 'middle_avg_bill'],\n",
    "    key_on='feature.properties.name',\n",
    "    fill_color='YlGn',\n",
    "    fill_opacity=0.8,\n",
    "    line_opacity=0.2,\n",
    "    legend_name='Средний чек заведений по районам',\n",
    "    nan_fill_color='white',\n",
    "    nan_fill_opacity=0.7\n",
    ").add_to(m)\n",
    "m"
   ]
  },
  {
   "cell_type": "markdown",
   "metadata": {},
   "source": [
    "Самый высокий средний чек в Центральном и Западном округах, самый маленький - в Юго-Восточном. При этом средний чек округов отличается от Центрального в 1,5-2 раза."
   ]
  },
  {
   "cell_type": "markdown",
   "metadata": {},
   "source": [
    "### <a id=\"5_13\"></a>Влияние удалённости от центра на цены в заведениях\n",
    "[К содержанию](#0)<br><br>\n",
    "По полученным значениям средних чеков построить фоновую картограмму (хороплет) для каждого округа. Проанализировать цены в Центральном административном округе и других, и определить, как удалённость от центра влияет на цены в заведениях."
   ]
  },
  {
   "cell_type": "code",
   "execution_count": null,
   "metadata": {},
   "outputs": [],
   "source": [
    "# Сортируем округи по возрастанию среднего чека\n",
    "sorted_districts = price_district.sort_values('middle_avg_bill')['district'].tolist()\n",
    "sorted_avg_bills = price_district.sort_values('middle_avg_bill')['middle_avg_bill'].tolist()\n",
    "\n",
    "# Создаём столбчатую диаграмму\n",
    "fig, ax = plt.subplots(figsize=(10, 10))\n",
    "bars = ax.bar(sorted_districts, sorted_avg_bills)\n",
    "\n",
    "for bar in bars:\n",
    "    height = bar.get_height()\n",
    "    ax.annotate(f'{height:.1f}', xy=(bar.get_x() + bar.get_width() / 2, height),\n",
    "                xytext=(0, 3), textcoords='offset points',\n",
    "                ha='center', va='bottom')\n",
    "\n",
    "ax.set_xlabel('Округ')\n",
    "ax.set_ylabel('Средний чек')\n",
    "ax.set_title('Анализ среднего чека по округам')\n",
    "\n",
    "plt.xticks(rotation=90)\n",
    "plt.tight_layout()\n",
    "plt.show()"
   ]
  },
  {
   "cell_type": "code",
   "execution_count": null,
   "metadata": {},
   "outputs": [],
   "source": [
    "# Анализ цен в ЦАО в сравнении с другими округами\n",
    "cao_prices = price_district[price_district['district'] == 'центральный административный округ']['middle_avg_bill']\n",
    "other_district_prices = price_district[price_district['district'] != 'центральный административный округ']['middle_avg_bill']\n",
    "\n",
    "# Cтроим график\n",
    "plt.figure(figsize=(10, 6))\n",
    "plt.boxplot([cao_prices, other_district_prices], labels=['ЦАО', 'Другие округа'])\n",
    "plt.xlabel('Округа')\n",
    "plt.ylabel('Средний чек')\n",
    "plt.title('Анализ цен в ЦАО и других округах')\n",
    "plt.show()"
   ]
  },
  {
   "cell_type": "markdown",
   "metadata": {},
   "source": [
    "Мы видим, что разница в размерах среднего чека чуть ли не двукратная."
   ]
  },
  {
   "cell_type": "markdown",
   "metadata": {},
   "source": [
    "### <a id=\"5_15\"></a>Вывод по результатам анализа\n",
    "[К содержанию](#0)<br><br>"
   ]
  },
  {
   "cell_type": "markdown",
   "metadata": {},
   "source": [
    "1. - По количеству заведений лидируют кафе (2375), на втором месте рестораны (2041). \n",
    "   - На последнем месте булочные (255). \n",
    "   - Кафе и рестораны составляют 52,6% от всех заведений. \n",
    "   - Кофейни, бары/пабы и пиццерии составляют 32,4% от общего числа заведений. \n",
    "   - На булочные, столовые и предприятия быстрого питания приходится 14%.\n",
    "\n",
    "\n",
    "2. - По количеству посадочных мест (медиана и среднее) первое и второе места переменно делят рестораны и бары.\n",
    "   - На третьем и четвёртом местах кофейни и предприятия быстрого питания. \n",
    "   - В булочных и пиццериях посадочных мест меньше всего.\n",
    "   - Среднее количество посадочных мест в заведениях колеблется от 50 до 80.\n",
    "\n",
    "\n",
    "3. - В Москве 5195 несетевых (61,9%) и 3205 (38,1%) сетевых заведений. \n",
    "   - Несетевых заведений почти в 1,6 раза больше.\n",
    "   - Самая большая сеть - Шоколадница (120 заведений), затем идут пиццерии Доминос и Додо-пицца (76 и 74 заведения соответственно).\n",
    "\n",
    "\n",
    "4. - Всего в сетях топ-15 насчитывается 771 объект.\n",
    "   - Самые популярные сети сконцентриваны в ЦАО, много заведений из топ-15 в Южном, Северном, Северо-Восточном и Восточном округах.\n",
    "   - У всех заведений из топ-15 средний рейтиг больше 4.00, но меньше 4.40.\n",
    "   - Сети из топ-15 по видам заведений распределены так:\n",
    "        - 43,5% - кофейни,\n",
    "        - 19,9% - пиццерии,\n",
    "        - 16,0% - кафе,\n",
    "        - 15,1% - рестораны,\n",
    "        - 3,2% - булочные,\n",
    "        - 1,5% - быстрое питание,\n",
    "        - 0,5% - бары/пабы,\n",
    "        - 0,3% - столовые. \n",
    "\n",
    "\n",
    "5. - Всего в таблице 9 округов:\n",
    "       - 'Юго-Восточный административный округ',\n",
    "       - 'Юго-Западный административный округ',\n",
    "       - 'Центральный административный округ',\n",
    "       - 'Восточный административный округ',\n",
    "       - 'Северо-Восточный административный округ',\n",
    "       - 'Западный административный округ',\n",
    "       - 'Северо-Западный административный округ',\n",
    "       - 'Северный административный округ',\n",
    "       - 'Южный административный округ'.\n",
    "   - Из графика видно, что больше всего заведений всех видов находится в Центральном административном округе.\n",
    "   - Хорошо распределены по всем округам кафе, столовые - хуже всего.\n",
    "\n",
    "\n",
    "6. - В выборке средние значения рейтингов по видам заведений выше 4.\n",
    "   - Самый большой рейтинг у баров. \n",
    "   - У ресторанов, пиццерий, кофеен и булочных очень близкий рейтинг. \n",
    "   - Самый маленький у предприятий быстрого питания.\n",
    "   - Зависимость рейтинга заведения от удалённости от центра не существенна. Разница между наибольшим средним рейтингом и наименьшим по округу составляет всего 0,27.\n",
    "\n",
    "\n",
    "7. - Самый высокий рейтинг у заведений в Центральном округе - 4.38. \n",
    "   - Самый низкий в Юго-Восточном административном округе - 4.1.\n",
    "\n",
    "\n",
    "8. - Основная масса заведений общепита находится в центре Москвы. \n",
    "   - Меньше на севере и на юге.\n",
    "\n",
    "\n",
    "9. - Больше всего заведений сконцентрировано на длинных улицах, проспектах и шоссе, при этом там больше кафе и ресторанов.\n",
    "   - Больше всего заведений на улице Проспект Мира, там также преобладают кафе и рестораны, а столовых меньше всего.\n",
    "   - На втором месте Профсоюзная улица с аналогичной ситуацией по видам. \n",
    "   - Меньше всего заведений на улица Миклухо-Маклая, там самые популярныые кафе и рестораны.\n",
    "\n",
    "\n",
    "10. - В Москве 454 улицы с единственным заведением общепита.\n",
    "    - Это улицы не сильно протяжённые (переулки, тупики, проезды, аллеи и т.п.) или с небольшим клиентопотоком.\n",
    "    - Больше всего заведений на них - это кафе (159).\n",
    "\n",
    "\n",
    "12. - Самый высокий средний чек в Центральном и Западном округах. \n",
    "    - Самый маленький в Юго-Восточном административном округе. \n",
    "    - Средний чек округов по сравнению с ЦАО в 1,5-2 раза ниже.\n",
    "    - Бюджетные заведения аще встречаются в ЮАО, ЮВАО и СВАО."
   ]
  },
  {
   "cell_type": "markdown",
   "metadata": {},
   "source": [
    "## <a id=\"6\"></a>Конкретизация исследования: открытие кофейни\n",
    "[К содержанию](#0)<br><br>\n",
    "Основатели фонда хотят открыть доступную кофейню в Москве. Считается, что заказчики не боятся конкуренции в этой сфере. Нужно определить, осуществимы ли планы клиентов."
   ]
  },
  {
   "cell_type": "markdown",
   "metadata": {},
   "source": [
    "### <a id=\"6_1\"></a>Особенности расположения кофеен по округам\n",
    "[К содержанию](#0)<br><br>\n",
    "Мы помним, что кофейни составляют 17% от общего числа заведений общепита в г. Москве. Посмотрим их количество и посмотрим на их расположение."
   ]
  },
  {
   "cell_type": "code",
   "execution_count": null,
   "metadata": {},
   "outputs": [],
   "source": [
    "# Получим кофейни\n",
    "print('Всего заведений вида \"кофейня\":', df[df['category'] == 'кофейня'].shape[0])"
   ]
  },
  {
   "cell_type": "code",
   "execution_count": null,
   "metadata": {},
   "outputs": [],
   "source": [
    "# Построим график их количества по округам\n",
    "dis_cofe = df[df['category'] == 'кофейня'].groupby('district')['address'].count().reset_index()\n",
    "\n",
    "fig = px.bar(dis_cofe.sort_values(by='address'), x='address', y='district', text='address')\n",
    "\n",
    "fig.update_layout(\n",
    "    title='Количество кофеен по округам',\n",
    "    xaxis_title='Количество кофеен',\n",
    "    yaxis_title='Округ'\n",
    ")\n",
    "\n",
    "fig.show()"
   ]
  },
  {
   "cell_type": "code",
   "execution_count": null,
   "metadata": {},
   "outputs": [],
   "source": [
    "# Строим график соотношения кофеен по округам\n",
    "fig1, ax1 = plt.subplots(figsize=(10, 8))\n",
    "ax1.pie(dis_cofe['address'], labels=dis_cofe['district'], autopct='%1.1f%%')\n",
    "ax1.set_title('Доля кофеен по округам')\n",
    "plt.show()"
   ]
  },
  {
   "cell_type": "code",
   "execution_count": null,
   "metadata": {},
   "outputs": [],
   "source": [
    "# Строим карту расположения кофеен\n",
    "m = Map(location=[moscow_lat, moscow_lng], zoom_start=10)\n",
    "marker_cluster = MarkerCluster().add_to(m)\n",
    "df.query('category == \"кофейня\"').apply(create_clusters, axis=1)\n",
    "m"
   ]
  },
  {
   "cell_type": "code",
   "execution_count": null,
   "metadata": {},
   "outputs": [],
   "source": [
    "# Посмотрим соотношения сетевых и несетевых кофеен\n",
    "net_cafe = df[df['category'] == 'кофейня'].groupby('chain').size()\n",
    "fig1, ax1 = plt.subplots()\n",
    "ax1.pie(net_cafe, labels=net_cafe.index, autopct='%1.1f%%')\n",
    "ax1.set_title('Соотношение сетевых и несетевых кофеен')\n",
    "plt.show()"
   ]
  },
  {
   "cell_type": "markdown",
   "metadata": {},
   "source": [
    "Всего в Москве 1412 кофеен, и почти треть из них (30,3%) расположены в Центральном округе. На втором месте Северный округ (13,7%), на третьем - Северо-Восточный (11,3%). Меньше всего кофеен на северо-западе столицы."
   ]
  },
  {
   "cell_type": "markdown",
   "metadata": {},
   "source": [
    "### <a id=\"6_2\"></a>Круглосуточные кофейни\n",
    "[К содержанию](#0)<br><br>"
   ]
  },
  {
   "cell_type": "code",
   "execution_count": null,
   "metadata": {},
   "outputs": [],
   "source": [
    "cofe_df = df.query('category == \"кофейня\"')"
   ]
  },
  {
   "cell_type": "code",
   "execution_count": null,
   "metadata": {},
   "outputs": [],
   "source": [
    "# Подсчет количества круглосуточных кофеен\n",
    "num_24_7_coffee = df.query('category == \"кофейня\" and `is_24/7` == True').shape[0]\n",
    "print('Количество круглосуточных кофеен:', num_24_7_coffee)\n",
    "m = folium.Map(location=[moscow_lat, moscow_lng], zoom_start=10)\n",
    "marker_cluster = MarkerCluster().add_to(m)\n",
    "for index, row in cofe_df.iterrows():\n",
    "    if row['is_24/7'] == True:\n",
    "        folium.Marker(\n",
    "            [row['lat'], row['lng']],\n",
    "            popup=f\"{row['name']} {row['rating']}\"\n",
    "        ).add_to(marker_cluster)\n",
    "m"
   ]
  },
  {
   "cell_type": "markdown",
   "metadata": {},
   "source": [
    "Круглосуточных коффеен в Москве 76 заведений и больше всего их в центре."
   ]
  },
  {
   "cell_type": "markdown",
   "metadata": {},
   "source": [
    "### <a id=\"6_3\"></a>Рейтинги кофеен по округам\n",
    "[К содержанию](#0)<br><br>"
   ]
  },
  {
   "cell_type": "code",
   "execution_count": null,
   "metadata": {},
   "outputs": [],
   "source": [
    "# Посчитаем средний рейтинг кофеен по округам\n",
    "rating_coffee = df[df['category'] == 'кофейня'].groupby('district')['rating'].mean().round(2).reset_index()\n",
    "rating_coffee"
   ]
  },
  {
   "cell_type": "code",
   "execution_count": null,
   "metadata": {},
   "outputs": [],
   "source": [
    "# Выведем рейтинги на карту\n",
    "m = folium.Map(location=[moscow_lat, moscow_lng], zoom_start=10)\n",
    "Choropleth(\n",
    "    geo_data=geo_data,\n",
    "    data=rating_coffee,\n",
    "    columns=['district', 'rating'],\n",
    "    key_on='feature.properties.name',\n",
    "    fill_color='YlGn',\n",
    "    fill_opacity=0.8,\n",
    "    legend_name='Средний рейтинг кофеен по округам',\n",
    "    highlight=True\n",
    ").add_to(m)\n",
    "m"
   ]
  },
  {
   "cell_type": "markdown",
   "metadata": {},
   "source": [
    "Самый высокий рейтинг в Центральном и Северо-Западном административных округах. Самый низкий рейтинг в Западном АО."
   ]
  },
  {
   "cell_type": "markdown",
   "metadata": {},
   "source": [
    "### <a id=\"6_4\"></a>Показатели стоимости чашки капучино\n",
    "[К содержанию](#0)<br><br>"
   ]
  },
  {
   "cell_type": "code",
   "execution_count": null,
   "metadata": {
    "scrolled": true
   },
   "outputs": [],
   "source": [
    "# Получим медианную цену чашки кофе в кофейнях\n",
    "cofe_mean = cofe_df.groupby('district')['middle_coffee_cup'].mean().round(2).sort_values(ascending=False).reset_index()\n",
    "print('Средняя стоимость чашки кофе в Москве:', cofe_mean['middle_coffee_cup'].mean())\n",
    "\n",
    "# Расчитаем среднюю цены трёх самых дорогих округов\n",
    "top_3_prices = cofe_mean.head(3)\n",
    "average_top_3_prices = top_3_prices['middle_coffee_cup'].mean().round(2)\n",
    "print('Средняя цена в трёх самых дорогих округах:', average_top_3_prices)\n",
    "\n",
    "display(cofe_mean)"
   ]
  },
  {
   "cell_type": "code",
   "execution_count": null,
   "metadata": {},
   "outputs": [],
   "source": [
    "# Создадим два графика распределения средней цены по округам\n",
    "fig, axes = plt.subplots(2, 1, figsize=(8, 13))\n",
    "sns.boxplot(data=df[df['category'] == 'кофейня'], y='district', x='middle_coffee_cup', order=cofe_mean['district'], ax=axes[0])\n",
    "axes[0].set_title('Средняя цена чашки кофе по округам')\n",
    "axes[0].set_xlabel('Цена, руб.')\n",
    "axes[0].set_ylabel('Округ')\n",
    "\n",
    "sns.boxplot(data=df[df['category'] == 'кофейня'], y='district', x='middle_coffee_cup', order=cofe_mean['district'], ax=axes[1])\n",
    "axes[1].set_xlim(0, 400)\n",
    "axes[1].set_title('Средняя цена чашки кофе по округам')\n",
    "axes[1].set_xlabel('Цена, руб.')\n",
    "axes[1].set_ylabel('Округ')\n",
    "\n",
    "plt.show()"
   ]
  },
  {
   "cell_type": "code",
   "execution_count": null,
   "metadata": {},
   "outputs": [],
   "source": [
    "# Получим медианную цену чашки кофе в кофейнях\n",
    "cofe_median = cofe_df.groupby('district')['middle_coffee_cup'].median().round(2).sort_values(ascending=False).reset_index()\n",
    "print('Медиана стоимостм чашки кофе в Москве:', cofe_median['middle_coffee_cup'].median())\n",
    "\n",
    "# Расчитаем медиану цены трёх самых дорогих округов\n",
    "top_3_prices = cofe_median.head(3)\n",
    "average_top_3_prices = top_3_prices['middle_coffee_cup'].median().round(2)\n",
    "print('Средняя цена в трёх самых дорогих округах:', average_top_3_prices)\n",
    "\n",
    "display(cofe_median)"
   ]
  },
  {
   "cell_type": "code",
   "execution_count": null,
   "metadata": {},
   "outputs": [],
   "source": [
    "# Создадим два графика распределения средней цены по округам\n",
    "fig, axes = plt.subplots(2, 1, figsize=(8, 13))\n",
    "sns.boxplot(data=df[df['category'] == 'кофейня'], y='district', x='middle_coffee_cup', order=cofe_median['district'], ax=axes[0])\n",
    "axes[0].set_title('Медиана цены чашки кофе по округам')\n",
    "axes[0].set_xlabel('Цена, руб.')\n",
    "axes[0].set_ylabel('Округ')\n",
    "\n",
    "sns.boxplot(data=df[df['category'] == 'кофейня'], y='district', x='middle_coffee_cup', order=cofe_median['district'], ax=axes[1])\n",
    "axes[1].set_xlim(0, 400)\n",
    "axes[1].set_title('Медиана цены чашки кофе по округам')\n",
    "axes[1].set_xlabel('Цена, руб.')\n",
    "axes[1].set_ylabel('Округ')\n",
    "\n",
    "plt.show()"
   ]
  },
  {
   "cell_type": "markdown",
   "metadata": {},
   "source": [
    "Медианная цена ниже средней на 9 рублей, поэтому возьмём её."
   ]
  },
  {
   "cell_type": "code",
   "execution_count": null,
   "metadata": {},
   "outputs": [],
   "source": [
    "# Найдём 10 самых популярных сетевых кофеен\n",
    "top_coffee = df[df['category'] == 'кофейня']['name'].value_counts().head(10)\n",
    "display(top_coffee)"
   ]
  },
  {
   "cell_type": "code",
   "execution_count": null,
   "metadata": {},
   "outputs": [],
   "source": [
    "# Построим разброс цен на чашку кофе в самых популярных кофейнях\n",
    "fig, ax = plt.subplots()\n",
    "ax.scatter(x=cofe_df[cofe_df['name'].isin(top_coffee.index)]['name'], \\\n",
    "           y=cofe_df[cofe_df['name'].isin(top_coffee.index)]['middle_coffee_cup'], \\\n",
    "           color=\"blue\", alpha=0.2)\n",
    "ax.set_xlabel(\"\")\n",
    "ax.set_ylabel(\"Цена чашки капучино\")\n",
    "plt.grid(b=True)\n",
    "plt.xticks(rotation=90)\n",
    "plt.show()"
   ]
  },
  {
   "cell_type": "code",
   "execution_count": null,
   "metadata": {},
   "outputs": [],
   "source": [
    "# Построим разброс с ограничением, чтобы убрать отрывы\n",
    "fig, ax = plt.subplots()\n",
    "ax.scatter(x=cofe_df[cofe_df['name'].isin(top_coffee.index)]['name'], \\\n",
    "           y=cofe_df[cofe_df['name'].isin(top_coffee.index)]['middle_coffee_cup'], \\\n",
    "           color=\"blue\", alpha=0.2)\n",
    "ax.set_ylim(0, 400)\n",
    "ax.set_xlabel(\"\")\n",
    "ax.set_ylabel(\"Цена чашки капучино\")\n",
    "plt.grid(b=True)\n",
    "plt.xticks(rotation=90)\n",
    "plt.show()"
   ]
  },
  {
   "cell_type": "code",
   "execution_count": null,
   "metadata": {},
   "outputs": [],
   "source": [
    "# Выведем цены на карту Москвы\n",
    "m = folium.Map(location=[moscow_lat, moscow_lng], zoom_start=10)\n",
    "folium.Choropleth(\n",
    "    geo_data=geo_data,\n",
    "    data=cofe_median,\n",
    "    columns=['district', 'middle_coffee_cup'],\n",
    "    key_on='feature.properties.name',\n",
    "    fill_color='YlGn',\n",
    "    fill_opacity=0.8,\n",
    "    legend_name='Медианная цена чашки кофе по районам'\n",
    ").add_to(m)\n",
    "m"
   ]
  },
  {
   "cell_type": "markdown",
   "metadata": {},
   "source": [
    "## <a id=\"7\"></a>Выводы и рекомендации\n",
    "[К содержанию](#0)<br><br>\n",
    "\n",
    "__Общий вывод__:<br>\n",
    "Было проведено исследование рынка общепита Москвы на основании имеющихся данных. Стояла задача найти особенности и создать презентацию полученных результатов, которые в будущем помогут в выборе подходящего места для открытия кофейни.<br>\n",
    "В ходе предобработки данных:\n",
    "* Было выявлено, что в таблице 8406 строк и 5614 заведений.\n",
    "* В таблице были найдены явные и неявные дубликаты.\n",
    "* Пропуски оставлены без изменений.\n",
    "* Добавленыи 2 новых столбца: `street` с названиями улиц и `is_24/7` с обозначением, что заведение работает ежедневно и круглосуточно.\n",
    "\n",
    "В ходе анализа данных выяснили, что:\n",
    "1. - По количеству заведений лидируют кафе с численностью 2375 (28.3% рынка), немного меньше ресторанов - 2041 (24.3%), а на третьем месте  кофейни - 1412 (16.8%).\n",
    "   - На последних местах находятся столовые - 315 (3.8%) и булочные - 255 (3.0%). \n",
    "   - Кафе и рестораны вместе занимают 52,6% рынка. \n",
    "   - Бары/пабы, пиццериии и предприятия быстрого питания занимают 23.8% рынка. \n",
    "\n",
    "\n",
    "2. - Больше всего посадочных мест в барах и ресторанах.\n",
    "   - На втором месте кофейни, столовые и предприятия быстрого питания.\n",
    "   - В кафе, пиццериях и булочных посадочных мест меньше всего.\n",
    "\n",
    "\n",
    "3. - В Москве 5195 несетевых (61,9%) и 3205 (38,1%) сетевых заведений.\n",
    "   - Несетевых заведений почти в 1,6 раза больше.\n",
    "   - Самая большая сеть - Шоколадница (120 заведений), затем идут пиццерии Доминос и Додо-пицца (76 и 74 заведения соответственно).\n",
    "   - Чаще всего сетевыми являются кафе (24%), рестораны (23%) и кофейни (22%).\n",
    "\n",
    "\n",
    "5. - У всех заведений из топ-15 средний рейтиг больше 4.00, но меньше 4.40.\n",
    "   - В топ-15 по видам заведений:\n",
    "        - 43,5% - кофейни,\n",
    "        - 19,9% - пиццерии,\n",
    "        - 16,0% - кафе,\n",
    "        - 15,1% - рестораны,\n",
    "        - 3,2% - булочные,\n",
    "        - 1,5% - быстрое питание,\n",
    "        - 0,5% - бары/пабы,\n",
    "        - 0,3% - столовые. \n",
    "   - Всего в сетях топ-15 насчитывается 771 заведение.\n",
    "   - Больше всего заведений в Москве у сети \"Шоколадница\" (120 объектов и 15.6% рынка), на втором и третьем местах пиццерии: \"Домино'с пицца\" (76 объектов и 9.9% рынка) и \"ДоДо пицца\" (74 и 9.6%).\n",
    "   - Меньше всего заведений у сетей \"Му-Му\" и \"Drive cafe\".\n",
    "\n",
    "\n",
    "6. - В таблице 9 округов:\n",
    "       - 'Юго-Восточный административный округ',\n",
    "       - 'Юго-Западный административный округ',\n",
    "       - 'Центральный административный округ',\n",
    "       - 'Восточный административный округ',\n",
    "       - 'Северо-Восточный административный округ',\n",
    "       - 'Западный административный округ',\n",
    "       - 'Северо-Западный административный округ',\n",
    "       - 'Северный административный округ',\n",
    "       - 'Южный административный округ'.\n",
    "   - Больше всего заведений всем видов в Центральном административном округе.\n",
    "   - Хорошо распределены по всем округам кафе, столовые - хуже всего.\n",
    "\n",
    "\n",
    "7. - Самый большой рейтинг у баров/пабов. \n",
    "   - Примерно одинаковый рейтинг у ресторанов, пиццерий, кофеен и булочных. \n",
    "   - Самый низкий рейтинг у предприятий быстрого питания. \n",
    "   - Зависимость рейтинга заведения от удалённости от центра не существенна.\n",
    "   - Самый высокий рейтинг в заведениях в Центральном административном округе - 4.38. \n",
    "   - Самый низкий в Юго-Восточном административном округе - 4.1.\n",
    "   - Разница между наибольшим средним рейтингом и наименьшим по округу составляет всего 0,27.\n",
    "\n",
    "\n",
    "8. - Основная масса заведений общепита сконцентрирована в центре Москвы. \n",
    "   - Меньше на севере.\n",
    "   - Ещё меньше на юге.\n",
    "   - Больше всего заведений на Проспекте Мира, там преобладают кафе и рестораны, а меньше всего столовых. \n",
    "   - На втором месте Профсоюзная улица, где ситуация с видами аналогична. \n",
    "   - Меньше всего заведений на улица Миклухо-Маклая, там среди популярных категорий также кафе и рестораны.\n",
    "\n",
    "\n",
    "9. - В Москве 454 улицы имеют только одно заведение общепита. \n",
    "   - Больше всего из них относятся к категории кафе - 159 объектов.\n",
    "\n",
    "\n",
    "10. - Самый высокий средний чек в Центральном и Западном округах. \n",
    "    - Самый низкий в Юго-Восточном административном округе. \n",
    "    - Средний чек по округам от Центрального отличается а среднем а 1,5-2 раза.\n",
    "\n",
    "\n",
    "11. - Кофейни занимают третье место по количеству заведений в Москве, всего их 1412, это 17% рынка.\n",
    "    - 30.3% кофеен находятся в Центральном округе, на втором месте Северный округ (13,7%), на третьем - Северо-Восточный (11,3%).\n",
    "    - Меньше всего кофеен в Северо-западном округе.\n",
    "    - 50.9% кофеен являются сетевыми.\n",
    "    - 76 кофеен в Москве работают круглосуточно, и преимущественно это сетевые заведения.\n",
    "    - Максимальный рейтинг у кофеен в Центральном и Северо-Западном административном округах, но в целом разница по округам не сильно отличается - всего 0,25.\n",
    "    - Цена чашки капучино в кофейнях варьируется от 110 до 250 рублей.\n",
    "    - Минимальная цена в Южном, Восточном и Юго-Восточном округах Москвы, там стандартная цена 150 рублей.\n",
    "    - Самая дорогая чашка кофе в Западном, Юго-Западном и Центральном округах - около 190 руб.\n",
    "    - Самой большая сеть кофеен - \"Шоколадница\", большинствво её заведений расположены в центре.\n",
    "    - Разброс цены за чашку капучино в \"Шоколаднице\" варьируется от 170 до 300 рублей.\n",
    "  \n",
    "\n",
    "__Рекомендации__: \n",
    "\n",
    "- При открытии новой кофейни лучше выбрать Северо-Западный округ, так как там очень мало заведений этого вида, а средняя цена чашки кофе позволит установить её на 5-10% ниже средней по округу, что немного уменьшит маржу, но позволит забрать клиентов у конкурентов.\n",
    "\n",
    "- Во всех округах кроме Центрального явный недостаток круглосуточных кофеен, поэтому можно рассмотреть этот режим работы.\n",
    "\n",
    "- В Северо-Западном округе рейтинг кафеен не самый низки и не самый высокий, поэтому новое заведение не будет испытывать давление в этом плане\n",
    "\n",
    "- Кроме того, этот округ на третьем месте по показателю среднего чека, что опять же позволит установить привлекательные цены.\n",
    "\n",
    "- Ещё можно рассмотреть Западный округ, но он менее привлекатльный по количеству кофеен.\n",
    "\n",
    "Ссылка на презентацию - https://disk.yandex.ru/i/rRmRM3B4qzCfhw\n"
   ]
  }
 ],
 "metadata": {
  "ExecuteTimeLog": [
   {
    "duration": 15,
    "start_time": "2024-02-21T17:04:40.297Z"
   },
   {
    "duration": 58,
    "start_time": "2024-02-21T17:04:42.523Z"
   },
   {
    "duration": 7,
    "start_time": "2024-02-21T17:04:46.109Z"
   },
   {
    "duration": 1517,
    "start_time": "2024-02-21T17:05:42.058Z"
   },
   {
    "duration": 113,
    "start_time": "2024-02-21T17:05:43.577Z"
   },
   {
    "duration": 5,
    "start_time": "2024-02-21T17:05:43.692Z"
   },
   {
    "duration": 192,
    "start_time": "2024-02-21T17:05:43.698Z"
   },
   {
    "duration": 6,
    "start_time": "2024-02-21T17:08:31.079Z"
   },
   {
    "duration": 159,
    "start_time": "2024-02-21T17:08:33.207Z"
   },
   {
    "duration": 11,
    "start_time": "2024-02-21T17:22:00.444Z"
   },
   {
    "duration": 16,
    "start_time": "2024-02-21T18:04:01.410Z"
   },
   {
    "duration": 1344,
    "start_time": "2024-02-21T18:18:05.710Z"
   },
   {
    "duration": 64,
    "start_time": "2024-02-21T18:18:07.056Z"
   },
   {
    "duration": 6,
    "start_time": "2024-02-21T18:18:07.122Z"
   },
   {
    "duration": 169,
    "start_time": "2024-02-21T18:18:07.130Z"
   },
   {
    "duration": 76,
    "start_time": "2024-02-21T18:18:07.301Z"
   },
   {
    "duration": 0,
    "start_time": "2024-02-21T18:18:07.379Z"
   },
   {
    "duration": 0,
    "start_time": "2024-02-21T18:18:07.380Z"
   },
   {
    "duration": 0,
    "start_time": "2024-02-21T18:18:07.381Z"
   },
   {
    "duration": 122,
    "start_time": "2024-02-21T18:18:13.843Z"
   },
   {
    "duration": 36,
    "start_time": "2024-02-21T18:18:31.019Z"
   },
   {
    "duration": 21,
    "start_time": "2024-02-21T18:18:39.540Z"
   },
   {
    "duration": 9,
    "start_time": "2024-02-21T18:24:16.670Z"
   },
   {
    "duration": 1268,
    "start_time": "2024-02-21T18:35:34.657Z"
   },
   {
    "duration": 64,
    "start_time": "2024-02-21T18:35:35.926Z"
   },
   {
    "duration": 6,
    "start_time": "2024-02-21T18:35:35.991Z"
   },
   {
    "duration": 181,
    "start_time": "2024-02-21T18:35:35.999Z"
   },
   {
    "duration": 73,
    "start_time": "2024-02-21T18:35:36.181Z"
   },
   {
    "duration": 19,
    "start_time": "2024-02-21T18:35:36.256Z"
   },
   {
    "duration": 8,
    "start_time": "2024-02-21T18:35:36.277Z"
   },
   {
    "duration": 108,
    "start_time": "2024-02-21T18:35:36.286Z"
   },
   {
    "duration": 7,
    "start_time": "2024-02-21T18:35:36.396Z"
   },
   {
    "duration": 110,
    "start_time": "2024-02-21T18:35:36.405Z"
   },
   {
    "duration": 0,
    "start_time": "2024-02-21T18:35:36.516Z"
   },
   {
    "duration": 72,
    "start_time": "2024-02-21T18:39:51.152Z"
   },
   {
    "duration": 14,
    "start_time": "2024-02-21T18:39:55.561Z"
   },
   {
    "duration": 1274,
    "start_time": "2024-02-21T18:42:19.829Z"
   },
   {
    "duration": 65,
    "start_time": "2024-02-21T18:42:21.105Z"
   },
   {
    "duration": 9,
    "start_time": "2024-02-21T18:42:21.171Z"
   },
   {
    "duration": 199,
    "start_time": "2024-02-21T18:42:21.182Z"
   },
   {
    "duration": 52,
    "start_time": "2024-02-21T18:42:21.383Z"
   },
   {
    "duration": 49,
    "start_time": "2024-02-21T18:42:21.437Z"
   },
   {
    "duration": 46,
    "start_time": "2024-02-21T18:42:21.488Z"
   },
   {
    "duration": 14,
    "start_time": "2024-02-21T18:42:21.535Z"
   },
   {
    "duration": 145,
    "start_time": "2024-02-21T18:42:21.550Z"
   },
   {
    "duration": 9,
    "start_time": "2024-02-21T18:42:21.697Z"
   },
   {
    "duration": 149,
    "start_time": "2024-02-21T18:42:21.707Z"
   },
   {
    "duration": 0,
    "start_time": "2024-02-21T18:42:21.858Z"
   },
   {
    "duration": 53,
    "start_time": "2024-02-21T18:44:46.617Z"
   },
   {
    "duration": 15,
    "start_time": "2024-02-21T18:44:47.796Z"
   },
   {
    "duration": 1410,
    "start_time": "2024-02-21T18:47:23.508Z"
   },
   {
    "duration": 65,
    "start_time": "2024-02-21T18:47:24.920Z"
   },
   {
    "duration": 6,
    "start_time": "2024-02-21T18:47:24.986Z"
   },
   {
    "duration": 184,
    "start_time": "2024-02-21T18:47:24.994Z"
   },
   {
    "duration": 9,
    "start_time": "2024-02-21T18:47:25.180Z"
   },
   {
    "duration": 32,
    "start_time": "2024-02-21T18:47:25.190Z"
   },
   {
    "duration": 29,
    "start_time": "2024-02-21T18:47:25.224Z"
   },
   {
    "duration": 42,
    "start_time": "2024-02-21T18:47:25.255Z"
   },
   {
    "duration": 9,
    "start_time": "2024-02-21T18:47:25.298Z"
   },
   {
    "duration": 52,
    "start_time": "2024-02-21T18:47:25.334Z"
   },
   {
    "duration": 14,
    "start_time": "2024-02-21T18:47:25.388Z"
   },
   {
    "duration": 127,
    "start_time": "2024-02-21T18:47:25.404Z"
   },
   {
    "duration": 0,
    "start_time": "2024-02-21T18:47:25.533Z"
   },
   {
    "duration": 36,
    "start_time": "2024-02-21T18:49:44.316Z"
   },
   {
    "duration": 1340,
    "start_time": "2024-02-21T18:50:04.099Z"
   },
   {
    "duration": 63,
    "start_time": "2024-02-21T18:50:05.441Z"
   },
   {
    "duration": 6,
    "start_time": "2024-02-21T18:50:05.505Z"
   },
   {
    "duration": 155,
    "start_time": "2024-02-21T18:50:05.513Z"
   },
   {
    "duration": 7,
    "start_time": "2024-02-21T18:50:05.670Z"
   },
   {
    "duration": 54,
    "start_time": "2024-02-21T18:50:05.679Z"
   },
   {
    "duration": 28,
    "start_time": "2024-02-21T18:50:05.735Z"
   },
   {
    "duration": 39,
    "start_time": "2024-02-21T18:50:05.764Z"
   },
   {
    "duration": 75,
    "start_time": "2024-02-21T18:50:05.805Z"
   },
   {
    "duration": 15,
    "start_time": "2024-02-21T18:50:05.882Z"
   },
   {
    "duration": 122,
    "start_time": "2024-02-21T18:50:05.899Z"
   },
   {
    "duration": 0,
    "start_time": "2024-02-21T18:50:06.022Z"
   },
   {
    "duration": 35,
    "start_time": "2024-02-21T19:01:01.544Z"
   },
   {
    "duration": 40,
    "start_time": "2024-02-21T19:01:12.846Z"
   },
   {
    "duration": 18,
    "start_time": "2024-02-21T19:02:54.868Z"
   },
   {
    "duration": 18,
    "start_time": "2024-02-21T19:03:20.859Z"
   },
   {
    "duration": 16,
    "start_time": "2024-02-21T19:04:58.427Z"
   },
   {
    "duration": 1279,
    "start_time": "2024-02-21T19:05:12.495Z"
   },
   {
    "duration": 63,
    "start_time": "2024-02-21T19:05:13.777Z"
   },
   {
    "duration": 6,
    "start_time": "2024-02-21T19:05:13.842Z"
   },
   {
    "duration": 190,
    "start_time": "2024-02-21T19:05:13.850Z"
   },
   {
    "duration": 9,
    "start_time": "2024-02-21T19:05:14.042Z"
   },
   {
    "duration": 45,
    "start_time": "2024-02-21T19:05:14.053Z"
   },
   {
    "duration": 35,
    "start_time": "2024-02-21T19:05:14.099Z"
   },
   {
    "duration": 16,
    "start_time": "2024-02-21T19:05:14.136Z"
   },
   {
    "duration": 41,
    "start_time": "2024-02-21T19:05:14.153Z"
   },
   {
    "duration": 71,
    "start_time": "2024-02-21T19:05:14.196Z"
   },
   {
    "duration": 16,
    "start_time": "2024-02-21T19:05:14.269Z"
   },
   {
    "duration": 124,
    "start_time": "2024-02-21T19:05:14.287Z"
   },
   {
    "duration": 0,
    "start_time": "2024-02-21T19:05:14.413Z"
   },
   {
    "duration": 17,
    "start_time": "2024-02-21T19:06:50.032Z"
   },
   {
    "duration": 1311,
    "start_time": "2024-02-21T19:07:22.149Z"
   },
   {
    "duration": 65,
    "start_time": "2024-02-21T19:07:23.462Z"
   },
   {
    "duration": 7,
    "start_time": "2024-02-21T19:07:23.528Z"
   },
   {
    "duration": 168,
    "start_time": "2024-02-21T19:07:23.537Z"
   },
   {
    "duration": 28,
    "start_time": "2024-02-21T19:07:23.706Z"
   },
   {
    "duration": 53,
    "start_time": "2024-02-21T19:07:23.735Z"
   },
   {
    "duration": 29,
    "start_time": "2024-02-21T19:07:23.789Z"
   },
   {
    "duration": 21,
    "start_time": "2024-02-21T19:07:23.820Z"
   },
   {
    "duration": 38,
    "start_time": "2024-02-21T19:07:23.842Z"
   },
   {
    "duration": 69,
    "start_time": "2024-02-21T19:07:23.882Z"
   },
   {
    "duration": 16,
    "start_time": "2024-02-21T19:07:23.952Z"
   },
   {
    "duration": 131,
    "start_time": "2024-02-21T19:07:23.970Z"
   },
   {
    "duration": 0,
    "start_time": "2024-02-21T19:07:24.103Z"
   },
   {
    "duration": 20,
    "start_time": "2024-02-21T19:08:56.070Z"
   },
   {
    "duration": 1285,
    "start_time": "2024-02-21T19:09:13.755Z"
   },
   {
    "duration": 66,
    "start_time": "2024-02-21T19:09:15.042Z"
   },
   {
    "duration": 8,
    "start_time": "2024-02-21T19:09:15.110Z"
   },
   {
    "duration": 179,
    "start_time": "2024-02-21T19:09:15.121Z"
   },
   {
    "duration": 7,
    "start_time": "2024-02-21T19:09:15.302Z"
   },
   {
    "duration": 55,
    "start_time": "2024-02-21T19:09:15.310Z"
   },
   {
    "duration": 22,
    "start_time": "2024-02-21T19:09:15.367Z"
   },
   {
    "duration": 19,
    "start_time": "2024-02-21T19:09:15.390Z"
   },
   {
    "duration": 57,
    "start_time": "2024-02-21T19:09:15.410Z"
   },
   {
    "duration": 65,
    "start_time": "2024-02-21T19:09:15.469Z"
   },
   {
    "duration": 16,
    "start_time": "2024-02-21T19:09:15.535Z"
   },
   {
    "duration": 120,
    "start_time": "2024-02-21T19:09:15.552Z"
   },
   {
    "duration": 0,
    "start_time": "2024-02-21T19:09:15.673Z"
   },
   {
    "duration": 1276,
    "start_time": "2024-02-21T19:11:15.864Z"
   },
   {
    "duration": 63,
    "start_time": "2024-02-21T19:11:17.142Z"
   },
   {
    "duration": 7,
    "start_time": "2024-02-21T19:11:17.206Z"
   },
   {
    "duration": 176,
    "start_time": "2024-02-21T19:11:17.214Z"
   },
   {
    "duration": 8,
    "start_time": "2024-02-21T19:11:17.391Z"
   },
   {
    "duration": 58,
    "start_time": "2024-02-21T19:11:17.400Z"
   },
   {
    "duration": 18,
    "start_time": "2024-02-21T19:11:17.460Z"
   },
   {
    "duration": 24,
    "start_time": "2024-02-21T19:11:17.480Z"
   },
   {
    "duration": 38,
    "start_time": "2024-02-21T19:11:17.506Z"
   },
   {
    "duration": 38,
    "start_time": "2024-02-21T19:11:17.546Z"
   },
   {
    "duration": 62,
    "start_time": "2024-02-21T19:11:17.585Z"
   },
   {
    "duration": 109,
    "start_time": "2024-02-21T19:11:17.649Z"
   },
   {
    "duration": 0,
    "start_time": "2024-02-21T19:11:17.760Z"
   },
   {
    "duration": 14,
    "start_time": "2024-02-21T19:11:49.362Z"
   },
   {
    "duration": 10,
    "start_time": "2024-02-21T19:12:49.946Z"
   },
   {
    "duration": 1301,
    "start_time": "2024-02-21T19:13:56.099Z"
   },
   {
    "duration": 70,
    "start_time": "2024-02-21T19:13:57.401Z"
   },
   {
    "duration": 6,
    "start_time": "2024-02-21T19:13:57.473Z"
   },
   {
    "duration": 233,
    "start_time": "2024-02-21T19:13:57.480Z"
   },
   {
    "duration": 40,
    "start_time": "2024-02-21T19:13:57.714Z"
   },
   {
    "duration": 84,
    "start_time": "2024-02-21T19:13:57.755Z"
   },
   {
    "duration": 32,
    "start_time": "2024-02-21T19:13:57.845Z"
   },
   {
    "duration": 15,
    "start_time": "2024-02-21T19:13:57.879Z"
   },
   {
    "duration": 35,
    "start_time": "2024-02-21T19:13:57.896Z"
   },
   {
    "duration": 45,
    "start_time": "2024-02-21T19:13:57.936Z"
   },
   {
    "duration": 36,
    "start_time": "2024-02-21T19:13:57.983Z"
   },
   {
    "duration": 61,
    "start_time": "2024-02-21T19:13:58.021Z"
   },
   {
    "duration": 120,
    "start_time": "2024-02-21T19:13:58.084Z"
   },
   {
    "duration": 0,
    "start_time": "2024-02-21T19:13:58.206Z"
   },
   {
    "duration": 18,
    "start_time": "2024-02-21T19:18:08.893Z"
   },
   {
    "duration": 1315,
    "start_time": "2024-02-21T19:29:16.545Z"
   },
   {
    "duration": 66,
    "start_time": "2024-02-21T19:29:17.862Z"
   },
   {
    "duration": 6,
    "start_time": "2024-02-21T19:29:18.454Z"
   },
   {
    "duration": 192,
    "start_time": "2024-02-21T19:29:19.656Z"
   },
   {
    "duration": 12,
    "start_time": "2024-02-21T19:29:25.305Z"
   },
   {
    "duration": 63,
    "start_time": "2024-02-21T19:29:34.730Z"
   },
   {
    "duration": 21,
    "start_time": "2024-02-21T19:29:38.558Z"
   },
   {
    "duration": 15,
    "start_time": "2024-02-21T19:29:43.613Z"
   },
   {
    "duration": 22,
    "start_time": "2024-02-21T19:30:07.029Z"
   },
   {
    "duration": 46,
    "start_time": "2024-02-21T19:30:33.684Z"
   },
   {
    "duration": 17,
    "start_time": "2024-02-21T19:30:38.248Z"
   },
   {
    "duration": 119,
    "start_time": "2024-02-21T19:31:26.533Z"
   },
   {
    "duration": 13,
    "start_time": "2024-02-21T19:32:17.562Z"
   },
   {
    "duration": 15,
    "start_time": "2024-02-21T19:33:59.893Z"
   },
   {
    "duration": 16,
    "start_time": "2024-02-21T19:34:40.242Z"
   },
   {
    "duration": 10,
    "start_time": "2024-02-21T19:34:58.545Z"
   },
   {
    "duration": 16,
    "start_time": "2024-02-21T19:35:59.808Z"
   },
   {
    "duration": 11,
    "start_time": "2024-02-21T19:36:52.833Z"
   },
   {
    "duration": 89,
    "start_time": "2024-02-21T19:38:09.893Z"
   },
   {
    "duration": 11,
    "start_time": "2024-02-21T19:38:23.079Z"
   },
   {
    "duration": 1268,
    "start_time": "2024-02-21T19:39:54.474Z"
   },
   {
    "duration": 64,
    "start_time": "2024-02-21T19:39:55.744Z"
   },
   {
    "duration": 6,
    "start_time": "2024-02-21T19:39:55.906Z"
   },
   {
    "duration": 152,
    "start_time": "2024-02-21T19:39:56.658Z"
   },
   {
    "duration": 11,
    "start_time": "2024-02-21T19:39:58.567Z"
   },
   {
    "duration": 36,
    "start_time": "2024-02-21T19:39:59.549Z"
   },
   {
    "duration": 21,
    "start_time": "2024-02-21T19:40:00.547Z"
   },
   {
    "duration": 16,
    "start_time": "2024-02-21T19:40:02.704Z"
   },
   {
    "duration": 22,
    "start_time": "2024-02-21T19:40:04.453Z"
   },
   {
    "duration": 34,
    "start_time": "2024-02-21T19:40:09.994Z"
   },
   {
    "duration": 12,
    "start_time": "2024-02-21T19:40:18.810Z"
   },
   {
    "duration": 11,
    "start_time": "2024-02-21T19:41:38.342Z"
   },
   {
    "duration": 7,
    "start_time": "2024-02-21T19:43:11.986Z"
   },
   {
    "duration": 8,
    "start_time": "2024-02-21T19:44:28.215Z"
   },
   {
    "duration": 90,
    "start_time": "2024-02-21T19:45:30.757Z"
   },
   {
    "duration": 15,
    "start_time": "2024-02-21T19:46:14.556Z"
   },
   {
    "duration": 1274,
    "start_time": "2024-02-21T19:49:17.392Z"
   },
   {
    "duration": 67,
    "start_time": "2024-02-21T19:49:18.668Z"
   },
   {
    "duration": 8,
    "start_time": "2024-02-21T19:49:22.711Z"
   },
   {
    "duration": 177,
    "start_time": "2024-02-21T19:49:23.725Z"
   },
   {
    "duration": 11,
    "start_time": "2024-02-21T19:49:25.784Z"
   },
   {
    "duration": 36,
    "start_time": "2024-02-21T19:49:26.610Z"
   },
   {
    "duration": 21,
    "start_time": "2024-02-21T19:49:27.533Z"
   },
   {
    "duration": 16,
    "start_time": "2024-02-21T19:49:29.739Z"
   },
   {
    "duration": 19,
    "start_time": "2024-02-21T19:49:35.413Z"
   },
   {
    "duration": 34,
    "start_time": "2024-02-21T19:49:45.464Z"
   },
   {
    "duration": 12,
    "start_time": "2024-02-21T19:50:05.356Z"
   },
   {
    "duration": 13,
    "start_time": "2024-02-21T19:50:45.811Z"
   },
   {
    "duration": 8,
    "start_time": "2024-02-21T19:58:40.113Z"
   },
   {
    "duration": 10,
    "start_time": "2024-02-21T19:59:58.238Z"
   },
   {
    "duration": 8,
    "start_time": "2024-02-21T20:02:23.627Z"
   },
   {
    "duration": 9,
    "start_time": "2024-02-21T20:02:56.859Z"
   },
   {
    "duration": 9,
    "start_time": "2024-02-21T20:03:51.186Z"
   },
   {
    "duration": 7,
    "start_time": "2024-02-21T20:04:22.307Z"
   },
   {
    "duration": 90,
    "start_time": "2024-02-21T20:06:31.282Z"
   },
   {
    "duration": 9,
    "start_time": "2024-02-21T20:06:43.375Z"
   },
   {
    "duration": 13,
    "start_time": "2024-02-21T20:07:02.815Z"
   },
   {
    "duration": 139,
    "start_time": "2024-02-21T20:17:15.661Z"
   },
   {
    "duration": 10,
    "start_time": "2024-02-21T20:17:27.907Z"
   },
   {
    "duration": 1339,
    "start_time": "2024-02-21T20:18:40.910Z"
   },
   {
    "duration": 62,
    "start_time": "2024-02-21T20:18:42.251Z"
   },
   {
    "duration": 6,
    "start_time": "2024-02-21T20:18:42.481Z"
   },
   {
    "duration": 170,
    "start_time": "2024-02-21T20:18:43.073Z"
   },
   {
    "duration": 11,
    "start_time": "2024-02-21T20:18:44.440Z"
   },
   {
    "duration": 34,
    "start_time": "2024-02-21T20:18:45.050Z"
   },
   {
    "duration": 21,
    "start_time": "2024-02-21T20:18:45.733Z"
   },
   {
    "duration": 14,
    "start_time": "2024-02-21T20:18:47.071Z"
   },
   {
    "duration": 20,
    "start_time": "2024-02-21T20:18:48.300Z"
   },
   {
    "duration": 37,
    "start_time": "2024-02-21T20:18:49.502Z"
   },
   {
    "duration": 9,
    "start_time": "2024-02-21T20:18:50.696Z"
   },
   {
    "duration": 8,
    "start_time": "2024-02-21T20:18:52.100Z"
   },
   {
    "duration": 87,
    "start_time": "2024-02-21T20:18:52.704Z"
   },
   {
    "duration": 10,
    "start_time": "2024-02-21T20:18:55.003Z"
   },
   {
    "duration": 125,
    "start_time": "2024-02-21T20:19:00.050Z"
   },
   {
    "duration": 10,
    "start_time": "2024-02-21T20:19:00.646Z"
   },
   {
    "duration": 1266,
    "start_time": "2024-02-21T20:20:37.379Z"
   },
   {
    "duration": 67,
    "start_time": "2024-02-21T20:20:38.647Z"
   },
   {
    "duration": 7,
    "start_time": "2024-02-21T20:20:38.715Z"
   },
   {
    "duration": 173,
    "start_time": "2024-02-21T20:20:38.900Z"
   },
   {
    "duration": 11,
    "start_time": "2024-02-21T20:20:39.943Z"
   },
   {
    "duration": 54,
    "start_time": "2024-02-21T20:20:40.484Z"
   },
   {
    "duration": 21,
    "start_time": "2024-02-21T20:20:40.989Z"
   },
   {
    "duration": 15,
    "start_time": "2024-02-21T20:20:42.084Z"
   },
   {
    "duration": 29,
    "start_time": "2024-02-21T20:20:43.148Z"
   },
   {
    "duration": 36,
    "start_time": "2024-02-21T20:20:44.225Z"
   },
   {
    "duration": 10,
    "start_time": "2024-02-21T20:20:45.957Z"
   },
   {
    "duration": 9,
    "start_time": "2024-02-21T20:20:48.087Z"
   },
   {
    "duration": 88,
    "start_time": "2024-02-21T20:20:49.245Z"
   },
   {
    "duration": 9,
    "start_time": "2024-02-21T20:20:50.267Z"
   },
   {
    "duration": 177,
    "start_time": "2024-02-21T20:21:34.743Z"
   },
   {
    "duration": 9,
    "start_time": "2024-02-21T20:21:40.920Z"
   },
   {
    "duration": 1301,
    "start_time": "2024-02-21T20:23:02.206Z"
   },
   {
    "duration": 64,
    "start_time": "2024-02-21T20:23:03.508Z"
   },
   {
    "duration": 6,
    "start_time": "2024-02-21T20:23:03.573Z"
   },
   {
    "duration": 174,
    "start_time": "2024-02-21T20:23:03.581Z"
   },
   {
    "duration": 10,
    "start_time": "2024-02-21T20:23:03.756Z"
   },
   {
    "duration": 40,
    "start_time": "2024-02-21T20:23:03.767Z"
   },
   {
    "duration": 46,
    "start_time": "2024-02-21T20:23:03.808Z"
   },
   {
    "duration": 15,
    "start_time": "2024-02-21T20:23:03.856Z"
   },
   {
    "duration": 20,
    "start_time": "2024-02-21T20:23:03.872Z"
   },
   {
    "duration": 75,
    "start_time": "2024-02-21T20:23:03.895Z"
   },
   {
    "duration": 12,
    "start_time": "2024-02-21T20:23:03.972Z"
   },
   {
    "duration": 9,
    "start_time": "2024-02-21T20:23:03.985Z"
   },
   {
    "duration": 132,
    "start_time": "2024-02-21T20:23:03.995Z"
   },
   {
    "duration": 14,
    "start_time": "2024-02-21T20:23:04.128Z"
   },
   {
    "duration": 185,
    "start_time": "2024-02-21T20:23:04.144Z"
   },
   {
    "duration": 9,
    "start_time": "2024-02-21T20:23:04.334Z"
   },
   {
    "duration": 19,
    "start_time": "2024-02-21T20:23:04.345Z"
   },
   {
    "duration": 124,
    "start_time": "2024-02-21T20:23:04.366Z"
   },
   {
    "duration": 0,
    "start_time": "2024-02-21T20:23:04.492Z"
   },
   {
    "duration": 1367,
    "start_time": "2024-02-21T20:26:33.023Z"
   },
   {
    "duration": 71,
    "start_time": "2024-02-21T20:26:34.391Z"
   },
   {
    "duration": 6,
    "start_time": "2024-02-21T20:26:34.463Z"
   },
   {
    "duration": 176,
    "start_time": "2024-02-21T20:26:34.626Z"
   },
   {
    "duration": 21,
    "start_time": "2024-02-21T20:26:36.437Z"
   },
   {
    "duration": 32,
    "start_time": "2024-02-21T20:26:37.362Z"
   },
   {
    "duration": 26,
    "start_time": "2024-02-21T20:26:38.127Z"
   },
   {
    "duration": 16,
    "start_time": "2024-02-21T20:26:39.558Z"
   },
   {
    "duration": 22,
    "start_time": "2024-02-21T20:26:40.865Z"
   },
   {
    "duration": 35,
    "start_time": "2024-02-21T20:26:42.088Z"
   },
   {
    "duration": 10,
    "start_time": "2024-02-21T20:26:43.266Z"
   },
   {
    "duration": 8,
    "start_time": "2024-02-21T20:26:48.558Z"
   },
   {
    "duration": 132,
    "start_time": "2024-02-21T20:26:51.167Z"
   },
   {
    "duration": 9,
    "start_time": "2024-02-21T20:27:17.983Z"
   },
   {
    "duration": 23,
    "start_time": "2024-02-21T20:27:25.970Z"
   },
   {
    "duration": 22,
    "start_time": "2024-02-21T20:28:15.053Z"
   },
   {
    "duration": 17,
    "start_time": "2024-02-21T20:28:57.251Z"
   },
   {
    "duration": 10,
    "start_time": "2024-02-21T20:29:16.304Z"
   },
   {
    "duration": 17,
    "start_time": "2024-02-21T20:30:54.086Z"
   },
   {
    "duration": 10,
    "start_time": "2024-02-21T20:31:06.437Z"
   },
   {
    "duration": 24,
    "start_time": "2024-02-21T20:31:11.988Z"
   },
   {
    "duration": 10,
    "start_time": "2024-02-21T20:31:16.757Z"
   },
   {
    "duration": 1246,
    "start_time": "2024-02-21T20:32:32.392Z"
   },
   {
    "duration": 64,
    "start_time": "2024-02-21T20:32:33.640Z"
   },
   {
    "duration": 7,
    "start_time": "2024-02-21T20:32:33.705Z"
   },
   {
    "duration": 157,
    "start_time": "2024-02-21T20:32:34.158Z"
   },
   {
    "duration": 10,
    "start_time": "2024-02-21T20:32:35.552Z"
   },
   {
    "duration": 34,
    "start_time": "2024-02-21T20:32:36.130Z"
   },
   {
    "duration": 22,
    "start_time": "2024-02-21T20:32:36.732Z"
   },
   {
    "duration": 15,
    "start_time": "2024-02-21T20:32:38.327Z"
   },
   {
    "duration": 22,
    "start_time": "2024-02-21T20:32:39.724Z"
   },
   {
    "duration": 43,
    "start_time": "2024-02-21T20:32:41.116Z"
   },
   {
    "duration": 11,
    "start_time": "2024-02-21T20:32:43.978Z"
   },
   {
    "duration": 9,
    "start_time": "2024-02-21T20:32:46.997Z"
   },
   {
    "duration": 89,
    "start_time": "2024-02-21T20:32:47.824Z"
   },
   {
    "duration": 10,
    "start_time": "2024-02-21T20:32:49.418Z"
   },
   {
    "duration": 25,
    "start_time": "2024-02-21T20:32:58.810Z"
   },
   {
    "duration": 18,
    "start_time": "2024-02-21T20:33:52.899Z"
   },
   {
    "duration": 17,
    "start_time": "2024-02-21T20:33:55.490Z"
   },
   {
    "duration": 16,
    "start_time": "2024-02-21T20:33:58.665Z"
   },
   {
    "duration": 1294,
    "start_time": "2024-02-21T20:40:53.074Z"
   },
   {
    "duration": 63,
    "start_time": "2024-02-21T20:40:54.370Z"
   },
   {
    "duration": 6,
    "start_time": "2024-02-21T20:40:54.434Z"
   },
   {
    "duration": 167,
    "start_time": "2024-02-21T20:40:54.442Z"
   },
   {
    "duration": 28,
    "start_time": "2024-02-21T20:40:54.610Z"
   },
   {
    "duration": 48,
    "start_time": "2024-02-21T20:40:54.639Z"
   },
   {
    "duration": 20,
    "start_time": "2024-02-21T20:40:54.688Z"
   },
   {
    "duration": 20,
    "start_time": "2024-02-21T20:40:54.709Z"
   },
   {
    "duration": 19,
    "start_time": "2024-02-21T20:40:54.733Z"
   },
   {
    "duration": 34,
    "start_time": "2024-02-21T20:40:54.754Z"
   },
   {
    "duration": 9,
    "start_time": "2024-02-21T20:40:54.790Z"
   },
   {
    "duration": 22,
    "start_time": "2024-02-21T20:40:54.800Z"
   },
   {
    "duration": 104,
    "start_time": "2024-02-21T20:40:54.832Z"
   },
   {
    "duration": 8,
    "start_time": "2024-02-21T20:40:54.938Z"
   },
   {
    "duration": 35,
    "start_time": "2024-02-21T20:40:54.948Z"
   },
   {
    "duration": 22,
    "start_time": "2024-02-21T20:40:54.985Z"
   },
   {
    "duration": 109,
    "start_time": "2024-02-21T20:40:55.008Z"
   },
   {
    "duration": 0,
    "start_time": "2024-02-21T20:40:55.119Z"
   },
   {
    "duration": 6,
    "start_time": "2024-02-21T20:45:16.281Z"
   },
   {
    "duration": 4,
    "start_time": "2024-02-21T20:45:53.377Z"
   },
   {
    "duration": 5,
    "start_time": "2024-02-21T20:46:15.744Z"
   },
   {
    "duration": 5,
    "start_time": "2024-02-21T20:46:28.000Z"
   },
   {
    "duration": 1586,
    "start_time": "2024-02-22T09:56:20.118Z"
   },
   {
    "duration": 130,
    "start_time": "2024-02-22T09:56:21.706Z"
   },
   {
    "duration": 6,
    "start_time": "2024-02-22T09:56:21.838Z"
   },
   {
    "duration": 157,
    "start_time": "2024-02-22T09:56:21.846Z"
   },
   {
    "duration": 9,
    "start_time": "2024-02-22T09:56:22.005Z"
   },
   {
    "duration": 51,
    "start_time": "2024-02-22T09:56:22.015Z"
   },
   {
    "duration": 26,
    "start_time": "2024-02-22T09:56:22.068Z"
   },
   {
    "duration": 14,
    "start_time": "2024-02-22T09:56:22.095Z"
   },
   {
    "duration": 18,
    "start_time": "2024-02-22T09:56:22.110Z"
   },
   {
    "duration": 33,
    "start_time": "2024-02-22T09:56:22.145Z"
   },
   {
    "duration": 9,
    "start_time": "2024-02-22T09:56:22.179Z"
   },
   {
    "duration": 9,
    "start_time": "2024-02-22T09:56:22.189Z"
   },
   {
    "duration": 104,
    "start_time": "2024-02-22T09:56:22.199Z"
   },
   {
    "duration": 9,
    "start_time": "2024-02-22T09:56:22.305Z"
   },
   {
    "duration": 33,
    "start_time": "2024-02-22T09:56:22.315Z"
   },
   {
    "duration": 15,
    "start_time": "2024-02-22T09:56:22.349Z"
   },
   {
    "duration": 6,
    "start_time": "2024-02-22T09:56:22.365Z"
   },
   {
    "duration": 21,
    "start_time": "2024-02-22T09:56:22.373Z"
   },
   {
    "duration": 120,
    "start_time": "2024-02-22T09:56:22.396Z"
   },
   {
    "duration": 0,
    "start_time": "2024-02-22T09:56:22.517Z"
   },
   {
    "duration": 1205,
    "start_time": "2024-02-22T10:00:09.105Z"
   },
   {
    "duration": 62,
    "start_time": "2024-02-22T10:00:10.312Z"
   },
   {
    "duration": 9,
    "start_time": "2024-02-22T10:00:13.469Z"
   },
   {
    "duration": 6,
    "start_time": "2024-02-22T10:00:51.954Z"
   },
   {
    "duration": 152,
    "start_time": "2024-02-22T10:00:54.512Z"
   },
   {
    "duration": 12,
    "start_time": "2024-02-22T10:03:12.467Z"
   },
   {
    "duration": 33,
    "start_time": "2024-02-22T10:03:17.332Z"
   },
   {
    "duration": 22,
    "start_time": "2024-02-22T10:03:20.312Z"
   },
   {
    "duration": 32,
    "start_time": "2024-02-22T10:03:31.128Z"
   },
   {
    "duration": 20,
    "start_time": "2024-02-22T10:03:39.960Z"
   },
   {
    "duration": 15,
    "start_time": "2024-02-22T10:03:54.753Z"
   },
   {
    "duration": 19,
    "start_time": "2024-02-22T10:04:49.135Z"
   },
   {
    "duration": 11,
    "start_time": "2024-02-22T10:06:42.403Z"
   },
   {
    "duration": 32,
    "start_time": "2024-02-22T10:09:14.755Z"
   },
   {
    "duration": 12,
    "start_time": "2024-02-22T10:09:21.579Z"
   },
   {
    "duration": 1203,
    "start_time": "2024-02-22T10:10:05.095Z"
   },
   {
    "duration": 62,
    "start_time": "2024-02-22T10:10:06.300Z"
   },
   {
    "duration": 5,
    "start_time": "2024-02-22T10:10:06.919Z"
   },
   {
    "duration": 175,
    "start_time": "2024-02-22T10:10:09.449Z"
   },
   {
    "duration": 10,
    "start_time": "2024-02-22T10:10:41.057Z"
   },
   {
    "duration": 31,
    "start_time": "2024-02-22T10:10:43.917Z"
   },
   {
    "duration": 42,
    "start_time": "2024-02-22T10:10:58.584Z"
   },
   {
    "duration": 2,
    "start_time": "2024-02-22T10:20:42.157Z"
   },
   {
    "duration": 41,
    "start_time": "2024-02-22T10:21:11.239Z"
   },
   {
    "duration": 42,
    "start_time": "2024-02-22T10:21:26.673Z"
   },
   {
    "duration": 1339,
    "start_time": "2024-02-22T10:30:46.167Z"
   },
   {
    "duration": 65,
    "start_time": "2024-02-22T10:30:47.509Z"
   },
   {
    "duration": 7,
    "start_time": "2024-02-22T10:30:48.035Z"
   },
   {
    "duration": 169,
    "start_time": "2024-02-22T10:30:49.156Z"
   },
   {
    "duration": 10,
    "start_time": "2024-02-22T10:30:53.513Z"
   },
   {
    "duration": 38,
    "start_time": "2024-02-22T10:30:55.796Z"
   },
   {
    "duration": 21,
    "start_time": "2024-02-22T10:31:01.911Z"
   },
   {
    "duration": 22,
    "start_time": "2024-02-22T10:32:08.601Z"
   },
   {
    "duration": 42,
    "start_time": "2024-02-22T10:38:10.703Z"
   },
   {
    "duration": 103,
    "start_time": "2024-02-22T10:38:49.068Z"
   },
   {
    "duration": 110,
    "start_time": "2024-02-22T10:40:00.500Z"
   },
   {
    "duration": 117,
    "start_time": "2024-02-22T10:42:01.665Z"
   },
   {
    "duration": 111,
    "start_time": "2024-02-22T10:46:01.156Z"
   },
   {
    "duration": 37,
    "start_time": "2024-02-22T10:51:17.328Z"
   },
   {
    "duration": 27,
    "start_time": "2024-02-22T10:51:47.208Z"
   },
   {
    "duration": 20,
    "start_time": "2024-02-22T10:53:20.669Z"
   },
   {
    "duration": 20,
    "start_time": "2024-02-22T10:55:22.420Z"
   },
   {
    "duration": 30,
    "start_time": "2024-02-22T10:57:02.853Z"
   },
   {
    "duration": 35,
    "start_time": "2024-02-22T11:06:43.900Z"
   },
   {
    "duration": 1239,
    "start_time": "2024-02-22T11:13:22.987Z"
   },
   {
    "duration": 62,
    "start_time": "2024-02-22T11:13:24.228Z"
   },
   {
    "duration": 6,
    "start_time": "2024-02-22T11:13:24.648Z"
   },
   {
    "duration": 145,
    "start_time": "2024-02-22T11:13:29.973Z"
   },
   {
    "duration": 10,
    "start_time": "2024-02-22T11:13:33.173Z"
   },
   {
    "duration": 31,
    "start_time": "2024-02-22T11:13:35.958Z"
   },
   {
    "duration": 115,
    "start_time": "2024-02-22T11:13:41.317Z"
   },
   {
    "duration": 52,
    "start_time": "2024-02-22T11:13:44.309Z"
   },
   {
    "duration": 62,
    "start_time": "2024-02-22T11:14:43.453Z"
   },
   {
    "duration": 36,
    "start_time": "2024-02-22T11:14:46.620Z"
   },
   {
    "duration": 60,
    "start_time": "2024-02-22T11:16:57.409Z"
   },
   {
    "duration": 55,
    "start_time": "2024-02-22T11:17:13.314Z"
   },
   {
    "duration": 36,
    "start_time": "2024-02-22T11:17:15.552Z"
   },
   {
    "duration": 1254,
    "start_time": "2024-02-22T11:18:16.613Z"
   },
   {
    "duration": 62,
    "start_time": "2024-02-22T11:18:17.868Z"
   },
   {
    "duration": 6,
    "start_time": "2024-02-22T11:18:18.530Z"
   },
   {
    "duration": 155,
    "start_time": "2024-02-22T11:18:19.349Z"
   },
   {
    "duration": 11,
    "start_time": "2024-02-22T11:18:22.266Z"
   },
   {
    "duration": 32,
    "start_time": "2024-02-22T11:18:23.247Z"
   },
   {
    "duration": 112,
    "start_time": "2024-02-22T11:18:26.642Z"
   },
   {
    "duration": 58,
    "start_time": "2024-02-22T11:18:30.835Z"
   },
   {
    "duration": 42,
    "start_time": "2024-02-22T11:18:33.382Z"
   },
   {
    "duration": 14,
    "start_time": "2024-02-22T11:25:09.381Z"
   },
   {
    "duration": 42,
    "start_time": "2024-02-22T11:25:25.721Z"
   },
   {
    "duration": 10,
    "start_time": "2024-02-22T11:28:57.602Z"
   },
   {
    "duration": 8,
    "start_time": "2024-02-22T11:29:33.891Z"
   },
   {
    "duration": 83,
    "start_time": "2024-02-22T11:29:39.929Z"
   },
   {
    "duration": 9,
    "start_time": "2024-02-22T11:29:42.155Z"
   },
   {
    "duration": 23,
    "start_time": "2024-02-22T11:32:50.638Z"
   },
   {
    "duration": 19,
    "start_time": "2024-02-22T11:33:08.936Z"
   },
   {
    "duration": 80,
    "start_time": "2024-02-22T11:38:53.353Z"
   },
   {
    "duration": 1307,
    "start_time": "2024-02-22T11:39:15.330Z"
   },
   {
    "duration": 72,
    "start_time": "2024-02-22T11:39:16.638Z"
   },
   {
    "duration": 11,
    "start_time": "2024-02-22T11:39:17.547Z"
   },
   {
    "duration": 157,
    "start_time": "2024-02-22T11:39:18.552Z"
   },
   {
    "duration": 10,
    "start_time": "2024-02-22T11:39:22.634Z"
   },
   {
    "duration": 48,
    "start_time": "2024-02-22T11:39:25.013Z"
   },
   {
    "duration": 126,
    "start_time": "2024-02-22T11:39:36.109Z"
   },
   {
    "duration": 57,
    "start_time": "2024-02-22T11:39:38.029Z"
   },
   {
    "duration": 56,
    "start_time": "2024-02-22T11:39:43.654Z"
   },
   {
    "duration": 14,
    "start_time": "2024-02-22T11:40:12.382Z"
   },
   {
    "duration": 47,
    "start_time": "2024-02-22T11:40:20.893Z"
   },
   {
    "duration": 56,
    "start_time": "2024-02-22T11:41:31.472Z"
   },
   {
    "duration": 36,
    "start_time": "2024-02-22T11:41:44.397Z"
   },
   {
    "duration": 80,
    "start_time": "2024-02-22T11:44:31.484Z"
   },
   {
    "duration": 36,
    "start_time": "2024-02-22T11:44:37.316Z"
   },
   {
    "duration": 1291,
    "start_time": "2024-02-22T11:45:10.233Z"
   },
   {
    "duration": 61,
    "start_time": "2024-02-22T11:45:11.526Z"
   },
   {
    "duration": 6,
    "start_time": "2024-02-22T11:45:12.273Z"
   },
   {
    "duration": 149,
    "start_time": "2024-02-22T11:45:13.169Z"
   },
   {
    "duration": 11,
    "start_time": "2024-02-22T11:45:15.938Z"
   },
   {
    "duration": 31,
    "start_time": "2024-02-22T11:45:16.920Z"
   },
   {
    "duration": 109,
    "start_time": "2024-02-22T11:45:24.256Z"
   },
   {
    "duration": 77,
    "start_time": "2024-02-22T11:45:31.178Z"
   },
   {
    "duration": 39,
    "start_time": "2024-02-22T11:45:32.629Z"
   },
   {
    "duration": 14,
    "start_time": "2024-02-22T11:45:42.603Z"
   },
   {
    "duration": 121,
    "start_time": "2024-02-22T11:45:47.195Z"
   },
   {
    "duration": 11,
    "start_time": "2024-02-22T11:46:33.778Z"
   },
   {
    "duration": 12,
    "start_time": "2024-02-22T11:46:47.827Z"
   },
   {
    "duration": 99,
    "start_time": "2024-02-22T11:46:55.697Z"
   },
   {
    "duration": 10,
    "start_time": "2024-02-22T11:46:57.952Z"
   },
   {
    "duration": 33,
    "start_time": "2024-02-22T11:47:18.770Z"
   },
   {
    "duration": 31,
    "start_time": "2024-02-22T11:47:20.293Z"
   },
   {
    "duration": 12,
    "start_time": "2024-02-22T11:49:32.158Z"
   },
   {
    "duration": 20,
    "start_time": "2024-02-22T11:52:06.195Z"
   },
   {
    "duration": 11,
    "start_time": "2024-02-22T11:52:54.443Z"
   },
   {
    "duration": 9,
    "start_time": "2024-02-22T12:11:18.822Z"
   },
   {
    "duration": 8,
    "start_time": "2024-02-22T12:13:28.060Z"
   },
   {
    "duration": 11,
    "start_time": "2024-02-22T12:14:33.412Z"
   },
   {
    "duration": 11,
    "start_time": "2024-02-22T12:15:56.746Z"
   },
   {
    "duration": 11,
    "start_time": "2024-02-22T12:18:55.728Z"
   },
   {
    "duration": 1274,
    "start_time": "2024-02-22T12:21:28.529Z"
   },
   {
    "duration": 62,
    "start_time": "2024-02-22T12:21:29.805Z"
   },
   {
    "duration": 6,
    "start_time": "2024-02-22T12:21:31.607Z"
   },
   {
    "duration": 138,
    "start_time": "2024-02-22T12:21:32.359Z"
   },
   {
    "duration": 10,
    "start_time": "2024-02-22T12:21:35.201Z"
   },
   {
    "duration": 30,
    "start_time": "2024-02-22T12:21:36.003Z"
   },
   {
    "duration": 107,
    "start_time": "2024-02-22T12:21:37.915Z"
   },
   {
    "duration": 58,
    "start_time": "2024-02-22T12:21:39.645Z"
   },
   {
    "duration": 38,
    "start_time": "2024-02-22T12:21:40.972Z"
   },
   {
    "duration": 13,
    "start_time": "2024-02-22T12:21:46.940Z"
   },
   {
    "duration": 83,
    "start_time": "2024-02-22T12:21:48.652Z"
   },
   {
    "duration": 10,
    "start_time": "2024-02-22T12:22:03.134Z"
   },
   {
    "duration": 7,
    "start_time": "2024-02-22T12:22:17.071Z"
   },
   {
    "duration": 81,
    "start_time": "2024-02-22T12:22:19.133Z"
   },
   {
    "duration": 9,
    "start_time": "2024-02-22T12:22:20.029Z"
   },
   {
    "duration": 23,
    "start_time": "2024-02-22T12:22:36.838Z"
   },
   {
    "duration": 10,
    "start_time": "2024-02-22T12:22:42.646Z"
   },
   {
    "duration": 10,
    "start_time": "2024-02-22T12:22:50.288Z"
   },
   {
    "duration": 21,
    "start_time": "2024-02-22T12:22:51.975Z"
   },
   {
    "duration": 11,
    "start_time": "2024-02-22T12:24:00.164Z"
   },
   {
    "duration": 8,
    "start_time": "2024-02-22T12:24:13.506Z"
   },
   {
    "duration": 76,
    "start_time": "2024-02-22T12:26:55.264Z"
   },
   {
    "duration": 71,
    "start_time": "2024-02-22T12:27:52.992Z"
   },
   {
    "duration": 75,
    "start_time": "2024-02-22T12:28:34.302Z"
   },
   {
    "duration": 81,
    "start_time": "2024-02-22T12:30:43.245Z"
   },
   {
    "duration": 15,
    "start_time": "2024-02-22T12:33:23.769Z"
   },
   {
    "duration": 18,
    "start_time": "2024-02-22T12:43:25.632Z"
   },
   {
    "duration": 10,
    "start_time": "2024-02-22T12:46:44.948Z"
   },
   {
    "duration": 15,
    "start_time": "2024-02-22T12:47:32.219Z"
   },
   {
    "duration": 106,
    "start_time": "2024-02-22T12:49:20.217Z"
   },
   {
    "duration": 15,
    "start_time": "2024-02-22T12:55:48.964Z"
   },
   {
    "duration": 14,
    "start_time": "2024-02-22T12:56:52.058Z"
   },
   {
    "duration": 22,
    "start_time": "2024-02-22T12:57:00.121Z"
   },
   {
    "duration": 35,
    "start_time": "2024-02-22T12:57:58.421Z"
   },
   {
    "duration": 1242,
    "start_time": "2024-02-22T12:58:21.251Z"
   },
   {
    "duration": 62,
    "start_time": "2024-02-22T12:58:22.494Z"
   },
   {
    "duration": 5,
    "start_time": "2024-02-22T12:58:22.563Z"
   },
   {
    "duration": 153,
    "start_time": "2024-02-22T12:58:23.377Z"
   },
   {
    "duration": 22,
    "start_time": "2024-02-22T12:58:27.427Z"
   },
   {
    "duration": 9,
    "start_time": "2024-02-22T12:59:55.865Z"
   },
   {
    "duration": 31,
    "start_time": "2024-02-22T13:00:26.739Z"
   },
   {
    "duration": 107,
    "start_time": "2024-02-22T13:00:33.863Z"
   },
   {
    "duration": 58,
    "start_time": "2024-02-22T13:00:43.388Z"
   },
   {
    "duration": 47,
    "start_time": "2024-02-22T13:00:45.530Z"
   },
   {
    "duration": 13,
    "start_time": "2024-02-22T13:01:20.439Z"
   },
   {
    "duration": 82,
    "start_time": "2024-02-22T13:01:29.047Z"
   },
   {
    "duration": 10,
    "start_time": "2024-02-22T13:01:44.236Z"
   },
   {
    "duration": 8,
    "start_time": "2024-02-22T13:02:04.589Z"
   },
   {
    "duration": 86,
    "start_time": "2024-02-22T13:02:08.266Z"
   },
   {
    "duration": 11,
    "start_time": "2024-02-22T13:02:13.502Z"
   },
   {
    "duration": 22,
    "start_time": "2024-02-22T13:02:24.288Z"
   },
   {
    "duration": 11,
    "start_time": "2024-02-22T13:02:30.164Z"
   },
   {
    "duration": 10,
    "start_time": "2024-02-22T13:02:40.064Z"
   },
   {
    "duration": 21,
    "start_time": "2024-02-22T13:02:41.042Z"
   },
   {
    "duration": 10,
    "start_time": "2024-02-22T13:03:21.578Z"
   },
   {
    "duration": 83,
    "start_time": "2024-02-22T13:03:28.291Z"
   },
   {
    "duration": 66,
    "start_time": "2024-02-22T13:04:02.442Z"
   },
   {
    "duration": 90,
    "start_time": "2024-02-22T13:04:31.977Z"
   },
   {
    "duration": 81,
    "start_time": "2024-02-22T13:05:15.913Z"
   },
   {
    "duration": 18,
    "start_time": "2024-02-22T13:05:37.123Z"
   },
   {
    "duration": 15,
    "start_time": "2024-02-22T13:06:38.063Z"
   },
   {
    "duration": 5,
    "start_time": "2024-02-22T13:53:18.692Z"
   },
   {
    "duration": 15,
    "start_time": "2024-02-22T13:55:33.048Z"
   },
   {
    "duration": 1257,
    "start_time": "2024-02-22T14:08:53.722Z"
   },
   {
    "duration": 63,
    "start_time": "2024-02-22T14:08:54.980Z"
   },
   {
    "duration": 5,
    "start_time": "2024-02-22T14:08:55.126Z"
   },
   {
    "duration": 151,
    "start_time": "2024-02-22T14:08:56.145Z"
   },
   {
    "duration": 22,
    "start_time": "2024-02-22T14:09:00.025Z"
   },
   {
    "duration": 32,
    "start_time": "2024-02-22T14:09:05.353Z"
   },
   {
    "duration": 16,
    "start_time": "2024-02-22T14:09:08.887Z"
   },
   {
    "duration": 106,
    "start_time": "2024-02-22T14:09:16.831Z"
   },
   {
    "duration": 4,
    "start_time": "2024-02-22T14:09:41.920Z"
   },
   {
    "duration": 131,
    "start_time": "2024-02-22T14:10:19.334Z"
   },
   {
    "duration": 80,
    "start_time": "2024-02-22T14:10:23.413Z"
   },
   {
    "duration": 38,
    "start_time": "2024-02-22T14:10:24.708Z"
   },
   {
    "duration": 16,
    "start_time": "2024-02-22T14:10:31.086Z"
   },
   {
    "duration": 10,
    "start_time": "2024-02-22T14:10:59.124Z"
   },
   {
    "duration": 8,
    "start_time": "2024-02-22T14:11:15.232Z"
   },
   {
    "duration": 84,
    "start_time": "2024-02-22T14:11:16.430Z"
   },
   {
    "duration": 10,
    "start_time": "2024-02-22T14:11:20.967Z"
   },
   {
    "duration": 25,
    "start_time": "2024-02-22T14:11:25.084Z"
   },
   {
    "duration": 12,
    "start_time": "2024-02-22T14:11:30.734Z"
   },
   {
    "duration": 11,
    "start_time": "2024-02-22T14:11:38.107Z"
   },
   {
    "duration": 20,
    "start_time": "2024-02-22T14:11:38.985Z"
   },
   {
    "duration": 10,
    "start_time": "2024-02-22T14:11:58.246Z"
   },
   {
    "duration": 82,
    "start_time": "2024-02-22T14:12:01.620Z"
   },
   {
    "duration": 17,
    "start_time": "2024-02-22T14:12:09.369Z"
   },
   {
    "duration": 98,
    "start_time": "2024-02-22T14:13:02.120Z"
   },
   {
    "duration": 2,
    "start_time": "2024-02-22T14:22:05.028Z"
   },
   {
    "duration": 105,
    "start_time": "2024-02-22T14:31:47.303Z"
   },
   {
    "duration": 115,
    "start_time": "2024-02-22T14:35:18.596Z"
   },
   {
    "duration": 54,
    "start_time": "2024-02-22T14:35:20.348Z"
   },
   {
    "duration": 1253,
    "start_time": "2024-02-22T14:35:33.751Z"
   },
   {
    "duration": 62,
    "start_time": "2024-02-22T14:35:35.005Z"
   },
   {
    "duration": 6,
    "start_time": "2024-02-22T14:35:35.104Z"
   },
   {
    "duration": 140,
    "start_time": "2024-02-22T14:35:35.884Z"
   },
   {
    "duration": 22,
    "start_time": "2024-02-22T14:35:39.044Z"
   },
   {
    "duration": 30,
    "start_time": "2024-02-22T14:35:43.751Z"
   },
   {
    "duration": 15,
    "start_time": "2024-02-22T14:35:48.340Z"
   },
   {
    "duration": 104,
    "start_time": "2024-02-22T14:35:55.652Z"
   },
   {
    "duration": 112,
    "start_time": "2024-02-22T14:36:03.730Z"
   },
   {
    "duration": 55,
    "start_time": "2024-02-22T14:36:07.528Z"
   },
   {
    "duration": 39,
    "start_time": "2024-02-22T14:36:08.579Z"
   },
   {
    "duration": 16,
    "start_time": "2024-02-22T14:36:11.644Z"
   },
   {
    "duration": 10,
    "start_time": "2024-02-22T14:36:19.075Z"
   },
   {
    "duration": 9,
    "start_time": "2024-02-22T14:36:25.589Z"
   },
   {
    "duration": 81,
    "start_time": "2024-02-22T14:36:27.050Z"
   },
   {
    "duration": 10,
    "start_time": "2024-02-22T14:36:27.943Z"
   },
   {
    "duration": 109,
    "start_time": "2024-02-22T14:37:38.376Z"
   },
   {
    "duration": 36,
    "start_time": "2024-02-22T14:38:54.120Z"
   },
   {
    "duration": 22,
    "start_time": "2024-02-22T14:40:25.021Z"
   },
   {
    "duration": 97,
    "start_time": "2024-02-22T14:42:03.875Z"
   },
   {
    "duration": 14,
    "start_time": "2024-02-22T14:42:12.314Z"
   },
   {
    "duration": 14,
    "start_time": "2024-02-22T14:45:47.757Z"
   },
   {
    "duration": 1212,
    "start_time": "2024-02-22T14:46:19.999Z"
   },
   {
    "duration": 61,
    "start_time": "2024-02-22T14:46:21.550Z"
   },
   {
    "duration": 6,
    "start_time": "2024-02-22T14:46:22.352Z"
   },
   {
    "duration": 141,
    "start_time": "2024-02-22T14:46:23.181Z"
   },
   {
    "duration": 22,
    "start_time": "2024-02-22T14:46:27.527Z"
   },
   {
    "duration": 30,
    "start_time": "2024-02-22T14:46:33.937Z"
   },
   {
    "duration": 14,
    "start_time": "2024-02-22T14:46:41.951Z"
   },
   {
    "duration": 107,
    "start_time": "2024-02-22T14:46:48.701Z"
   },
   {
    "duration": 108,
    "start_time": "2024-02-22T14:47:05.095Z"
   },
   {
    "duration": 56,
    "start_time": "2024-02-22T14:47:15.201Z"
   },
   {
    "duration": 49,
    "start_time": "2024-02-22T14:47:17.389Z"
   },
   {
    "duration": 14,
    "start_time": "2024-02-22T14:48:05.807Z"
   },
   {
    "duration": 9,
    "start_time": "2024-02-22T14:48:18.809Z"
   },
   {
    "duration": 8,
    "start_time": "2024-02-22T14:48:23.371Z"
   },
   {
    "duration": 83,
    "start_time": "2024-02-22T14:48:28.251Z"
   },
   {
    "duration": 10,
    "start_time": "2024-02-22T14:48:30.445Z"
   },
   {
    "duration": 15,
    "start_time": "2024-02-22T14:48:36.972Z"
   },
   {
    "duration": 1243,
    "start_time": "2024-02-22T14:53:21.070Z"
   },
   {
    "duration": 61,
    "start_time": "2024-02-22T14:53:22.652Z"
   },
   {
    "duration": 6,
    "start_time": "2024-02-22T14:53:23.579Z"
   },
   {
    "duration": 148,
    "start_time": "2024-02-22T14:53:24.324Z"
   },
   {
    "duration": 34,
    "start_time": "2024-02-22T14:53:27.213Z"
   },
   {
    "duration": 31,
    "start_time": "2024-02-22T14:53:28.657Z"
   },
   {
    "duration": 15,
    "start_time": "2024-02-22T14:53:29.353Z"
   },
   {
    "duration": 116,
    "start_time": "2024-02-22T14:53:33.059Z"
   },
   {
    "duration": 115,
    "start_time": "2024-02-22T14:53:44.230Z"
   },
   {
    "duration": 55,
    "start_time": "2024-02-22T14:53:46.069Z"
   },
   {
    "duration": 38,
    "start_time": "2024-02-22T14:53:48.405Z"
   },
   {
    "duration": 13,
    "start_time": "2024-02-22T14:53:50.730Z"
   },
   {
    "duration": 9,
    "start_time": "2024-02-22T14:53:52.267Z"
   },
   {
    "duration": 8,
    "start_time": "2024-02-22T14:53:56.949Z"
   },
   {
    "duration": 83,
    "start_time": "2024-02-22T14:53:57.876Z"
   },
   {
    "duration": 10,
    "start_time": "2024-02-22T14:53:59.331Z"
   },
   {
    "duration": 14,
    "start_time": "2024-02-22T14:54:03.829Z"
   },
   {
    "duration": 24,
    "start_time": "2024-02-22T14:58:05.039Z"
   },
   {
    "duration": 9,
    "start_time": "2024-02-22T14:58:06.944Z"
   },
   {
    "duration": 10,
    "start_time": "2024-02-22T14:58:29.989Z"
   },
   {
    "duration": 22,
    "start_time": "2024-02-22T14:58:38.952Z"
   },
   {
    "duration": 10,
    "start_time": "2024-02-22T14:58:54.842Z"
   },
   {
    "duration": 86,
    "start_time": "2024-02-22T14:59:07.212Z"
   },
   {
    "duration": 18,
    "start_time": "2024-02-22T14:59:29.772Z"
   },
   {
    "duration": 15,
    "start_time": "2024-02-22T15:00:14.252Z"
   },
   {
    "duration": 118,
    "start_time": "2024-02-22T16:22:41.950Z"
   },
   {
    "duration": 150,
    "start_time": "2024-02-22T16:23:03.342Z"
   },
   {
    "duration": 1323,
    "start_time": "2024-02-22T16:24:32.141Z"
   },
   {
    "duration": 63,
    "start_time": "2024-02-22T16:24:33.466Z"
   },
   {
    "duration": 6,
    "start_time": "2024-02-22T16:24:33.530Z"
   },
   {
    "duration": 157,
    "start_time": "2024-02-22T16:24:33.538Z"
   },
   {
    "duration": 21,
    "start_time": "2024-02-22T16:24:33.696Z"
   },
   {
    "duration": 52,
    "start_time": "2024-02-22T16:24:33.718Z"
   },
   {
    "duration": 15,
    "start_time": "2024-02-22T16:24:33.771Z"
   },
   {
    "duration": 128,
    "start_time": "2024-02-22T16:24:33.787Z"
   },
   {
    "duration": 119,
    "start_time": "2024-02-22T16:24:33.916Z"
   },
   {
    "duration": 62,
    "start_time": "2024-02-22T16:24:34.037Z"
   },
   {
    "duration": 71,
    "start_time": "2024-02-22T16:24:34.100Z"
   },
   {
    "duration": 13,
    "start_time": "2024-02-22T16:24:34.173Z"
   },
   {
    "duration": 63,
    "start_time": "2024-02-22T16:24:34.188Z"
   },
   {
    "duration": 39,
    "start_time": "2024-02-22T16:24:34.252Z"
   },
   {
    "duration": 125,
    "start_time": "2024-02-22T16:24:34.292Z"
   },
   {
    "duration": 9,
    "start_time": "2024-02-22T16:24:34.419Z"
   },
   {
    "duration": 31,
    "start_time": "2024-02-22T16:24:34.429Z"
   },
   {
    "duration": 37,
    "start_time": "2024-02-22T16:24:34.462Z"
   },
   {
    "duration": 12,
    "start_time": "2024-02-22T16:24:34.501Z"
   },
   {
    "duration": 27,
    "start_time": "2024-02-22T16:24:34.514Z"
   },
   {
    "duration": 58,
    "start_time": "2024-02-22T16:24:34.542Z"
   },
   {
    "duration": 16,
    "start_time": "2024-02-22T16:24:34.601Z"
   },
   {
    "duration": 97,
    "start_time": "2024-02-22T16:24:34.618Z"
   },
   {
    "duration": 17,
    "start_time": "2024-02-22T16:24:34.717Z"
   },
   {
    "duration": 15,
    "start_time": "2024-02-22T16:24:34.745Z"
   },
   {
    "duration": 158,
    "start_time": "2024-02-22T16:24:34.761Z"
   },
   {
    "duration": 4,
    "start_time": "2024-02-22T16:24:34.920Z"
   },
   {
    "duration": 23,
    "start_time": "2024-02-22T16:24:34.927Z"
   },
   {
    "duration": 32,
    "start_time": "2024-02-22T16:24:34.951Z"
   },
   {
    "duration": 1289,
    "start_time": "2024-02-22T16:26:04.288Z"
   },
   {
    "duration": 62,
    "start_time": "2024-02-22T16:26:05.579Z"
   },
   {
    "duration": 6,
    "start_time": "2024-02-22T16:26:05.642Z"
   },
   {
    "duration": 165,
    "start_time": "2024-02-22T16:26:05.649Z"
   },
   {
    "duration": 33,
    "start_time": "2024-02-22T16:26:05.816Z"
   },
   {
    "duration": 30,
    "start_time": "2024-02-22T16:26:05.850Z"
   },
   {
    "duration": 43,
    "start_time": "2024-02-22T16:26:05.881Z"
   },
   {
    "duration": 119,
    "start_time": "2024-02-22T16:26:05.926Z"
   },
   {
    "duration": 113,
    "start_time": "2024-02-22T16:26:06.046Z"
   },
   {
    "duration": 56,
    "start_time": "2024-02-22T16:26:06.161Z"
   },
   {
    "duration": 31,
    "start_time": "2024-02-22T16:26:06.219Z"
   },
   {
    "duration": 38,
    "start_time": "2024-02-22T16:26:06.252Z"
   },
   {
    "duration": 13,
    "start_time": "2024-02-22T16:26:06.291Z"
   },
   {
    "duration": 10,
    "start_time": "2024-02-22T16:26:06.307Z"
   },
   {
    "duration": 27,
    "start_time": "2024-02-22T16:26:06.318Z"
   },
   {
    "duration": 86,
    "start_time": "2024-02-22T16:26:06.347Z"
   },
   {
    "duration": 10,
    "start_time": "2024-02-22T16:26:06.444Z"
   },
   {
    "duration": 15,
    "start_time": "2024-02-22T16:26:06.456Z"
   },
   {
    "duration": 27,
    "start_time": "2024-02-22T16:26:06.473Z"
   },
   {
    "duration": 10,
    "start_time": "2024-02-22T16:26:06.502Z"
   },
   {
    "duration": 38,
    "start_time": "2024-02-22T16:26:06.514Z"
   },
   {
    "duration": 20,
    "start_time": "2024-02-22T16:26:06.554Z"
   },
   {
    "duration": 10,
    "start_time": "2024-02-22T16:26:06.575Z"
   },
   {
    "duration": 113,
    "start_time": "2024-02-22T16:26:06.586Z"
   },
   {
    "duration": 16,
    "start_time": "2024-02-22T16:26:06.700Z"
   },
   {
    "duration": 13,
    "start_time": "2024-02-22T16:26:06.718Z"
   },
   {
    "duration": 133,
    "start_time": "2024-02-22T16:26:06.744Z"
   },
   {
    "duration": 4,
    "start_time": "2024-02-22T16:26:06.878Z"
   },
   {
    "duration": 14,
    "start_time": "2024-02-22T16:26:06.883Z"
   },
   {
    "duration": 17,
    "start_time": "2024-02-22T16:26:06.898Z"
   },
   {
    "duration": 1277,
    "start_time": "2024-02-22T16:27:04.635Z"
   },
   {
    "duration": 62,
    "start_time": "2024-02-22T16:27:05.914Z"
   },
   {
    "duration": 57,
    "start_time": "2024-02-22T16:27:05.977Z"
   },
   {
    "duration": 341,
    "start_time": "2024-02-22T16:27:06.036Z"
   },
   {
    "duration": 21,
    "start_time": "2024-02-22T16:27:06.379Z"
   },
   {
    "duration": 46,
    "start_time": "2024-02-22T16:27:06.402Z"
   },
   {
    "duration": 56,
    "start_time": "2024-02-22T16:27:06.449Z"
   },
   {
    "duration": 121,
    "start_time": "2024-02-22T16:27:06.506Z"
   },
   {
    "duration": 116,
    "start_time": "2024-02-22T16:27:06.629Z"
   },
   {
    "duration": 25,
    "start_time": "2024-02-22T16:27:06.746Z"
   },
   {
    "duration": 79,
    "start_time": "2024-02-22T16:27:06.772Z"
   },
   {
    "duration": 13,
    "start_time": "2024-02-22T16:27:06.853Z"
   },
   {
    "duration": 54,
    "start_time": "2024-02-22T16:27:06.867Z"
   },
   {
    "duration": 13,
    "start_time": "2024-02-22T16:27:06.923Z"
   },
   {
    "duration": 29,
    "start_time": "2024-02-22T16:27:06.937Z"
   },
   {
    "duration": 11,
    "start_time": "2024-02-22T16:27:06.967Z"
   },
   {
    "duration": 90,
    "start_time": "2024-02-22T16:27:06.980Z"
   },
   {
    "duration": 9,
    "start_time": "2024-02-22T16:27:07.071Z"
   },
   {
    "duration": 124,
    "start_time": "2024-02-22T16:27:07.081Z"
   },
   {
    "duration": 148,
    "start_time": "2024-02-22T16:27:07.206Z"
   },
   {
    "duration": 123,
    "start_time": "2024-02-22T16:27:07.356Z"
   },
   {
    "duration": 10,
    "start_time": "2024-02-22T16:27:07.480Z"
   },
   {
    "duration": 22,
    "start_time": "2024-02-22T16:27:07.492Z"
   },
   {
    "duration": 10,
    "start_time": "2024-02-22T16:27:07.515Z"
   },
   {
    "duration": 78,
    "start_time": "2024-02-22T16:27:07.526Z"
   },
   {
    "duration": 16,
    "start_time": "2024-02-22T16:27:07.605Z"
   },
   {
    "duration": 22,
    "start_time": "2024-02-22T16:27:07.623Z"
   },
   {
    "duration": 136,
    "start_time": "2024-02-22T16:27:07.647Z"
   },
   {
    "duration": 4,
    "start_time": "2024-02-22T16:27:07.784Z"
   },
   {
    "duration": 12,
    "start_time": "2024-02-22T16:27:07.789Z"
   },
   {
    "duration": 22,
    "start_time": "2024-02-22T16:27:07.802Z"
   },
   {
    "duration": 1171,
    "start_time": "2024-02-22T16:28:08.336Z"
   },
   {
    "duration": 1217,
    "start_time": "2024-02-22T16:28:31.978Z"
   },
   {
    "duration": 63,
    "start_time": "2024-02-22T16:28:33.196Z"
   },
   {
    "duration": 6,
    "start_time": "2024-02-22T16:28:33.260Z"
   },
   {
    "duration": 176,
    "start_time": "2024-02-22T16:28:33.268Z"
   },
   {
    "duration": 27,
    "start_time": "2024-02-22T16:28:33.446Z"
   },
   {
    "duration": 30,
    "start_time": "2024-02-22T16:28:33.475Z"
   },
   {
    "duration": 17,
    "start_time": "2024-02-22T16:28:33.506Z"
   },
   {
    "duration": 137,
    "start_time": "2024-02-22T16:28:33.524Z"
   },
   {
    "duration": 117,
    "start_time": "2024-02-22T16:28:33.662Z"
   },
   {
    "duration": 19,
    "start_time": "2024-02-22T16:28:33.782Z"
   },
   {
    "duration": 92,
    "start_time": "2024-02-22T16:28:33.803Z"
   },
   {
    "duration": 14,
    "start_time": "2024-02-22T16:28:33.897Z"
   },
   {
    "duration": 50,
    "start_time": "2024-02-22T16:28:33.912Z"
   },
   {
    "duration": 12,
    "start_time": "2024-02-22T16:28:33.964Z"
   },
   {
    "duration": 18,
    "start_time": "2024-02-22T16:28:33.978Z"
   },
   {
    "duration": 15,
    "start_time": "2024-02-22T16:28:33.998Z"
   },
   {
    "duration": 89,
    "start_time": "2024-02-22T16:28:34.015Z"
   },
   {
    "duration": 9,
    "start_time": "2024-02-22T16:28:34.105Z"
   },
   {
    "duration": 14,
    "start_time": "2024-02-22T16:28:34.115Z"
   },
   {
    "duration": 35,
    "start_time": "2024-02-22T16:28:34.130Z"
   },
   {
    "duration": 9,
    "start_time": "2024-02-22T16:28:34.167Z"
   },
   {
    "duration": 26,
    "start_time": "2024-02-22T16:28:34.177Z"
   },
   {
    "duration": 23,
    "start_time": "2024-02-22T16:28:34.205Z"
   },
   {
    "duration": 9,
    "start_time": "2024-02-22T16:28:34.229Z"
   },
   {
    "duration": 85,
    "start_time": "2024-02-22T16:28:34.239Z"
   },
   {
    "duration": 25,
    "start_time": "2024-02-22T16:28:34.326Z"
   },
   {
    "duration": 14,
    "start_time": "2024-02-22T16:28:34.352Z"
   },
   {
    "duration": 137,
    "start_time": "2024-02-22T16:28:34.368Z"
   },
   {
    "duration": 5,
    "start_time": "2024-02-22T16:28:34.506Z"
   },
   {
    "duration": 5,
    "start_time": "2024-02-22T16:28:34.512Z"
   },
   {
    "duration": 34,
    "start_time": "2024-02-22T16:28:34.518Z"
   },
   {
    "duration": 1275,
    "start_time": "2024-02-22T16:33:05.832Z"
   },
   {
    "duration": 63,
    "start_time": "2024-02-22T16:33:07.109Z"
   },
   {
    "duration": 7,
    "start_time": "2024-02-22T16:33:07.174Z"
   },
   {
    "duration": 192,
    "start_time": "2024-02-22T16:33:07.182Z"
   },
   {
    "duration": 21,
    "start_time": "2024-02-22T16:33:07.376Z"
   },
   {
    "duration": 52,
    "start_time": "2024-02-22T16:33:07.399Z"
   },
   {
    "duration": 16,
    "start_time": "2024-02-22T16:33:07.452Z"
   },
   {
    "duration": 144,
    "start_time": "2024-02-22T16:33:07.469Z"
   },
   {
    "duration": 119,
    "start_time": "2024-02-22T16:33:07.615Z"
   },
   {
    "duration": 15,
    "start_time": "2024-02-22T16:33:07.736Z"
   },
   {
    "duration": 79,
    "start_time": "2024-02-22T16:33:07.753Z"
   },
   {
    "duration": 13,
    "start_time": "2024-02-22T16:33:07.833Z"
   },
   {
    "duration": 80,
    "start_time": "2024-02-22T16:33:07.847Z"
   },
   {
    "duration": 12,
    "start_time": "2024-02-22T16:33:07.930Z"
   },
   {
    "duration": 60,
    "start_time": "2024-02-22T16:33:07.944Z"
   },
   {
    "duration": 38,
    "start_time": "2024-02-22T16:33:08.005Z"
   },
   {
    "duration": 102,
    "start_time": "2024-02-22T16:33:08.044Z"
   },
   {
    "duration": 10,
    "start_time": "2024-02-22T16:33:08.148Z"
   },
   {
    "duration": 35,
    "start_time": "2024-02-22T16:33:08.159Z"
   },
   {
    "duration": 45,
    "start_time": "2024-02-22T16:33:08.196Z"
   },
   {
    "duration": 49,
    "start_time": "2024-02-22T16:33:08.243Z"
   },
   {
    "duration": 23,
    "start_time": "2024-02-22T16:33:08.294Z"
   },
   {
    "duration": 46,
    "start_time": "2024-02-22T16:33:08.318Z"
   },
   {
    "duration": 14,
    "start_time": "2024-02-22T16:33:08.365Z"
   },
   {
    "duration": 100,
    "start_time": "2024-02-22T16:33:08.380Z"
   },
   {
    "duration": 15,
    "start_time": "2024-02-22T16:33:08.481Z"
   },
   {
    "duration": 13,
    "start_time": "2024-02-22T16:33:08.497Z"
   },
   {
    "duration": 112,
    "start_time": "2024-02-22T16:33:08.511Z"
   },
   {
    "duration": 4,
    "start_time": "2024-02-22T16:33:08.624Z"
   },
   {
    "duration": 18,
    "start_time": "2024-02-22T16:33:08.629Z"
   },
   {
    "duration": 34,
    "start_time": "2024-02-22T16:33:08.648Z"
   },
   {
    "duration": 16,
    "start_time": "2024-02-22T16:36:20.624Z"
   },
   {
    "duration": 14,
    "start_time": "2024-02-22T16:37:20.768Z"
   },
   {
    "duration": 27,
    "start_time": "2024-02-22T16:37:30.166Z"
   },
   {
    "duration": 23,
    "start_time": "2024-02-22T16:37:46.118Z"
   },
   {
    "duration": 15,
    "start_time": "2024-02-22T16:38:27.175Z"
   },
   {
    "duration": 8,
    "start_time": "2024-02-22T16:42:14.491Z"
   },
   {
    "duration": 7,
    "start_time": "2024-02-22T16:42:46.507Z"
   },
   {
    "duration": 1225,
    "start_time": "2024-02-22T16:45:46.374Z"
   },
   {
    "duration": 1092,
    "start_time": "2024-02-22T16:46:12.071Z"
   },
   {
    "duration": 1284,
    "start_time": "2024-02-22T16:47:38.369Z"
   },
   {
    "duration": 64,
    "start_time": "2024-02-22T16:47:39.654Z"
   },
   {
    "duration": 6,
    "start_time": "2024-02-22T16:47:39.719Z"
   },
   {
    "duration": 170,
    "start_time": "2024-02-22T16:47:39.726Z"
   },
   {
    "duration": 21,
    "start_time": "2024-02-22T16:47:39.897Z"
   },
   {
    "duration": 50,
    "start_time": "2024-02-22T16:47:39.920Z"
   },
   {
    "duration": 21,
    "start_time": "2024-02-22T16:47:39.971Z"
   },
   {
    "duration": 130,
    "start_time": "2024-02-22T16:47:39.993Z"
   },
   {
    "duration": 122,
    "start_time": "2024-02-22T16:47:40.124Z"
   },
   {
    "duration": 68,
    "start_time": "2024-02-22T16:47:40.248Z"
   },
   {
    "duration": 51,
    "start_time": "2024-02-22T16:47:40.318Z"
   },
   {
    "duration": 22,
    "start_time": "2024-02-22T16:47:40.370Z"
   },
   {
    "duration": 28,
    "start_time": "2024-02-22T16:47:40.393Z"
   },
   {
    "duration": 20,
    "start_time": "2024-02-22T16:47:40.423Z"
   },
   {
    "duration": 96,
    "start_time": "2024-02-22T16:47:40.445Z"
   },
   {
    "duration": 9,
    "start_time": "2024-02-22T16:47:40.543Z"
   },
   {
    "duration": 34,
    "start_time": "2024-02-22T16:47:40.553Z"
   },
   {
    "duration": 38,
    "start_time": "2024-02-22T16:47:40.589Z"
   },
   {
    "duration": 17,
    "start_time": "2024-02-22T16:47:40.629Z"
   },
   {
    "duration": 15,
    "start_time": "2024-02-22T16:47:40.648Z"
   },
   {
    "duration": 35,
    "start_time": "2024-02-22T16:47:40.665Z"
   },
   {
    "duration": 13,
    "start_time": "2024-02-22T16:47:40.702Z"
   },
   {
    "duration": 107,
    "start_time": "2024-02-22T16:47:40.716Z"
   },
   {
    "duration": 24,
    "start_time": "2024-02-22T16:47:40.824Z"
   },
   {
    "duration": 14,
    "start_time": "2024-02-22T16:47:40.849Z"
   },
   {
    "duration": 100,
    "start_time": "2024-02-22T16:47:40.865Z"
   },
   {
    "duration": 8,
    "start_time": "2024-02-22T16:47:40.966Z"
   },
   {
    "duration": 30,
    "start_time": "2024-02-22T16:47:40.976Z"
   },
   {
    "duration": 5,
    "start_time": "2024-02-22T16:47:41.007Z"
   },
   {
    "duration": 15,
    "start_time": "2024-02-22T16:47:41.013Z"
   },
   {
    "duration": 8,
    "start_time": "2024-02-22T16:53:45.182Z"
   },
   {
    "duration": 14,
    "start_time": "2024-02-22T16:55:06.924Z"
   },
   {
    "duration": 1294,
    "start_time": "2024-02-22T16:55:43.216Z"
   },
   {
    "duration": 70,
    "start_time": "2024-02-22T16:55:44.512Z"
   },
   {
    "duration": 6,
    "start_time": "2024-02-22T16:55:44.583Z"
   },
   {
    "duration": 180,
    "start_time": "2024-02-22T16:55:44.590Z"
   },
   {
    "duration": 23,
    "start_time": "2024-02-22T16:55:44.772Z"
   },
   {
    "duration": 30,
    "start_time": "2024-02-22T16:55:44.796Z"
   },
   {
    "duration": 39,
    "start_time": "2024-02-22T16:55:44.828Z"
   },
   {
    "duration": 128,
    "start_time": "2024-02-22T16:55:44.868Z"
   },
   {
    "duration": 135,
    "start_time": "2024-02-22T16:55:44.997Z"
   },
   {
    "duration": 77,
    "start_time": "2024-02-22T16:55:45.134Z"
   },
   {
    "duration": 50,
    "start_time": "2024-02-22T16:55:45.213Z"
   },
   {
    "duration": 19,
    "start_time": "2024-02-22T16:55:45.265Z"
   },
   {
    "duration": 23,
    "start_time": "2024-02-22T16:55:45.286Z"
   },
   {
    "duration": 86,
    "start_time": "2024-02-22T16:55:45.312Z"
   },
   {
    "duration": 143,
    "start_time": "2024-02-22T16:55:45.400Z"
   },
   {
    "duration": 18,
    "start_time": "2024-02-22T16:55:45.545Z"
   },
   {
    "duration": 29,
    "start_time": "2024-02-22T16:55:45.564Z"
   },
   {
    "duration": 27,
    "start_time": "2024-02-22T16:55:45.594Z"
   },
   {
    "duration": 20,
    "start_time": "2024-02-22T16:55:45.622Z"
   },
   {
    "duration": 26,
    "start_time": "2024-02-22T16:55:45.644Z"
   },
   {
    "duration": 32,
    "start_time": "2024-02-22T16:55:45.671Z"
   },
   {
    "duration": 21,
    "start_time": "2024-02-22T16:55:45.704Z"
   },
   {
    "duration": 10,
    "start_time": "2024-02-22T16:55:45.726Z"
   },
   {
    "duration": 89,
    "start_time": "2024-02-22T16:55:45.737Z"
   },
   {
    "duration": 32,
    "start_time": "2024-02-22T16:55:45.827Z"
   },
   {
    "duration": 14,
    "start_time": "2024-02-22T16:55:45.861Z"
   },
   {
    "duration": 98,
    "start_time": "2024-02-22T16:55:45.877Z"
   },
   {
    "duration": 7,
    "start_time": "2024-02-22T16:55:45.977Z"
   },
   {
    "duration": 17,
    "start_time": "2024-02-22T16:55:45.986Z"
   },
   {
    "duration": 5,
    "start_time": "2024-02-22T16:55:46.005Z"
   },
   {
    "duration": 12,
    "start_time": "2024-02-22T16:55:46.011Z"
   },
   {
    "duration": 1258,
    "start_time": "2024-02-22T16:57:00.794Z"
   },
   {
    "duration": 63,
    "start_time": "2024-02-22T16:57:02.053Z"
   },
   {
    "duration": 6,
    "start_time": "2024-02-22T16:57:02.255Z"
   },
   {
    "duration": 179,
    "start_time": "2024-02-22T16:57:02.929Z"
   },
   {
    "duration": 22,
    "start_time": "2024-02-22T16:57:05.296Z"
   },
   {
    "duration": 40,
    "start_time": "2024-02-22T16:57:06.586Z"
   },
   {
    "duration": 20,
    "start_time": "2024-02-22T16:57:07.208Z"
   },
   {
    "duration": 123,
    "start_time": "2024-02-22T16:57:09.181Z"
   },
   {
    "duration": 122,
    "start_time": "2024-02-22T16:57:14.157Z"
   },
   {
    "duration": 61,
    "start_time": "2024-02-22T16:57:15.863Z"
   },
   {
    "duration": 37,
    "start_time": "2024-02-22T16:57:16.659Z"
   },
   {
    "duration": 13,
    "start_time": "2024-02-22T16:57:22.866Z"
   },
   {
    "duration": 9,
    "start_time": "2024-02-22T16:57:24.161Z"
   },
   {
    "duration": 10,
    "start_time": "2024-02-22T16:57:25.659Z"
   },
   {
    "duration": 99,
    "start_time": "2024-02-22T16:57:27.192Z"
   },
   {
    "duration": 10,
    "start_time": "2024-02-22T16:57:31.177Z"
   },
   {
    "duration": 15,
    "start_time": "2024-02-22T16:57:38.276Z"
   },
   {
    "duration": 27,
    "start_time": "2024-02-22T16:57:40.476Z"
   },
   {
    "duration": 14,
    "start_time": "2024-02-22T16:57:42.151Z"
   },
   {
    "duration": 10,
    "start_time": "2024-02-22T16:57:44.674Z"
   },
   {
    "duration": 23,
    "start_time": "2024-02-22T16:57:47.158Z"
   },
   {
    "duration": 20,
    "start_time": "2024-02-22T16:58:10.442Z"
   },
   {
    "duration": 10,
    "start_time": "2024-02-22T16:59:50.592Z"
   },
   {
    "duration": 10,
    "start_time": "2024-02-22T17:01:08.734Z"
   },
   {
    "duration": 7,
    "start_time": "2024-02-22T17:03:05.756Z"
   },
   {
    "duration": 1311,
    "start_time": "2024-02-22T17:04:46.546Z"
   },
   {
    "duration": 62,
    "start_time": "2024-02-22T17:04:47.859Z"
   },
   {
    "duration": 6,
    "start_time": "2024-02-22T17:04:48.931Z"
   },
   {
    "duration": 152,
    "start_time": "2024-02-22T17:04:49.678Z"
   },
   {
    "duration": 26,
    "start_time": "2024-02-22T17:04:52.744Z"
   },
   {
    "duration": 32,
    "start_time": "2024-02-22T17:04:55.220Z"
   },
   {
    "duration": 15,
    "start_time": "2024-02-22T17:04:56.152Z"
   },
   {
    "duration": 118,
    "start_time": "2024-02-22T17:04:59.569Z"
   },
   {
    "duration": 124,
    "start_time": "2024-02-22T17:06:37.808Z"
   },
   {
    "duration": 66,
    "start_time": "2024-02-22T17:06:41.791Z"
   },
   {
    "duration": 22,
    "start_time": "2024-02-22T17:06:53.467Z"
   },
   {
    "duration": 26,
    "start_time": "2024-02-22T17:14:21.114Z"
   },
   {
    "duration": 1246,
    "start_time": "2024-02-22T17:14:38.784Z"
   },
   {
    "duration": 64,
    "start_time": "2024-02-22T17:14:40.031Z"
   },
   {
    "duration": 5,
    "start_time": "2024-02-22T17:14:40.338Z"
   },
   {
    "duration": 155,
    "start_time": "2024-02-22T17:14:41.118Z"
   },
   {
    "duration": 22,
    "start_time": "2024-02-22T17:14:43.826Z"
   },
   {
    "duration": 32,
    "start_time": "2024-02-22T17:14:45.594Z"
   },
   {
    "duration": 15,
    "start_time": "2024-02-22T17:14:47.055Z"
   },
   {
    "duration": 125,
    "start_time": "2024-02-22T17:14:49.414Z"
   },
   {
    "duration": 112,
    "start_time": "2024-02-22T17:14:53.188Z"
   },
   {
    "duration": 63,
    "start_time": "2024-02-22T17:14:55.523Z"
   },
   {
    "duration": 28,
    "start_time": "2024-02-22T17:15:19.699Z"
   },
   {
    "duration": 13,
    "start_time": "2024-02-22T17:15:41.240Z"
   },
   {
    "duration": 26,
    "start_time": "2024-02-22T17:16:12.384Z"
   },
   {
    "duration": 11,
    "start_time": "2024-02-22T18:15:22.143Z"
   },
   {
    "duration": 15,
    "start_time": "2024-02-22T18:16:00.361Z"
   },
   {
    "duration": 1263,
    "start_time": "2024-02-22T18:16:14.245Z"
   },
   {
    "duration": 61,
    "start_time": "2024-02-22T18:16:15.510Z"
   },
   {
    "duration": 6,
    "start_time": "2024-02-22T18:16:15.751Z"
   },
   {
    "duration": 161,
    "start_time": "2024-02-22T18:16:16.385Z"
   },
   {
    "duration": 25,
    "start_time": "2024-02-22T18:16:19.457Z"
   },
   {
    "duration": 30,
    "start_time": "2024-02-22T18:16:21.334Z"
   },
   {
    "duration": 15,
    "start_time": "2024-02-22T18:16:22.157Z"
   },
   {
    "duration": 115,
    "start_time": "2024-02-22T18:16:24.225Z"
   },
   {
    "duration": 109,
    "start_time": "2024-02-22T18:16:27.844Z"
   },
   {
    "duration": 62,
    "start_time": "2024-02-22T18:16:29.934Z"
   },
   {
    "duration": 18,
    "start_time": "2024-02-22T18:16:31.589Z"
   },
   {
    "duration": 16,
    "start_time": "2024-02-22T18:17:55.179Z"
   },
   {
    "duration": 16,
    "start_time": "2024-02-22T18:18:02.732Z"
   },
   {
    "duration": 16,
    "start_time": "2024-02-22T18:18:06.186Z"
   },
   {
    "duration": 17,
    "start_time": "2024-02-22T18:18:55.817Z"
   },
   {
    "duration": 16,
    "start_time": "2024-02-22T18:19:02.714Z"
   },
   {
    "duration": 17,
    "start_time": "2024-02-22T18:19:11.482Z"
   },
   {
    "duration": 17,
    "start_time": "2024-02-22T18:20:23.224Z"
   },
   {
    "duration": 16,
    "start_time": "2024-02-22T18:20:36.090Z"
   },
   {
    "duration": 18,
    "start_time": "2024-02-22T18:20:47.145Z"
   },
   {
    "duration": 16,
    "start_time": "2024-02-22T18:20:56.560Z"
   },
   {
    "duration": 18,
    "start_time": "2024-02-22T18:21:03.960Z"
   },
   {
    "duration": 16,
    "start_time": "2024-02-22T18:21:13.600Z"
   },
   {
    "duration": 16,
    "start_time": "2024-02-22T18:22:41.927Z"
   },
   {
    "duration": 25,
    "start_time": "2024-02-22T18:24:32.020Z"
   },
   {
    "duration": 5,
    "start_time": "2024-02-22T18:24:52.213Z"
   },
   {
    "duration": 27,
    "start_time": "2024-02-22T18:24:58.354Z"
   },
   {
    "duration": 23,
    "start_time": "2024-02-22T18:25:26.828Z"
   },
   {
    "duration": 28,
    "start_time": "2024-02-22T18:25:52.063Z"
   },
   {
    "duration": 29,
    "start_time": "2024-02-22T18:27:25.658Z"
   },
   {
    "duration": 31,
    "start_time": "2024-02-22T18:28:49.808Z"
   },
   {
    "duration": 23,
    "start_time": "2024-02-22T18:29:12.178Z"
   },
   {
    "duration": 36,
    "start_time": "2024-02-22T18:29:22.661Z"
   },
   {
    "duration": 13,
    "start_time": "2024-02-22T18:29:29.695Z"
   },
   {
    "duration": 10,
    "start_time": "2024-02-22T18:29:32.081Z"
   },
   {
    "duration": 8,
    "start_time": "2024-02-22T18:29:45.855Z"
   },
   {
    "duration": 83,
    "start_time": "2024-02-22T18:29:50.948Z"
   },
   {
    "duration": 9,
    "start_time": "2024-02-22T18:29:53.370Z"
   },
   {
    "duration": 14,
    "start_time": "2024-02-22T18:30:31.137Z"
   },
   {
    "duration": 25,
    "start_time": "2024-02-22T18:30:42.677Z"
   },
   {
    "duration": 10,
    "start_time": "2024-02-22T18:30:46.885Z"
   },
   {
    "duration": 10,
    "start_time": "2024-02-22T18:31:00.135Z"
   },
   {
    "duration": 22,
    "start_time": "2024-02-22T18:31:48.204Z"
   },
   {
    "duration": 10,
    "start_time": "2024-02-22T18:31:50.442Z"
   },
   {
    "duration": 21,
    "start_time": "2024-02-22T18:31:58.895Z"
   },
   {
    "duration": 11,
    "start_time": "2024-02-22T18:32:13.552Z"
   },
   {
    "duration": 76,
    "start_time": "2024-02-22T18:32:19.815Z"
   },
   {
    "duration": 17,
    "start_time": "2024-02-22T18:33:00.084Z"
   },
   {
    "duration": 16,
    "start_time": "2024-02-22T18:33:35.232Z"
   },
   {
    "duration": 13,
    "start_time": "2024-02-22T18:34:02.917Z"
   },
   {
    "duration": 21,
    "start_time": "2024-02-22T18:35:21.619Z"
   },
   {
    "duration": 8,
    "start_time": "2024-02-22T18:39:43.663Z"
   },
   {
    "duration": 1277,
    "start_time": "2024-02-22T18:40:03.436Z"
   },
   {
    "duration": 61,
    "start_time": "2024-02-22T18:40:04.715Z"
   },
   {
    "duration": 58,
    "start_time": "2024-02-22T18:40:04.777Z"
   },
   {
    "duration": 161,
    "start_time": "2024-02-22T18:40:04.837Z"
   },
   {
    "duration": 21,
    "start_time": "2024-02-22T18:40:05.000Z"
   },
   {
    "duration": 36,
    "start_time": "2024-02-22T18:40:05.022Z"
   },
   {
    "duration": 16,
    "start_time": "2024-02-22T18:40:05.060Z"
   },
   {
    "duration": 199,
    "start_time": "2024-02-22T18:40:05.077Z"
   },
   {
    "duration": 120,
    "start_time": "2024-02-22T18:40:05.278Z"
   },
   {
    "duration": 75,
    "start_time": "2024-02-22T18:40:05.399Z"
   },
   {
    "duration": 137,
    "start_time": "2024-02-22T18:40:05.476Z"
   },
   {
    "duration": 24,
    "start_time": "2024-02-22T18:40:05.614Z"
   },
   {
    "duration": 51,
    "start_time": "2024-02-22T18:40:05.639Z"
   },
   {
    "duration": 12,
    "start_time": "2024-02-22T18:40:05.693Z"
   },
   {
    "duration": 19,
    "start_time": "2024-02-22T18:40:05.707Z"
   },
   {
    "duration": 29,
    "start_time": "2024-02-22T18:40:05.728Z"
   },
   {
    "duration": 83,
    "start_time": "2024-02-22T18:40:05.759Z"
   },
   {
    "duration": 9,
    "start_time": "2024-02-22T18:40:05.844Z"
   },
   {
    "duration": 46,
    "start_time": "2024-02-22T18:40:05.854Z"
   },
   {
    "duration": 58,
    "start_time": "2024-02-22T18:40:05.902Z"
   },
   {
    "duration": 10,
    "start_time": "2024-02-22T18:40:05.961Z"
   },
   {
    "duration": 35,
    "start_time": "2024-02-22T18:40:05.972Z"
   },
   {
    "duration": 10,
    "start_time": "2024-02-22T18:40:06.009Z"
   },
   {
    "duration": 84,
    "start_time": "2024-02-22T18:40:06.021Z"
   },
   {
    "duration": 17,
    "start_time": "2024-02-22T18:40:06.107Z"
   },
   {
    "duration": 43,
    "start_time": "2024-02-22T18:40:06.125Z"
   },
   {
    "duration": 2,
    "start_time": "2024-02-22T18:40:06.170Z"
   },
   {
    "duration": 38,
    "start_time": "2024-02-22T18:40:06.174Z"
   },
   {
    "duration": 8,
    "start_time": "2024-02-22T18:40:06.213Z"
   },
   {
    "duration": 8,
    "start_time": "2024-02-22T18:40:06.222Z"
   },
   {
    "duration": 9,
    "start_time": "2024-02-22T18:40:06.231Z"
   },
   {
    "duration": 18,
    "start_time": "2024-02-22T18:41:38.884Z"
   },
   {
    "duration": 70,
    "start_time": "2024-02-22T18:41:52.589Z"
   },
   {
    "duration": 14,
    "start_time": "2024-02-22T18:42:12.811Z"
   },
   {
    "duration": 14,
    "start_time": "2024-02-22T18:42:50.851Z"
   },
   {
    "duration": 17,
    "start_time": "2024-02-22T18:47:15.184Z"
   },
   {
    "duration": 16,
    "start_time": "2024-02-22T18:47:32.752Z"
   },
   {
    "duration": 16,
    "start_time": "2024-02-22T18:49:24.968Z"
   },
   {
    "duration": 16,
    "start_time": "2024-02-22T18:51:39.764Z"
   },
   {
    "duration": 19,
    "start_time": "2024-02-22T18:57:11.100Z"
   },
   {
    "duration": 7,
    "start_time": "2024-02-22T18:59:00.901Z"
   },
   {
    "duration": 8,
    "start_time": "2024-02-22T18:59:33.413Z"
   },
   {
    "duration": 7,
    "start_time": "2024-02-22T19:00:46.371Z"
   },
   {
    "duration": 15,
    "start_time": "2024-02-22T19:01:38.074Z"
   },
   {
    "duration": 10,
    "start_time": "2024-02-22T19:10:18.553Z"
   },
   {
    "duration": 18,
    "start_time": "2024-02-22T19:11:37.119Z"
   },
   {
    "duration": 15,
    "start_time": "2024-02-22T19:12:39.918Z"
   },
   {
    "duration": 20,
    "start_time": "2024-02-22T19:16:03.331Z"
   },
   {
    "duration": 18,
    "start_time": "2024-02-22T19:16:45.890Z"
   },
   {
    "duration": 76,
    "start_time": "2024-02-22T19:17:54.674Z"
   },
   {
    "duration": 10,
    "start_time": "2024-02-22T19:18:53.177Z"
   },
   {
    "duration": 164,
    "start_time": "2024-02-22T19:22:05.132Z"
   },
   {
    "duration": 14,
    "start_time": "2024-02-22T19:24:17.612Z"
   },
   {
    "duration": 21,
    "start_time": "2024-02-22T19:25:03.546Z"
   },
   {
    "duration": 163,
    "start_time": "2024-02-22T19:26:00.611Z"
   },
   {
    "duration": 1227,
    "start_time": "2024-02-22T19:27:19.965Z"
   },
   {
    "duration": 61,
    "start_time": "2024-02-22T19:27:21.194Z"
   },
   {
    "duration": 6,
    "start_time": "2024-02-22T19:27:21.256Z"
   },
   {
    "duration": 163,
    "start_time": "2024-02-22T19:27:21.264Z"
   },
   {
    "duration": 24,
    "start_time": "2024-02-22T19:27:21.444Z"
   },
   {
    "duration": 32,
    "start_time": "2024-02-22T19:27:21.470Z"
   },
   {
    "duration": 14,
    "start_time": "2024-02-22T19:27:21.503Z"
   },
   {
    "duration": 139,
    "start_time": "2024-02-22T19:27:21.518Z"
   },
   {
    "duration": 119,
    "start_time": "2024-02-22T19:27:21.658Z"
   },
   {
    "duration": 80,
    "start_time": "2024-02-22T19:27:21.779Z"
   },
   {
    "duration": 17,
    "start_time": "2024-02-22T19:27:21.860Z"
   },
   {
    "duration": 27,
    "start_time": "2024-02-22T19:27:21.878Z"
   },
   {
    "duration": 67,
    "start_time": "2024-02-22T19:27:21.907Z"
   },
   {
    "duration": 31,
    "start_time": "2024-02-22T19:27:21.975Z"
   },
   {
    "duration": 36,
    "start_time": "2024-02-22T19:27:22.007Z"
   },
   {
    "duration": 22,
    "start_time": "2024-02-22T19:27:22.044Z"
   },
   {
    "duration": 97,
    "start_time": "2024-02-22T19:27:22.067Z"
   },
   {
    "duration": 9,
    "start_time": "2024-02-22T19:27:22.166Z"
   },
   {
    "duration": 41,
    "start_time": "2024-02-22T19:27:22.176Z"
   },
   {
    "duration": 30,
    "start_time": "2024-02-22T19:27:22.218Z"
   },
   {
    "duration": 12,
    "start_time": "2024-02-22T19:27:22.249Z"
   },
   {
    "duration": 31,
    "start_time": "2024-02-22T19:27:22.263Z"
   },
   {
    "duration": 9,
    "start_time": "2024-02-22T19:27:22.296Z"
   },
   {
    "duration": 93,
    "start_time": "2024-02-22T19:27:22.307Z"
   },
   {
    "duration": 16,
    "start_time": "2024-02-22T19:27:22.401Z"
   },
   {
    "duration": 34,
    "start_time": "2024-02-22T19:27:22.418Z"
   },
   {
    "duration": 44,
    "start_time": "2024-02-22T19:27:22.453Z"
   },
   {
    "duration": 38,
    "start_time": "2024-02-22T19:27:22.499Z"
   },
   {
    "duration": 7,
    "start_time": "2024-02-22T19:27:22.538Z"
   },
   {
    "duration": 30,
    "start_time": "2024-02-22T19:27:22.546Z"
   },
   {
    "duration": 21,
    "start_time": "2024-02-22T19:27:22.577Z"
   },
   {
    "duration": 57,
    "start_time": "2024-02-22T19:27:22.600Z"
   },
   {
    "duration": 36,
    "start_time": "2024-02-22T19:27:22.659Z"
   },
   {
    "duration": 54,
    "start_time": "2024-02-22T19:27:22.697Z"
   },
   {
    "duration": 168,
    "start_time": "2024-02-22T19:27:22.753Z"
   },
   {
    "duration": 123,
    "start_time": "2024-02-22T19:27:22.922Z"
   },
   {
    "duration": 21,
    "start_time": "2024-02-22T19:29:42.894Z"
   },
   {
    "duration": 21,
    "start_time": "2024-02-22T19:31:22.636Z"
   },
   {
    "duration": 1247,
    "start_time": "2024-02-22T19:31:32.956Z"
   },
   {
    "duration": 64,
    "start_time": "2024-02-22T19:31:34.204Z"
   },
   {
    "duration": 313,
    "start_time": "2024-02-22T19:31:34.269Z"
   },
   {
    "duration": 232,
    "start_time": "2024-02-22T19:31:34.584Z"
   },
   {
    "duration": 32,
    "start_time": "2024-02-22T19:31:34.818Z"
   },
   {
    "duration": 139,
    "start_time": "2024-02-22T19:31:34.851Z"
   },
   {
    "duration": 28,
    "start_time": "2024-02-22T19:31:34.991Z"
   },
   {
    "duration": 122,
    "start_time": "2024-02-22T19:31:35.021Z"
   },
   {
    "duration": 116,
    "start_time": "2024-02-22T19:31:35.145Z"
   },
   {
    "duration": 311,
    "start_time": "2024-02-22T19:31:35.263Z"
   },
   {
    "duration": 17,
    "start_time": "2024-02-22T19:31:35.575Z"
   },
   {
    "duration": 30,
    "start_time": "2024-02-22T19:31:35.593Z"
   },
   {
    "duration": 45,
    "start_time": "2024-02-22T19:31:35.624Z"
   },
   {
    "duration": 12,
    "start_time": "2024-02-22T19:31:35.671Z"
   },
   {
    "duration": 9,
    "start_time": "2024-02-22T19:31:35.684Z"
   },
   {
    "duration": 10,
    "start_time": "2024-02-22T19:31:35.694Z"
   },
   {
    "duration": 92,
    "start_time": "2024-02-22T19:31:35.706Z"
   },
   {
    "duration": 9,
    "start_time": "2024-02-22T19:31:35.799Z"
   },
   {
    "duration": 21,
    "start_time": "2024-02-22T19:31:35.809Z"
   },
   {
    "duration": 30,
    "start_time": "2024-02-22T19:31:35.831Z"
   },
   {
    "duration": 9,
    "start_time": "2024-02-22T19:31:35.862Z"
   },
   {
    "duration": 26,
    "start_time": "2024-02-22T19:31:35.873Z"
   },
   {
    "duration": 9,
    "start_time": "2024-02-22T19:31:35.901Z"
   },
   {
    "duration": 92,
    "start_time": "2024-02-22T19:31:35.911Z"
   },
   {
    "duration": 16,
    "start_time": "2024-02-22T19:31:36.004Z"
   },
   {
    "duration": 24,
    "start_time": "2024-02-22T19:31:36.022Z"
   },
   {
    "duration": 2,
    "start_time": "2024-02-22T19:31:36.047Z"
   },
   {
    "duration": 23,
    "start_time": "2024-02-22T19:31:36.051Z"
   },
   {
    "duration": 6,
    "start_time": "2024-02-22T19:31:36.076Z"
   },
   {
    "duration": 20,
    "start_time": "2024-02-22T19:31:36.083Z"
   },
   {
    "duration": 15,
    "start_time": "2024-02-22T19:31:36.104Z"
   },
   {
    "duration": 40,
    "start_time": "2024-02-22T19:31:36.120Z"
   },
   {
    "duration": 12,
    "start_time": "2024-02-22T19:31:36.162Z"
   },
   {
    "duration": 33,
    "start_time": "2024-02-22T19:31:36.175Z"
   },
   {
    "duration": 165,
    "start_time": "2024-02-22T19:31:36.209Z"
   },
   {
    "duration": 18,
    "start_time": "2024-02-22T19:31:36.375Z"
   },
   {
    "duration": 18,
    "start_time": "2024-02-22T19:34:09.394Z"
   },
   {
    "duration": 1231,
    "start_time": "2024-02-22T19:34:16.492Z"
   },
   {
    "duration": 61,
    "start_time": "2024-02-22T19:34:17.726Z"
   },
   {
    "duration": 6,
    "start_time": "2024-02-22T19:34:17.789Z"
   },
   {
    "duration": 167,
    "start_time": "2024-02-22T19:34:17.797Z"
   },
   {
    "duration": 22,
    "start_time": "2024-02-22T19:34:17.966Z"
   },
   {
    "duration": 29,
    "start_time": "2024-02-22T19:34:17.989Z"
   },
   {
    "duration": 38,
    "start_time": "2024-02-22T19:34:18.020Z"
   },
   {
    "duration": 119,
    "start_time": "2024-02-22T19:34:18.060Z"
   },
   {
    "duration": 135,
    "start_time": "2024-02-22T19:34:18.181Z"
   },
   {
    "duration": 67,
    "start_time": "2024-02-22T19:34:18.318Z"
   },
   {
    "duration": 16,
    "start_time": "2024-02-22T19:34:18.386Z"
   },
   {
    "duration": 22,
    "start_time": "2024-02-22T19:34:18.404Z"
   },
   {
    "duration": 56,
    "start_time": "2024-02-22T19:34:18.428Z"
   },
   {
    "duration": 14,
    "start_time": "2024-02-22T19:34:18.487Z"
   },
   {
    "duration": 10,
    "start_time": "2024-02-22T19:34:18.502Z"
   },
   {
    "duration": 8,
    "start_time": "2024-02-22T19:34:18.513Z"
   },
   {
    "duration": 83,
    "start_time": "2024-02-22T19:34:18.545Z"
   },
   {
    "duration": 18,
    "start_time": "2024-02-22T19:34:18.630Z"
   },
   {
    "duration": 26,
    "start_time": "2024-02-22T19:34:18.650Z"
   },
   {
    "duration": 25,
    "start_time": "2024-02-22T19:34:18.678Z"
   },
   {
    "duration": 10,
    "start_time": "2024-02-22T19:34:18.705Z"
   },
   {
    "duration": 37,
    "start_time": "2024-02-22T19:34:18.717Z"
   },
   {
    "duration": 10,
    "start_time": "2024-02-22T19:34:18.756Z"
   },
   {
    "duration": 95,
    "start_time": "2024-02-22T19:34:18.767Z"
   },
   {
    "duration": 16,
    "start_time": "2024-02-22T19:34:18.864Z"
   },
   {
    "duration": 15,
    "start_time": "2024-02-22T19:34:18.882Z"
   },
   {
    "duration": 3,
    "start_time": "2024-02-22T19:34:18.898Z"
   },
   {
    "duration": 46,
    "start_time": "2024-02-22T19:34:18.902Z"
   },
   {
    "duration": 7,
    "start_time": "2024-02-22T19:34:18.949Z"
   },
   {
    "duration": 18,
    "start_time": "2024-02-22T19:34:18.958Z"
   },
   {
    "duration": 16,
    "start_time": "2024-02-22T19:34:18.978Z"
   },
   {
    "duration": 28,
    "start_time": "2024-02-22T19:34:18.995Z"
   },
   {
    "duration": 24,
    "start_time": "2024-02-22T19:34:19.025Z"
   },
   {
    "duration": 14,
    "start_time": "2024-02-22T19:34:19.050Z"
   },
   {
    "duration": 196,
    "start_time": "2024-02-22T19:34:19.065Z"
   },
   {
    "duration": 19,
    "start_time": "2024-02-22T19:34:19.262Z"
   },
   {
    "duration": 13,
    "start_time": "2024-02-22T19:37:58.795Z"
   },
   {
    "duration": 395,
    "start_time": "2024-02-22T19:47:56.273Z"
   },
   {
    "duration": 412,
    "start_time": "2024-02-22T19:48:19.044Z"
   },
   {
    "duration": 108,
    "start_time": "2024-02-22T19:50:50.678Z"
   },
   {
    "duration": 23,
    "start_time": "2024-02-22T19:51:07.862Z"
   },
   {
    "duration": 363,
    "start_time": "2024-02-22T19:52:28.140Z"
   },
   {
    "duration": 332,
    "start_time": "2024-02-22T19:52:38.675Z"
   },
   {
    "duration": 578,
    "start_time": "2024-02-22T19:57:46.373Z"
   },
   {
    "duration": 673,
    "start_time": "2024-02-22T19:58:15.484Z"
   },
   {
    "duration": 622,
    "start_time": "2024-02-22T19:58:31.947Z"
   },
   {
    "duration": 702,
    "start_time": "2024-02-22T19:59:37.545Z"
   },
   {
    "duration": 9,
    "start_time": "2024-02-22T21:34:55.053Z"
   },
   {
    "duration": 141,
    "start_time": "2024-02-22T21:35:07.187Z"
   },
   {
    "duration": 166,
    "start_time": "2024-02-22T21:35:17.660Z"
   },
   {
    "duration": 138,
    "start_time": "2024-02-22T21:35:41.538Z"
   },
   {
    "duration": 10,
    "start_time": "2024-02-22T21:37:18.714Z"
   },
   {
    "duration": 4,
    "start_time": "2024-02-22T21:37:58.307Z"
   },
   {
    "duration": 10,
    "start_time": "2024-02-22T21:38:03.033Z"
   },
   {
    "duration": 12,
    "start_time": "2024-02-22T21:41:16.573Z"
   },
   {
    "duration": 1380,
    "start_time": "2024-02-22T21:42:27.329Z"
   },
   {
    "duration": 63,
    "start_time": "2024-02-22T21:42:28.710Z"
   },
   {
    "duration": 6,
    "start_time": "2024-02-22T21:42:28.774Z"
   },
   {
    "duration": 165,
    "start_time": "2024-02-22T21:42:28.782Z"
   },
   {
    "duration": 22,
    "start_time": "2024-02-22T21:42:28.948Z"
   },
   {
    "duration": 29,
    "start_time": "2024-02-22T21:42:28.971Z"
   },
   {
    "duration": 17,
    "start_time": "2024-02-22T21:42:29.001Z"
   },
   {
    "duration": 135,
    "start_time": "2024-02-22T21:42:29.019Z"
   },
   {
    "duration": 123,
    "start_time": "2024-02-22T21:42:29.156Z"
   },
   {
    "duration": 69,
    "start_time": "2024-02-22T21:42:29.282Z"
   },
   {
    "duration": 16,
    "start_time": "2024-02-22T21:42:29.352Z"
   },
   {
    "duration": 28,
    "start_time": "2024-02-22T21:42:29.370Z"
   },
   {
    "duration": 62,
    "start_time": "2024-02-22T21:42:29.399Z"
   },
   {
    "duration": 18,
    "start_time": "2024-02-22T21:42:29.463Z"
   },
   {
    "duration": 29,
    "start_time": "2024-02-22T21:42:29.482Z"
   },
   {
    "duration": 18,
    "start_time": "2024-02-22T21:42:29.512Z"
   },
   {
    "duration": 106,
    "start_time": "2024-02-22T21:42:29.531Z"
   },
   {
    "duration": 9,
    "start_time": "2024-02-22T21:42:29.638Z"
   },
   {
    "duration": 26,
    "start_time": "2024-02-22T21:42:29.648Z"
   },
   {
    "duration": 23,
    "start_time": "2024-02-22T21:42:29.676Z"
   },
   {
    "duration": 9,
    "start_time": "2024-02-22T21:42:29.701Z"
   },
   {
    "duration": 35,
    "start_time": "2024-02-22T21:42:29.712Z"
   },
   {
    "duration": 10,
    "start_time": "2024-02-22T21:42:29.749Z"
   },
   {
    "duration": 89,
    "start_time": "2024-02-22T21:42:29.760Z"
   },
   {
    "duration": 18,
    "start_time": "2024-02-22T21:42:29.850Z"
   },
   {
    "duration": 18,
    "start_time": "2024-02-22T21:42:29.870Z"
   },
   {
    "duration": 14,
    "start_time": "2024-02-22T21:42:29.890Z"
   },
   {
    "duration": 28,
    "start_time": "2024-02-22T21:42:29.907Z"
   },
   {
    "duration": 9,
    "start_time": "2024-02-22T21:42:29.937Z"
   },
   {
    "duration": 18,
    "start_time": "2024-02-22T21:42:29.948Z"
   },
   {
    "duration": 16,
    "start_time": "2024-02-22T21:42:29.967Z"
   },
   {
    "duration": 17,
    "start_time": "2024-02-22T21:42:29.984Z"
   },
   {
    "duration": 21,
    "start_time": "2024-02-22T21:42:30.003Z"
   },
   {
    "duration": 37,
    "start_time": "2024-02-22T21:42:30.026Z"
   },
   {
    "duration": 42,
    "start_time": "2024-02-22T21:42:30.065Z"
   },
   {
    "duration": 685,
    "start_time": "2024-02-22T21:42:30.108Z"
   },
   {
    "duration": 13,
    "start_time": "2024-02-22T21:42:30.794Z"
   },
   {
    "duration": 54,
    "start_time": "2024-02-22T21:42:30.808Z"
   },
   {
    "duration": 139,
    "start_time": "2024-02-22T21:42:30.863Z"
   },
   {
    "duration": 0,
    "start_time": "2024-02-22T21:42:31.003Z"
   },
   {
    "duration": 8,
    "start_time": "2024-02-22T21:42:48.373Z"
   },
   {
    "duration": 8,
    "start_time": "2024-02-22T21:43:13.310Z"
   },
   {
    "duration": 10,
    "start_time": "2024-02-22T21:45:59.992Z"
   },
   {
    "duration": 438,
    "start_time": "2024-02-22T21:46:03.665Z"
   },
   {
    "duration": 173,
    "start_time": "2024-02-22T21:49:16.607Z"
   },
   {
    "duration": 107,
    "start_time": "2024-02-22T21:51:16.125Z"
   },
   {
    "duration": 9,
    "start_time": "2024-02-22T21:51:49.867Z"
   },
   {
    "duration": 185,
    "start_time": "2024-02-22T21:52:07.170Z"
   },
   {
    "duration": 155,
    "start_time": "2024-02-22T21:52:51.835Z"
   },
   {
    "duration": 200,
    "start_time": "2024-02-22T21:53:43.066Z"
   },
   {
    "duration": 158,
    "start_time": "2024-02-22T21:54:35.226Z"
   },
   {
    "duration": 168,
    "start_time": "2024-02-22T21:54:49.297Z"
   },
   {
    "duration": 3,
    "start_time": "2024-02-22T21:57:04.884Z"
   },
   {
    "duration": 1310,
    "start_time": "2024-02-22T21:57:04.889Z"
   },
   {
    "duration": 0,
    "start_time": "2024-02-22T21:57:06.201Z"
   },
   {
    "duration": 0,
    "start_time": "2024-02-22T21:57:06.202Z"
   },
   {
    "duration": 0,
    "start_time": "2024-02-22T21:57:06.203Z"
   },
   {
    "duration": 0,
    "start_time": "2024-02-22T21:57:06.204Z"
   },
   {
    "duration": 0,
    "start_time": "2024-02-22T21:57:06.205Z"
   },
   {
    "duration": 0,
    "start_time": "2024-02-22T21:57:06.205Z"
   },
   {
    "duration": 0,
    "start_time": "2024-02-22T21:57:06.207Z"
   },
   {
    "duration": 0,
    "start_time": "2024-02-22T21:57:06.207Z"
   },
   {
    "duration": 0,
    "start_time": "2024-02-22T21:57:06.209Z"
   },
   {
    "duration": 0,
    "start_time": "2024-02-22T21:57:06.209Z"
   },
   {
    "duration": 0,
    "start_time": "2024-02-22T21:57:06.210Z"
   },
   {
    "duration": 0,
    "start_time": "2024-02-22T21:57:06.211Z"
   },
   {
    "duration": 0,
    "start_time": "2024-02-22T21:57:06.212Z"
   },
   {
    "duration": 0,
    "start_time": "2024-02-22T21:57:06.213Z"
   },
   {
    "duration": 0,
    "start_time": "2024-02-22T21:57:06.214Z"
   },
   {
    "duration": 0,
    "start_time": "2024-02-22T21:57:06.215Z"
   },
   {
    "duration": 0,
    "start_time": "2024-02-22T21:57:06.216Z"
   },
   {
    "duration": 0,
    "start_time": "2024-02-22T21:57:06.216Z"
   },
   {
    "duration": 0,
    "start_time": "2024-02-22T21:57:06.218Z"
   },
   {
    "duration": 0,
    "start_time": "2024-02-22T21:57:06.218Z"
   },
   {
    "duration": 0,
    "start_time": "2024-02-22T21:57:06.219Z"
   },
   {
    "duration": 0,
    "start_time": "2024-02-22T21:57:06.245Z"
   },
   {
    "duration": 0,
    "start_time": "2024-02-22T21:57:06.245Z"
   },
   {
    "duration": 0,
    "start_time": "2024-02-22T21:57:06.247Z"
   },
   {
    "duration": 0,
    "start_time": "2024-02-22T21:57:06.247Z"
   },
   {
    "duration": 0,
    "start_time": "2024-02-22T21:57:06.249Z"
   },
   {
    "duration": 0,
    "start_time": "2024-02-22T21:57:06.250Z"
   },
   {
    "duration": 0,
    "start_time": "2024-02-22T21:57:06.250Z"
   },
   {
    "duration": 0,
    "start_time": "2024-02-22T21:57:06.251Z"
   },
   {
    "duration": 0,
    "start_time": "2024-02-22T21:57:06.252Z"
   },
   {
    "duration": 0,
    "start_time": "2024-02-22T21:57:06.253Z"
   },
   {
    "duration": 0,
    "start_time": "2024-02-22T21:57:06.254Z"
   },
   {
    "duration": 0,
    "start_time": "2024-02-22T21:57:06.255Z"
   },
   {
    "duration": 0,
    "start_time": "2024-02-22T21:57:06.256Z"
   },
   {
    "duration": 0,
    "start_time": "2024-02-22T21:57:06.257Z"
   },
   {
    "duration": 0,
    "start_time": "2024-02-22T21:57:06.258Z"
   },
   {
    "duration": 0,
    "start_time": "2024-02-22T21:57:06.259Z"
   },
   {
    "duration": 0,
    "start_time": "2024-02-22T21:57:06.260Z"
   },
   {
    "duration": 0,
    "start_time": "2024-02-22T21:57:06.261Z"
   },
   {
    "duration": 3,
    "start_time": "2024-02-22T21:57:56.639Z"
   },
   {
    "duration": 1243,
    "start_time": "2024-02-22T21:57:56.643Z"
   },
   {
    "duration": 74,
    "start_time": "2024-02-22T21:57:57.887Z"
   },
   {
    "duration": 5,
    "start_time": "2024-02-22T21:57:57.962Z"
   },
   {
    "duration": 156,
    "start_time": "2024-02-22T21:57:57.969Z"
   },
   {
    "duration": 39,
    "start_time": "2024-02-22T21:57:58.126Z"
   },
   {
    "duration": 28,
    "start_time": "2024-02-22T21:57:58.167Z"
   },
   {
    "duration": 17,
    "start_time": "2024-02-22T21:57:58.197Z"
   },
   {
    "duration": 142,
    "start_time": "2024-02-22T21:57:58.218Z"
   },
   {
    "duration": 124,
    "start_time": "2024-02-22T21:57:58.362Z"
   },
   {
    "duration": 69,
    "start_time": "2024-02-22T21:57:58.488Z"
   },
   {
    "duration": 16,
    "start_time": "2024-02-22T21:57:58.559Z"
   },
   {
    "duration": 28,
    "start_time": "2024-02-22T21:57:58.576Z"
   },
   {
    "duration": 64,
    "start_time": "2024-02-22T21:57:58.606Z"
   },
   {
    "duration": 13,
    "start_time": "2024-02-22T21:57:58.671Z"
   },
   {
    "duration": 19,
    "start_time": "2024-02-22T21:57:58.686Z"
   },
   {
    "duration": 13,
    "start_time": "2024-02-22T21:57:58.706Z"
   },
   {
    "duration": 142,
    "start_time": "2024-02-22T21:57:58.720Z"
   },
   {
    "duration": 9,
    "start_time": "2024-02-22T21:57:58.864Z"
   },
   {
    "duration": 54,
    "start_time": "2024-02-22T21:57:58.875Z"
   },
   {
    "duration": 44,
    "start_time": "2024-02-22T21:57:58.930Z"
   },
   {
    "duration": 9,
    "start_time": "2024-02-22T21:57:58.976Z"
   },
   {
    "duration": 40,
    "start_time": "2024-02-22T21:57:58.986Z"
   },
   {
    "duration": 23,
    "start_time": "2024-02-22T21:57:59.028Z"
   },
   {
    "duration": 95,
    "start_time": "2024-02-22T21:57:59.052Z"
   },
   {
    "duration": 16,
    "start_time": "2024-02-22T21:57:59.149Z"
   },
   {
    "duration": 13,
    "start_time": "2024-02-22T21:57:59.166Z"
   },
   {
    "duration": 4,
    "start_time": "2024-02-22T21:57:59.180Z"
   },
   {
    "duration": 34,
    "start_time": "2024-02-22T21:57:59.186Z"
   },
   {
    "duration": 9,
    "start_time": "2024-02-22T21:57:59.222Z"
   },
   {
    "duration": 25,
    "start_time": "2024-02-22T21:57:59.232Z"
   },
   {
    "duration": 21,
    "start_time": "2024-02-22T21:57:59.259Z"
   },
   {
    "duration": 38,
    "start_time": "2024-02-22T21:57:59.281Z"
   },
   {
    "duration": 17,
    "start_time": "2024-02-22T21:57:59.320Z"
   },
   {
    "duration": 23,
    "start_time": "2024-02-22T21:57:59.339Z"
   },
   {
    "duration": 27,
    "start_time": "2024-02-22T21:57:59.363Z"
   },
   {
    "duration": 679,
    "start_time": "2024-02-22T21:57:59.392Z"
   },
   {
    "duration": 12,
    "start_time": "2024-02-22T21:58:00.073Z"
   },
   {
    "duration": 58,
    "start_time": "2024-02-22T21:58:00.087Z"
   },
   {
    "duration": 447,
    "start_time": "2024-02-22T21:58:00.147Z"
   },
   {
    "duration": 150,
    "start_time": "2024-02-22T21:58:00.595Z"
   },
   {
    "duration": 88,
    "start_time": "2024-02-22T21:58:43.808Z"
   },
   {
    "duration": 1386,
    "start_time": "2024-02-22T22:10:03.624Z"
   },
   {
    "duration": 18,
    "start_time": "2024-02-22T22:10:22.593Z"
   },
   {
    "duration": 18,
    "start_time": "2024-02-22T22:11:25.537Z"
   },
   {
    "duration": 18,
    "start_time": "2024-02-22T22:12:07.983Z"
   },
   {
    "duration": 18,
    "start_time": "2024-02-22T22:13:37.821Z"
   },
   {
    "duration": 1156,
    "start_time": "2024-02-22T22:17:42.156Z"
   },
   {
    "duration": 17,
    "start_time": "2024-02-22T22:18:04.891Z"
   },
   {
    "duration": 16,
    "start_time": "2024-02-22T22:19:38.566Z"
   },
   {
    "duration": 26,
    "start_time": "2024-02-22T22:21:54.848Z"
   },
   {
    "duration": 29,
    "start_time": "2024-02-22T22:22:18.368Z"
   },
   {
    "duration": 24,
    "start_time": "2024-02-22T22:22:26.071Z"
   },
   {
    "duration": 19,
    "start_time": "2024-02-22T22:32:39.611Z"
   },
   {
    "duration": 15,
    "start_time": "2024-02-22T22:32:58.868Z"
   },
   {
    "duration": 8,
    "start_time": "2024-02-22T22:36:51.899Z"
   },
   {
    "duration": 8,
    "start_time": "2024-02-22T22:39:02.252Z"
   },
   {
    "duration": 6,
    "start_time": "2024-02-22T22:40:20.627Z"
   },
   {
    "duration": 14,
    "start_time": "2024-02-22T22:41:35.051Z"
   },
   {
    "duration": 5,
    "start_time": "2024-02-22T22:41:38.394Z"
   },
   {
    "duration": 8,
    "start_time": "2024-02-22T22:41:46.047Z"
   },
   {
    "duration": 130,
    "start_time": "2024-02-22T22:43:07.903Z"
   },
   {
    "duration": 476,
    "start_time": "2024-02-22T22:43:20.565Z"
   },
   {
    "duration": 466,
    "start_time": "2024-02-22T22:43:30.643Z"
   },
   {
    "duration": 572,
    "start_time": "2024-02-22T22:43:38.130Z"
   },
   {
    "duration": 505,
    "start_time": "2024-02-22T22:43:57.154Z"
   },
   {
    "duration": 495,
    "start_time": "2024-02-22T22:44:13.093Z"
   },
   {
    "duration": 136,
    "start_time": "2024-02-22T22:46:47.749Z"
   },
   {
    "duration": 221,
    "start_time": "2024-02-22T22:48:00.545Z"
   },
   {
    "duration": 196,
    "start_time": "2024-02-22T22:48:32.605Z"
   },
   {
    "duration": 206,
    "start_time": "2024-02-22T22:48:57.911Z"
   },
   {
    "duration": 311,
    "start_time": "2024-02-22T22:49:05.269Z"
   },
   {
    "duration": 196,
    "start_time": "2024-02-22T22:49:11.592Z"
   },
   {
    "duration": 221,
    "start_time": "2024-02-22T22:49:46.113Z"
   },
   {
    "duration": 210,
    "start_time": "2024-02-22T22:50:01.519Z"
   },
   {
    "duration": 398,
    "start_time": "2024-02-22T22:53:00.555Z"
   },
   {
    "duration": 416,
    "start_time": "2024-02-22T22:53:19.244Z"
   },
   {
    "duration": 506,
    "start_time": "2024-02-22T22:53:28.149Z"
   },
   {
    "duration": 387,
    "start_time": "2024-02-22T22:53:36.429Z"
   },
   {
    "duration": 388,
    "start_time": "2024-02-22T22:53:53.633Z"
   },
   {
    "duration": 404,
    "start_time": "2024-02-22T22:54:48.360Z"
   },
   {
    "duration": 401,
    "start_time": "2024-02-22T22:55:07.947Z"
   },
   {
    "duration": 536,
    "start_time": "2024-02-22T22:55:23.378Z"
   },
   {
    "duration": 400,
    "start_time": "2024-02-22T22:55:31.597Z"
   },
   {
    "duration": 389,
    "start_time": "2024-02-22T22:55:45.379Z"
   },
   {
    "duration": 461,
    "start_time": "2024-02-22T22:59:07.367Z"
   },
   {
    "duration": 405,
    "start_time": "2024-02-22T22:59:11.628Z"
   },
   {
    "duration": 10,
    "start_time": "2024-02-22T23:04:12.121Z"
   },
   {
    "duration": 10,
    "start_time": "2024-02-22T23:06:01.115Z"
   },
   {
    "duration": 11,
    "start_time": "2024-02-22T23:06:53.837Z"
   },
   {
    "duration": 139,
    "start_time": "2024-02-22T23:09:35.610Z"
   },
   {
    "duration": 268,
    "start_time": "2024-02-22T23:09:48.024Z"
   },
   {
    "duration": 155,
    "start_time": "2024-02-22T23:10:42.375Z"
   },
   {
    "duration": 175,
    "start_time": "2024-02-22T23:12:03.767Z"
   },
   {
    "duration": 150,
    "start_time": "2024-02-22T23:12:33.533Z"
   },
   {
    "duration": 150,
    "start_time": "2024-02-22T23:12:46.965Z"
   },
   {
    "duration": 158,
    "start_time": "2024-02-22T23:12:56.909Z"
   },
   {
    "duration": 151,
    "start_time": "2024-02-22T23:15:49.378Z"
   },
   {
    "duration": 156,
    "start_time": "2024-02-22T23:21:29.715Z"
   },
   {
    "duration": 159,
    "start_time": "2024-02-22T23:22:48.112Z"
   },
   {
    "duration": 147,
    "start_time": "2024-02-22T23:23:04.121Z"
   },
   {
    "duration": 153,
    "start_time": "2024-02-22T23:23:59.383Z"
   },
   {
    "duration": 598,
    "start_time": "2024-02-22T23:26:37.877Z"
   },
   {
    "duration": 439,
    "start_time": "2024-02-22T23:27:11.629Z"
   },
   {
    "duration": 474,
    "start_time": "2024-02-22T23:27:25.236Z"
   },
   {
    "duration": 441,
    "start_time": "2024-02-22T23:29:40.394Z"
   },
   {
    "duration": 74,
    "start_time": "2024-02-22T23:32:41.979Z"
   },
   {
    "duration": 5,
    "start_time": "2024-02-22T23:32:51.373Z"
   },
   {
    "duration": 10,
    "start_time": "2024-02-22T23:36:54.361Z"
   },
   {
    "duration": 12,
    "start_time": "2024-02-22T23:37:38.624Z"
   },
   {
    "duration": 3,
    "start_time": "2024-02-22T23:39:13.553Z"
   },
   {
    "duration": 1221,
    "start_time": "2024-02-22T23:39:13.557Z"
   },
   {
    "duration": 62,
    "start_time": "2024-02-22T23:39:14.779Z"
   },
   {
    "duration": 6,
    "start_time": "2024-02-22T23:39:14.843Z"
   },
   {
    "duration": 214,
    "start_time": "2024-02-22T23:39:14.850Z"
   },
   {
    "duration": 22,
    "start_time": "2024-02-22T23:39:15.066Z"
   },
   {
    "duration": 91,
    "start_time": "2024-02-22T23:39:15.090Z"
   },
   {
    "duration": 34,
    "start_time": "2024-02-22T23:39:15.183Z"
   },
   {
    "duration": 148,
    "start_time": "2024-02-22T23:39:15.220Z"
   },
   {
    "duration": 128,
    "start_time": "2024-02-22T23:39:15.370Z"
   },
   {
    "duration": 67,
    "start_time": "2024-02-22T23:39:15.499Z"
   },
   {
    "duration": 16,
    "start_time": "2024-02-22T23:39:15.567Z"
   },
   {
    "duration": 33,
    "start_time": "2024-02-22T23:39:15.584Z"
   },
   {
    "duration": 60,
    "start_time": "2024-02-22T23:39:15.618Z"
   },
   {
    "duration": 22,
    "start_time": "2024-02-22T23:39:15.680Z"
   },
   {
    "duration": 16,
    "start_time": "2024-02-22T23:39:15.703Z"
   },
   {
    "duration": 29,
    "start_time": "2024-02-22T23:39:15.720Z"
   },
   {
    "duration": 103,
    "start_time": "2024-02-22T23:39:15.750Z"
   },
   {
    "duration": 10,
    "start_time": "2024-02-22T23:39:15.854Z"
   },
   {
    "duration": 23,
    "start_time": "2024-02-22T23:39:15.865Z"
   },
   {
    "duration": 25,
    "start_time": "2024-02-22T23:39:15.889Z"
   },
   {
    "duration": 9,
    "start_time": "2024-02-22T23:39:15.915Z"
   },
   {
    "duration": 34,
    "start_time": "2024-02-22T23:39:15.925Z"
   },
   {
    "duration": 9,
    "start_time": "2024-02-22T23:39:15.962Z"
   },
   {
    "duration": 105,
    "start_time": "2024-02-22T23:39:15.972Z"
   },
   {
    "duration": 14,
    "start_time": "2024-02-22T23:39:16.078Z"
   },
   {
    "duration": 33,
    "start_time": "2024-02-22T23:39:16.094Z"
   },
   {
    "duration": 15,
    "start_time": "2024-02-22T23:39:16.128Z"
   },
   {
    "duration": 40,
    "start_time": "2024-02-22T23:39:16.145Z"
   },
   {
    "duration": 6,
    "start_time": "2024-02-22T23:39:16.186Z"
   },
   {
    "duration": 44,
    "start_time": "2024-02-22T23:39:16.194Z"
   },
   {
    "duration": 16,
    "start_time": "2024-02-22T23:39:16.239Z"
   },
   {
    "duration": 37,
    "start_time": "2024-02-22T23:39:16.256Z"
   },
   {
    "duration": 39,
    "start_time": "2024-02-22T23:39:16.294Z"
   },
   {
    "duration": 39,
    "start_time": "2024-02-22T23:39:16.334Z"
   },
   {
    "duration": 31,
    "start_time": "2024-02-22T23:39:16.376Z"
   },
   {
    "duration": 681,
    "start_time": "2024-02-22T23:39:16.409Z"
   },
   {
    "duration": 12,
    "start_time": "2024-02-22T23:39:17.091Z"
   },
   {
    "duration": 23,
    "start_time": "2024-02-22T23:39:17.104Z"
   },
   {
    "duration": 427,
    "start_time": "2024-02-22T23:39:17.145Z"
   },
   {
    "duration": 175,
    "start_time": "2024-02-22T23:39:17.574Z"
   },
   {
    "duration": 28,
    "start_time": "2024-02-22T23:39:17.751Z"
   },
   {
    "duration": 15,
    "start_time": "2024-02-22T23:39:17.780Z"
   },
   {
    "duration": 12,
    "start_time": "2024-02-22T23:39:17.797Z"
   },
   {
    "duration": 9,
    "start_time": "2024-02-22T23:39:17.811Z"
   },
   {
    "duration": 29,
    "start_time": "2024-02-22T23:39:17.822Z"
   },
   {
    "duration": 478,
    "start_time": "2024-02-22T23:39:17.853Z"
   },
   {
    "duration": 153,
    "start_time": "2024-02-22T23:39:18.332Z"
   },
   {
    "duration": 447,
    "start_time": "2024-02-22T23:39:18.487Z"
   },
   {
    "duration": 382,
    "start_time": "2024-02-22T23:39:18.936Z"
   },
   {
    "duration": 11,
    "start_time": "2024-02-22T23:39:40.427Z"
   },
   {
    "duration": 5,
    "start_time": "2024-02-22T23:39:58.186Z"
   },
   {
    "duration": 25,
    "start_time": "2024-02-22T23:40:17.618Z"
   },
   {
    "duration": 22,
    "start_time": "2024-02-22T23:41:13.120Z"
   },
   {
    "duration": 20,
    "start_time": "2024-02-22T23:41:32.617Z"
   },
   {
    "duration": 7,
    "start_time": "2024-02-22T23:43:23.367Z"
   },
   {
    "duration": 23,
    "start_time": "2024-02-22T23:46:44.614Z"
   },
   {
    "duration": 22,
    "start_time": "2024-02-22T23:47:02.731Z"
   },
   {
    "duration": 23,
    "start_time": "2024-02-22T23:47:11.267Z"
   },
   {
    "duration": 11,
    "start_time": "2024-02-22T23:52:01.982Z"
   },
   {
    "duration": 515,
    "start_time": "2024-02-22T23:59:31.113Z"
   },
   {
    "duration": 52,
    "start_time": "2024-02-24T18:08:24.000Z"
   },
   {
    "duration": 4,
    "start_time": "2024-02-24T18:08:35.745Z"
   },
   {
    "duration": 1680,
    "start_time": "2024-02-24T18:08:35.757Z"
   },
   {
    "duration": 126,
    "start_time": "2024-02-24T18:08:37.439Z"
   },
   {
    "duration": 7,
    "start_time": "2024-02-24T18:08:37.567Z"
   },
   {
    "duration": 185,
    "start_time": "2024-02-24T18:08:37.576Z"
   },
   {
    "duration": 27,
    "start_time": "2024-02-24T18:08:37.763Z"
   },
   {
    "duration": 58,
    "start_time": "2024-02-24T18:08:37.791Z"
   },
   {
    "duration": 19,
    "start_time": "2024-02-24T18:08:37.851Z"
   },
   {
    "duration": 163,
    "start_time": "2024-02-24T18:08:37.872Z"
   },
   {
    "duration": 171,
    "start_time": "2024-02-24T18:08:38.037Z"
   },
   {
    "duration": 77,
    "start_time": "2024-02-24T18:08:38.211Z"
   },
   {
    "duration": 35,
    "start_time": "2024-02-24T18:08:38.290Z"
   },
   {
    "duration": 33,
    "start_time": "2024-02-24T18:08:38.326Z"
   },
   {
    "duration": 62,
    "start_time": "2024-02-24T18:08:38.361Z"
   },
   {
    "duration": 15,
    "start_time": "2024-02-24T18:08:38.425Z"
   },
   {
    "duration": 11,
    "start_time": "2024-02-24T18:08:38.442Z"
   },
   {
    "duration": 9,
    "start_time": "2024-02-24T18:08:38.455Z"
   },
   {
    "duration": 126,
    "start_time": "2024-02-24T18:08:38.466Z"
   },
   {
    "duration": 12,
    "start_time": "2024-02-24T18:08:38.594Z"
   },
   {
    "duration": 27,
    "start_time": "2024-02-24T18:08:38.607Z"
   },
   {
    "duration": 27,
    "start_time": "2024-02-24T18:08:38.635Z"
   },
   {
    "duration": 10,
    "start_time": "2024-02-24T18:08:38.664Z"
   },
   {
    "duration": 49,
    "start_time": "2024-02-24T18:08:38.676Z"
   },
   {
    "duration": 12,
    "start_time": "2024-02-24T18:08:38.726Z"
   },
   {
    "duration": 112,
    "start_time": "2024-02-24T18:08:38.740Z"
   },
   {
    "duration": 20,
    "start_time": "2024-02-24T18:08:38.854Z"
   },
   {
    "duration": 18,
    "start_time": "2024-02-24T18:08:38.876Z"
   },
   {
    "duration": 3,
    "start_time": "2024-02-24T18:08:38.896Z"
   },
   {
    "duration": 25,
    "start_time": "2024-02-24T18:08:38.925Z"
   },
   {
    "duration": 11,
    "start_time": "2024-02-24T18:08:38.951Z"
   },
   {
    "duration": 31,
    "start_time": "2024-02-24T18:08:38.963Z"
   },
   {
    "duration": 51,
    "start_time": "2024-02-24T18:08:38.996Z"
   },
   {
    "duration": 27,
    "start_time": "2024-02-24T18:08:39.049Z"
   },
   {
    "duration": 16,
    "start_time": "2024-02-24T18:08:39.077Z"
   },
   {
    "duration": 33,
    "start_time": "2024-02-24T18:08:39.094Z"
   },
   {
    "duration": 26,
    "start_time": "2024-02-24T18:08:39.128Z"
   },
   {
    "duration": 890,
    "start_time": "2024-02-24T18:08:39.155Z"
   },
   {
    "duration": 23,
    "start_time": "2024-02-24T18:08:40.047Z"
   },
   {
    "duration": 13,
    "start_time": "2024-02-24T18:08:40.072Z"
   },
   {
    "duration": 534,
    "start_time": "2024-02-24T18:08:40.087Z"
   },
   {
    "duration": 255,
    "start_time": "2024-02-24T18:08:40.623Z"
   },
   {
    "duration": 46,
    "start_time": "2024-02-24T18:08:40.880Z"
   },
   {
    "duration": 20,
    "start_time": "2024-02-24T18:08:40.928Z"
   },
   {
    "duration": 26,
    "start_time": "2024-02-24T18:08:40.950Z"
   },
   {
    "duration": 40,
    "start_time": "2024-02-24T18:08:40.978Z"
   },
   {
    "duration": 21,
    "start_time": "2024-02-24T18:08:41.020Z"
   },
   {
    "duration": 610,
    "start_time": "2024-02-24T18:08:41.042Z"
   },
   {
    "duration": 522,
    "start_time": "2024-02-24T18:08:41.656Z"
   },
   {
    "duration": 17,
    "start_time": "2024-02-24T18:08:42.180Z"
   },
   {
    "duration": 20,
    "start_time": "2024-02-24T18:13:23.050Z"
   },
   {
    "duration": 171,
    "start_time": "2024-02-24T18:20:24.225Z"
   },
   {
    "duration": 19,
    "start_time": "2024-02-24T18:21:32.438Z"
   },
   {
    "duration": 26,
    "start_time": "2024-02-24T18:22:05.208Z"
   },
   {
    "duration": 25,
    "start_time": "2024-02-24T18:27:24.538Z"
   },
   {
    "duration": 22,
    "start_time": "2024-02-24T18:31:57.996Z"
   },
   {
    "duration": 31,
    "start_time": "2024-02-24T18:34:02.595Z"
   },
   {
    "duration": 33,
    "start_time": "2024-02-24T18:36:22.696Z"
   },
   {
    "duration": 21,
    "start_time": "2024-02-24T18:41:16.878Z"
   },
   {
    "duration": 38,
    "start_time": "2024-02-24T18:42:36.635Z"
   },
   {
    "duration": 29,
    "start_time": "2024-02-24T18:43:38.922Z"
   },
   {
    "duration": 29,
    "start_time": "2024-02-24T18:45:05.185Z"
   },
   {
    "duration": 36,
    "start_time": "2024-02-24T18:45:33.258Z"
   },
   {
    "duration": 25,
    "start_time": "2024-02-24T18:50:29.693Z"
   },
   {
    "duration": 20,
    "start_time": "2024-02-24T18:54:30.179Z"
   },
   {
    "duration": 19,
    "start_time": "2024-02-24T18:55:26.806Z"
   },
   {
    "duration": 22,
    "start_time": "2024-02-24T18:55:47.727Z"
   },
   {
    "duration": 25,
    "start_time": "2024-02-24T18:56:31.246Z"
   },
   {
    "duration": 27,
    "start_time": "2024-02-24T18:57:57.182Z"
   },
   {
    "duration": 28,
    "start_time": "2024-02-24T18:58:30.219Z"
   },
   {
    "duration": 26,
    "start_time": "2024-02-24T18:59:19.890Z"
   },
   {
    "duration": 28,
    "start_time": "2024-02-24T19:01:50.428Z"
   },
   {
    "duration": 28,
    "start_time": "2024-02-24T19:02:10.208Z"
   },
   {
    "duration": 26,
    "start_time": "2024-02-24T19:12:47.743Z"
   },
   {
    "duration": 19,
    "start_time": "2024-02-24T19:13:21.920Z"
   },
   {
    "duration": 32,
    "start_time": "2024-02-24T19:13:54.923Z"
   },
   {
    "duration": 14,
    "start_time": "2024-02-24T19:21:05.886Z"
   },
   {
    "duration": 13,
    "start_time": "2024-02-24T19:21:24.937Z"
   },
   {
    "duration": 64,
    "start_time": "2024-02-24T19:21:34.061Z"
   },
   {
    "duration": 18,
    "start_time": "2024-02-24T19:22:51.182Z"
   },
   {
    "duration": 89,
    "start_time": "2024-02-24T19:23:17.907Z"
   },
   {
    "duration": 68,
    "start_time": "2024-02-24T19:23:23.899Z"
   },
   {
    "duration": 21,
    "start_time": "2024-02-24T19:23:31.402Z"
   },
   {
    "duration": 80,
    "start_time": "2024-02-24T19:23:38.715Z"
   },
   {
    "duration": 56,
    "start_time": "2024-02-24T19:23:45.173Z"
   },
   {
    "duration": 55,
    "start_time": "2024-02-24T19:24:56.099Z"
   },
   {
    "duration": 16,
    "start_time": "2024-02-24T19:28:18.463Z"
   },
   {
    "duration": 15,
    "start_time": "2024-02-24T19:28:42.918Z"
   },
   {
    "duration": 14,
    "start_time": "2024-02-24T19:34:43.121Z"
   },
   {
    "duration": 27,
    "start_time": "2024-02-24T19:39:31.812Z"
   },
   {
    "duration": 160,
    "start_time": "2024-02-24T19:39:51.179Z"
   },
   {
    "duration": 1160,
    "start_time": "2024-02-24T19:46:35.062Z"
   },
   {
    "duration": 58,
    "start_time": "2024-02-24T19:50:58.679Z"
   },
   {
    "duration": 69,
    "start_time": "2024-02-24T19:57:37.962Z"
   },
   {
    "duration": 65,
    "start_time": "2024-02-24T19:58:10.868Z"
   },
   {
    "duration": 73,
    "start_time": "2024-02-24T20:02:30.714Z"
   },
   {
    "duration": 67,
    "start_time": "2024-02-24T20:03:39.252Z"
   },
   {
    "duration": 16,
    "start_time": "2024-02-24T20:19:37.485Z"
   },
   {
    "duration": 111,
    "start_time": "2024-02-24T20:20:00.943Z"
   },
   {
    "duration": 76,
    "start_time": "2024-02-24T20:22:40.397Z"
   },
   {
    "duration": 97,
    "start_time": "2024-02-24T20:22:51.935Z"
   },
   {
    "duration": 102,
    "start_time": "2024-02-24T20:25:34.883Z"
   },
   {
    "duration": 93,
    "start_time": "2024-02-24T20:25:54.242Z"
   },
   {
    "duration": 99,
    "start_time": "2024-02-24T20:33:05.715Z"
   },
   {
    "duration": 88,
    "start_time": "2024-02-24T20:39:52.155Z"
   },
   {
    "duration": 80,
    "start_time": "2024-02-24T20:41:01.899Z"
   },
   {
    "duration": 78,
    "start_time": "2024-02-24T20:41:19.210Z"
   },
   {
    "duration": 94,
    "start_time": "2024-02-24T20:41:33.956Z"
   },
   {
    "duration": 80,
    "start_time": "2024-02-24T20:41:45.203Z"
   },
   {
    "duration": 27,
    "start_time": "2024-02-24T20:44:02.809Z"
   },
   {
    "duration": 84,
    "start_time": "2024-02-24T20:45:30.194Z"
   },
   {
    "duration": 4,
    "start_time": "2024-02-24T20:45:57.483Z"
   },
   {
    "duration": 1457,
    "start_time": "2024-02-24T20:45:57.489Z"
   },
   {
    "duration": 92,
    "start_time": "2024-02-24T20:45:58.948Z"
   },
   {
    "duration": 6,
    "start_time": "2024-02-24T20:45:59.042Z"
   },
   {
    "duration": 207,
    "start_time": "2024-02-24T20:45:59.050Z"
   },
   {
    "duration": 29,
    "start_time": "2024-02-24T20:45:59.259Z"
   },
   {
    "duration": 60,
    "start_time": "2024-02-24T20:45:59.290Z"
   },
   {
    "duration": 21,
    "start_time": "2024-02-24T20:45:59.351Z"
   },
   {
    "duration": 161,
    "start_time": "2024-02-24T20:45:59.374Z"
   },
   {
    "duration": 137,
    "start_time": "2024-02-24T20:45:59.537Z"
   },
   {
    "duration": 78,
    "start_time": "2024-02-24T20:45:59.676Z"
   },
   {
    "duration": 19,
    "start_time": "2024-02-24T20:45:59.756Z"
   },
   {
    "duration": 47,
    "start_time": "2024-02-24T20:45:59.777Z"
   },
   {
    "duration": 43,
    "start_time": "2024-02-24T20:45:59.826Z"
   },
   {
    "duration": 16,
    "start_time": "2024-02-24T20:45:59.871Z"
   },
   {
    "duration": 35,
    "start_time": "2024-02-24T20:45:59.888Z"
   },
   {
    "duration": 12,
    "start_time": "2024-02-24T20:45:59.925Z"
   },
   {
    "duration": 112,
    "start_time": "2024-02-24T20:45:59.939Z"
   },
   {
    "duration": 12,
    "start_time": "2024-02-24T20:46:00.052Z"
   },
   {
    "duration": 120,
    "start_time": "2024-02-24T20:46:00.065Z"
   },
   {
    "duration": 194,
    "start_time": "2024-02-24T20:46:00.187Z"
   },
   {
    "duration": 108,
    "start_time": "2024-02-24T20:46:00.383Z"
   },
   {
    "duration": 37,
    "start_time": "2024-02-24T20:46:00.493Z"
   },
   {
    "duration": 45,
    "start_time": "2024-02-24T20:46:00.533Z"
   },
   {
    "duration": 169,
    "start_time": "2024-02-24T20:46:00.579Z"
   },
   {
    "duration": 22,
    "start_time": "2024-02-24T20:46:00.749Z"
   },
   {
    "duration": 107,
    "start_time": "2024-02-24T20:46:00.773Z"
   },
   {
    "duration": 54,
    "start_time": "2024-02-24T20:46:00.882Z"
   },
   {
    "duration": 252,
    "start_time": "2024-02-24T20:46:00.938Z"
   },
   {
    "duration": 138,
    "start_time": "2024-02-24T20:46:01.192Z"
   },
   {
    "duration": 45,
    "start_time": "2024-02-24T20:46:01.331Z"
   },
   {
    "duration": 27,
    "start_time": "2024-02-24T20:46:01.378Z"
   },
   {
    "duration": 52,
    "start_time": "2024-02-24T20:46:01.407Z"
   },
   {
    "duration": 32,
    "start_time": "2024-02-24T20:46:01.461Z"
   },
   {
    "duration": 35,
    "start_time": "2024-02-24T20:46:01.495Z"
   },
   {
    "duration": 50,
    "start_time": "2024-02-24T20:46:01.532Z"
   },
   {
    "duration": 863,
    "start_time": "2024-02-24T20:46:01.583Z"
   },
   {
    "duration": 16,
    "start_time": "2024-02-24T20:46:02.447Z"
   },
   {
    "duration": 24,
    "start_time": "2024-02-24T20:46:02.464Z"
   },
   {
    "duration": 497,
    "start_time": "2024-02-24T20:46:02.490Z"
   },
   {
    "duration": 178,
    "start_time": "2024-02-24T20:46:02.989Z"
   },
   {
    "duration": 30,
    "start_time": "2024-02-24T20:46:03.168Z"
   },
   {
    "duration": 31,
    "start_time": "2024-02-24T20:46:03.199Z"
   },
   {
    "duration": 4,
    "start_time": "2024-02-24T20:46:03.232Z"
   },
   {
    "duration": 8,
    "start_time": "2024-02-24T20:46:03.237Z"
   },
   {
    "duration": 19,
    "start_time": "2024-02-24T20:46:03.247Z"
   },
   {
    "duration": 558,
    "start_time": "2024-02-24T20:46:03.268Z"
   },
   {
    "duration": 482,
    "start_time": "2024-02-24T20:46:03.828Z"
   },
   {
    "duration": 29,
    "start_time": "2024-02-24T20:46:04.312Z"
   },
   {
    "duration": 28,
    "start_time": "2024-02-24T20:46:04.343Z"
   },
   {
    "duration": 104,
    "start_time": "2024-02-24T20:46:04.373Z"
   },
   {
    "duration": 85,
    "start_time": "2024-02-24T20:46:04.479Z"
   },
   {
    "duration": 114,
    "start_time": "2024-02-24T20:46:04.566Z"
   },
   {
    "duration": 97,
    "start_time": "2024-02-24T20:46:04.682Z"
   },
   {
    "duration": 239,
    "start_time": "2024-02-24T20:47:33.201Z"
   },
   {
    "duration": 172,
    "start_time": "2024-02-24T20:47:52.140Z"
   },
   {
    "duration": 29,
    "start_time": "2024-02-24T20:48:48.387Z"
   },
   {
    "duration": 25,
    "start_time": "2024-02-24T20:50:10.849Z"
   },
   {
    "duration": 24,
    "start_time": "2024-02-24T20:50:28.136Z"
   },
   {
    "duration": 16,
    "start_time": "2024-02-24T20:53:28.950Z"
   },
   {
    "duration": 90,
    "start_time": "2024-02-24T20:53:32.791Z"
   },
   {
    "duration": 89,
    "start_time": "2024-02-24T20:53:48.271Z"
   },
   {
    "duration": 12,
    "start_time": "2024-02-24T20:55:11.156Z"
   },
   {
    "duration": 87,
    "start_time": "2024-02-24T20:55:20.107Z"
   },
   {
    "duration": 17,
    "start_time": "2024-02-24T20:56:41.619Z"
   },
   {
    "duration": 84,
    "start_time": "2024-02-24T20:56:55.699Z"
   },
   {
    "duration": 69,
    "start_time": "2024-02-24T20:58:03.347Z"
   },
   {
    "duration": 81,
    "start_time": "2024-02-24T20:58:13.233Z"
   },
   {
    "duration": 86,
    "start_time": "2024-02-24T20:58:30.957Z"
   },
   {
    "duration": 13,
    "start_time": "2024-02-24T21:01:10.390Z"
   },
   {
    "duration": 98,
    "start_time": "2024-02-24T21:01:16.972Z"
   },
   {
    "duration": 14,
    "start_time": "2024-02-24T21:03:35.458Z"
   },
   {
    "duration": 91,
    "start_time": "2024-02-24T21:03:42.609Z"
   },
   {
    "duration": 83,
    "start_time": "2024-02-24T21:04:48.272Z"
   },
   {
    "duration": 81,
    "start_time": "2024-02-24T21:05:08.746Z"
   },
   {
    "duration": 85,
    "start_time": "2024-02-24T21:05:18.961Z"
   },
   {
    "duration": 83,
    "start_time": "2024-02-24T21:06:02.905Z"
   },
   {
    "duration": 89,
    "start_time": "2024-02-24T21:07:31.473Z"
   },
   {
    "duration": 98,
    "start_time": "2024-02-24T21:09:16.703Z"
   },
   {
    "duration": 14,
    "start_time": "2024-02-24T21:09:59.449Z"
   },
   {
    "duration": 26,
    "start_time": "2024-02-24T21:10:18.178Z"
   },
   {
    "duration": 1213,
    "start_time": "2024-02-24T21:10:48.935Z"
   },
   {
    "duration": 1228,
    "start_time": "2024-02-24T21:12:45.934Z"
   },
   {
    "duration": 93,
    "start_time": "2024-02-24T21:15:08.901Z"
   },
   {
    "duration": 1176,
    "start_time": "2024-02-24T21:18:40.791Z"
   },
   {
    "duration": 111,
    "start_time": "2024-02-24T21:20:38.896Z"
   },
   {
    "duration": 77,
    "start_time": "2024-02-24T21:24:50.883Z"
   },
   {
    "duration": 3,
    "start_time": "2024-02-24T21:25:12.520Z"
   },
   {
    "duration": 1430,
    "start_time": "2024-02-24T21:25:12.525Z"
   },
   {
    "duration": 70,
    "start_time": "2024-02-24T21:25:13.957Z"
   },
   {
    "duration": 7,
    "start_time": "2024-02-24T21:25:14.029Z"
   },
   {
    "duration": 200,
    "start_time": "2024-02-24T21:25:14.038Z"
   },
   {
    "duration": 28,
    "start_time": "2024-02-24T21:25:14.240Z"
   },
   {
    "duration": 57,
    "start_time": "2024-02-24T21:25:14.270Z"
   },
   {
    "duration": 17,
    "start_time": "2024-02-24T21:25:14.329Z"
   },
   {
    "duration": 166,
    "start_time": "2024-02-24T21:25:14.349Z"
   },
   {
    "duration": 156,
    "start_time": "2024-02-24T21:25:14.524Z"
   },
   {
    "duration": 80,
    "start_time": "2024-02-24T21:25:14.682Z"
   },
   {
    "duration": 21,
    "start_time": "2024-02-24T21:25:14.764Z"
   },
   {
    "duration": 58,
    "start_time": "2024-02-24T21:25:14.787Z"
   },
   {
    "duration": 84,
    "start_time": "2024-02-24T21:25:14.847Z"
   },
   {
    "duration": 16,
    "start_time": "2024-02-24T21:25:14.932Z"
   },
   {
    "duration": 13,
    "start_time": "2024-02-24T21:25:14.950Z"
   },
   {
    "duration": 12,
    "start_time": "2024-02-24T21:25:14.965Z"
   },
   {
    "duration": 127,
    "start_time": "2024-02-24T21:25:14.979Z"
   },
   {
    "duration": 19,
    "start_time": "2024-02-24T21:25:15.108Z"
   },
   {
    "duration": 37,
    "start_time": "2024-02-24T21:25:15.129Z"
   },
   {
    "duration": 54,
    "start_time": "2024-02-24T21:25:15.168Z"
   },
   {
    "duration": 32,
    "start_time": "2024-02-24T21:25:15.224Z"
   },
   {
    "duration": 72,
    "start_time": "2024-02-24T21:25:15.258Z"
   },
   {
    "duration": 42,
    "start_time": "2024-02-24T21:25:15.334Z"
   },
   {
    "duration": 138,
    "start_time": "2024-02-24T21:25:15.378Z"
   },
   {
    "duration": 29,
    "start_time": "2024-02-24T21:25:15.518Z"
   },
   {
    "duration": 45,
    "start_time": "2024-02-24T21:25:15.550Z"
   },
   {
    "duration": 11,
    "start_time": "2024-02-24T21:25:15.597Z"
   },
   {
    "duration": 42,
    "start_time": "2024-02-24T21:25:15.610Z"
   },
   {
    "duration": 22,
    "start_time": "2024-02-24T21:25:15.654Z"
   },
   {
    "duration": 42,
    "start_time": "2024-02-24T21:25:15.678Z"
   },
   {
    "duration": 20,
    "start_time": "2024-02-24T21:25:15.722Z"
   },
   {
    "duration": 24,
    "start_time": "2024-02-24T21:25:15.744Z"
   },
   {
    "duration": 16,
    "start_time": "2024-02-24T21:25:15.770Z"
   },
   {
    "duration": 33,
    "start_time": "2024-02-24T21:25:15.788Z"
   },
   {
    "duration": 31,
    "start_time": "2024-02-24T21:25:15.823Z"
   },
   {
    "duration": 825,
    "start_time": "2024-02-24T21:25:15.856Z"
   },
   {
    "duration": 45,
    "start_time": "2024-02-24T21:25:16.683Z"
   },
   {
    "duration": 13,
    "start_time": "2024-02-24T21:25:16.729Z"
   },
   {
    "duration": 495,
    "start_time": "2024-02-24T21:25:16.743Z"
   },
   {
    "duration": 219,
    "start_time": "2024-02-24T21:25:17.240Z"
   },
   {
    "duration": 33,
    "start_time": "2024-02-24T21:25:17.461Z"
   },
   {
    "duration": 32,
    "start_time": "2024-02-24T21:25:17.496Z"
   },
   {
    "duration": 4,
    "start_time": "2024-02-24T21:25:17.530Z"
   },
   {
    "duration": 13,
    "start_time": "2024-02-24T21:25:17.535Z"
   },
   {
    "duration": 15,
    "start_time": "2024-02-24T21:25:17.549Z"
   },
   {
    "duration": 592,
    "start_time": "2024-02-24T21:25:17.566Z"
   },
   {
    "duration": 502,
    "start_time": "2024-02-24T21:25:18.159Z"
   },
   {
    "duration": 20,
    "start_time": "2024-02-24T21:25:18.662Z"
   },
   {
    "duration": 55,
    "start_time": "2024-02-24T21:25:18.684Z"
   },
   {
    "duration": 85,
    "start_time": "2024-02-24T21:25:18.741Z"
   },
   {
    "duration": 65,
    "start_time": "2024-02-24T21:25:18.827Z"
   },
   {
    "duration": 100,
    "start_time": "2024-02-24T21:25:18.894Z"
   },
   {
    "duration": 110,
    "start_time": "2024-02-24T21:25:18.996Z"
   },
   {
    "duration": 167,
    "start_time": "2024-02-24T21:29:50.463Z"
   },
   {
    "duration": 32,
    "start_time": "2024-02-24T21:31:41.838Z"
   },
   {
    "duration": 21,
    "start_time": "2024-02-24T21:33:10.340Z"
   },
   {
    "duration": 22,
    "start_time": "2024-02-24T21:33:40.815Z"
   },
   {
    "duration": 17,
    "start_time": "2024-02-24T21:36:48.585Z"
   },
   {
    "duration": 28,
    "start_time": "2024-02-24T21:37:25.441Z"
   },
   {
    "duration": 1180,
    "start_time": "2024-02-24T21:38:21.705Z"
   },
   {
    "duration": 8425,
    "start_time": "2024-02-24T21:38:41.081Z"
   },
   {
    "duration": 3,
    "start_time": "2024-02-24T21:39:21.281Z"
   },
   {
    "duration": 1544,
    "start_time": "2024-02-24T21:39:21.287Z"
   },
   {
    "duration": 132,
    "start_time": "2024-02-24T21:39:22.834Z"
   },
   {
    "duration": 8,
    "start_time": "2024-02-24T21:39:22.968Z"
   },
   {
    "duration": 186,
    "start_time": "2024-02-24T21:39:22.979Z"
   },
   {
    "duration": 27,
    "start_time": "2024-02-24T21:39:23.167Z"
   },
   {
    "duration": 35,
    "start_time": "2024-02-24T21:39:23.222Z"
   },
   {
    "duration": 27,
    "start_time": "2024-02-24T21:39:23.259Z"
   },
   {
    "duration": 151,
    "start_time": "2024-02-24T21:39:23.287Z"
   },
   {
    "duration": 148,
    "start_time": "2024-02-24T21:39:23.439Z"
   },
   {
    "duration": 80,
    "start_time": "2024-02-24T21:39:23.590Z"
   },
   {
    "duration": 19,
    "start_time": "2024-02-24T21:39:23.672Z"
   },
   {
    "duration": 44,
    "start_time": "2024-02-24T21:39:23.693Z"
   },
   {
    "duration": 64,
    "start_time": "2024-02-24T21:39:23.739Z"
   },
   {
    "duration": 23,
    "start_time": "2024-02-24T21:39:23.822Z"
   },
   {
    "duration": 16,
    "start_time": "2024-02-24T21:39:23.847Z"
   },
   {
    "duration": 15,
    "start_time": "2024-02-24T21:39:23.865Z"
   },
   {
    "duration": 128,
    "start_time": "2024-02-24T21:39:23.881Z"
   },
   {
    "duration": 26,
    "start_time": "2024-02-24T21:39:24.011Z"
   },
   {
    "duration": 18,
    "start_time": "2024-02-24T21:39:24.039Z"
   },
   {
    "duration": 29,
    "start_time": "2024-02-24T21:39:24.059Z"
   },
   {
    "duration": 37,
    "start_time": "2024-02-24T21:39:24.090Z"
   },
   {
    "duration": 36,
    "start_time": "2024-02-24T21:39:24.129Z"
   },
   {
    "duration": 16,
    "start_time": "2024-02-24T21:39:24.168Z"
   },
   {
    "duration": 141,
    "start_time": "2024-02-24T21:39:24.186Z"
   },
   {
    "duration": 20,
    "start_time": "2024-02-24T21:39:24.329Z"
   },
   {
    "duration": 20,
    "start_time": "2024-02-24T21:39:24.350Z"
   },
   {
    "duration": 15,
    "start_time": "2024-02-24T21:39:24.372Z"
   },
   {
    "duration": 43,
    "start_time": "2024-02-24T21:39:24.392Z"
   },
   {
    "duration": 9,
    "start_time": "2024-02-24T21:39:24.437Z"
   },
   {
    "duration": 30,
    "start_time": "2024-02-24T21:39:24.448Z"
   },
   {
    "duration": 22,
    "start_time": "2024-02-24T21:39:24.480Z"
   },
   {
    "duration": 20,
    "start_time": "2024-02-24T21:39:24.522Z"
   },
   {
    "duration": 16,
    "start_time": "2024-02-24T21:39:24.543Z"
   },
   {
    "duration": 20,
    "start_time": "2024-02-24T21:39:24.561Z"
   },
   {
    "duration": 50,
    "start_time": "2024-02-24T21:39:24.583Z"
   },
   {
    "duration": 909,
    "start_time": "2024-02-24T21:39:24.635Z"
   },
   {
    "duration": 17,
    "start_time": "2024-02-24T21:39:25.546Z"
   },
   {
    "duration": 27,
    "start_time": "2024-02-24T21:39:25.565Z"
   },
   {
    "duration": 545,
    "start_time": "2024-02-24T21:39:25.594Z"
   },
   {
    "duration": 206,
    "start_time": "2024-02-24T21:39:26.141Z"
   },
   {
    "duration": 32,
    "start_time": "2024-02-24T21:39:26.348Z"
   },
   {
    "duration": 17,
    "start_time": "2024-02-24T21:39:26.382Z"
   },
   {
    "duration": 4,
    "start_time": "2024-02-24T21:39:26.424Z"
   },
   {
    "duration": 11,
    "start_time": "2024-02-24T21:39:26.430Z"
   },
   {
    "duration": 46,
    "start_time": "2024-02-24T21:39:26.443Z"
   },
   {
    "duration": 583,
    "start_time": "2024-02-24T21:39:26.491Z"
   },
   {
    "duration": 777,
    "start_time": "2024-02-24T21:39:27.076Z"
   },
   {
    "duration": 75,
    "start_time": "2024-02-24T21:39:27.855Z"
   },
   {
    "duration": 30,
    "start_time": "2024-02-24T21:39:27.931Z"
   },
   {
    "duration": 174,
    "start_time": "2024-02-24T21:39:27.963Z"
   },
   {
    "duration": 122,
    "start_time": "2024-02-24T21:39:28.138Z"
   },
   {
    "duration": 79,
    "start_time": "2024-02-24T21:39:28.261Z"
   },
   {
    "duration": 492,
    "start_time": "2024-02-24T21:39:28.342Z"
   },
   {
    "duration": 0,
    "start_time": "2024-02-24T21:39:28.837Z"
   },
   {
    "duration": 13,
    "start_time": "2024-02-24T21:40:38.270Z"
   },
   {
    "duration": 88,
    "start_time": "2024-02-24T21:41:58.711Z"
   },
   {
    "duration": 75,
    "start_time": "2024-02-24T21:45:32.088Z"
   },
   {
    "duration": 19,
    "start_time": "2024-02-24T21:47:29.451Z"
   },
   {
    "duration": 17,
    "start_time": "2024-02-24T21:47:55.252Z"
   },
   {
    "duration": 72,
    "start_time": "2024-02-24T21:48:21.281Z"
   },
   {
    "duration": 207,
    "start_time": "2024-02-24T21:50:21.433Z"
   },
   {
    "duration": 22,
    "start_time": "2024-02-24T21:54:40.708Z"
   },
   {
    "duration": 25,
    "start_time": "2024-02-24T21:55:51.696Z"
   },
   {
    "duration": 21,
    "start_time": "2024-02-24T21:56:48.961Z"
   },
   {
    "duration": 22,
    "start_time": "2024-02-24T21:57:05.592Z"
   },
   {
    "duration": 26,
    "start_time": "2024-02-24T21:58:54.220Z"
   },
   {
    "duration": 25,
    "start_time": "2024-02-24T21:59:01.453Z"
   },
   {
    "duration": 16,
    "start_time": "2024-02-24T22:00:46.763Z"
   },
   {
    "duration": 20,
    "start_time": "2024-02-24T22:01:31.386Z"
   },
   {
    "duration": 1215,
    "start_time": "2024-02-24T22:05:34.233Z"
   },
   {
    "duration": 72,
    "start_time": "2024-02-24T22:06:26.441Z"
   },
   {
    "duration": 19,
    "start_time": "2024-02-24T22:06:41.621Z"
   },
   {
    "duration": 1900,
    "start_time": "2024-02-24T22:07:13.877Z"
   },
   {
    "duration": 4,
    "start_time": "2024-02-24T22:07:31.710Z"
   },
   {
    "duration": 16,
    "start_time": "2024-02-24T22:07:37.411Z"
   },
   {
    "duration": 12,
    "start_time": "2024-02-24T22:07:59.676Z"
   },
   {
    "duration": 21,
    "start_time": "2024-02-24T22:08:30.691Z"
   },
   {
    "duration": 13,
    "start_time": "2024-02-24T22:08:44.458Z"
   },
   {
    "duration": 23,
    "start_time": "2024-02-24T22:15:11.063Z"
   },
   {
    "duration": 29,
    "start_time": "2024-02-24T22:16:44.676Z"
   },
   {
    "duration": 30,
    "start_time": "2024-02-24T22:17:00.698Z"
   },
   {
    "duration": 23,
    "start_time": "2024-02-24T22:18:44.459Z"
   },
   {
    "duration": 66,
    "start_time": "2024-02-24T22:19:27.182Z"
   },
   {
    "duration": 65,
    "start_time": "2024-02-24T22:20:19.121Z"
   },
   {
    "duration": 78,
    "start_time": "2024-02-24T22:20:39.979Z"
   },
   {
    "duration": 75,
    "start_time": "2024-02-24T22:22:36.462Z"
   },
   {
    "duration": 13,
    "start_time": "2024-02-24T22:25:11.469Z"
   },
   {
    "duration": 29,
    "start_time": "2024-02-24T22:25:18.969Z"
   },
   {
    "duration": 27,
    "start_time": "2024-02-24T22:26:07.779Z"
   },
   {
    "duration": 4,
    "start_time": "2024-02-24T22:26:56.002Z"
   },
   {
    "duration": 5,
    "start_time": "2024-02-24T22:27:28.719Z"
   },
   {
    "duration": 5,
    "start_time": "2024-02-24T22:29:24.694Z"
   },
   {
    "duration": 6,
    "start_time": "2024-02-24T22:29:39.222Z"
   },
   {
    "duration": 7,
    "start_time": "2024-02-24T22:29:47.918Z"
   },
   {
    "duration": 440,
    "start_time": "2024-02-24T22:35:34.706Z"
   },
   {
    "duration": 384,
    "start_time": "2024-02-24T22:37:48.276Z"
   },
   {
    "duration": 389,
    "start_time": "2024-02-24T22:38:34.168Z"
   },
   {
    "duration": 405,
    "start_time": "2024-02-24T22:45:24.231Z"
   },
   {
    "duration": 219,
    "start_time": "2024-02-24T22:47:27.341Z"
   },
   {
    "duration": 168,
    "start_time": "2024-02-24T22:52:23.742Z"
   },
   {
    "duration": 213,
    "start_time": "2024-02-24T22:54:36.701Z"
   },
   {
    "duration": 25,
    "start_time": "2024-02-24T22:55:30.230Z"
   },
   {
    "duration": 207,
    "start_time": "2024-02-24T22:57:52.232Z"
   },
   {
    "duration": 85,
    "start_time": "2024-02-24T23:00:25.747Z"
   },
   {
    "duration": 186,
    "start_time": "2024-02-24T23:00:36.446Z"
   },
   {
    "duration": 80,
    "start_time": "2024-02-24T23:06:40.906Z"
   },
   {
    "duration": 182,
    "start_time": "2024-02-24T23:06:57.319Z"
   },
   {
    "duration": 4,
    "start_time": "2024-02-24T23:07:40.071Z"
   },
   {
    "duration": 1466,
    "start_time": "2024-02-24T23:07:40.079Z"
   },
   {
    "duration": 70,
    "start_time": "2024-02-24T23:07:41.547Z"
   },
   {
    "duration": 7,
    "start_time": "2024-02-24T23:07:41.618Z"
   },
   {
    "duration": 200,
    "start_time": "2024-02-24T23:07:41.627Z"
   },
   {
    "duration": 27,
    "start_time": "2024-02-24T23:07:41.830Z"
   },
   {
    "duration": 36,
    "start_time": "2024-02-24T23:07:41.858Z"
   },
   {
    "duration": 40,
    "start_time": "2024-02-24T23:07:41.896Z"
   },
   {
    "duration": 160,
    "start_time": "2024-02-24T23:07:41.937Z"
   },
   {
    "duration": 154,
    "start_time": "2024-02-24T23:07:42.099Z"
   },
   {
    "duration": 104,
    "start_time": "2024-02-24T23:07:42.254Z"
   },
   {
    "duration": 21,
    "start_time": "2024-02-24T23:07:42.360Z"
   },
   {
    "duration": 37,
    "start_time": "2024-02-24T23:07:42.392Z"
   },
   {
    "duration": 49,
    "start_time": "2024-02-24T23:07:42.432Z"
   },
   {
    "duration": 47,
    "start_time": "2024-02-24T23:07:42.485Z"
   },
   {
    "duration": 11,
    "start_time": "2024-02-24T23:07:42.534Z"
   },
   {
    "duration": 9,
    "start_time": "2024-02-24T23:07:42.547Z"
   },
   {
    "duration": 136,
    "start_time": "2024-02-24T23:07:42.557Z"
   },
   {
    "duration": 11,
    "start_time": "2024-02-24T23:07:42.695Z"
   },
   {
    "duration": 26,
    "start_time": "2024-02-24T23:07:42.708Z"
   },
   {
    "duration": 28,
    "start_time": "2024-02-24T23:07:42.736Z"
   },
   {
    "duration": 11,
    "start_time": "2024-02-24T23:07:42.766Z"
   },
   {
    "duration": 49,
    "start_time": "2024-02-24T23:07:42.779Z"
   },
   {
    "duration": 11,
    "start_time": "2024-02-24T23:07:42.829Z"
   },
   {
    "duration": 114,
    "start_time": "2024-02-24T23:07:42.841Z"
   },
   {
    "duration": 19,
    "start_time": "2024-02-24T23:07:42.956Z"
   },
   {
    "duration": 18,
    "start_time": "2024-02-24T23:07:42.976Z"
   },
   {
    "duration": 2,
    "start_time": "2024-02-24T23:07:42.996Z"
   },
   {
    "duration": 46,
    "start_time": "2024-02-24T23:07:43.000Z"
   },
   {
    "duration": 9,
    "start_time": "2024-02-24T23:07:43.047Z"
   },
   {
    "duration": 20,
    "start_time": "2024-02-24T23:07:43.057Z"
   },
   {
    "duration": 45,
    "start_time": "2024-02-24T23:07:43.079Z"
   },
   {
    "duration": 19,
    "start_time": "2024-02-24T23:07:43.125Z"
   },
   {
    "duration": 16,
    "start_time": "2024-02-24T23:07:43.146Z"
   },
   {
    "duration": 18,
    "start_time": "2024-02-24T23:07:43.163Z"
   },
   {
    "duration": 56,
    "start_time": "2024-02-24T23:07:43.182Z"
   },
   {
    "duration": 920,
    "start_time": "2024-02-24T23:07:43.240Z"
   },
   {
    "duration": 17,
    "start_time": "2024-02-24T23:07:44.162Z"
   },
   {
    "duration": 50,
    "start_time": "2024-02-24T23:07:44.180Z"
   },
   {
    "duration": 502,
    "start_time": "2024-02-24T23:07:44.232Z"
   },
   {
    "duration": 221,
    "start_time": "2024-02-24T23:07:44.736Z"
   },
   {
    "duration": 76,
    "start_time": "2024-02-24T23:07:44.961Z"
   },
   {
    "duration": 18,
    "start_time": "2024-02-24T23:07:45.039Z"
   },
   {
    "duration": 38,
    "start_time": "2024-02-24T23:07:45.059Z"
   },
   {
    "duration": 22,
    "start_time": "2024-02-24T23:07:45.099Z"
   },
   {
    "duration": 32,
    "start_time": "2024-02-24T23:07:45.124Z"
   },
   {
    "duration": 570,
    "start_time": "2024-02-24T23:07:45.158Z"
   },
   {
    "duration": 494,
    "start_time": "2024-02-24T23:07:45.729Z"
   },
   {
    "duration": 20,
    "start_time": "2024-02-24T23:07:46.225Z"
   },
   {
    "duration": 25,
    "start_time": "2024-02-24T23:07:46.246Z"
   },
   {
    "duration": 166,
    "start_time": "2024-02-24T23:07:46.273Z"
   },
   {
    "duration": 82,
    "start_time": "2024-02-24T23:07:46.441Z"
   },
   {
    "duration": 5,
    "start_time": "2024-02-24T23:07:46.525Z"
   },
   {
    "duration": 463,
    "start_time": "2024-02-24T23:07:46.532Z"
   },
   {
    "duration": 28,
    "start_time": "2024-02-24T23:07:46.997Z"
   },
   {
    "duration": 267,
    "start_time": "2024-02-24T23:07:47.026Z"
   },
   {
    "duration": 84,
    "start_time": "2024-02-24T23:07:47.295Z"
   },
   {
    "duration": 257,
    "start_time": "2024-02-24T23:09:34.789Z"
   },
   {
    "duration": 128,
    "start_time": "2024-02-24T23:10:47.484Z"
   },
   {
    "duration": 76,
    "start_time": "2024-02-24T23:10:58.131Z"
   },
   {
    "duration": 396,
    "start_time": "2024-02-24T23:11:18.210Z"
   },
   {
    "duration": 384,
    "start_time": "2024-02-24T23:13:04.735Z"
   },
   {
    "duration": 240,
    "start_time": "2024-02-24T23:13:26.195Z"
   },
   {
    "duration": 204,
    "start_time": "2024-02-24T23:13:44.465Z"
   },
   {
    "duration": 3,
    "start_time": "2024-02-24T23:14:20.170Z"
   },
   {
    "duration": 1471,
    "start_time": "2024-02-24T23:14:20.177Z"
   },
   {
    "duration": 70,
    "start_time": "2024-02-24T23:14:21.651Z"
   },
   {
    "duration": 9,
    "start_time": "2024-02-24T23:14:21.723Z"
   },
   {
    "duration": 228,
    "start_time": "2024-02-24T23:14:21.735Z"
   },
   {
    "duration": 28,
    "start_time": "2024-02-24T23:14:21.964Z"
   },
   {
    "duration": 58,
    "start_time": "2024-02-24T23:14:21.994Z"
   },
   {
    "duration": 21,
    "start_time": "2024-02-24T23:14:22.053Z"
   },
   {
    "duration": 153,
    "start_time": "2024-02-24T23:14:22.076Z"
   },
   {
    "duration": 141,
    "start_time": "2024-02-24T23:14:22.231Z"
   },
   {
    "duration": 85,
    "start_time": "2024-02-24T23:14:22.374Z"
   },
   {
    "duration": 19,
    "start_time": "2024-02-24T23:14:22.461Z"
   },
   {
    "duration": 48,
    "start_time": "2024-02-24T23:14:22.482Z"
   },
   {
    "duration": 48,
    "start_time": "2024-02-24T23:14:22.532Z"
   },
   {
    "duration": 16,
    "start_time": "2024-02-24T23:14:22.582Z"
   },
   {
    "duration": 12,
    "start_time": "2024-02-24T23:14:22.622Z"
   },
   {
    "duration": 18,
    "start_time": "2024-02-24T23:14:22.636Z"
   },
   {
    "duration": 116,
    "start_time": "2024-02-24T23:14:22.656Z"
   },
   {
    "duration": 12,
    "start_time": "2024-02-24T23:14:22.773Z"
   },
   {
    "duration": 22,
    "start_time": "2024-02-24T23:14:22.787Z"
   },
   {
    "duration": 40,
    "start_time": "2024-02-24T23:14:22.811Z"
   },
   {
    "duration": 13,
    "start_time": "2024-02-24T23:14:22.853Z"
   },
   {
    "duration": 25,
    "start_time": "2024-02-24T23:14:22.867Z"
   },
   {
    "duration": 38,
    "start_time": "2024-02-24T23:14:22.894Z"
   },
   {
    "duration": 115,
    "start_time": "2024-02-24T23:14:22.934Z"
   },
   {
    "duration": 20,
    "start_time": "2024-02-24T23:14:23.050Z"
   },
   {
    "duration": 17,
    "start_time": "2024-02-24T23:14:23.072Z"
   },
   {
    "duration": 3,
    "start_time": "2024-02-24T23:14:23.091Z"
   },
   {
    "duration": 53,
    "start_time": "2024-02-24T23:14:23.097Z"
   },
   {
    "duration": 11,
    "start_time": "2024-02-24T23:14:23.152Z"
   },
   {
    "duration": 38,
    "start_time": "2024-02-24T23:14:23.165Z"
   },
   {
    "duration": 35,
    "start_time": "2024-02-24T23:14:23.205Z"
   },
   {
    "duration": 21,
    "start_time": "2024-02-24T23:14:23.242Z"
   },
   {
    "duration": 13,
    "start_time": "2024-02-24T23:14:23.264Z"
   },
   {
    "duration": 18,
    "start_time": "2024-02-24T23:14:23.279Z"
   },
   {
    "duration": 52,
    "start_time": "2024-02-24T23:14:23.299Z"
   },
   {
    "duration": 913,
    "start_time": "2024-02-24T23:14:23.353Z"
   },
   {
    "duration": 23,
    "start_time": "2024-02-24T23:14:24.268Z"
   },
   {
    "duration": 46,
    "start_time": "2024-02-24T23:14:24.293Z"
   },
   {
    "duration": 509,
    "start_time": "2024-02-24T23:14:24.341Z"
   },
   {
    "duration": 203,
    "start_time": "2024-02-24T23:14:24.852Z"
   },
   {
    "duration": 31,
    "start_time": "2024-02-24T23:14:25.057Z"
   },
   {
    "duration": 34,
    "start_time": "2024-02-24T23:14:25.090Z"
   },
   {
    "duration": 4,
    "start_time": "2024-02-24T23:14:25.126Z"
   },
   {
    "duration": 18,
    "start_time": "2024-02-24T23:14:25.132Z"
   },
   {
    "duration": 28,
    "start_time": "2024-02-24T23:14:25.152Z"
   },
   {
    "duration": 541,
    "start_time": "2024-02-24T23:14:25.182Z"
   },
   {
    "duration": 501,
    "start_time": "2024-02-24T23:14:25.725Z"
   },
   {
    "duration": 21,
    "start_time": "2024-02-24T23:14:26.227Z"
   },
   {
    "duration": 27,
    "start_time": "2024-02-24T23:14:26.249Z"
   },
   {
    "duration": 152,
    "start_time": "2024-02-24T23:14:26.278Z"
   },
   {
    "duration": 62,
    "start_time": "2024-02-24T23:14:26.432Z"
   },
   {
    "duration": 29,
    "start_time": "2024-02-24T23:14:26.495Z"
   },
   {
    "duration": 388,
    "start_time": "2024-02-24T23:14:26.525Z"
   },
   {
    "duration": 28,
    "start_time": "2024-02-24T23:14:26.915Z"
   },
   {
    "duration": 337,
    "start_time": "2024-02-24T23:14:26.945Z"
   },
   {
    "duration": 88,
    "start_time": "2024-02-24T23:14:27.284Z"
   },
   {
    "duration": 25,
    "start_time": "2024-02-24T23:14:57.984Z"
   },
   {
    "duration": 15,
    "start_time": "2024-02-24T23:15:59.510Z"
   },
   {
    "duration": 4,
    "start_time": "2024-02-24T23:16:41.130Z"
   },
   {
    "duration": 1471,
    "start_time": "2024-02-24T23:16:41.137Z"
   },
   {
    "duration": 69,
    "start_time": "2024-02-24T23:16:42.610Z"
   },
   {
    "duration": 7,
    "start_time": "2024-02-24T23:16:42.681Z"
   },
   {
    "duration": 238,
    "start_time": "2024-02-24T23:16:42.690Z"
   },
   {
    "duration": 28,
    "start_time": "2024-02-24T23:16:42.929Z"
   },
   {
    "duration": 69,
    "start_time": "2024-02-24T23:16:42.958Z"
   },
   {
    "duration": 27,
    "start_time": "2024-02-24T23:16:43.031Z"
   },
   {
    "duration": 163,
    "start_time": "2024-02-24T23:16:43.060Z"
   },
   {
    "duration": 138,
    "start_time": "2024-02-24T23:16:43.225Z"
   },
   {
    "duration": 84,
    "start_time": "2024-02-24T23:16:43.366Z"
   },
   {
    "duration": 21,
    "start_time": "2024-02-24T23:16:43.452Z"
   },
   {
    "duration": 48,
    "start_time": "2024-02-24T23:16:43.475Z"
   },
   {
    "duration": 61,
    "start_time": "2024-02-24T23:16:43.525Z"
   },
   {
    "duration": 37,
    "start_time": "2024-02-24T23:16:43.588Z"
   },
   {
    "duration": 11,
    "start_time": "2024-02-24T23:16:43.627Z"
   },
   {
    "duration": 23,
    "start_time": "2024-02-24T23:16:43.640Z"
   },
   {
    "duration": 113,
    "start_time": "2024-02-24T23:16:43.665Z"
   },
   {
    "duration": 12,
    "start_time": "2024-02-24T23:16:43.779Z"
   },
   {
    "duration": 31,
    "start_time": "2024-02-24T23:16:43.793Z"
   },
   {
    "duration": 28,
    "start_time": "2024-02-24T23:16:43.826Z"
   },
   {
    "duration": 12,
    "start_time": "2024-02-24T23:16:43.856Z"
   },
   {
    "duration": 23,
    "start_time": "2024-02-24T23:16:43.869Z"
   },
   {
    "duration": 33,
    "start_time": "2024-02-24T23:16:43.894Z"
   },
   {
    "duration": 106,
    "start_time": "2024-02-24T23:16:43.928Z"
   },
   {
    "duration": 19,
    "start_time": "2024-02-24T23:16:44.035Z"
   },
   {
    "duration": 18,
    "start_time": "2024-02-24T23:16:44.056Z"
   },
   {
    "duration": 3,
    "start_time": "2024-02-24T23:16:44.076Z"
   },
   {
    "duration": 61,
    "start_time": "2024-02-24T23:16:44.084Z"
   },
   {
    "duration": 11,
    "start_time": "2024-02-24T23:16:44.147Z"
   },
   {
    "duration": 37,
    "start_time": "2024-02-24T23:16:44.160Z"
   },
   {
    "duration": 43,
    "start_time": "2024-02-24T23:16:44.199Z"
   },
   {
    "duration": 31,
    "start_time": "2024-02-24T23:16:44.244Z"
   },
   {
    "duration": 8,
    "start_time": "2024-02-24T23:16:44.277Z"
   },
   {
    "duration": 41,
    "start_time": "2024-02-24T23:16:44.287Z"
   },
   {
    "duration": 41,
    "start_time": "2024-02-24T23:16:44.330Z"
   },
   {
    "duration": 871,
    "start_time": "2024-02-24T23:16:44.372Z"
   },
   {
    "duration": 16,
    "start_time": "2024-02-24T23:16:45.245Z"
   },
   {
    "duration": 63,
    "start_time": "2024-02-24T23:16:45.263Z"
   },
   {
    "duration": 522,
    "start_time": "2024-02-24T23:16:45.328Z"
   },
   {
    "duration": 191,
    "start_time": "2024-02-24T23:16:45.852Z"
   },
   {
    "duration": 30,
    "start_time": "2024-02-24T23:16:46.045Z"
   },
   {
    "duration": 17,
    "start_time": "2024-02-24T23:16:46.077Z"
   },
   {
    "duration": 3,
    "start_time": "2024-02-24T23:16:46.096Z"
   },
   {
    "duration": 27,
    "start_time": "2024-02-24T23:16:46.101Z"
   },
   {
    "duration": 13,
    "start_time": "2024-02-24T23:16:46.130Z"
   },
   {
    "duration": 527,
    "start_time": "2024-02-24T23:16:46.145Z"
   },
   {
    "duration": 687,
    "start_time": "2024-02-24T23:16:46.674Z"
   },
   {
    "duration": 74,
    "start_time": "2024-02-24T23:16:47.362Z"
   },
   {
    "duration": 26,
    "start_time": "2024-02-24T23:16:47.437Z"
   },
   {
    "duration": 362,
    "start_time": "2024-02-24T23:16:47.465Z"
   },
   {
    "duration": 111,
    "start_time": "2024-02-24T23:16:47.828Z"
   },
   {
    "duration": 12,
    "start_time": "2024-02-24T23:16:47.940Z"
   },
   {
    "duration": 6,
    "start_time": "2024-02-24T23:16:47.953Z"
   },
   {
    "duration": 791,
    "start_time": "2024-02-24T23:16:47.961Z"
   },
   {
    "duration": 25,
    "start_time": "2024-02-24T23:16:48.754Z"
   },
   {
    "duration": 313,
    "start_time": "2024-02-24T23:16:48.781Z"
   },
   {
    "duration": 82,
    "start_time": "2024-02-24T23:16:49.096Z"
   },
   {
    "duration": 4,
    "start_time": "2024-02-24T23:26:32.925Z"
   },
   {
    "duration": 1505,
    "start_time": "2024-02-24T23:26:32.930Z"
   },
   {
    "duration": 68,
    "start_time": "2024-02-24T23:26:34.437Z"
   },
   {
    "duration": 6,
    "start_time": "2024-02-24T23:26:34.507Z"
   },
   {
    "duration": 192,
    "start_time": "2024-02-24T23:26:34.515Z"
   },
   {
    "duration": 27,
    "start_time": "2024-02-24T23:26:34.722Z"
   },
   {
    "duration": 49,
    "start_time": "2024-02-24T23:26:34.751Z"
   },
   {
    "duration": 36,
    "start_time": "2024-02-24T23:26:34.802Z"
   },
   {
    "duration": 163,
    "start_time": "2024-02-24T23:26:34.841Z"
   },
   {
    "duration": 144,
    "start_time": "2024-02-24T23:26:35.006Z"
   },
   {
    "duration": 84,
    "start_time": "2024-02-24T23:26:35.153Z"
   },
   {
    "duration": 20,
    "start_time": "2024-02-24T23:26:35.239Z"
   },
   {
    "duration": 30,
    "start_time": "2024-02-24T23:26:35.261Z"
   },
   {
    "duration": 74,
    "start_time": "2024-02-24T23:26:35.293Z"
   },
   {
    "duration": 16,
    "start_time": "2024-02-24T23:26:35.369Z"
   },
   {
    "duration": 11,
    "start_time": "2024-02-24T23:26:35.386Z"
   },
   {
    "duration": 27,
    "start_time": "2024-02-24T23:26:35.399Z"
   },
   {
    "duration": 111,
    "start_time": "2024-02-24T23:26:35.428Z"
   },
   {
    "duration": 12,
    "start_time": "2024-02-24T23:26:35.541Z"
   },
   {
    "duration": 21,
    "start_time": "2024-02-24T23:26:35.554Z"
   },
   {
    "duration": 47,
    "start_time": "2024-02-24T23:26:35.576Z"
   },
   {
    "duration": 11,
    "start_time": "2024-02-24T23:26:35.625Z"
   },
   {
    "duration": 34,
    "start_time": "2024-02-24T23:26:35.638Z"
   },
   {
    "duration": 11,
    "start_time": "2024-02-24T23:26:35.674Z"
   },
   {
    "duration": 108,
    "start_time": "2024-02-24T23:26:35.687Z"
   },
   {
    "duration": 29,
    "start_time": "2024-02-24T23:26:35.797Z"
   },
   {
    "duration": 17,
    "start_time": "2024-02-24T23:26:35.828Z"
   },
   {
    "duration": 3,
    "start_time": "2024-02-24T23:26:35.847Z"
   },
   {
    "duration": 26,
    "start_time": "2024-02-24T23:26:35.853Z"
   },
   {
    "duration": 8,
    "start_time": "2024-02-24T23:26:35.880Z"
   },
   {
    "duration": 50,
    "start_time": "2024-02-24T23:26:35.890Z"
   },
   {
    "duration": 18,
    "start_time": "2024-02-24T23:26:35.941Z"
   },
   {
    "duration": 20,
    "start_time": "2024-02-24T23:26:35.961Z"
   },
   {
    "duration": 8,
    "start_time": "2024-02-24T23:26:35.983Z"
   },
   {
    "duration": 44,
    "start_time": "2024-02-24T23:26:35.992Z"
   },
   {
    "duration": 28,
    "start_time": "2024-02-24T23:26:36.038Z"
   },
   {
    "duration": 896,
    "start_time": "2024-02-24T23:26:36.067Z"
   },
   {
    "duration": 18,
    "start_time": "2024-02-24T23:26:36.965Z"
   },
   {
    "duration": 39,
    "start_time": "2024-02-24T23:26:36.985Z"
   },
   {
    "duration": 474,
    "start_time": "2024-02-24T23:26:37.026Z"
   },
   {
    "duration": 236,
    "start_time": "2024-02-24T23:26:37.503Z"
   },
   {
    "duration": 29,
    "start_time": "2024-02-24T23:26:37.740Z"
   },
   {
    "duration": 17,
    "start_time": "2024-02-24T23:26:37.772Z"
   },
   {
    "duration": 3,
    "start_time": "2024-02-24T23:26:37.791Z"
   },
   {
    "duration": 31,
    "start_time": "2024-02-24T23:26:37.796Z"
   },
   {
    "duration": 14,
    "start_time": "2024-02-24T23:26:37.829Z"
   },
   {
    "duration": 528,
    "start_time": "2024-02-24T23:26:37.844Z"
   },
   {
    "duration": 465,
    "start_time": "2024-02-24T23:26:38.374Z"
   },
   {
    "duration": 20,
    "start_time": "2024-02-24T23:26:38.840Z"
   },
   {
    "duration": 26,
    "start_time": "2024-02-24T23:26:38.861Z"
   },
   {
    "duration": 148,
    "start_time": "2024-02-24T23:26:38.888Z"
   },
   {
    "duration": 61,
    "start_time": "2024-02-24T23:26:39.037Z"
   },
   {
    "duration": 30,
    "start_time": "2024-02-24T23:26:39.100Z"
   },
   {
    "duration": 6,
    "start_time": "2024-02-24T23:26:39.132Z"
   },
   {
    "duration": 424,
    "start_time": "2024-02-24T23:26:39.140Z"
   },
   {
    "duration": 27,
    "start_time": "2024-02-24T23:26:39.566Z"
   },
   {
    "duration": 304,
    "start_time": "2024-02-24T23:26:39.594Z"
   },
   {
    "duration": 4,
    "start_time": "2024-02-24T23:27:11.620Z"
   },
   {
    "duration": 1425,
    "start_time": "2024-02-24T23:27:11.626Z"
   },
   {
    "duration": 71,
    "start_time": "2024-02-24T23:27:13.052Z"
   },
   {
    "duration": 8,
    "start_time": "2024-02-24T23:27:13.125Z"
   },
   {
    "duration": 212,
    "start_time": "2024-02-24T23:27:13.136Z"
   },
   {
    "duration": 40,
    "start_time": "2024-02-24T23:27:13.349Z"
   },
   {
    "duration": 74,
    "start_time": "2024-02-24T23:27:13.391Z"
   },
   {
    "duration": 20,
    "start_time": "2024-02-24T23:27:13.466Z"
   },
   {
    "duration": 196,
    "start_time": "2024-02-24T23:27:13.488Z"
   },
   {
    "duration": 144,
    "start_time": "2024-02-24T23:27:13.686Z"
   },
   {
    "duration": 75,
    "start_time": "2024-02-24T23:27:13.834Z"
   },
   {
    "duration": 21,
    "start_time": "2024-02-24T23:27:13.924Z"
   },
   {
    "duration": 30,
    "start_time": "2024-02-24T23:27:13.947Z"
   },
   {
    "duration": 72,
    "start_time": "2024-02-24T23:27:13.980Z"
   },
   {
    "duration": 17,
    "start_time": "2024-02-24T23:27:14.054Z"
   },
   {
    "duration": 11,
    "start_time": "2024-02-24T23:27:14.073Z"
   },
   {
    "duration": 10,
    "start_time": "2024-02-24T23:27:14.086Z"
   },
   {
    "duration": 111,
    "start_time": "2024-02-24T23:27:14.123Z"
   },
   {
    "duration": 12,
    "start_time": "2024-02-24T23:27:14.236Z"
   },
   {
    "duration": 19,
    "start_time": "2024-02-24T23:27:14.250Z"
   },
   {
    "duration": 29,
    "start_time": "2024-02-24T23:27:14.270Z"
   },
   {
    "duration": 31,
    "start_time": "2024-02-24T23:27:14.301Z"
   },
   {
    "duration": 27,
    "start_time": "2024-02-24T23:27:14.334Z"
   },
   {
    "duration": 12,
    "start_time": "2024-02-24T23:27:14.362Z"
   },
   {
    "duration": 119,
    "start_time": "2024-02-24T23:27:14.375Z"
   },
   {
    "duration": 30,
    "start_time": "2024-02-24T23:27:14.495Z"
   },
   {
    "duration": 17,
    "start_time": "2024-02-24T23:27:14.526Z"
   },
   {
    "duration": 3,
    "start_time": "2024-02-24T23:27:14.544Z"
   },
   {
    "duration": 24,
    "start_time": "2024-02-24T23:27:14.551Z"
   },
   {
    "duration": 11,
    "start_time": "2024-02-24T23:27:14.577Z"
   },
   {
    "duration": 57,
    "start_time": "2024-02-24T23:27:14.589Z"
   },
   {
    "duration": 20,
    "start_time": "2024-02-24T23:27:14.647Z"
   },
   {
    "duration": 36,
    "start_time": "2024-02-24T23:27:14.669Z"
   },
   {
    "duration": 18,
    "start_time": "2024-02-24T23:27:14.707Z"
   },
   {
    "duration": 33,
    "start_time": "2024-02-24T23:27:14.727Z"
   },
   {
    "duration": 34,
    "start_time": "2024-02-24T23:27:14.761Z"
   },
   {
    "duration": 949,
    "start_time": "2024-02-24T23:27:14.797Z"
   },
   {
    "duration": 16,
    "start_time": "2024-02-24T23:27:15.748Z"
   },
   {
    "duration": 41,
    "start_time": "2024-02-24T23:27:15.766Z"
   },
   {
    "duration": 533,
    "start_time": "2024-02-24T23:27:15.809Z"
   },
   {
    "duration": 232,
    "start_time": "2024-02-24T23:27:16.344Z"
   },
   {
    "duration": 64,
    "start_time": "2024-02-24T23:27:16.578Z"
   },
   {
    "duration": 18,
    "start_time": "2024-02-24T23:27:16.644Z"
   },
   {
    "duration": 5,
    "start_time": "2024-02-24T23:27:16.663Z"
   },
   {
    "duration": 14,
    "start_time": "2024-02-24T23:27:16.669Z"
   },
   {
    "duration": 13,
    "start_time": "2024-02-24T23:27:16.685Z"
   },
   {
    "duration": 665,
    "start_time": "2024-02-24T23:27:16.699Z"
   },
   {
    "duration": 1085,
    "start_time": "2024-02-24T23:27:17.366Z"
   },
   {
    "duration": 83,
    "start_time": "2024-02-24T23:27:18.453Z"
   },
   {
    "duration": 85,
    "start_time": "2024-02-24T23:27:18.538Z"
   },
   {
    "duration": 213,
    "start_time": "2024-02-24T23:27:18.625Z"
   },
   {
    "duration": 84,
    "start_time": "2024-02-24T23:27:18.840Z"
   },
   {
    "duration": 12,
    "start_time": "2024-02-24T23:27:18.926Z"
   },
   {
    "duration": 11,
    "start_time": "2024-02-24T23:27:18.940Z"
   },
   {
    "duration": 397,
    "start_time": "2024-02-24T23:27:18.953Z"
   },
   {
    "duration": 25,
    "start_time": "2024-02-24T23:27:19.352Z"
   },
   {
    "duration": 321,
    "start_time": "2024-02-24T23:27:19.379Z"
   },
   {
    "duration": 5,
    "start_time": "2024-02-24T23:28:30.626Z"
   },
   {
    "duration": 6,
    "start_time": "2024-02-24T23:29:14.554Z"
   },
   {
    "duration": 27,
    "start_time": "2024-02-25T00:00:44.470Z"
   },
   {
    "duration": 3,
    "start_time": "2024-02-25T00:04:11.902Z"
   },
   {
    "duration": 1441,
    "start_time": "2024-02-25T00:04:11.909Z"
   },
   {
    "duration": 68,
    "start_time": "2024-02-25T00:04:13.352Z"
   },
   {
    "duration": 6,
    "start_time": "2024-02-25T00:04:13.422Z"
   },
   {
    "duration": 194,
    "start_time": "2024-02-25T00:04:13.430Z"
   },
   {
    "duration": 26,
    "start_time": "2024-02-25T00:04:13.626Z"
   },
   {
    "duration": 33,
    "start_time": "2024-02-25T00:04:13.654Z"
   },
   {
    "duration": 43,
    "start_time": "2024-02-25T00:04:13.688Z"
   },
   {
    "duration": 104,
    "start_time": "2024-02-25T00:04:13.733Z"
   },
   {
    "duration": 138,
    "start_time": "2024-02-25T00:04:13.839Z"
   },
   {
    "duration": 84,
    "start_time": "2024-02-25T00:04:13.978Z"
   },
   {
    "duration": 21,
    "start_time": "2024-02-25T00:04:14.063Z"
   },
   {
    "duration": 42,
    "start_time": "2024-02-25T00:04:14.085Z"
   },
   {
    "duration": 43,
    "start_time": "2024-02-25T00:04:14.129Z"
   },
   {
    "duration": 16,
    "start_time": "2024-02-25T00:04:14.175Z"
   },
   {
    "duration": 35,
    "start_time": "2024-02-25T00:04:14.192Z"
   },
   {
    "duration": 10,
    "start_time": "2024-02-25T00:04:14.229Z"
   },
   {
    "duration": 116,
    "start_time": "2024-02-25T00:04:14.241Z"
   },
   {
    "duration": 11,
    "start_time": "2024-02-25T00:04:14.359Z"
   },
   {
    "duration": 18,
    "start_time": "2024-02-25T00:04:14.372Z"
   },
   {
    "duration": 48,
    "start_time": "2024-02-25T00:04:14.392Z"
   },
   {
    "duration": 15,
    "start_time": "2024-02-25T00:04:14.442Z"
   },
   {
    "duration": 41,
    "start_time": "2024-02-25T00:04:14.458Z"
   },
   {
    "duration": 24,
    "start_time": "2024-02-25T00:04:14.500Z"
   },
   {
    "duration": 103,
    "start_time": "2024-02-25T00:04:14.526Z"
   },
   {
    "duration": 19,
    "start_time": "2024-02-25T00:04:14.631Z"
   },
   {
    "duration": 29,
    "start_time": "2024-02-25T00:04:14.652Z"
   },
   {
    "duration": 3,
    "start_time": "2024-02-25T00:04:14.682Z"
   },
   {
    "duration": 59,
    "start_time": "2024-02-25T00:04:14.686Z"
   },
   {
    "duration": 15,
    "start_time": "2024-02-25T00:04:14.747Z"
   },
   {
    "duration": 27,
    "start_time": "2024-02-25T00:04:14.763Z"
   },
   {
    "duration": 21,
    "start_time": "2024-02-25T00:04:14.792Z"
   },
   {
    "duration": 20,
    "start_time": "2024-02-25T00:04:14.822Z"
   },
   {
    "duration": 11,
    "start_time": "2024-02-25T00:04:14.843Z"
   },
   {
    "duration": 31,
    "start_time": "2024-02-25T00:04:14.856Z"
   },
   {
    "duration": 58,
    "start_time": "2024-02-25T00:04:14.889Z"
   },
   {
    "duration": 798,
    "start_time": "2024-02-25T00:04:14.949Z"
   },
   {
    "duration": 15,
    "start_time": "2024-02-25T00:04:15.748Z"
   },
   {
    "duration": 36,
    "start_time": "2024-02-25T00:04:15.765Z"
   },
   {
    "duration": 487,
    "start_time": "2024-02-25T00:04:15.803Z"
   },
   {
    "duration": 186,
    "start_time": "2024-02-25T00:04:16.292Z"
   },
   {
    "duration": 64,
    "start_time": "2024-02-25T00:04:16.482Z"
   },
   {
    "duration": 15,
    "start_time": "2024-02-25T00:04:16.547Z"
   },
   {
    "duration": 33,
    "start_time": "2024-02-25T00:04:16.564Z"
   },
   {
    "duration": 51,
    "start_time": "2024-02-25T00:04:16.598Z"
   },
   {
    "duration": 26,
    "start_time": "2024-02-25T00:04:16.650Z"
   },
   {
    "duration": 511,
    "start_time": "2024-02-25T00:04:16.678Z"
   },
   {
    "duration": 525,
    "start_time": "2024-02-25T00:04:17.191Z"
   },
   {
    "duration": 21,
    "start_time": "2024-02-25T00:04:17.718Z"
   },
   {
    "duration": 35,
    "start_time": "2024-02-25T00:04:17.740Z"
   },
   {
    "duration": 157,
    "start_time": "2024-02-25T00:04:17.777Z"
   },
   {
    "duration": 10,
    "start_time": "2024-02-25T00:04:17.936Z"
   },
   {
    "duration": 176,
    "start_time": "2024-02-25T00:04:17.948Z"
   },
   {
    "duration": 12,
    "start_time": "2024-02-25T00:04:18.126Z"
   },
   {
    "duration": 7,
    "start_time": "2024-02-25T00:04:18.139Z"
   },
   {
    "duration": 784,
    "start_time": "2024-02-25T00:04:18.147Z"
   },
   {
    "duration": 21,
    "start_time": "2024-02-25T00:04:18.933Z"
   },
   {
    "duration": 746,
    "start_time": "2024-02-25T00:04:18.956Z"
   },
   {
    "duration": 1618,
    "start_time": "2024-02-25T00:07:36.412Z"
   },
   {
    "duration": 3,
    "start_time": "2024-02-25T00:07:58.419Z"
   },
   {
    "duration": 1406,
    "start_time": "2024-02-25T00:07:58.426Z"
   },
   {
    "duration": 68,
    "start_time": "2024-02-25T00:07:59.834Z"
   },
   {
    "duration": 7,
    "start_time": "2024-02-25T00:07:59.903Z"
   },
   {
    "duration": 187,
    "start_time": "2024-02-25T00:07:59.911Z"
   },
   {
    "duration": 47,
    "start_time": "2024-02-25T00:08:00.101Z"
   },
   {
    "duration": 217,
    "start_time": "2024-02-25T00:08:00.151Z"
   },
   {
    "duration": 89,
    "start_time": "2024-02-25T00:08:00.371Z"
   },
   {
    "duration": 178,
    "start_time": "2024-02-25T00:08:00.462Z"
   },
   {
    "duration": 156,
    "start_time": "2024-02-25T00:08:00.642Z"
   },
   {
    "duration": 116,
    "start_time": "2024-02-25T00:08:00.801Z"
   },
   {
    "duration": 62,
    "start_time": "2024-02-25T00:08:00.919Z"
   },
   {
    "duration": 81,
    "start_time": "2024-02-25T00:08:00.984Z"
   },
   {
    "duration": 221,
    "start_time": "2024-02-25T00:08:01.067Z"
   },
   {
    "duration": 73,
    "start_time": "2024-02-25T00:08:01.293Z"
   },
   {
    "duration": 22,
    "start_time": "2024-02-25T00:08:01.368Z"
   },
   {
    "duration": 35,
    "start_time": "2024-02-25T00:08:01.392Z"
   },
   {
    "duration": 138,
    "start_time": "2024-02-25T00:08:01.429Z"
   },
   {
    "duration": 12,
    "start_time": "2024-02-25T00:08:01.569Z"
   },
   {
    "duration": 166,
    "start_time": "2024-02-25T00:08:01.583Z"
   },
   {
    "duration": 66,
    "start_time": "2024-02-25T00:08:01.751Z"
   },
   {
    "duration": 34,
    "start_time": "2024-02-25T00:08:01.818Z"
   },
   {
    "duration": 166,
    "start_time": "2024-02-25T00:08:01.854Z"
   },
   {
    "duration": 36,
    "start_time": "2024-02-25T00:08:02.022Z"
   },
   {
    "duration": 117,
    "start_time": "2024-02-25T00:08:02.060Z"
   },
   {
    "duration": 19,
    "start_time": "2024-02-25T00:08:02.178Z"
   },
   {
    "duration": 39,
    "start_time": "2024-02-25T00:08:02.199Z"
   },
   {
    "duration": 13,
    "start_time": "2024-02-25T00:08:02.240Z"
   },
   {
    "duration": 27,
    "start_time": "2024-02-25T00:08:02.255Z"
   },
   {
    "duration": 19,
    "start_time": "2024-02-25T00:08:02.283Z"
   },
   {
    "duration": 37,
    "start_time": "2024-02-25T00:08:02.304Z"
   },
   {
    "duration": 22,
    "start_time": "2024-02-25T00:08:02.343Z"
   },
   {
    "duration": 48,
    "start_time": "2024-02-25T00:08:02.366Z"
   },
   {
    "duration": 42,
    "start_time": "2024-02-25T00:08:02.416Z"
   },
   {
    "duration": 27,
    "start_time": "2024-02-25T00:08:02.460Z"
   },
   {
    "duration": 37,
    "start_time": "2024-02-25T00:08:02.489Z"
   },
   {
    "duration": 821,
    "start_time": "2024-02-25T00:08:02.527Z"
   },
   {
    "duration": 15,
    "start_time": "2024-02-25T00:08:03.350Z"
   },
   {
    "duration": 54,
    "start_time": "2024-02-25T00:08:03.367Z"
   },
   {
    "duration": 503,
    "start_time": "2024-02-25T00:08:03.423Z"
   },
   {
    "duration": 203,
    "start_time": "2024-02-25T00:08:03.928Z"
   },
   {
    "duration": 29,
    "start_time": "2024-02-25T00:08:04.135Z"
   },
   {
    "duration": 16,
    "start_time": "2024-02-25T00:08:04.166Z"
   },
   {
    "duration": 4,
    "start_time": "2024-02-25T00:08:04.185Z"
   },
   {
    "duration": 38,
    "start_time": "2024-02-25T00:08:04.191Z"
   },
   {
    "duration": 23,
    "start_time": "2024-02-25T00:08:04.231Z"
   },
   {
    "duration": 559,
    "start_time": "2024-02-25T00:08:04.256Z"
   },
   {
    "duration": 504,
    "start_time": "2024-02-25T00:08:04.823Z"
   },
   {
    "duration": 27,
    "start_time": "2024-02-25T00:08:05.329Z"
   },
   {
    "duration": 28,
    "start_time": "2024-02-25T00:08:05.358Z"
   },
   {
    "duration": 172,
    "start_time": "2024-02-25T00:08:05.388Z"
   },
   {
    "duration": 10,
    "start_time": "2024-02-25T00:08:05.561Z"
   },
   {
    "duration": 34,
    "start_time": "2024-02-25T00:08:05.573Z"
   },
   {
    "duration": 25,
    "start_time": "2024-02-25T00:08:05.608Z"
   },
   {
    "duration": 23,
    "start_time": "2024-02-25T00:08:05.635Z"
   },
   {
    "duration": 598,
    "start_time": "2024-02-25T00:08:05.660Z"
   },
   {
    "duration": 72,
    "start_time": "2024-02-25T00:08:06.259Z"
   },
   {
    "duration": 897,
    "start_time": "2024-02-25T00:08:06.332Z"
   },
   {
    "duration": 22,
    "start_time": "2024-02-25T00:09:48.544Z"
   },
   {
    "duration": 5,
    "start_time": "2024-02-25T00:10:00.362Z"
   },
   {
    "duration": 1506,
    "start_time": "2024-02-25T00:10:00.369Z"
   },
   {
    "duration": 70,
    "start_time": "2024-02-25T00:10:01.877Z"
   },
   {
    "duration": 7,
    "start_time": "2024-02-25T00:10:01.949Z"
   },
   {
    "duration": 235,
    "start_time": "2024-02-25T00:10:01.957Z"
   },
   {
    "duration": 52,
    "start_time": "2024-02-25T00:10:02.193Z"
   },
   {
    "duration": 51,
    "start_time": "2024-02-25T00:10:02.247Z"
   },
   {
    "duration": 24,
    "start_time": "2024-02-25T00:10:02.300Z"
   },
   {
    "duration": 101,
    "start_time": "2024-02-25T00:10:02.327Z"
   },
   {
    "duration": 152,
    "start_time": "2024-02-25T00:10:02.430Z"
   },
   {
    "duration": 80,
    "start_time": "2024-02-25T00:10:02.585Z"
   },
   {
    "duration": 22,
    "start_time": "2024-02-25T00:10:02.666Z"
   },
   {
    "duration": 68,
    "start_time": "2024-02-25T00:10:02.689Z"
   },
   {
    "duration": 55,
    "start_time": "2024-02-25T00:10:02.759Z"
   },
   {
    "duration": 18,
    "start_time": "2024-02-25T00:10:02.816Z"
   },
   {
    "duration": 18,
    "start_time": "2024-02-25T00:10:02.836Z"
   },
   {
    "duration": 13,
    "start_time": "2024-02-25T00:10:02.856Z"
   },
   {
    "duration": 137,
    "start_time": "2024-02-25T00:10:02.871Z"
   },
   {
    "duration": 13,
    "start_time": "2024-02-25T00:10:03.010Z"
   },
   {
    "duration": 59,
    "start_time": "2024-02-25T00:10:03.024Z"
   },
   {
    "duration": 43,
    "start_time": "2024-02-25T00:10:03.085Z"
   },
   {
    "duration": 10,
    "start_time": "2024-02-25T00:10:03.130Z"
   },
   {
    "duration": 34,
    "start_time": "2024-02-25T00:10:03.142Z"
   },
   {
    "duration": 11,
    "start_time": "2024-02-25T00:10:03.179Z"
   },
   {
    "duration": 109,
    "start_time": "2024-02-25T00:10:03.191Z"
   },
   {
    "duration": 25,
    "start_time": "2024-02-25T00:10:03.302Z"
   },
   {
    "duration": 38,
    "start_time": "2024-02-25T00:10:03.329Z"
   },
   {
    "duration": 3,
    "start_time": "2024-02-25T00:10:03.368Z"
   },
   {
    "duration": 35,
    "start_time": "2024-02-25T00:10:03.372Z"
   },
   {
    "duration": 18,
    "start_time": "2024-02-25T00:10:03.408Z"
   },
   {
    "duration": 48,
    "start_time": "2024-02-25T00:10:03.428Z"
   },
   {
    "duration": 27,
    "start_time": "2024-02-25T00:10:03.478Z"
   },
   {
    "duration": 44,
    "start_time": "2024-02-25T00:10:03.508Z"
   },
   {
    "duration": 45,
    "start_time": "2024-02-25T00:10:03.554Z"
   },
   {
    "duration": 32,
    "start_time": "2024-02-25T00:10:03.602Z"
   },
   {
    "duration": 50,
    "start_time": "2024-02-25T00:10:03.636Z"
   },
   {
    "duration": 806,
    "start_time": "2024-02-25T00:10:03.688Z"
   },
   {
    "duration": 17,
    "start_time": "2024-02-25T00:10:04.524Z"
   },
   {
    "duration": 72,
    "start_time": "2024-02-25T00:10:04.543Z"
   },
   {
    "duration": 512,
    "start_time": "2024-02-25T00:10:04.617Z"
   },
   {
    "duration": 240,
    "start_time": "2024-02-25T00:10:05.131Z"
   },
   {
    "duration": 57,
    "start_time": "2024-02-25T00:10:05.372Z"
   },
   {
    "duration": 16,
    "start_time": "2024-02-25T00:10:05.431Z"
   },
   {
    "duration": 8,
    "start_time": "2024-02-25T00:10:05.449Z"
   },
   {
    "duration": 25,
    "start_time": "2024-02-25T00:10:05.459Z"
   },
   {
    "duration": 30,
    "start_time": "2024-02-25T00:10:05.485Z"
   },
   {
    "duration": 845,
    "start_time": "2024-02-25T00:10:05.517Z"
   },
   {
    "duration": 1016,
    "start_time": "2024-02-25T00:10:06.364Z"
   },
   {
    "duration": 20,
    "start_time": "2024-02-25T00:10:07.382Z"
   },
   {
    "duration": 44,
    "start_time": "2024-02-25T00:10:07.403Z"
   },
   {
    "duration": 156,
    "start_time": "2024-02-25T00:10:07.449Z"
   },
   {
    "duration": 24,
    "start_time": "2024-02-25T00:10:07.607Z"
   },
   {
    "duration": 44,
    "start_time": "2024-02-25T00:10:07.633Z"
   },
   {
    "duration": 18,
    "start_time": "2024-02-25T00:10:07.679Z"
   },
   {
    "duration": 36,
    "start_time": "2024-02-25T00:10:07.699Z"
   },
   {
    "duration": 368,
    "start_time": "2024-02-25T00:10:07.737Z"
   },
   {
    "duration": 24,
    "start_time": "2024-02-25T00:10:08.107Z"
   },
   {
    "duration": 550,
    "start_time": "2024-02-25T00:10:08.133Z"
   },
   {
    "duration": 11,
    "start_time": "2024-02-25T00:17:39.535Z"
   },
   {
    "duration": 11,
    "start_time": "2024-02-25T00:17:55.391Z"
   },
   {
    "duration": 20,
    "start_time": "2024-02-25T00:23:41.123Z"
   },
   {
    "duration": 22,
    "start_time": "2024-02-25T00:26:25.258Z"
   },
   {
    "duration": 23,
    "start_time": "2024-02-25T00:28:51.965Z"
   },
   {
    "duration": 22,
    "start_time": "2024-02-25T00:32:04.395Z"
   },
   {
    "duration": 31,
    "start_time": "2024-02-25T00:32:12.298Z"
   },
   {
    "duration": 28,
    "start_time": "2024-02-25T00:32:35.453Z"
   },
   {
    "duration": 54,
    "start_time": "2024-02-25T13:07:22.402Z"
   },
   {
    "duration": 7,
    "start_time": "2024-02-25T13:07:47.890Z"
   },
   {
    "duration": 8,
    "start_time": "2024-02-25T13:08:37.544Z"
   },
   {
    "duration": 8,
    "start_time": "2024-02-25T13:09:32.642Z"
   },
   {
    "duration": 4,
    "start_time": "2024-02-25T13:09:45.092Z"
   },
   {
    "duration": 1787,
    "start_time": "2024-02-25T13:09:45.109Z"
   },
   {
    "duration": 116,
    "start_time": "2024-02-25T13:09:46.898Z"
   },
   {
    "duration": 8,
    "start_time": "2024-02-25T13:09:47.015Z"
   },
   {
    "duration": 208,
    "start_time": "2024-02-25T13:09:47.025Z"
   },
   {
    "duration": 27,
    "start_time": "2024-02-25T13:09:47.234Z"
   },
   {
    "duration": 34,
    "start_time": "2024-02-25T13:09:47.263Z"
   },
   {
    "duration": 36,
    "start_time": "2024-02-25T13:09:47.299Z"
   },
   {
    "duration": 117,
    "start_time": "2024-02-25T13:09:47.337Z"
   },
   {
    "duration": 160,
    "start_time": "2024-02-25T13:09:47.455Z"
   },
   {
    "duration": 104,
    "start_time": "2024-02-25T13:09:47.622Z"
   },
   {
    "duration": 19,
    "start_time": "2024-02-25T13:09:47.728Z"
   },
   {
    "duration": 29,
    "start_time": "2024-02-25T13:09:47.749Z"
   },
   {
    "duration": 72,
    "start_time": "2024-02-25T13:09:47.780Z"
   },
   {
    "duration": 17,
    "start_time": "2024-02-25T13:09:47.854Z"
   },
   {
    "duration": 12,
    "start_time": "2024-02-25T13:09:47.872Z"
   },
   {
    "duration": 44,
    "start_time": "2024-02-25T13:09:47.885Z"
   },
   {
    "duration": 140,
    "start_time": "2024-02-25T13:09:47.931Z"
   },
   {
    "duration": 12,
    "start_time": "2024-02-25T13:09:48.073Z"
   },
   {
    "duration": 29,
    "start_time": "2024-02-25T13:09:48.087Z"
   },
   {
    "duration": 30,
    "start_time": "2024-02-25T13:09:48.122Z"
   },
   {
    "duration": 11,
    "start_time": "2024-02-25T13:09:48.154Z"
   },
   {
    "duration": 26,
    "start_time": "2024-02-25T13:09:48.167Z"
   },
   {
    "duration": 34,
    "start_time": "2024-02-25T13:09:48.195Z"
   },
   {
    "duration": 112,
    "start_time": "2024-02-25T13:09:48.231Z"
   },
   {
    "duration": 21,
    "start_time": "2024-02-25T13:09:48.345Z"
   },
   {
    "duration": 18,
    "start_time": "2024-02-25T13:09:48.368Z"
   },
   {
    "duration": 11,
    "start_time": "2024-02-25T13:09:48.388Z"
   },
   {
    "duration": 44,
    "start_time": "2024-02-25T13:09:48.403Z"
   },
   {
    "duration": 11,
    "start_time": "2024-02-25T13:09:48.448Z"
   },
   {
    "duration": 32,
    "start_time": "2024-02-25T13:09:48.461Z"
   },
   {
    "duration": 30,
    "start_time": "2024-02-25T13:09:48.495Z"
   },
   {
    "duration": 25,
    "start_time": "2024-02-25T13:09:48.527Z"
   },
   {
    "duration": 9,
    "start_time": "2024-02-25T13:09:48.554Z"
   },
   {
    "duration": 18,
    "start_time": "2024-02-25T13:09:48.565Z"
   },
   {
    "duration": 57,
    "start_time": "2024-02-25T13:09:48.585Z"
   },
   {
    "duration": 883,
    "start_time": "2024-02-25T13:09:48.644Z"
   },
   {
    "duration": 24,
    "start_time": "2024-02-25T13:09:49.529Z"
   },
   {
    "duration": 16,
    "start_time": "2024-02-25T13:09:49.555Z"
   },
   {
    "duration": 535,
    "start_time": "2024-02-25T13:09:49.573Z"
   },
   {
    "duration": 172,
    "start_time": "2024-02-25T13:09:50.110Z"
   },
   {
    "duration": 51,
    "start_time": "2024-02-25T13:09:50.284Z"
   },
   {
    "duration": 16,
    "start_time": "2024-02-25T13:09:50.337Z"
   },
   {
    "duration": 4,
    "start_time": "2024-02-25T13:09:50.355Z"
   },
   {
    "duration": 21,
    "start_time": "2024-02-25T13:09:50.360Z"
   },
   {
    "duration": 28,
    "start_time": "2024-02-25T13:09:50.383Z"
   },
   {
    "duration": 607,
    "start_time": "2024-02-25T13:09:50.413Z"
   },
   {
    "duration": 835,
    "start_time": "2024-02-25T13:09:51.021Z"
   },
   {
    "duration": 73,
    "start_time": "2024-02-25T13:09:51.858Z"
   },
   {
    "duration": 27,
    "start_time": "2024-02-25T13:09:51.933Z"
   },
   {
    "duration": 296,
    "start_time": "2024-02-25T13:09:51.961Z"
   },
   {
    "duration": 78,
    "start_time": "2024-02-25T13:09:52.259Z"
   },
   {
    "duration": 5,
    "start_time": "2024-02-25T13:09:52.339Z"
   },
   {
    "duration": 658,
    "start_time": "2024-02-25T13:09:52.346Z"
   },
   {
    "duration": 36,
    "start_time": "2024-02-25T13:09:53.006Z"
   },
   {
    "duration": 183,
    "start_time": "2024-02-25T13:09:53.043Z"
   },
   {
    "duration": 338,
    "start_time": "2024-02-25T13:10:23.102Z"
   },
   {
    "duration": 51,
    "start_time": "2024-02-25T18:38:59.507Z"
   },
   {
    "duration": 4,
    "start_time": "2024-02-25T18:39:14.945Z"
   },
   {
    "duration": 1731,
    "start_time": "2024-02-25T18:39:14.953Z"
   },
   {
    "duration": 546,
    "start_time": "2024-02-25T18:39:16.687Z"
   },
   {
    "duration": 7,
    "start_time": "2024-02-25T18:39:17.234Z"
   },
   {
    "duration": 171,
    "start_time": "2024-02-25T18:39:17.243Z"
   },
   {
    "duration": 28,
    "start_time": "2024-02-25T18:39:17.416Z"
   },
   {
    "duration": 60,
    "start_time": "2024-02-25T18:39:17.446Z"
   },
   {
    "duration": 18,
    "start_time": "2024-02-25T18:39:17.508Z"
   },
   {
    "duration": 129,
    "start_time": "2024-02-25T18:39:17.529Z"
   },
   {
    "duration": 147,
    "start_time": "2024-02-25T18:39:17.660Z"
   },
   {
    "duration": 84,
    "start_time": "2024-02-25T18:39:17.811Z"
   },
   {
    "duration": 20,
    "start_time": "2024-02-25T18:39:17.897Z"
   },
   {
    "duration": 28,
    "start_time": "2024-02-25T18:39:17.919Z"
   },
   {
    "duration": 70,
    "start_time": "2024-02-25T18:39:17.948Z"
   },
   {
    "duration": 18,
    "start_time": "2024-02-25T18:39:18.020Z"
   },
   {
    "duration": 13,
    "start_time": "2024-02-25T18:39:18.039Z"
   },
   {
    "duration": 48,
    "start_time": "2024-02-25T18:39:18.054Z"
   },
   {
    "duration": 134,
    "start_time": "2024-02-25T18:39:18.104Z"
   },
   {
    "duration": 11,
    "start_time": "2024-02-25T18:39:18.240Z"
   },
   {
    "duration": 32,
    "start_time": "2024-02-25T18:39:18.253Z"
   },
   {
    "duration": 30,
    "start_time": "2024-02-25T18:39:18.287Z"
   },
   {
    "duration": 12,
    "start_time": "2024-02-25T18:39:18.319Z"
   },
   {
    "duration": 23,
    "start_time": "2024-02-25T18:39:18.332Z"
   },
   {
    "duration": 36,
    "start_time": "2024-02-25T18:39:18.357Z"
   },
   {
    "duration": 101,
    "start_time": "2024-02-25T18:39:18.395Z"
   },
   {
    "duration": 18,
    "start_time": "2024-02-25T18:39:18.497Z"
   },
   {
    "duration": 16,
    "start_time": "2024-02-25T18:39:18.517Z"
   },
   {
    "duration": 2,
    "start_time": "2024-02-25T18:39:18.535Z"
   },
   {
    "duration": 56,
    "start_time": "2024-02-25T18:39:18.541Z"
   },
   {
    "duration": 32,
    "start_time": "2024-02-25T18:39:18.598Z"
   },
   {
    "duration": 28,
    "start_time": "2024-02-25T18:39:18.632Z"
   },
   {
    "duration": 22,
    "start_time": "2024-02-25T18:39:18.661Z"
   },
   {
    "duration": 45,
    "start_time": "2024-02-25T18:39:18.684Z"
   },
   {
    "duration": 12,
    "start_time": "2024-02-25T18:39:18.730Z"
   },
   {
    "duration": 19,
    "start_time": "2024-02-25T18:39:18.743Z"
   },
   {
    "duration": 28,
    "start_time": "2024-02-25T18:39:18.763Z"
   },
   {
    "duration": 835,
    "start_time": "2024-02-25T18:39:18.793Z"
   },
   {
    "duration": 15,
    "start_time": "2024-02-25T18:39:19.630Z"
   },
   {
    "duration": 17,
    "start_time": "2024-02-25T18:39:19.647Z"
   },
   {
    "duration": 552,
    "start_time": "2024-02-25T18:39:19.692Z"
   },
   {
    "duration": 185,
    "start_time": "2024-02-25T18:39:20.247Z"
   },
   {
    "duration": 34,
    "start_time": "2024-02-25T18:39:20.434Z"
   },
   {
    "duration": 37,
    "start_time": "2024-02-25T18:39:20.470Z"
   },
   {
    "duration": 16,
    "start_time": "2024-02-25T18:39:20.509Z"
   },
   {
    "duration": 13,
    "start_time": "2024-02-25T18:39:20.526Z"
   },
   {
    "duration": 13,
    "start_time": "2024-02-25T18:39:20.541Z"
   },
   {
    "duration": 622,
    "start_time": "2024-02-25T18:39:20.556Z"
   },
   {
    "duration": 540,
    "start_time": "2024-02-25T18:39:21.180Z"
   },
   {
    "duration": 21,
    "start_time": "2024-02-25T18:39:21.722Z"
   },
   {
    "duration": 66,
    "start_time": "2024-02-25T18:39:21.744Z"
   },
   {
    "duration": 219,
    "start_time": "2024-02-25T18:39:21.811Z"
   },
   {
    "duration": 78,
    "start_time": "2024-02-25T18:39:22.032Z"
   },
   {
    "duration": 7,
    "start_time": "2024-02-25T18:39:22.111Z"
   },
   {
    "duration": 873,
    "start_time": "2024-02-25T18:39:22.121Z"
   },
   {
    "duration": 33,
    "start_time": "2024-02-25T18:39:22.996Z"
   },
   {
    "duration": 619,
    "start_time": "2024-02-25T18:39:23.031Z"
   },
   {
    "duration": 8,
    "start_time": "2024-02-25T18:39:23.652Z"
   },
   {
    "duration": 171,
    "start_time": "2024-02-25T18:42:18.269Z"
   },
   {
    "duration": 78,
    "start_time": "2024-02-25T18:47:50.675Z"
   },
   {
    "duration": 77,
    "start_time": "2024-02-25T18:48:25.009Z"
   },
   {
    "duration": 78,
    "start_time": "2024-02-25T18:48:44.488Z"
   },
   {
    "duration": 8,
    "start_time": "2024-02-25T18:54:15.859Z"
   },
   {
    "duration": 76,
    "start_time": "2024-02-25T18:55:48.434Z"
   },
   {
    "duration": 14,
    "start_time": "2024-02-25T18:58:45.353Z"
   },
   {
    "duration": 17,
    "start_time": "2024-02-25T18:59:00.664Z"
   },
   {
    "duration": 239,
    "start_time": "2024-02-25T18:59:36.660Z"
   },
   {
    "duration": 236,
    "start_time": "2024-02-25T18:59:48.115Z"
   },
   {
    "duration": 134,
    "start_time": "2024-02-25T19:01:24.978Z"
   },
   {
    "duration": 24,
    "start_time": "2024-02-25T19:05:19.518Z"
   },
   {
    "duration": 14,
    "start_time": "2024-02-25T19:06:35.582Z"
   },
   {
    "duration": 236,
    "start_time": "2024-02-25T19:08:13.435Z"
   },
   {
    "duration": 10,
    "start_time": "2024-02-25T19:10:33.121Z"
   },
   {
    "duration": 13,
    "start_time": "2024-02-25T19:11:35.638Z"
   },
   {
    "duration": 138,
    "start_time": "2024-02-25T19:11:45.760Z"
   },
   {
    "duration": 10,
    "start_time": "2024-02-25T19:12:25.792Z"
   },
   {
    "duration": 148,
    "start_time": "2024-02-25T19:12:40.681Z"
   },
   {
    "duration": 133,
    "start_time": "2024-02-25T19:15:04.970Z"
   },
   {
    "duration": 135,
    "start_time": "2024-02-25T19:17:44.898Z"
   },
   {
    "duration": 10,
    "start_time": "2024-02-25T19:21:24.891Z"
   },
   {
    "duration": 4,
    "start_time": "2024-02-25T19:21:58.858Z"
   },
   {
    "duration": 1824,
    "start_time": "2024-02-25T19:21:58.868Z"
   },
   {
    "duration": 76,
    "start_time": "2024-02-25T19:22:00.694Z"
   },
   {
    "duration": 52,
    "start_time": "2024-02-25T19:22:00.772Z"
   },
   {
    "duration": 375,
    "start_time": "2024-02-25T19:22:00.826Z"
   },
   {
    "duration": 29,
    "start_time": "2024-02-25T19:22:01.205Z"
   },
   {
    "duration": 256,
    "start_time": "2024-02-25T19:22:01.236Z"
   },
   {
    "duration": 189,
    "start_time": "2024-02-25T19:22:01.494Z"
   },
   {
    "duration": 252,
    "start_time": "2024-02-25T19:22:01.685Z"
   },
   {
    "duration": 177,
    "start_time": "2024-02-25T19:22:01.939Z"
   },
   {
    "duration": 78,
    "start_time": "2024-02-25T19:22:02.118Z"
   },
   {
    "duration": 22,
    "start_time": "2024-02-25T19:22:02.198Z"
   },
   {
    "duration": 38,
    "start_time": "2024-02-25T19:22:02.221Z"
   },
   {
    "duration": 65,
    "start_time": "2024-02-25T19:22:02.260Z"
   },
   {
    "duration": 16,
    "start_time": "2024-02-25T19:22:02.328Z"
   },
   {
    "duration": 35,
    "start_time": "2024-02-25T19:22:02.346Z"
   },
   {
    "duration": 35,
    "start_time": "2024-02-25T19:22:02.383Z"
   },
   {
    "duration": 145,
    "start_time": "2024-02-25T19:22:02.420Z"
   },
   {
    "duration": 12,
    "start_time": "2024-02-25T19:22:02.567Z"
   },
   {
    "duration": 45,
    "start_time": "2024-02-25T19:22:02.581Z"
   },
   {
    "duration": 57,
    "start_time": "2024-02-25T19:22:02.627Z"
   },
   {
    "duration": 11,
    "start_time": "2024-02-25T19:22:02.686Z"
   },
   {
    "duration": 234,
    "start_time": "2024-02-25T19:22:02.699Z"
   },
   {
    "duration": 241,
    "start_time": "2024-02-25T19:22:02.935Z"
   },
   {
    "duration": 150,
    "start_time": "2024-02-25T19:22:03.178Z"
   },
   {
    "duration": 20,
    "start_time": "2024-02-25T19:22:03.330Z"
   },
   {
    "duration": 53,
    "start_time": "2024-02-25T19:22:03.351Z"
   },
   {
    "duration": 17,
    "start_time": "2024-02-25T19:22:03.406Z"
   },
   {
    "duration": 56,
    "start_time": "2024-02-25T19:22:03.424Z"
   },
   {
    "duration": 35,
    "start_time": "2024-02-25T19:22:03.482Z"
   },
   {
    "duration": 47,
    "start_time": "2024-02-25T19:22:03.519Z"
   },
   {
    "duration": 56,
    "start_time": "2024-02-25T19:22:03.567Z"
   },
   {
    "duration": 44,
    "start_time": "2024-02-25T19:22:03.624Z"
   },
   {
    "duration": 27,
    "start_time": "2024-02-25T19:22:03.670Z"
   },
   {
    "duration": 23,
    "start_time": "2024-02-25T19:22:03.699Z"
   },
   {
    "duration": 31,
    "start_time": "2024-02-25T19:22:03.724Z"
   },
   {
    "duration": 888,
    "start_time": "2024-02-25T19:22:03.757Z"
   },
   {
    "duration": 46,
    "start_time": "2024-02-25T19:22:04.646Z"
   },
   {
    "duration": 19,
    "start_time": "2024-02-25T19:22:04.694Z"
   },
   {
    "duration": 494,
    "start_time": "2024-02-25T19:22:04.715Z"
   },
   {
    "duration": 248,
    "start_time": "2024-02-25T19:22:05.211Z"
   },
   {
    "duration": 46,
    "start_time": "2024-02-25T19:22:05.463Z"
   },
   {
    "duration": 19,
    "start_time": "2024-02-25T19:22:05.511Z"
   },
   {
    "duration": 11,
    "start_time": "2024-02-25T19:22:05.532Z"
   },
   {
    "duration": 8,
    "start_time": "2024-02-25T19:22:05.545Z"
   },
   {
    "duration": 38,
    "start_time": "2024-02-25T19:22:05.555Z"
   },
   {
    "duration": 587,
    "start_time": "2024-02-25T19:22:05.595Z"
   },
   {
    "duration": 560,
    "start_time": "2024-02-25T19:22:06.184Z"
   },
   {
    "duration": 137,
    "start_time": "2024-02-25T19:22:06.745Z"
   },
   {
    "duration": 35,
    "start_time": "2024-02-25T19:22:06.883Z"
   },
   {
    "duration": 145,
    "start_time": "2024-02-25T19:22:06.920Z"
   },
   {
    "duration": 41,
    "start_time": "2024-02-25T19:22:07.067Z"
   },
   {
    "duration": 7,
    "start_time": "2024-02-25T19:22:07.110Z"
   },
   {
    "duration": 426,
    "start_time": "2024-02-25T19:22:07.119Z"
   },
   {
    "duration": 23,
    "start_time": "2024-02-25T19:22:07.547Z"
   },
   {
    "duration": 262,
    "start_time": "2024-02-25T19:22:07.572Z"
   },
   {
    "duration": 8,
    "start_time": "2024-02-25T19:22:07.836Z"
   },
   {
    "duration": 100,
    "start_time": "2024-02-25T19:22:07.846Z"
   },
   {
    "duration": 153,
    "start_time": "2024-02-25T19:22:07.947Z"
   },
   {
    "duration": 10,
    "start_time": "2024-02-25T19:22:08.102Z"
   },
   {
    "duration": 127,
    "start_time": "2024-02-25T19:22:08.114Z"
   },
   {
    "duration": 3,
    "start_time": "2024-02-25T19:23:07.441Z"
   },
   {
    "duration": 1649,
    "start_time": "2024-02-25T19:23:07.449Z"
   },
   {
    "duration": 69,
    "start_time": "2024-02-25T19:23:09.100Z"
   },
   {
    "duration": 8,
    "start_time": "2024-02-25T19:23:09.171Z"
   },
   {
    "duration": 211,
    "start_time": "2024-02-25T19:23:09.181Z"
   },
   {
    "duration": 29,
    "start_time": "2024-02-25T19:23:09.393Z"
   },
   {
    "duration": 38,
    "start_time": "2024-02-25T19:23:09.424Z"
   },
   {
    "duration": 40,
    "start_time": "2024-02-25T19:23:09.464Z"
   },
   {
    "duration": 131,
    "start_time": "2024-02-25T19:23:09.506Z"
   },
   {
    "duration": 146,
    "start_time": "2024-02-25T19:23:09.639Z"
   },
   {
    "duration": 84,
    "start_time": "2024-02-25T19:23:09.791Z"
   },
   {
    "duration": 31,
    "start_time": "2024-02-25T19:23:09.877Z"
   },
   {
    "duration": 33,
    "start_time": "2024-02-25T19:23:09.910Z"
   },
   {
    "duration": 78,
    "start_time": "2024-02-25T19:23:09.945Z"
   },
   {
    "duration": 18,
    "start_time": "2024-02-25T19:23:10.025Z"
   },
   {
    "duration": 12,
    "start_time": "2024-02-25T19:23:10.045Z"
   },
   {
    "duration": 34,
    "start_time": "2024-02-25T19:23:10.059Z"
   },
   {
    "duration": 107,
    "start_time": "2024-02-25T19:23:10.095Z"
   },
   {
    "duration": 12,
    "start_time": "2024-02-25T19:23:10.204Z"
   },
   {
    "duration": 16,
    "start_time": "2024-02-25T19:23:10.218Z"
   },
   {
    "duration": 28,
    "start_time": "2024-02-25T19:23:10.235Z"
   },
   {
    "duration": 32,
    "start_time": "2024-02-25T19:23:10.265Z"
   },
   {
    "duration": 22,
    "start_time": "2024-02-25T19:23:10.298Z"
   },
   {
    "duration": 11,
    "start_time": "2024-02-25T19:23:10.321Z"
   },
   {
    "duration": 110,
    "start_time": "2024-02-25T19:23:10.333Z"
   },
   {
    "duration": 17,
    "start_time": "2024-02-25T19:23:10.444Z"
   },
   {
    "duration": 29,
    "start_time": "2024-02-25T19:23:10.463Z"
   },
   {
    "duration": 3,
    "start_time": "2024-02-25T19:23:10.494Z"
   },
   {
    "duration": 25,
    "start_time": "2024-02-25T19:23:10.502Z"
   },
   {
    "duration": 8,
    "start_time": "2024-02-25T19:23:10.528Z"
   },
   {
    "duration": 19,
    "start_time": "2024-02-25T19:23:10.538Z"
   },
   {
    "duration": 49,
    "start_time": "2024-02-25T19:23:10.559Z"
   },
   {
    "duration": 18,
    "start_time": "2024-02-25T19:23:10.610Z"
   },
   {
    "duration": 9,
    "start_time": "2024-02-25T19:23:10.629Z"
   },
   {
    "duration": 53,
    "start_time": "2024-02-25T19:23:10.639Z"
   },
   {
    "duration": 28,
    "start_time": "2024-02-25T19:23:10.694Z"
   },
   {
    "duration": 815,
    "start_time": "2024-02-25T19:23:10.723Z"
   },
   {
    "duration": 15,
    "start_time": "2024-02-25T19:23:11.539Z"
   },
   {
    "duration": 39,
    "start_time": "2024-02-25T19:23:11.556Z"
   },
   {
    "duration": 473,
    "start_time": "2024-02-25T19:23:11.597Z"
   },
   {
    "duration": 186,
    "start_time": "2024-02-25T19:23:12.071Z"
   },
   {
    "duration": 57,
    "start_time": "2024-02-25T19:23:12.259Z"
   },
   {
    "duration": 18,
    "start_time": "2024-02-25T19:23:12.318Z"
   },
   {
    "duration": 50,
    "start_time": "2024-02-25T19:23:12.337Z"
   },
   {
    "duration": 24,
    "start_time": "2024-02-25T19:23:12.389Z"
   },
   {
    "duration": 19,
    "start_time": "2024-02-25T19:23:12.415Z"
   },
   {
    "duration": 498,
    "start_time": "2024-02-25T19:23:12.436Z"
   },
   {
    "duration": 485,
    "start_time": "2024-02-25T19:23:12.936Z"
   },
   {
    "duration": 127,
    "start_time": "2024-02-25T19:23:13.423Z"
   },
   {
    "duration": 44,
    "start_time": "2024-02-25T19:23:13.552Z"
   },
   {
    "duration": 132,
    "start_time": "2024-02-25T19:23:13.597Z"
   },
   {
    "duration": 23,
    "start_time": "2024-02-25T19:23:13.730Z"
   },
   {
    "duration": 5,
    "start_time": "2024-02-25T19:23:13.754Z"
   },
   {
    "duration": 748,
    "start_time": "2024-02-25T19:23:13.760Z"
   },
   {
    "duration": 25,
    "start_time": "2024-02-25T19:23:14.509Z"
   },
   {
    "duration": 499,
    "start_time": "2024-02-25T19:23:14.593Z"
   },
   {
    "duration": 9,
    "start_time": "2024-02-25T19:23:15.093Z"
   },
   {
    "duration": 214,
    "start_time": "2024-02-25T19:23:15.104Z"
   },
   {
    "duration": 174,
    "start_time": "2024-02-25T19:23:15.320Z"
   },
   {
    "duration": 10,
    "start_time": "2024-02-25T19:23:15.496Z"
   },
   {
    "duration": 129,
    "start_time": "2024-02-25T19:23:15.507Z"
   },
   {
    "duration": 1790,
    "start_time": "2024-02-25T19:24:36.088Z"
   },
   {
    "duration": 138,
    "start_time": "2024-02-25T19:25:00.655Z"
   },
   {
    "duration": 17,
    "start_time": "2024-02-25T19:26:44.167Z"
   },
   {
    "duration": 140,
    "start_time": "2024-02-25T19:27:38.911Z"
   },
   {
    "duration": 265,
    "start_time": "2024-02-25T19:27:59.188Z"
   },
   {
    "duration": 15,
    "start_time": "2024-02-25T19:28:53.704Z"
   },
   {
    "duration": 131,
    "start_time": "2024-02-25T19:29:04.412Z"
   },
   {
    "duration": 129,
    "start_time": "2024-02-25T19:29:12.077Z"
   },
   {
    "duration": 14,
    "start_time": "2024-02-25T19:30:35.163Z"
   },
   {
    "duration": 14,
    "start_time": "2024-02-25T19:33:09.673Z"
   },
   {
    "duration": 101,
    "start_time": "2024-02-25T19:33:19.528Z"
   },
   {
    "duration": 17,
    "start_time": "2024-02-25T19:33:29.424Z"
   },
   {
    "duration": 28,
    "start_time": "2024-02-25T19:33:58.090Z"
   },
   {
    "duration": 88,
    "start_time": "2024-02-25T19:44:52.451Z"
   },
   {
    "duration": 27,
    "start_time": "2024-02-25T19:46:45.197Z"
   },
   {
    "duration": 10,
    "start_time": "2024-02-25T19:48:20.926Z"
   },
   {
    "duration": 13,
    "start_time": "2024-02-25T19:48:47.916Z"
   },
   {
    "duration": 25,
    "start_time": "2024-02-25T19:48:56.161Z"
   },
   {
    "duration": 19,
    "start_time": "2024-02-25T19:52:13.517Z"
   },
   {
    "duration": 14,
    "start_time": "2024-02-25T19:52:36.062Z"
   },
   {
    "duration": 137,
    "start_time": "2024-02-25T19:53:18.381Z"
   },
   {
    "duration": 14,
    "start_time": "2024-02-25T19:55:03.156Z"
   },
   {
    "duration": 144,
    "start_time": "2024-02-25T19:55:21.125Z"
   },
   {
    "duration": 60,
    "start_time": "2024-02-25T19:56:06.675Z"
   },
   {
    "duration": 6,
    "start_time": "2024-02-25T20:00:17.383Z"
   },
   {
    "duration": 13,
    "start_time": "2024-02-25T20:00:22.583Z"
   },
   {
    "duration": 67,
    "start_time": "2024-02-25T20:01:04.831Z"
   },
   {
    "duration": 143,
    "start_time": "2024-02-25T20:01:10.465Z"
   },
   {
    "duration": 15,
    "start_time": "2024-02-25T20:01:15.883Z"
   },
   {
    "duration": 27,
    "start_time": "2024-02-25T20:01:40.678Z"
   },
   {
    "duration": 15,
    "start_time": "2024-02-25T20:04:33.463Z"
   },
   {
    "duration": 26,
    "start_time": "2024-02-25T20:04:44.554Z"
   },
   {
    "duration": 31,
    "start_time": "2024-02-25T20:05:21.226Z"
   },
   {
    "duration": 110,
    "start_time": "2024-02-25T20:06:45.773Z"
   },
   {
    "duration": 30,
    "start_time": "2024-02-25T20:07:01.467Z"
   },
   {
    "duration": 27,
    "start_time": "2024-02-25T20:11:25.940Z"
   },
   {
    "duration": 10433,
    "start_time": "2024-02-25T20:14:00.714Z"
   },
   {
    "duration": 10531,
    "start_time": "2024-02-25T20:14:33.810Z"
   },
   {
    "duration": 10720,
    "start_time": "2024-02-25T20:15:11.310Z"
   },
   {
    "duration": 563,
    "start_time": "2024-02-25T20:15:59.200Z"
   },
   {
    "duration": 1720,
    "start_time": "2024-02-25T20:23:09.286Z"
   },
   {
    "duration": 12,
    "start_time": "2024-02-25T20:26:23.225Z"
   },
   {
    "duration": 13,
    "start_time": "2024-02-25T20:26:49.038Z"
   },
   {
    "duration": 68,
    "start_time": "2024-02-25T20:26:58.606Z"
   },
   {
    "duration": 77,
    "start_time": "2024-02-25T20:27:05.955Z"
   },
   {
    "duration": 9,
    "start_time": "2024-02-25T20:27:51.701Z"
   },
   {
    "duration": 10,
    "start_time": "2024-02-25T20:28:33.190Z"
   },
   {
    "duration": 18,
    "start_time": "2024-02-25T20:28:47.973Z"
   },
   {
    "duration": 123,
    "start_time": "2024-02-25T20:29:04.661Z"
   },
   {
    "duration": 15,
    "start_time": "2024-02-25T20:32:16.737Z"
   },
   {
    "duration": 7,
    "start_time": "2024-02-25T20:34:06.712Z"
   },
   {
    "duration": 6,
    "start_time": "2024-02-25T20:34:09.875Z"
   },
   {
    "duration": 103,
    "start_time": "2024-02-25T20:34:15.088Z"
   },
   {
    "duration": 11,
    "start_time": "2024-02-25T20:38:24.755Z"
   },
   {
    "duration": 17,
    "start_time": "2024-02-25T20:39:24.355Z"
   },
   {
    "duration": 124,
    "start_time": "2024-02-25T20:40:05.397Z"
   },
   {
    "duration": 281,
    "start_time": "2024-02-25T20:43:29.194Z"
   },
   {
    "duration": 303,
    "start_time": "2024-02-25T20:43:53.979Z"
   },
   {
    "duration": 330,
    "start_time": "2024-02-25T20:44:09.739Z"
   },
   {
    "duration": 147,
    "start_time": "2024-02-25T20:48:51.729Z"
   },
   {
    "duration": 524,
    "start_time": "2024-02-25T20:49:02.985Z"
   },
   {
    "duration": 550,
    "start_time": "2024-02-25T20:49:32.472Z"
   },
   {
    "duration": 544,
    "start_time": "2024-02-25T20:49:47.416Z"
   },
   {
    "duration": 17,
    "start_time": "2024-02-25T20:50:39.828Z"
   },
   {
    "duration": 10,
    "start_time": "2024-02-25T20:51:16.494Z"
   },
   {
    "duration": 157,
    "start_time": "2024-02-25T20:53:38.294Z"
   },
   {
    "duration": 3,
    "start_time": "2024-03-04T10:17:58.640Z"
   },
   {
    "duration": 1437,
    "start_time": "2024-03-04T10:17:58.676Z"
   },
   {
    "duration": 108,
    "start_time": "2024-03-04T10:18:00.115Z"
   },
   {
    "duration": 6,
    "start_time": "2024-03-04T10:18:00.224Z"
   },
   {
    "duration": 212,
    "start_time": "2024-03-04T10:18:00.231Z"
   },
   {
    "duration": 19,
    "start_time": "2024-03-04T10:18:00.457Z"
   },
   {
    "duration": 178,
    "start_time": "2024-03-04T10:18:00.477Z"
   },
   {
    "duration": 42,
    "start_time": "2024-03-04T10:18:00.657Z"
   },
   {
    "duration": 105,
    "start_time": "2024-03-04T10:18:00.701Z"
   },
   {
    "duration": 145,
    "start_time": "2024-03-04T10:18:00.807Z"
   },
   {
    "duration": 146,
    "start_time": "2024-03-04T10:18:00.953Z"
   },
   {
    "duration": 40,
    "start_time": "2024-03-04T10:18:01.101Z"
   },
   {
    "duration": 81,
    "start_time": "2024-03-04T10:18:01.143Z"
   },
   {
    "duration": 90,
    "start_time": "2024-03-04T10:18:01.226Z"
   },
   {
    "duration": 46,
    "start_time": "2024-03-04T10:18:01.318Z"
   },
   {
    "duration": 43,
    "start_time": "2024-03-04T10:18:01.365Z"
   },
   {
    "duration": 40,
    "start_time": "2024-03-04T10:18:01.409Z"
   },
   {
    "duration": 142,
    "start_time": "2024-03-04T10:18:01.450Z"
   },
   {
    "duration": 9,
    "start_time": "2024-03-04T10:18:01.593Z"
   },
   {
    "duration": 77,
    "start_time": "2024-03-04T10:18:01.603Z"
   },
   {
    "duration": 48,
    "start_time": "2024-03-04T10:18:01.681Z"
   },
   {
    "duration": 37,
    "start_time": "2024-03-04T10:18:01.731Z"
   },
   {
    "duration": 46,
    "start_time": "2024-03-04T10:18:01.769Z"
   },
   {
    "duration": 37,
    "start_time": "2024-03-04T10:18:01.816Z"
   },
   {
    "duration": 132,
    "start_time": "2024-03-04T10:18:01.854Z"
   },
   {
    "duration": 16,
    "start_time": "2024-03-04T10:18:01.988Z"
   },
   {
    "duration": 252,
    "start_time": "2024-03-04T10:18:02.005Z"
   },
   {
    "duration": 19,
    "start_time": "2024-03-04T10:18:02.258Z"
   },
   {
    "duration": 69,
    "start_time": "2024-03-04T10:18:02.278Z"
   },
   {
    "duration": 117,
    "start_time": "2024-03-04T10:18:02.349Z"
   },
   {
    "duration": 31,
    "start_time": "2024-03-04T10:18:02.468Z"
   },
   {
    "duration": 18,
    "start_time": "2024-03-04T10:18:02.501Z"
   },
   {
    "duration": 18,
    "start_time": "2024-03-04T10:18:02.520Z"
   },
   {
    "duration": 12,
    "start_time": "2024-03-04T10:18:02.540Z"
   },
   {
    "duration": 18,
    "start_time": "2024-03-04T10:18:02.553Z"
   },
   {
    "duration": 33,
    "start_time": "2024-03-04T10:18:02.572Z"
   },
   {
    "duration": 657,
    "start_time": "2024-03-04T10:18:02.607Z"
   },
   {
    "duration": 12,
    "start_time": "2024-03-04T10:18:03.266Z"
   },
   {
    "duration": 16,
    "start_time": "2024-03-04T10:18:03.280Z"
   },
   {
    "duration": 401,
    "start_time": "2024-03-04T10:18:03.298Z"
   },
   {
    "duration": 160,
    "start_time": "2024-03-04T10:18:03.700Z"
   },
   {
    "duration": 22,
    "start_time": "2024-03-04T10:18:03.864Z"
   },
   {
    "duration": 13,
    "start_time": "2024-03-04T10:18:03.887Z"
   },
   {
    "duration": 3,
    "start_time": "2024-03-04T10:18:03.901Z"
   },
   {
    "duration": 8,
    "start_time": "2024-03-04T10:18:03.905Z"
   },
   {
    "duration": 13,
    "start_time": "2024-03-04T10:18:03.913Z"
   },
   {
    "duration": 453,
    "start_time": "2024-03-04T10:18:03.927Z"
   },
   {
    "duration": 365,
    "start_time": "2024-03-04T10:18:04.381Z"
   },
   {
    "duration": 78,
    "start_time": "2024-03-04T10:18:04.747Z"
   },
   {
    "duration": 33,
    "start_time": "2024-03-04T10:18:04.826Z"
   },
   {
    "duration": 96,
    "start_time": "2024-03-04T10:18:04.861Z"
   },
   {
    "duration": 17,
    "start_time": "2024-03-04T10:18:04.958Z"
   },
   {
    "duration": 7,
    "start_time": "2024-03-04T10:18:04.976Z"
   },
   {
    "duration": 294,
    "start_time": "2024-03-04T10:18:04.984Z"
   },
   {
    "duration": 18,
    "start_time": "2024-03-04T10:18:05.280Z"
   },
   {
    "duration": 181,
    "start_time": "2024-03-04T10:18:05.300Z"
   },
   {
    "duration": 6,
    "start_time": "2024-03-04T10:18:05.482Z"
   },
   {
    "duration": 70,
    "start_time": "2024-03-04T10:18:05.489Z"
   },
   {
    "duration": 7821,
    "start_time": "2024-03-04T10:18:05.560Z"
   },
   {
    "duration": 7975,
    "start_time": "2024-03-04T10:18:13.384Z"
   },
   {
    "duration": 226,
    "start_time": "2024-03-04T10:18:21.360Z"
   },
   {
    "duration": 7,
    "start_time": "2024-03-04T10:18:21.587Z"
   },
   {
    "duration": 102,
    "start_time": "2024-03-04T10:18:21.595Z"
   },
   {
    "duration": 7715,
    "start_time": "2024-03-04T10:18:21.698Z"
   },
   {
    "duration": 90,
    "start_time": "2024-03-04T10:18:29.414Z"
   },
   {
    "duration": 5,
    "start_time": "2024-03-04T10:18:29.557Z"
   },
   {
    "duration": 491,
    "start_time": "2024-03-04T10:18:29.564Z"
   },
   {
    "duration": 10,
    "start_time": "2024-03-04T10:18:30.057Z"
   },
   {
    "duration": 120,
    "start_time": "2024-03-04T10:18:30.068Z"
   },
   {
    "duration": 108,
    "start_time": "2024-03-04T10:18:30.189Z"
   },
   {
    "duration": 98,
    "start_time": "2024-03-04T10:18:30.299Z"
   },
   {
    "duration": 4,
    "start_time": "2024-03-04T10:18:30.398Z"
   },
   {
    "duration": 106,
    "start_time": "2024-03-04T10:18:30.404Z"
   },
   {
    "duration": 137,
    "start_time": "2024-03-04T10:18:30.511Z"
   },
   {
    "duration": 1589,
    "start_time": "2024-03-04T10:18:30.649Z"
   },
   {
    "duration": 70,
    "start_time": "2024-03-04T10:18:32.239Z"
   },
   {
    "duration": 8,
    "start_time": "2024-03-04T10:18:32.357Z"
   },
   {
    "duration": 8,
    "start_time": "2024-03-04T10:18:32.367Z"
   },
   {
    "duration": 11,
    "start_time": "2024-03-04T10:18:32.376Z"
   },
   {
    "duration": 92,
    "start_time": "2024-03-04T10:18:32.388Z"
   },
   {
    "duration": 13,
    "start_time": "2024-03-04T10:18:32.481Z"
   },
   {
    "duration": 109,
    "start_time": "2024-03-04T10:18:32.496Z"
   },
   {
    "duration": 12,
    "start_time": "2024-03-04T10:18:32.606Z"
   },
   {
    "duration": 423,
    "start_time": "2024-03-04T10:18:32.620Z"
   },
   {
    "duration": 22,
    "start_time": "2024-03-04T10:18:33.045Z"
   },
   {
    "duration": 8,
    "start_time": "2024-03-04T10:18:33.069Z"
   },
   {
    "duration": 136,
    "start_time": "2024-03-04T10:18:33.079Z"
   },
   {
    "duration": 96,
    "start_time": "2024-03-04T10:18:33.217Z"
   },
   {
    "duration": 60,
    "start_time": "2024-03-04T10:32:24.626Z"
   },
   {
    "duration": 3,
    "start_time": "2024-03-04T10:33:19.405Z"
   },
   {
    "duration": 1492,
    "start_time": "2024-03-04T10:33:19.433Z"
   },
   {
    "duration": 60,
    "start_time": "2024-03-04T10:33:20.927Z"
   },
   {
    "duration": 5,
    "start_time": "2024-03-04T10:33:20.989Z"
   },
   {
    "duration": 138,
    "start_time": "2024-03-04T10:33:20.996Z"
   },
   {
    "duration": 35,
    "start_time": "2024-03-04T10:33:21.135Z"
   },
   {
    "duration": 25,
    "start_time": "2024-03-04T10:33:21.171Z"
   },
   {
    "duration": 16,
    "start_time": "2024-03-04T10:33:21.197Z"
   },
   {
    "duration": 92,
    "start_time": "2024-03-04T10:33:21.215Z"
   },
   {
    "duration": 101,
    "start_time": "2024-03-04T10:33:21.308Z"
   },
   {
    "duration": 73,
    "start_time": "2024-03-04T10:33:21.410Z"
   },
   {
    "duration": 15,
    "start_time": "2024-03-04T10:33:21.484Z"
   },
   {
    "duration": 23,
    "start_time": "2024-03-04T10:33:21.500Z"
   },
   {
    "duration": 47,
    "start_time": "2024-03-04T10:33:21.524Z"
   },
   {
    "duration": 11,
    "start_time": "2024-03-04T10:33:21.573Z"
   },
   {
    "duration": 9,
    "start_time": "2024-03-04T10:33:21.585Z"
   },
   {
    "duration": 8,
    "start_time": "2024-03-04T10:33:21.595Z"
   },
   {
    "duration": 101,
    "start_time": "2024-03-04T10:33:21.604Z"
   },
   {
    "duration": 9,
    "start_time": "2024-03-04T10:33:21.706Z"
   },
   {
    "duration": 14,
    "start_time": "2024-03-04T10:33:21.716Z"
   },
   {
    "duration": 38,
    "start_time": "2024-03-04T10:33:21.732Z"
   },
   {
    "duration": 8,
    "start_time": "2024-03-04T10:33:21.772Z"
   },
   {
    "duration": 19,
    "start_time": "2024-03-04T10:33:21.782Z"
   },
   {
    "duration": 9,
    "start_time": "2024-03-04T10:33:21.803Z"
   },
   {
    "duration": 103,
    "start_time": "2024-03-04T10:33:21.813Z"
   },
   {
    "duration": 15,
    "start_time": "2024-03-04T10:33:21.918Z"
   },
   {
    "duration": 30,
    "start_time": "2024-03-04T10:33:21.935Z"
   },
   {
    "duration": 3,
    "start_time": "2024-03-04T10:33:21.966Z"
   },
   {
    "duration": 22,
    "start_time": "2024-03-04T10:33:21.970Z"
   },
   {
    "duration": 6,
    "start_time": "2024-03-04T10:33:21.994Z"
   },
   {
    "duration": 21,
    "start_time": "2024-03-04T10:33:22.001Z"
   },
   {
    "duration": 13,
    "start_time": "2024-03-04T10:33:22.023Z"
   },
   {
    "duration": 31,
    "start_time": "2024-03-04T10:33:22.038Z"
   },
   {
    "duration": 6,
    "start_time": "2024-03-04T10:33:22.070Z"
   },
   {
    "duration": 26,
    "start_time": "2024-03-04T10:33:22.077Z"
   },
   {
    "duration": 22,
    "start_time": "2024-03-04T10:33:22.105Z"
   },
   {
    "duration": 668,
    "start_time": "2024-03-04T10:33:22.129Z"
   },
   {
    "duration": 11,
    "start_time": "2024-03-04T10:33:22.799Z"
   },
   {
    "duration": 16,
    "start_time": "2024-03-04T10:33:22.811Z"
   },
   {
    "duration": 398,
    "start_time": "2024-03-04T10:33:22.829Z"
   },
   {
    "duration": 151,
    "start_time": "2024-03-04T10:33:23.228Z"
   },
   {
    "duration": 22,
    "start_time": "2024-03-04T10:33:23.384Z"
   },
   {
    "duration": 12,
    "start_time": "2024-03-04T10:33:23.408Z"
   },
   {
    "duration": 4,
    "start_time": "2024-03-04T10:33:23.421Z"
   },
   {
    "duration": 33,
    "start_time": "2024-03-04T10:33:23.426Z"
   },
   {
    "duration": 16,
    "start_time": "2024-03-04T10:33:23.460Z"
   },
   {
    "duration": 433,
    "start_time": "2024-03-04T10:33:23.477Z"
   },
   {
    "duration": 370,
    "start_time": "2024-03-04T10:33:23.912Z"
   },
   {
    "duration": 102,
    "start_time": "2024-03-04T10:33:24.283Z"
   },
   {
    "duration": 22,
    "start_time": "2024-03-04T10:33:24.387Z"
   },
   {
    "duration": 112,
    "start_time": "2024-03-04T10:33:24.410Z"
   },
   {
    "duration": 18,
    "start_time": "2024-03-04T10:33:24.524Z"
   },
   {
    "duration": 15,
    "start_time": "2024-03-04T10:33:24.543Z"
   },
   {
    "duration": 281,
    "start_time": "2024-03-04T10:33:24.559Z"
   },
   {
    "duration": 25,
    "start_time": "2024-03-04T10:33:24.841Z"
   },
   {
    "duration": 181,
    "start_time": "2024-03-04T10:33:24.867Z"
   },
   {
    "duration": 9,
    "start_time": "2024-03-04T10:33:25.049Z"
   },
   {
    "duration": 73,
    "start_time": "2024-03-04T10:33:25.059Z"
   },
   {
    "duration": 7988,
    "start_time": "2024-03-04T10:33:25.134Z"
   },
   {
    "duration": 8052,
    "start_time": "2024-03-04T10:33:33.123Z"
   },
   {
    "duration": 195,
    "start_time": "2024-03-04T10:33:41.177Z"
   },
   {
    "duration": 8,
    "start_time": "2024-03-04T10:33:41.373Z"
   },
   {
    "duration": 132,
    "start_time": "2024-03-04T10:33:41.382Z"
   },
   {
    "duration": 8407,
    "start_time": "2024-03-04T10:33:41.516Z"
   },
   {
    "duration": 141,
    "start_time": "2024-03-04T10:33:49.925Z"
   },
   {
    "duration": 5,
    "start_time": "2024-03-04T10:33:50.068Z"
   },
   {
    "duration": 517,
    "start_time": "2024-03-04T10:33:50.074Z"
   },
   {
    "duration": 14,
    "start_time": "2024-03-04T10:33:50.592Z"
   },
   {
    "duration": 71,
    "start_time": "2024-03-04T10:33:50.607Z"
   },
   {
    "duration": 107,
    "start_time": "2024-03-04T10:33:50.680Z"
   },
   {
    "duration": 97,
    "start_time": "2024-03-04T10:33:50.788Z"
   },
   {
    "duration": 5,
    "start_time": "2024-03-04T10:33:50.886Z"
   },
   {
    "duration": 72,
    "start_time": "2024-03-04T10:33:50.893Z"
   },
   {
    "duration": 120,
    "start_time": "2024-03-04T10:33:50.966Z"
   },
   {
    "duration": 1574,
    "start_time": "2024-03-04T10:33:51.087Z"
   },
   {
    "duration": 53,
    "start_time": "2024-03-04T10:33:52.662Z"
   },
   {
    "duration": 42,
    "start_time": "2024-03-04T10:33:52.719Z"
   },
   {
    "duration": 4,
    "start_time": "2024-03-04T10:33:52.763Z"
   },
   {
    "duration": 5,
    "start_time": "2024-03-04T10:33:52.768Z"
   },
   {
    "duration": 97,
    "start_time": "2024-03-04T10:33:52.774Z"
   },
   {
    "duration": 14,
    "start_time": "2024-03-04T10:33:52.872Z"
   },
   {
    "duration": 102,
    "start_time": "2024-03-04T10:33:52.887Z"
   },
   {
    "duration": 11,
    "start_time": "2024-03-04T10:33:52.990Z"
   },
   {
    "duration": 414,
    "start_time": "2024-03-04T10:33:53.003Z"
   },
   {
    "duration": 14,
    "start_time": "2024-03-04T10:33:53.419Z"
   },
   {
    "duration": 24,
    "start_time": "2024-03-04T10:33:53.434Z"
   },
   {
    "duration": 126,
    "start_time": "2024-03-04T10:33:53.459Z"
   },
   {
    "duration": 86,
    "start_time": "2024-03-04T10:33:53.586Z"
   },
   {
    "duration": 62,
    "start_time": "2024-03-04T10:43:23.384Z"
   },
   {
    "duration": 79,
    "start_time": "2024-03-04T10:50:32.281Z"
   },
   {
    "duration": 67,
    "start_time": "2024-03-04T10:52:36.260Z"
   },
   {
    "duration": 65,
    "start_time": "2024-03-04T10:54:37.432Z"
   },
   {
    "duration": 64,
    "start_time": "2024-03-04T10:55:18.195Z"
   },
   {
    "duration": 70,
    "start_time": "2024-03-04T10:57:30.480Z"
   },
   {
    "duration": 67,
    "start_time": "2024-03-04T10:58:58.136Z"
   },
   {
    "duration": 112,
    "start_time": "2024-03-04T11:36:06.589Z"
   },
   {
    "duration": 148,
    "start_time": "2024-03-04T11:43:34.443Z"
   },
   {
    "duration": 8,
    "start_time": "2024-03-04T11:43:53.706Z"
   },
   {
    "duration": 9,
    "start_time": "2024-03-04T11:44:22.743Z"
   },
   {
    "duration": 7,
    "start_time": "2024-03-04T11:45:41.952Z"
   },
   {
    "duration": 10,
    "start_time": "2024-03-04T11:46:46.221Z"
   },
   {
    "duration": 16,
    "start_time": "2024-03-04T11:46:59.894Z"
   },
   {
    "duration": 75,
    "start_time": "2024-03-04T11:49:50.913Z"
   },
   {
    "duration": 65,
    "start_time": "2024-03-04T11:51:15.547Z"
   },
   {
    "duration": 16,
    "start_time": "2024-03-04T11:54:46.796Z"
   },
   {
    "duration": 65,
    "start_time": "2024-03-04T11:55:17.937Z"
   },
   {
    "duration": 68,
    "start_time": "2024-03-04T11:57:14.929Z"
   },
   {
    "duration": 54,
    "start_time": "2024-03-04T12:02:22.073Z"
   },
   {
    "duration": 103,
    "start_time": "2024-03-04T12:02:35.140Z"
   },
   {
    "duration": 171,
    "start_time": "2024-03-04T12:03:01.975Z"
   },
   {
    "duration": 102,
    "start_time": "2024-03-04T12:03:35.222Z"
   },
   {
    "duration": 104,
    "start_time": "2024-03-04T12:04:39.818Z"
   },
   {
    "duration": 109,
    "start_time": "2024-03-04T12:07:50.740Z"
   },
   {
    "duration": 47,
    "start_time": "2024-03-04T12:24:48.486Z"
   },
   {
    "duration": 102,
    "start_time": "2024-03-04T12:27:39.869Z"
   },
   {
    "duration": 8009,
    "start_time": "2024-03-04T12:42:08.636Z"
   },
   {
    "duration": 3,
    "start_time": "2024-03-04T12:42:48.023Z"
   },
   {
    "duration": 1417,
    "start_time": "2024-03-04T12:42:48.372Z"
   },
   {
    "duration": 58,
    "start_time": "2024-03-04T12:42:49.791Z"
   },
   {
    "duration": 5,
    "start_time": "2024-03-04T12:42:49.850Z"
   },
   {
    "duration": 138,
    "start_time": "2024-03-04T12:42:49.857Z"
   },
   {
    "duration": 22,
    "start_time": "2024-03-04T12:42:49.996Z"
   },
   {
    "duration": 53,
    "start_time": "2024-03-04T12:42:50.020Z"
   },
   {
    "duration": 22,
    "start_time": "2024-03-04T12:42:50.075Z"
   },
   {
    "duration": 85,
    "start_time": "2024-03-04T12:42:50.099Z"
   },
   {
    "duration": 110,
    "start_time": "2024-03-04T12:42:50.185Z"
   },
   {
    "duration": 71,
    "start_time": "2024-03-04T12:42:50.298Z"
   },
   {
    "duration": 16,
    "start_time": "2024-03-04T12:42:50.370Z"
   },
   {
    "duration": 36,
    "start_time": "2024-03-04T12:42:50.387Z"
   },
   {
    "duration": 40,
    "start_time": "2024-03-04T12:42:50.425Z"
   },
   {
    "duration": 11,
    "start_time": "2024-03-04T12:42:50.466Z"
   },
   {
    "duration": 19,
    "start_time": "2024-03-04T12:42:50.478Z"
   },
   {
    "duration": 10,
    "start_time": "2024-03-04T12:42:50.499Z"
   },
   {
    "duration": 87,
    "start_time": "2024-03-04T12:42:50.510Z"
   },
   {
    "duration": 8,
    "start_time": "2024-03-04T12:42:50.598Z"
   },
   {
    "duration": 34,
    "start_time": "2024-03-04T12:42:50.608Z"
   },
   {
    "duration": 26,
    "start_time": "2024-03-04T12:42:50.644Z"
   },
   {
    "duration": 8,
    "start_time": "2024-03-04T12:42:50.671Z"
   },
   {
    "duration": 17,
    "start_time": "2024-03-04T12:42:50.680Z"
   },
   {
    "duration": 8,
    "start_time": "2024-03-04T12:42:50.698Z"
   },
   {
    "duration": 93,
    "start_time": "2024-03-04T12:42:50.707Z"
   },
   {
    "duration": 19,
    "start_time": "2024-03-04T12:42:50.801Z"
   },
   {
    "duration": 17,
    "start_time": "2024-03-04T12:42:50.822Z"
   },
   {
    "duration": 2,
    "start_time": "2024-03-04T12:42:50.857Z"
   },
   {
    "duration": 22,
    "start_time": "2024-03-04T12:42:50.862Z"
   },
   {
    "duration": 14,
    "start_time": "2024-03-04T12:42:50.886Z"
   },
   {
    "duration": 48,
    "start_time": "2024-03-04T12:42:50.901Z"
   },
   {
    "duration": 17,
    "start_time": "2024-03-04T12:42:50.951Z"
   },
   {
    "duration": 33,
    "start_time": "2024-03-04T12:42:50.969Z"
   },
   {
    "duration": 19,
    "start_time": "2024-03-04T12:42:51.004Z"
   },
   {
    "duration": 63,
    "start_time": "2024-03-04T12:42:51.024Z"
   },
   {
    "duration": 38,
    "start_time": "2024-03-04T12:42:51.089Z"
   },
   {
    "duration": 652,
    "start_time": "2024-03-04T12:42:51.128Z"
   },
   {
    "duration": 12,
    "start_time": "2024-03-04T12:42:52.154Z"
   },
   {
    "duration": 9,
    "start_time": "2024-03-04T12:42:52.168Z"
   },
   {
    "duration": 398,
    "start_time": "2024-03-04T12:42:52.902Z"
   },
   {
    "duration": 111,
    "start_time": "2024-03-04T12:42:53.302Z"
   },
   {
    "duration": 63,
    "start_time": "2024-03-04T12:42:53.415Z"
   },
   {
    "duration": 12,
    "start_time": "2024-03-04T12:42:53.480Z"
   },
   {
    "duration": 4,
    "start_time": "2024-03-04T12:42:53.493Z"
   },
   {
    "duration": 9,
    "start_time": "2024-03-04T12:42:53.499Z"
   },
   {
    "duration": 30,
    "start_time": "2024-03-04T12:42:53.509Z"
   },
   {
    "duration": 455,
    "start_time": "2024-03-04T12:42:53.541Z"
   },
   {
    "duration": 372,
    "start_time": "2024-03-04T12:42:53.998Z"
   },
   {
    "duration": 93,
    "start_time": "2024-03-04T12:42:54.372Z"
   },
   {
    "duration": 21,
    "start_time": "2024-03-04T12:42:55.730Z"
   },
   {
    "duration": 91,
    "start_time": "2024-03-04T12:42:55.781Z"
   },
   {
    "duration": 18,
    "start_time": "2024-03-04T12:42:56.249Z"
   },
   {
    "duration": 10,
    "start_time": "2024-03-04T12:42:56.268Z"
   },
   {
    "duration": 284,
    "start_time": "2024-03-04T12:42:56.280Z"
   },
   {
    "duration": 19,
    "start_time": "2024-03-04T12:42:56.565Z"
   },
   {
    "duration": 191,
    "start_time": "2024-03-04T12:42:56.585Z"
   },
   {
    "duration": 64,
    "start_time": "2024-03-04T12:42:58.462Z"
   },
   {
    "duration": 8024,
    "start_time": "2024-03-04T12:42:58.527Z"
   },
   {
    "duration": 120,
    "start_time": "2024-03-04T12:43:06.553Z"
   },
   {
    "duration": 201,
    "start_time": "2024-03-04T12:43:06.674Z"
   },
   {
    "duration": 132,
    "start_time": "2024-03-04T12:43:06.877Z"
   },
   {
    "duration": 127,
    "start_time": "2024-03-04T12:43:07.011Z"
   },
   {
    "duration": 7895,
    "start_time": "2024-03-04T12:43:07.139Z"
   },
   {
    "duration": 136,
    "start_time": "2024-03-04T12:43:15.036Z"
   },
   {
    "duration": 6,
    "start_time": "2024-03-04T12:43:15.173Z"
   },
   {
    "duration": 242,
    "start_time": "2024-03-04T12:43:15.180Z"
   },
   {
    "duration": 0,
    "start_time": "2024-03-04T12:43:15.423Z"
   },
   {
    "duration": 0,
    "start_time": "2024-03-04T12:43:15.424Z"
   },
   {
    "duration": 0,
    "start_time": "2024-03-04T12:43:15.425Z"
   },
   {
    "duration": 0,
    "start_time": "2024-03-04T12:43:15.426Z"
   },
   {
    "duration": 1,
    "start_time": "2024-03-04T12:43:15.426Z"
   },
   {
    "duration": 0,
    "start_time": "2024-03-04T12:43:15.428Z"
   },
   {
    "duration": 99,
    "start_time": "2024-03-04T12:43:19.187Z"
   },
   {
    "duration": 0,
    "start_time": "2024-03-04T12:43:19.288Z"
   },
   {
    "duration": 51,
    "start_time": "2024-03-04T12:43:25.268Z"
   },
   {
    "duration": 8,
    "start_time": "2024-03-04T12:43:25.320Z"
   },
   {
    "duration": 5,
    "start_time": "2024-03-04T12:43:26.898Z"
   },
   {
    "duration": 6,
    "start_time": "2024-03-04T12:43:26.905Z"
   },
   {
    "duration": 95,
    "start_time": "2024-03-04T12:43:27.219Z"
   },
   {
    "duration": 12,
    "start_time": "2024-03-04T12:43:27.316Z"
   },
   {
    "duration": 101,
    "start_time": "2024-03-04T12:43:29.418Z"
   },
   {
    "duration": 9,
    "start_time": "2024-03-04T12:43:29.521Z"
   },
   {
    "duration": 423,
    "start_time": "2024-03-04T12:43:30.000Z"
   },
   {
    "duration": 14,
    "start_time": "2024-03-04T12:43:30.425Z"
   },
   {
    "duration": 259,
    "start_time": "2024-03-04T12:43:30.441Z"
   },
   {
    "duration": 212,
    "start_time": "2024-03-04T12:43:30.702Z"
   },
   {
    "duration": 113,
    "start_time": "2024-03-04T12:43:30.917Z"
   },
   {
    "duration": 74,
    "start_time": "2024-03-04T17:08:07.386Z"
   },
   {
    "duration": 2,
    "start_time": "2024-03-04T17:09:58.845Z"
   },
   {
    "duration": 1605,
    "start_time": "2024-03-04T17:09:58.851Z"
   },
   {
    "duration": 101,
    "start_time": "2024-03-04T17:10:00.458Z"
   },
   {
    "duration": 5,
    "start_time": "2024-03-04T17:10:00.560Z"
   },
   {
    "duration": 169,
    "start_time": "2024-03-04T17:10:00.566Z"
   },
   {
    "duration": 31,
    "start_time": "2024-03-04T17:10:00.737Z"
   },
   {
    "duration": 45,
    "start_time": "2024-03-04T17:10:00.769Z"
   },
   {
    "duration": 62,
    "start_time": "2024-03-04T17:10:00.816Z"
   },
   {
    "duration": 140,
    "start_time": "2024-03-04T17:10:00.879Z"
   },
   {
    "duration": 110,
    "start_time": "2024-03-04T17:10:01.020Z"
   },
   {
    "duration": 93,
    "start_time": "2024-03-04T17:10:01.132Z"
   },
   {
    "duration": 16,
    "start_time": "2024-03-04T17:10:01.226Z"
   },
   {
    "duration": 51,
    "start_time": "2024-03-04T17:10:01.244Z"
   },
   {
    "duration": 82,
    "start_time": "2024-03-04T17:10:01.296Z"
   },
   {
    "duration": 38,
    "start_time": "2024-03-04T17:10:01.381Z"
   },
   {
    "duration": 24,
    "start_time": "2024-03-04T17:10:01.421Z"
   },
   {
    "duration": 37,
    "start_time": "2024-03-04T17:10:01.447Z"
   },
   {
    "duration": 162,
    "start_time": "2024-03-04T17:10:01.485Z"
   },
   {
    "duration": 99,
    "start_time": "2024-03-04T17:10:01.648Z"
   },
   {
    "duration": 121,
    "start_time": "2024-03-04T17:10:01.748Z"
   },
   {
    "duration": 75,
    "start_time": "2024-03-04T17:10:01.871Z"
   },
   {
    "duration": 18,
    "start_time": "2024-03-04T17:10:01.948Z"
   },
   {
    "duration": 90,
    "start_time": "2024-03-04T17:10:01.967Z"
   },
   {
    "duration": 66,
    "start_time": "2024-03-04T17:10:02.059Z"
   },
   {
    "duration": 106,
    "start_time": "2024-03-04T17:10:02.127Z"
   },
   {
    "duration": 15,
    "start_time": "2024-03-04T17:10:02.234Z"
   },
   {
    "duration": 23,
    "start_time": "2024-03-04T17:10:02.257Z"
   },
   {
    "duration": 7,
    "start_time": "2024-03-04T17:10:02.282Z"
   },
   {
    "duration": 39,
    "start_time": "2024-03-04T17:10:02.291Z"
   },
   {
    "duration": 28,
    "start_time": "2024-03-04T17:10:02.332Z"
   },
   {
    "duration": 30,
    "start_time": "2024-03-04T17:10:02.361Z"
   },
   {
    "duration": 16,
    "start_time": "2024-03-04T17:10:02.393Z"
   },
   {
    "duration": 44,
    "start_time": "2024-03-04T17:10:02.410Z"
   },
   {
    "duration": 25,
    "start_time": "2024-03-04T17:10:02.455Z"
   },
   {
    "duration": 34,
    "start_time": "2024-03-04T17:10:02.481Z"
   },
   {
    "duration": 19,
    "start_time": "2024-03-04T17:10:02.516Z"
   },
   {
    "duration": 666,
    "start_time": "2024-03-04T17:10:02.536Z"
   },
   {
    "duration": 11,
    "start_time": "2024-03-04T17:10:03.203Z"
   },
   {
    "duration": 43,
    "start_time": "2024-03-04T17:10:03.216Z"
   },
   {
    "duration": 386,
    "start_time": "2024-03-04T17:10:03.261Z"
   },
   {
    "duration": 142,
    "start_time": "2024-03-04T17:10:03.648Z"
   },
   {
    "duration": 21,
    "start_time": "2024-03-04T17:10:03.794Z"
   },
   {
    "duration": 43,
    "start_time": "2024-03-04T17:10:03.816Z"
   },
   {
    "duration": 5,
    "start_time": "2024-03-04T17:10:03.860Z"
   },
   {
    "duration": 8,
    "start_time": "2024-03-04T17:10:03.866Z"
   },
   {
    "duration": 19,
    "start_time": "2024-03-04T17:10:03.875Z"
   },
   {
    "duration": 469,
    "start_time": "2024-03-04T17:10:03.895Z"
   },
   {
    "duration": 359,
    "start_time": "2024-03-04T17:10:04.366Z"
   },
   {
    "duration": 85,
    "start_time": "2024-03-04T17:10:04.727Z"
   },
   {
    "duration": 23,
    "start_time": "2024-03-04T17:10:04.813Z"
   },
   {
    "duration": 107,
    "start_time": "2024-03-04T17:10:04.838Z"
   },
   {
    "duration": 18,
    "start_time": "2024-03-04T17:10:04.957Z"
   },
   {
    "duration": 8,
    "start_time": "2024-03-04T17:10:04.977Z"
   },
   {
    "duration": 306,
    "start_time": "2024-03-04T17:10:04.987Z"
   },
   {
    "duration": 21,
    "start_time": "2024-03-04T17:10:05.295Z"
   },
   {
    "duration": 191,
    "start_time": "2024-03-04T17:10:05.318Z"
   },
   {
    "duration": 77,
    "start_time": "2024-03-04T17:10:05.510Z"
   },
   {
    "duration": 8035,
    "start_time": "2024-03-04T17:10:05.588Z"
   },
   {
    "duration": 140,
    "start_time": "2024-03-04T17:10:13.624Z"
   },
   {
    "duration": 410,
    "start_time": "2024-03-04T17:10:13.765Z"
   },
   {
    "duration": 128,
    "start_time": "2024-03-04T17:10:14.177Z"
   },
   {
    "duration": 126,
    "start_time": "2024-03-04T17:10:14.357Z"
   },
   {
    "duration": 235,
    "start_time": "2024-03-04T17:10:14.484Z"
   },
   {
    "duration": 9029,
    "start_time": "2024-03-04T17:10:14.721Z"
   },
   {
    "duration": 119,
    "start_time": "2024-03-04T17:10:23.757Z"
   },
   {
    "duration": 5,
    "start_time": "2024-03-04T17:10:23.877Z"
   },
   {
    "duration": 231,
    "start_time": "2024-03-04T17:10:23.884Z"
   },
   {
    "duration": 0,
    "start_time": "2024-03-04T17:10:24.116Z"
   },
   {
    "duration": 0,
    "start_time": "2024-03-04T17:10:24.117Z"
   },
   {
    "duration": 0,
    "start_time": "2024-03-04T17:10:24.118Z"
   },
   {
    "duration": 0,
    "start_time": "2024-03-04T17:10:24.119Z"
   },
   {
    "duration": 0,
    "start_time": "2024-03-04T17:10:24.120Z"
   },
   {
    "duration": 0,
    "start_time": "2024-03-04T17:10:24.121Z"
   },
   {
    "duration": 0,
    "start_time": "2024-03-04T17:10:24.121Z"
   },
   {
    "duration": 0,
    "start_time": "2024-03-04T17:10:24.122Z"
   },
   {
    "duration": 0,
    "start_time": "2024-03-04T17:10:24.123Z"
   },
   {
    "duration": 0,
    "start_time": "2024-03-04T17:10:24.124Z"
   },
   {
    "duration": 0,
    "start_time": "2024-03-04T17:10:24.125Z"
   },
   {
    "duration": 0,
    "start_time": "2024-03-04T17:10:24.126Z"
   },
   {
    "duration": 0,
    "start_time": "2024-03-04T17:10:24.126Z"
   },
   {
    "duration": 0,
    "start_time": "2024-03-04T17:10:24.127Z"
   },
   {
    "duration": 0,
    "start_time": "2024-03-04T17:10:24.128Z"
   },
   {
    "duration": 0,
    "start_time": "2024-03-04T17:10:24.129Z"
   },
   {
    "duration": 0,
    "start_time": "2024-03-04T17:10:24.130Z"
   },
   {
    "duration": 0,
    "start_time": "2024-03-04T17:10:24.131Z"
   },
   {
    "duration": 0,
    "start_time": "2024-03-04T17:10:24.157Z"
   },
   {
    "duration": 0,
    "start_time": "2024-03-04T17:10:24.158Z"
   },
   {
    "duration": 0,
    "start_time": "2024-03-04T17:10:24.159Z"
   },
   {
    "duration": 446,
    "start_time": "2024-03-04T17:11:56.317Z"
   },
   {
    "duration": 242,
    "start_time": "2024-03-04T17:14:05.055Z"
   },
   {
    "duration": 41,
    "start_time": "2024-03-04T17:20:29.615Z"
   },
   {
    "duration": 127,
    "start_time": "2024-03-04T17:20:54.236Z"
   },
   {
    "duration": 342,
    "start_time": "2024-03-04T17:21:04.465Z"
   },
   {
    "duration": 105,
    "start_time": "2024-03-04T17:23:26.875Z"
   },
   {
    "duration": 67,
    "start_time": "2024-03-04T17:24:13.997Z"
   },
   {
    "duration": 67,
    "start_time": "2024-03-04T17:33:11.020Z"
   },
   {
    "duration": 98,
    "start_time": "2024-03-04T17:33:27.887Z"
   },
   {
    "duration": 54,
    "start_time": "2024-03-04T17:47:59.531Z"
   },
   {
    "duration": 2,
    "start_time": "2024-03-04T17:48:48.710Z"
   },
   {
    "duration": 1456,
    "start_time": "2024-03-04T17:48:49.964Z"
   },
   {
    "duration": 59,
    "start_time": "2024-03-04T17:48:51.421Z"
   },
   {
    "duration": 5,
    "start_time": "2024-03-04T17:48:52.087Z"
   },
   {
    "duration": 136,
    "start_time": "2024-03-04T17:48:52.094Z"
   },
   {
    "duration": 20,
    "start_time": "2024-03-04T17:48:57.714Z"
   },
   {
    "duration": 2,
    "start_time": "2024-03-04T17:49:06.213Z"
   },
   {
    "duration": 1449,
    "start_time": "2024-03-04T17:49:06.653Z"
   },
   {
    "duration": 60,
    "start_time": "2024-03-04T17:49:08.103Z"
   },
   {
    "duration": 5,
    "start_time": "2024-03-04T17:49:09.157Z"
   },
   {
    "duration": 159,
    "start_time": "2024-03-04T17:49:09.165Z"
   },
   {
    "duration": 22,
    "start_time": "2024-03-04T17:49:11.118Z"
   },
   {
    "duration": 28,
    "start_time": "2024-03-04T17:49:11.142Z"
   },
   {
    "duration": 15,
    "start_time": "2024-03-04T17:49:11.172Z"
   },
   {
    "duration": 62,
    "start_time": "2024-03-04T17:49:13.671Z"
   },
   {
    "duration": 75,
    "start_time": "2024-03-04T17:49:13.736Z"
   },
   {
    "duration": 114,
    "start_time": "2024-03-04T17:49:13.812Z"
   },
   {
    "duration": 69,
    "start_time": "2024-03-04T17:49:15.538Z"
   },
   {
    "duration": 18,
    "start_time": "2024-03-04T17:49:16.451Z"
   },
   {
    "duration": 27,
    "start_time": "2024-03-04T17:49:18.280Z"
   },
   {
    "duration": 36,
    "start_time": "2024-03-04T17:49:18.309Z"
   },
   {
    "duration": 11,
    "start_time": "2024-03-04T17:49:18.346Z"
   },
   {
    "duration": 16,
    "start_time": "2024-03-04T17:49:18.359Z"
   },
   {
    "duration": 12,
    "start_time": "2024-03-04T17:49:18.376Z"
   },
   {
    "duration": 78,
    "start_time": "2024-03-04T17:49:18.838Z"
   },
   {
    "duration": 9,
    "start_time": "2024-03-04T17:49:18.917Z"
   },
   {
    "duration": 16,
    "start_time": "2024-03-04T17:49:18.927Z"
   },
   {
    "duration": 22,
    "start_time": "2024-03-04T17:49:19.014Z"
   },
   {
    "duration": 10,
    "start_time": "2024-03-04T17:49:19.039Z"
   },
   {
    "duration": 16,
    "start_time": "2024-03-04T17:49:19.050Z"
   },
   {
    "duration": 8,
    "start_time": "2024-03-04T17:49:19.067Z"
   },
   {
    "duration": 89,
    "start_time": "2024-03-04T17:49:19.077Z"
   },
   {
    "duration": 15,
    "start_time": "2024-03-04T17:49:19.168Z"
   },
   {
    "duration": 13,
    "start_time": "2024-03-04T17:49:19.184Z"
   },
   {
    "duration": 2,
    "start_time": "2024-03-04T17:49:21.277Z"
   },
   {
    "duration": 22,
    "start_time": "2024-03-04T17:49:21.281Z"
   },
   {
    "duration": 7,
    "start_time": "2024-03-04T17:49:21.304Z"
   },
   {
    "duration": 15,
    "start_time": "2024-03-04T17:49:21.312Z"
   },
   {
    "duration": 16,
    "start_time": "2024-03-04T17:49:21.962Z"
   },
   {
    "duration": 15,
    "start_time": "2024-03-04T17:49:21.979Z"
   },
   {
    "duration": 9,
    "start_time": "2024-03-04T17:49:21.995Z"
   },
   {
    "duration": 17,
    "start_time": "2024-03-04T17:49:22.005Z"
   },
   {
    "duration": 22,
    "start_time": "2024-03-04T17:49:22.127Z"
   },
   {
    "duration": 620,
    "start_time": "2024-03-04T17:49:22.683Z"
   },
   {
    "duration": 12,
    "start_time": "2024-03-04T17:49:23.304Z"
   },
   {
    "duration": 13,
    "start_time": "2024-03-04T17:49:23.317Z"
   },
   {
    "duration": 382,
    "start_time": "2024-03-04T17:49:23.357Z"
   },
   {
    "duration": 141,
    "start_time": "2024-03-04T17:49:23.741Z"
   },
   {
    "duration": 22,
    "start_time": "2024-03-04T17:49:23.883Z"
   },
   {
    "duration": 12,
    "start_time": "2024-03-04T17:49:23.906Z"
   },
   {
    "duration": 3,
    "start_time": "2024-03-04T17:49:23.919Z"
   },
   {
    "duration": 35,
    "start_time": "2024-03-04T17:49:23.923Z"
   },
   {
    "duration": 9,
    "start_time": "2024-03-04T17:49:23.959Z"
   },
   {
    "duration": 451,
    "start_time": "2024-03-04T17:49:23.969Z"
   },
   {
    "duration": 359,
    "start_time": "2024-03-04T17:49:24.421Z"
   },
   {
    "duration": 95,
    "start_time": "2024-03-04T17:49:24.781Z"
   },
   {
    "duration": 23,
    "start_time": "2024-03-04T17:49:27.322Z"
   },
   {
    "duration": 91,
    "start_time": "2024-03-04T17:49:38.674Z"
   },
   {
    "duration": 18,
    "start_time": "2024-03-04T17:49:38.766Z"
   },
   {
    "duration": 5,
    "start_time": "2024-03-04T17:49:41.003Z"
   },
   {
    "duration": 286,
    "start_time": "2024-03-04T17:49:41.009Z"
   },
   {
    "duration": 19,
    "start_time": "2024-03-04T17:49:42.919Z"
   },
   {
    "duration": 168,
    "start_time": "2024-03-04T17:49:42.940Z"
   },
   {
    "duration": 66,
    "start_time": "2024-03-04T17:49:45.178Z"
   },
   {
    "duration": 7843,
    "start_time": "2024-03-04T17:49:45.245Z"
   },
   {
    "duration": 106,
    "start_time": "2024-03-04T17:49:53.090Z"
   },
   {
    "duration": 186,
    "start_time": "2024-03-04T17:49:53.197Z"
   },
   {
    "duration": 117,
    "start_time": "2024-03-04T17:49:53.384Z"
   },
   {
    "duration": 98,
    "start_time": "2024-03-04T17:49:53.502Z"
   },
   {
    "duration": 7809,
    "start_time": "2024-03-04T17:49:53.602Z"
   },
   {
    "duration": 91,
    "start_time": "2024-03-04T17:50:01.413Z"
   },
   {
    "duration": 5,
    "start_time": "2024-03-04T17:50:01.557Z"
   },
   {
    "duration": 184,
    "start_time": "2024-03-04T17:50:01.564Z"
   },
   {
    "duration": 0,
    "start_time": "2024-03-04T17:50:01.750Z"
   },
   {
    "duration": 0,
    "start_time": "2024-03-04T17:50:01.750Z"
   },
   {
    "duration": 0,
    "start_time": "2024-03-04T17:50:01.757Z"
   },
   {
    "duration": 0,
    "start_time": "2024-03-04T17:50:01.758Z"
   },
   {
    "duration": 0,
    "start_time": "2024-03-04T17:50:01.758Z"
   },
   {
    "duration": 0,
    "start_time": "2024-03-04T17:50:01.759Z"
   },
   {
    "duration": 0,
    "start_time": "2024-03-04T17:50:01.760Z"
   },
   {
    "duration": 1287,
    "start_time": "2024-03-04T17:50:08.292Z"
   },
   {
    "duration": 98,
    "start_time": "2024-03-04T17:50:09.580Z"
   },
   {
    "duration": 7,
    "start_time": "2024-03-04T17:50:09.680Z"
   },
   {
    "duration": 9,
    "start_time": "2024-03-04T17:50:09.688Z"
   },
   {
    "duration": 5,
    "start_time": "2024-03-04T17:50:09.699Z"
   },
   {
    "duration": 180,
    "start_time": "2024-03-04T17:50:09.705Z"
   },
   {
    "duration": 13,
    "start_time": "2024-03-04T17:50:09.886Z"
   },
   {
    "duration": 199,
    "start_time": "2024-03-04T17:50:09.901Z"
   },
   {
    "duration": 62,
    "start_time": "2024-03-04T17:50:10.101Z"
   },
   {
    "duration": 846,
    "start_time": "2024-03-04T17:50:10.165Z"
   },
   {
    "duration": 48,
    "start_time": "2024-03-04T17:50:11.012Z"
   },
   {
    "duration": 8,
    "start_time": "2024-03-04T17:50:11.061Z"
   },
   {
    "duration": 133,
    "start_time": "2024-03-04T17:50:11.070Z"
   },
   {
    "duration": 106,
    "start_time": "2024-03-04T17:50:11.205Z"
   },
   {
    "duration": 78,
    "start_time": "2024-03-04T18:01:00.899Z"
   },
   {
    "duration": 68,
    "start_time": "2024-03-04T18:03:17.187Z"
   },
   {
    "duration": 15,
    "start_time": "2024-03-04T18:09:01.610Z"
   },
   {
    "duration": 16,
    "start_time": "2024-03-04T18:09:28.072Z"
   },
   {
    "duration": 85,
    "start_time": "2024-03-04T18:12:59.997Z"
   },
   {
    "duration": 77,
    "start_time": "2024-03-04T18:16:25.258Z"
   },
   {
    "duration": 666,
    "start_time": "2024-03-04T18:18:36.747Z"
   },
   {
    "duration": 5,
    "start_time": "2024-03-04T18:21:06.542Z"
   },
   {
    "duration": 41,
    "start_time": "2024-03-04T18:26:05.880Z"
   },
   {
    "duration": 103,
    "start_time": "2024-03-04T18:27:57.956Z"
   },
   {
    "duration": 107,
    "start_time": "2024-03-04T18:32:23.975Z"
   },
   {
    "duration": 72,
    "start_time": "2024-03-04T18:33:32.111Z"
   },
   {
    "duration": 15,
    "start_time": "2024-03-04T18:36:36.405Z"
   },
   {
    "duration": 14,
    "start_time": "2024-03-04T18:37:45.542Z"
   },
   {
    "duration": 94,
    "start_time": "2024-03-04T18:41:04.493Z"
   },
   {
    "duration": 11,
    "start_time": "2024-03-04T18:41:16.237Z"
   },
   {
    "duration": 75,
    "start_time": "2024-03-04T18:41:35.280Z"
   },
   {
    "duration": 16,
    "start_time": "2024-03-04T18:46:23.495Z"
   },
   {
    "duration": 100,
    "start_time": "2024-03-04T18:47:01.840Z"
   },
   {
    "duration": 119,
    "start_time": "2024-03-04T18:47:33.025Z"
   },
   {
    "duration": 115,
    "start_time": "2024-03-04T18:48:36.953Z"
   },
   {
    "duration": 12,
    "start_time": "2024-03-04T18:50:51.165Z"
   },
   {
    "duration": 16,
    "start_time": "2024-03-04T18:51:09.948Z"
   },
   {
    "duration": 87,
    "start_time": "2024-03-04T18:51:41.834Z"
   },
   {
    "duration": 90,
    "start_time": "2024-03-04T18:52:16.011Z"
   },
   {
    "duration": 197,
    "start_time": "2024-03-04T18:58:21.714Z"
   },
   {
    "duration": 484,
    "start_time": "2024-03-04T19:00:32.165Z"
   },
   {
    "duration": 773,
    "start_time": "2024-03-04T19:00:55.873Z"
   },
   {
    "duration": 212,
    "start_time": "2024-03-04T19:02:34.122Z"
   },
   {
    "duration": 196,
    "start_time": "2024-03-04T19:03:02.225Z"
   },
   {
    "duration": 188,
    "start_time": "2024-03-04T19:04:20.479Z"
   },
   {
    "duration": 202,
    "start_time": "2024-03-04T19:05:59.022Z"
   },
   {
    "duration": 91,
    "start_time": "2024-03-04T19:06:31.188Z"
   },
   {
    "duration": 13,
    "start_time": "2024-03-04T19:36:51.841Z"
   },
   {
    "duration": 12,
    "start_time": "2024-03-04T19:37:00.877Z"
   },
   {
    "duration": 12,
    "start_time": "2024-03-04T19:37:16.698Z"
   },
   {
    "duration": 12,
    "start_time": "2024-03-04T19:38:48.638Z"
   },
   {
    "duration": 13,
    "start_time": "2024-03-04T19:39:00.084Z"
   },
   {
    "duration": 5,
    "start_time": "2024-03-04T19:51:35.412Z"
   },
   {
    "duration": 43,
    "start_time": "2024-03-04T19:52:14.453Z"
   },
   {
    "duration": 45,
    "start_time": "2024-03-04T19:54:00.437Z"
   },
   {
    "duration": 112,
    "start_time": "2024-03-04T19:54:31.452Z"
   },
   {
    "duration": 5,
    "start_time": "2024-03-04T19:56:27.494Z"
   },
   {
    "duration": 13,
    "start_time": "2024-03-04T19:56:53.372Z"
   },
   {
    "duration": 108,
    "start_time": "2024-03-04T19:57:04.159Z"
   },
   {
    "duration": 106,
    "start_time": "2024-03-04T19:58:44.180Z"
   },
   {
    "duration": 50,
    "start_time": "2024-03-04T20:00:07.645Z"
   },
   {
    "duration": 3,
    "start_time": "2024-03-05T14:25:09.275Z"
   },
   {
    "duration": 1843,
    "start_time": "2024-03-05T14:25:09.293Z"
   },
   {
    "duration": 225,
    "start_time": "2024-03-05T14:25:11.138Z"
   },
   {
    "duration": 7,
    "start_time": "2024-03-05T14:25:11.365Z"
   },
   {
    "duration": 254,
    "start_time": "2024-03-05T14:25:11.374Z"
   },
   {
    "duration": 46,
    "start_time": "2024-03-05T14:25:11.630Z"
   },
   {
    "duration": 32,
    "start_time": "2024-03-05T14:25:11.678Z"
   },
   {
    "duration": 20,
    "start_time": "2024-03-05T14:25:11.712Z"
   },
   {
    "duration": 98,
    "start_time": "2024-03-05T14:25:11.734Z"
   },
   {
    "duration": 136,
    "start_time": "2024-03-05T14:25:11.834Z"
   },
   {
    "duration": 71,
    "start_time": "2024-03-05T14:25:11.972Z"
   },
   {
    "duration": 34,
    "start_time": "2024-03-05T14:25:12.044Z"
   },
   {
    "duration": 28,
    "start_time": "2024-03-05T14:25:12.079Z"
   },
   {
    "duration": 62,
    "start_time": "2024-03-05T14:25:12.108Z"
   },
   {
    "duration": 21,
    "start_time": "2024-03-05T14:25:12.172Z"
   },
   {
    "duration": 11,
    "start_time": "2024-03-05T14:25:12.196Z"
   },
   {
    "duration": 19,
    "start_time": "2024-03-05T14:25:12.209Z"
   },
   {
    "duration": 113,
    "start_time": "2024-03-05T14:25:12.230Z"
   },
   {
    "duration": 11,
    "start_time": "2024-03-05T14:25:12.344Z"
   },
   {
    "duration": 21,
    "start_time": "2024-03-05T14:25:12.357Z"
   },
   {
    "duration": 27,
    "start_time": "2024-03-05T14:25:12.380Z"
   },
   {
    "duration": 11,
    "start_time": "2024-03-05T14:25:12.409Z"
   },
   {
    "duration": 52,
    "start_time": "2024-03-05T14:25:12.422Z"
   },
   {
    "duration": 11,
    "start_time": "2024-03-05T14:25:12.476Z"
   },
   {
    "duration": 99,
    "start_time": "2024-03-05T14:25:12.489Z"
   },
   {
    "duration": 17,
    "start_time": "2024-03-05T14:25:12.589Z"
   },
   {
    "duration": 15,
    "start_time": "2024-03-05T14:25:12.607Z"
   },
   {
    "duration": 2,
    "start_time": "2024-03-05T14:25:12.624Z"
   },
   {
    "duration": 44,
    "start_time": "2024-03-05T14:25:12.630Z"
   },
   {
    "duration": 24,
    "start_time": "2024-03-05T14:25:12.675Z"
   },
   {
    "duration": 19,
    "start_time": "2024-03-05T14:25:12.701Z"
   },
   {
    "duration": 23,
    "start_time": "2024-03-05T14:25:12.722Z"
   },
   {
    "duration": 25,
    "start_time": "2024-03-05T14:25:12.746Z"
   },
   {
    "duration": 8,
    "start_time": "2024-03-05T14:25:12.772Z"
   },
   {
    "duration": 18,
    "start_time": "2024-03-05T14:25:12.782Z"
   },
   {
    "duration": 25,
    "start_time": "2024-03-05T14:25:12.801Z"
   },
   {
    "duration": 791,
    "start_time": "2024-03-05T14:25:12.828Z"
   },
   {
    "duration": 15,
    "start_time": "2024-03-05T14:25:13.620Z"
   },
   {
    "duration": 43,
    "start_time": "2024-03-05T14:25:13.636Z"
   },
   {
    "duration": 399,
    "start_time": "2024-03-05T14:25:13.680Z"
   },
   {
    "duration": 206,
    "start_time": "2024-03-05T14:25:14.081Z"
   },
   {
    "duration": 28,
    "start_time": "2024-03-05T14:25:14.288Z"
   },
   {
    "duration": 16,
    "start_time": "2024-03-05T14:25:14.318Z"
   },
   {
    "duration": 4,
    "start_time": "2024-03-05T14:25:14.336Z"
   },
   {
    "duration": 32,
    "start_time": "2024-03-05T14:25:14.342Z"
   },
   {
    "duration": 13,
    "start_time": "2024-03-05T14:25:14.376Z"
   },
   {
    "duration": 550,
    "start_time": "2024-03-05T14:25:14.390Z"
   },
   {
    "duration": 550,
    "start_time": "2024-03-05T14:25:14.942Z"
   },
   {
    "duration": 17,
    "start_time": "2024-03-05T14:25:15.494Z"
   },
   {
    "duration": 33,
    "start_time": "2024-03-05T14:25:15.513Z"
   },
   {
    "duration": 137,
    "start_time": "2024-03-05T14:25:15.548Z"
   },
   {
    "duration": 24,
    "start_time": "2024-03-05T14:25:15.687Z"
   },
   {
    "duration": 4,
    "start_time": "2024-03-05T14:25:15.712Z"
   },
   {
    "duration": 375,
    "start_time": "2024-03-05T14:25:15.718Z"
   },
   {
    "duration": 24,
    "start_time": "2024-03-05T14:25:16.094Z"
   },
   {
    "duration": 238,
    "start_time": "2024-03-05T14:25:16.119Z"
   },
   {
    "duration": 78,
    "start_time": "2024-03-05T14:25:16.358Z"
   },
   {
    "duration": 9870,
    "start_time": "2024-03-05T14:25:16.438Z"
   },
   {
    "duration": 107,
    "start_time": "2024-03-05T14:25:26.310Z"
   },
   {
    "duration": 206,
    "start_time": "2024-03-05T14:25:26.469Z"
   },
   {
    "duration": 9755,
    "start_time": "2024-03-05T14:25:26.677Z"
   },
   {
    "duration": 161,
    "start_time": "2024-03-05T14:25:36.434Z"
   },
   {
    "duration": 15,
    "start_time": "2024-03-05T14:25:36.597Z"
   },
   {
    "duration": 269,
    "start_time": "2024-03-05T14:25:36.669Z"
   },
   {
    "duration": 0,
    "start_time": "2024-03-05T14:25:36.940Z"
   },
   {
    "duration": 0,
    "start_time": "2024-03-05T14:25:36.941Z"
   },
   {
    "duration": 0,
    "start_time": "2024-03-05T14:25:36.942Z"
   },
   {
    "duration": 0,
    "start_time": "2024-03-05T14:25:36.943Z"
   },
   {
    "duration": 0,
    "start_time": "2024-03-05T14:25:36.945Z"
   },
   {
    "duration": 0,
    "start_time": "2024-03-05T14:25:36.946Z"
   },
   {
    "duration": 0,
    "start_time": "2024-03-05T14:25:36.946Z"
   },
   {
    "duration": 0,
    "start_time": "2024-03-05T14:25:36.947Z"
   },
   {
    "duration": 0,
    "start_time": "2024-03-05T14:25:36.948Z"
   },
   {
    "duration": 0,
    "start_time": "2024-03-05T14:25:36.970Z"
   },
   {
    "duration": 0,
    "start_time": "2024-03-05T14:25:36.971Z"
   },
   {
    "duration": 0,
    "start_time": "2024-03-05T14:25:36.972Z"
   },
   {
    "duration": 0,
    "start_time": "2024-03-05T14:25:36.973Z"
   },
   {
    "duration": 0,
    "start_time": "2024-03-05T14:25:36.974Z"
   },
   {
    "duration": 0,
    "start_time": "2024-03-05T14:25:36.975Z"
   },
   {
    "duration": 0,
    "start_time": "2024-03-05T14:25:36.976Z"
   },
   {
    "duration": 0,
    "start_time": "2024-03-05T14:25:36.977Z"
   },
   {
    "duration": 0,
    "start_time": "2024-03-05T14:25:36.978Z"
   },
   {
    "duration": 0,
    "start_time": "2024-03-05T14:25:36.978Z"
   },
   {
    "duration": 0,
    "start_time": "2024-03-05T14:25:36.980Z"
   },
   {
    "duration": 0,
    "start_time": "2024-03-05T14:25:36.980Z"
   },
   {
    "duration": 28,
    "start_time": "2024-03-05T14:28:52.972Z"
   },
   {
    "duration": 33,
    "start_time": "2024-03-05T14:30:09.247Z"
   },
   {
    "duration": 18,
    "start_time": "2024-03-05T14:30:39.886Z"
   },
   {
    "duration": 34,
    "start_time": "2024-03-05T14:30:45.626Z"
   },
   {
    "duration": 111,
    "start_time": "2024-03-05T14:32:30.443Z"
   },
   {
    "duration": 63,
    "start_time": "2024-03-05T14:33:16.567Z"
   },
   {
    "duration": 32,
    "start_time": "2024-03-05T14:35:14.522Z"
   },
   {
    "duration": 16,
    "start_time": "2024-03-05T14:36:08.066Z"
   },
   {
    "duration": 16,
    "start_time": "2024-03-05T14:36:24.998Z"
   },
   {
    "duration": 3,
    "start_time": "2024-03-05T14:37:17.708Z"
   },
   {
    "duration": 1690,
    "start_time": "2024-03-05T14:37:17.748Z"
   },
   {
    "duration": 66,
    "start_time": "2024-03-05T14:37:19.440Z"
   },
   {
    "duration": 6,
    "start_time": "2024-03-05T14:37:19.508Z"
   },
   {
    "duration": 197,
    "start_time": "2024-03-05T14:37:19.516Z"
   },
   {
    "duration": 28,
    "start_time": "2024-03-05T14:37:19.714Z"
   },
   {
    "duration": 54,
    "start_time": "2024-03-05T14:37:19.744Z"
   },
   {
    "duration": 18,
    "start_time": "2024-03-05T14:37:19.800Z"
   },
   {
    "duration": 111,
    "start_time": "2024-03-05T14:37:19.820Z"
   },
   {
    "duration": 142,
    "start_time": "2024-03-05T14:37:19.933Z"
   },
   {
    "duration": 78,
    "start_time": "2024-03-05T14:37:20.078Z"
   },
   {
    "duration": 30,
    "start_time": "2024-03-05T14:37:20.157Z"
   },
   {
    "duration": 26,
    "start_time": "2024-03-05T14:37:20.189Z"
   },
   {
    "duration": 66,
    "start_time": "2024-03-05T14:37:20.217Z"
   },
   {
    "duration": 14,
    "start_time": "2024-03-05T14:37:20.285Z"
   },
   {
    "duration": 10,
    "start_time": "2024-03-05T14:37:20.301Z"
   },
   {
    "duration": 14,
    "start_time": "2024-03-05T14:37:20.313Z"
   },
   {
    "duration": 130,
    "start_time": "2024-03-05T14:37:20.328Z"
   },
   {
    "duration": 16,
    "start_time": "2024-03-05T14:37:20.459Z"
   },
   {
    "duration": 22,
    "start_time": "2024-03-05T14:37:20.476Z"
   },
   {
    "duration": 29,
    "start_time": "2024-03-05T14:37:20.500Z"
   },
   {
    "duration": 10,
    "start_time": "2024-03-05T14:37:20.531Z"
   },
   {
    "duration": 39,
    "start_time": "2024-03-05T14:37:20.542Z"
   },
   {
    "duration": 11,
    "start_time": "2024-03-05T14:37:20.582Z"
   },
   {
    "duration": 107,
    "start_time": "2024-03-05T14:37:20.594Z"
   },
   {
    "duration": 18,
    "start_time": "2024-03-05T14:37:20.702Z"
   },
   {
    "duration": 16,
    "start_time": "2024-03-05T14:37:20.721Z"
   },
   {
    "duration": 3,
    "start_time": "2024-03-05T14:37:20.738Z"
   },
   {
    "duration": 40,
    "start_time": "2024-03-05T14:37:20.745Z"
   },
   {
    "duration": 7,
    "start_time": "2024-03-05T14:37:20.787Z"
   },
   {
    "duration": 29,
    "start_time": "2024-03-05T14:37:20.795Z"
   },
   {
    "duration": 18,
    "start_time": "2024-03-05T14:37:20.825Z"
   },
   {
    "duration": 43,
    "start_time": "2024-03-05T14:37:20.844Z"
   },
   {
    "duration": 26,
    "start_time": "2024-03-05T14:37:20.888Z"
   },
   {
    "duration": 23,
    "start_time": "2024-03-05T14:37:20.916Z"
   },
   {
    "duration": 31,
    "start_time": "2024-03-05T14:37:20.940Z"
   },
   {
    "duration": 810,
    "start_time": "2024-03-05T14:37:20.973Z"
   },
   {
    "duration": 15,
    "start_time": "2024-03-05T14:37:21.785Z"
   },
   {
    "duration": 20,
    "start_time": "2024-03-05T14:37:21.801Z"
   },
   {
    "duration": 482,
    "start_time": "2024-03-05T14:37:21.823Z"
   },
   {
    "duration": 179,
    "start_time": "2024-03-05T14:37:22.307Z"
   },
   {
    "duration": 29,
    "start_time": "2024-03-05T14:37:22.487Z"
   },
   {
    "duration": 16,
    "start_time": "2024-03-05T14:37:22.517Z"
   },
   {
    "duration": 3,
    "start_time": "2024-03-05T14:37:22.535Z"
   },
   {
    "duration": 6,
    "start_time": "2024-03-05T14:37:22.569Z"
   },
   {
    "duration": 40,
    "start_time": "2024-03-05T14:37:22.576Z"
   },
   {
    "duration": 498,
    "start_time": "2024-03-05T14:37:22.617Z"
   },
   {
    "duration": 449,
    "start_time": "2024-03-05T14:37:23.117Z"
   },
   {
    "duration": 110,
    "start_time": "2024-03-05T14:37:23.569Z"
   },
   {
    "duration": 26,
    "start_time": "2024-03-05T14:37:23.680Z"
   },
   {
    "duration": 139,
    "start_time": "2024-03-05T14:37:23.707Z"
   },
   {
    "duration": 34,
    "start_time": "2024-03-05T14:37:23.848Z"
   },
   {
    "duration": 31,
    "start_time": "2024-03-05T14:37:23.883Z"
   },
   {
    "duration": 357,
    "start_time": "2024-03-05T14:37:23.915Z"
   },
   {
    "duration": 23,
    "start_time": "2024-03-05T14:37:24.274Z"
   },
   {
    "duration": 228,
    "start_time": "2024-03-05T14:37:24.299Z"
   },
   {
    "duration": 85,
    "start_time": "2024-03-05T14:37:24.529Z"
   },
   {
    "duration": 9780,
    "start_time": "2024-03-05T14:37:24.615Z"
   },
   {
    "duration": 175,
    "start_time": "2024-03-05T14:37:34.398Z"
   },
   {
    "duration": 166,
    "start_time": "2024-03-05T14:37:34.574Z"
   },
   {
    "duration": 9623,
    "start_time": "2024-03-05T14:37:34.742Z"
   },
   {
    "duration": 201,
    "start_time": "2024-03-05T14:37:44.369Z"
   },
   {
    "duration": 17,
    "start_time": "2024-03-05T14:37:44.571Z"
   },
   {
    "duration": 15,
    "start_time": "2024-03-05T14:37:44.589Z"
   },
   {
    "duration": 100,
    "start_time": "2024-03-05T14:37:44.606Z"
   },
   {
    "duration": 140,
    "start_time": "2024-03-05T14:37:44.708Z"
   },
   {
    "duration": 255,
    "start_time": "2024-03-05T14:37:44.849Z"
   },
   {
    "duration": 120,
    "start_time": "2024-03-05T14:37:45.105Z"
   },
   {
    "duration": 7,
    "start_time": "2024-03-05T14:37:45.226Z"
   },
   {
    "duration": 136,
    "start_time": "2024-03-05T14:37:45.235Z"
   },
   {
    "duration": 137,
    "start_time": "2024-03-05T14:37:45.372Z"
   },
   {
    "duration": 1560,
    "start_time": "2024-03-05T14:37:45.510Z"
   },
   {
    "duration": 98,
    "start_time": "2024-03-05T14:37:47.072Z"
   },
   {
    "duration": 9,
    "start_time": "2024-03-05T14:37:47.171Z"
   },
   {
    "duration": 7,
    "start_time": "2024-03-05T14:37:47.181Z"
   },
   {
    "duration": 5,
    "start_time": "2024-03-05T14:37:47.189Z"
   },
   {
    "duration": 118,
    "start_time": "2024-03-05T14:37:47.195Z"
   },
   {
    "duration": 16,
    "start_time": "2024-03-05T14:37:47.314Z"
   },
   {
    "duration": 182,
    "start_time": "2024-03-05T14:37:47.331Z"
   },
   {
    "duration": 0,
    "start_time": "2024-03-05T14:37:47.515Z"
   },
   {
    "duration": 0,
    "start_time": "2024-03-05T14:37:47.516Z"
   },
   {
    "duration": 0,
    "start_time": "2024-03-05T14:37:47.518Z"
   },
   {
    "duration": 0,
    "start_time": "2024-03-05T14:37:47.518Z"
   },
   {
    "duration": 0,
    "start_time": "2024-03-05T14:37:47.520Z"
   },
   {
    "duration": 0,
    "start_time": "2024-03-05T14:37:47.521Z"
   },
   {
    "duration": 97,
    "start_time": "2024-03-05T14:57:40.096Z"
   },
   {
    "duration": 24,
    "start_time": "2024-03-05T16:36:20.041Z"
   },
   {
    "duration": 7,
    "start_time": "2024-03-05T16:41:02.997Z"
   },
   {
    "duration": 3,
    "start_time": "2024-03-05T16:47:00.782Z"
   },
   {
    "duration": 1704,
    "start_time": "2024-03-05T16:47:00.862Z"
   },
   {
    "duration": 67,
    "start_time": "2024-03-05T16:47:02.568Z"
   },
   {
    "duration": 81,
    "start_time": "2024-03-05T16:47:02.636Z"
   },
   {
    "duration": 234,
    "start_time": "2024-03-05T16:47:02.719Z"
   },
   {
    "duration": 24,
    "start_time": "2024-03-05T16:47:02.971Z"
   },
   {
    "duration": 36,
    "start_time": "2024-03-05T16:47:02.996Z"
   },
   {
    "duration": 17,
    "start_time": "2024-03-05T16:47:03.034Z"
   },
   {
    "duration": 136,
    "start_time": "2024-03-05T16:47:03.052Z"
   },
   {
    "duration": 137,
    "start_time": "2024-03-05T16:47:03.190Z"
   },
   {
    "duration": 80,
    "start_time": "2024-03-05T16:47:03.329Z"
   },
   {
    "duration": 18,
    "start_time": "2024-03-05T16:47:03.411Z"
   },
   {
    "duration": 41,
    "start_time": "2024-03-05T16:47:03.431Z"
   },
   {
    "duration": 42,
    "start_time": "2024-03-05T16:47:03.474Z"
   },
   {
    "duration": 14,
    "start_time": "2024-03-05T16:47:03.517Z"
   },
   {
    "duration": 17,
    "start_time": "2024-03-05T16:47:03.533Z"
   },
   {
    "duration": 9,
    "start_time": "2024-03-05T16:47:03.569Z"
   },
   {
    "duration": 103,
    "start_time": "2024-03-05T16:47:03.579Z"
   },
   {
    "duration": 11,
    "start_time": "2024-03-05T16:47:03.684Z"
   },
   {
    "duration": 17,
    "start_time": "2024-03-05T16:47:03.697Z"
   },
   {
    "duration": 28,
    "start_time": "2024-03-05T16:47:03.715Z"
   },
   {
    "duration": 30,
    "start_time": "2024-03-05T16:47:03.744Z"
   },
   {
    "duration": 20,
    "start_time": "2024-03-05T16:47:03.776Z"
   },
   {
    "duration": 10,
    "start_time": "2024-03-05T16:47:03.798Z"
   },
   {
    "duration": 122,
    "start_time": "2024-03-05T16:47:03.809Z"
   },
   {
    "duration": 18,
    "start_time": "2024-03-05T16:47:03.933Z"
   },
   {
    "duration": 26,
    "start_time": "2024-03-05T16:47:03.952Z"
   },
   {
    "duration": 2,
    "start_time": "2024-03-05T16:47:03.980Z"
   },
   {
    "duration": 23,
    "start_time": "2024-03-05T16:47:03.986Z"
   },
   {
    "duration": 10,
    "start_time": "2024-03-05T16:47:04.011Z"
   },
   {
    "duration": 26,
    "start_time": "2024-03-05T16:47:04.023Z"
   },
   {
    "duration": 36,
    "start_time": "2024-03-05T16:47:04.050Z"
   },
   {
    "duration": 21,
    "start_time": "2024-03-05T16:47:04.087Z"
   },
   {
    "duration": 12,
    "start_time": "2024-03-05T16:47:04.109Z"
   },
   {
    "duration": 20,
    "start_time": "2024-03-05T16:47:04.123Z"
   },
   {
    "duration": 51,
    "start_time": "2024-03-05T16:47:04.145Z"
   },
   {
    "duration": 811,
    "start_time": "2024-03-05T16:47:04.198Z"
   },
   {
    "duration": 14,
    "start_time": "2024-03-05T16:47:05.010Z"
   },
   {
    "duration": 20,
    "start_time": "2024-03-05T16:47:05.026Z"
   },
   {
    "duration": 482,
    "start_time": "2024-03-05T16:47:05.047Z"
   },
   {
    "duration": 181,
    "start_time": "2024-03-05T16:47:05.530Z"
   },
   {
    "duration": 29,
    "start_time": "2024-03-05T16:47:05.713Z"
   },
   {
    "duration": 34,
    "start_time": "2024-03-05T16:47:05.743Z"
   },
   {
    "duration": 4,
    "start_time": "2024-03-05T16:47:05.779Z"
   },
   {
    "duration": 14,
    "start_time": "2024-03-05T16:47:05.784Z"
   },
   {
    "duration": 33,
    "start_time": "2024-03-05T16:47:05.800Z"
   },
   {
    "duration": 509,
    "start_time": "2024-03-05T16:47:05.834Z"
   },
   {
    "duration": 456,
    "start_time": "2024-03-05T16:47:06.345Z"
   },
   {
    "duration": 118,
    "start_time": "2024-03-05T16:47:06.802Z"
   },
   {
    "duration": 25,
    "start_time": "2024-03-05T16:47:06.922Z"
   },
   {
    "duration": 132,
    "start_time": "2024-03-05T16:47:06.949Z"
   },
   {
    "duration": 21,
    "start_time": "2024-03-05T16:47:07.082Z"
   },
   {
    "duration": 7,
    "start_time": "2024-03-05T16:47:07.104Z"
   },
   {
    "duration": 370,
    "start_time": "2024-03-05T16:47:07.112Z"
   },
   {
    "duration": 22,
    "start_time": "2024-03-05T16:47:07.484Z"
   },
   {
    "duration": 232,
    "start_time": "2024-03-05T16:47:07.508Z"
   },
   {
    "duration": 83,
    "start_time": "2024-03-05T16:47:07.741Z"
   },
   {
    "duration": 9788,
    "start_time": "2024-03-05T16:47:07.826Z"
   },
   {
    "duration": 158,
    "start_time": "2024-03-05T16:47:17.616Z"
   },
   {
    "duration": 219,
    "start_time": "2024-03-05T16:47:17.776Z"
   },
   {
    "duration": 9836,
    "start_time": "2024-03-05T16:47:17.997Z"
   },
   {
    "duration": 157,
    "start_time": "2024-03-05T16:47:27.835Z"
   },
   {
    "duration": 15,
    "start_time": "2024-03-05T16:47:27.994Z"
   },
   {
    "duration": 65,
    "start_time": "2024-03-05T16:47:28.011Z"
   },
   {
    "duration": 97,
    "start_time": "2024-03-05T16:47:28.078Z"
   },
   {
    "duration": 99,
    "start_time": "2024-03-05T16:47:28.177Z"
   },
   {
    "duration": 258,
    "start_time": "2024-03-05T16:47:28.277Z"
   },
   {
    "duration": 121,
    "start_time": "2024-03-05T16:47:28.537Z"
   },
   {
    "duration": 11,
    "start_time": "2024-03-05T16:47:28.660Z"
   },
   {
    "duration": 87,
    "start_time": "2024-03-05T16:47:28.672Z"
   },
   {
    "duration": 136,
    "start_time": "2024-03-05T16:47:28.761Z"
   },
   {
    "duration": 1633,
    "start_time": "2024-03-05T16:47:28.898Z"
   },
   {
    "duration": 88,
    "start_time": "2024-03-05T16:47:30.533Z"
   },
   {
    "duration": 219,
    "start_time": "2024-03-05T16:47:30.623Z"
   },
   {
    "duration": 77,
    "start_time": "2024-03-05T16:47:30.843Z"
   },
   {
    "duration": 78,
    "start_time": "2024-03-05T16:47:30.921Z"
   },
   {
    "duration": 154,
    "start_time": "2024-03-05T16:47:31.001Z"
   },
   {
    "duration": 24,
    "start_time": "2024-03-05T16:47:31.156Z"
   },
   {
    "duration": 168,
    "start_time": "2024-03-05T16:47:31.182Z"
   },
   {
    "duration": 20,
    "start_time": "2024-03-05T16:47:31.352Z"
   },
   {
    "duration": 559,
    "start_time": "2024-03-05T16:47:31.373Z"
   },
   {
    "duration": 17,
    "start_time": "2024-03-05T16:47:31.934Z"
   },
   {
    "duration": 29,
    "start_time": "2024-03-05T16:47:31.969Z"
   },
   {
    "duration": 179,
    "start_time": "2024-03-05T16:47:31.999Z"
   },
   {
    "duration": 164,
    "start_time": "2024-03-05T16:47:32.180Z"
   },
   {
    "duration": 108,
    "start_time": "2024-03-05T18:04:03.385Z"
   },
   {
    "duration": 13,
    "start_time": "2024-03-06T11:42:26.278Z"
   },
   {
    "duration": 96,
    "start_time": "2024-03-06T11:45:37.338Z"
   },
   {
    "duration": 92,
    "start_time": "2024-03-06T11:46:45.017Z"
   },
   {
    "duration": 11,
    "start_time": "2024-03-06T11:49:37.274Z"
   },
   {
    "duration": 48,
    "start_time": "2024-03-06T12:11:25.562Z"
   },
   {
    "duration": 4,
    "start_time": "2024-03-06T12:11:34.937Z"
   },
   {
    "duration": 1687,
    "start_time": "2024-03-06T12:11:34.958Z"
   },
   {
    "duration": 69,
    "start_time": "2024-03-06T12:11:36.651Z"
   },
   {
    "duration": 6,
    "start_time": "2024-03-06T12:11:36.722Z"
   },
   {
    "duration": 181,
    "start_time": "2024-03-06T12:11:36.730Z"
   },
   {
    "duration": 24,
    "start_time": "2024-03-06T12:11:36.913Z"
   },
   {
    "duration": 59,
    "start_time": "2024-03-06T12:11:36.938Z"
   },
   {
    "duration": 17,
    "start_time": "2024-03-06T12:11:36.998Z"
   },
   {
    "duration": 100,
    "start_time": "2024-03-06T12:11:37.017Z"
   },
   {
    "duration": 133,
    "start_time": "2024-03-06T12:11:37.119Z"
   },
   {
    "duration": 68,
    "start_time": "2024-03-06T12:11:37.254Z"
   },
   {
    "duration": 18,
    "start_time": "2024-03-06T12:11:37.323Z"
   },
   {
    "duration": 44,
    "start_time": "2024-03-06T12:11:37.342Z"
   },
   {
    "duration": 40,
    "start_time": "2024-03-06T12:11:37.387Z"
   },
   {
    "duration": 14,
    "start_time": "2024-03-06T12:11:37.429Z"
   },
   {
    "duration": 26,
    "start_time": "2024-03-06T12:11:37.445Z"
   },
   {
    "duration": 9,
    "start_time": "2024-03-06T12:11:37.472Z"
   },
   {
    "duration": 104,
    "start_time": "2024-03-06T12:11:37.483Z"
   },
   {
    "duration": 12,
    "start_time": "2024-03-06T12:11:37.589Z"
   },
   {
    "duration": 16,
    "start_time": "2024-03-06T12:11:37.603Z"
   },
   {
    "duration": 45,
    "start_time": "2024-03-06T12:11:37.621Z"
   },
   {
    "duration": 11,
    "start_time": "2024-03-06T12:11:37.667Z"
   },
   {
    "duration": 21,
    "start_time": "2024-03-06T12:11:37.680Z"
   },
   {
    "duration": 11,
    "start_time": "2024-03-06T12:11:37.703Z"
   },
   {
    "duration": 117,
    "start_time": "2024-03-06T12:11:37.716Z"
   },
   {
    "duration": 31,
    "start_time": "2024-03-06T12:11:37.835Z"
   },
   {
    "duration": 18,
    "start_time": "2024-03-06T12:11:37.868Z"
   },
   {
    "duration": 3,
    "start_time": "2024-03-06T12:11:37.888Z"
   },
   {
    "duration": 25,
    "start_time": "2024-03-06T12:11:37.893Z"
   },
   {
    "duration": 7,
    "start_time": "2024-03-06T12:11:37.920Z"
   },
   {
    "duration": 48,
    "start_time": "2024-03-06T12:11:37.929Z"
   },
   {
    "duration": 19,
    "start_time": "2024-03-06T12:11:37.979Z"
   },
   {
    "duration": 29,
    "start_time": "2024-03-06T12:11:38.000Z"
   },
   {
    "duration": 13,
    "start_time": "2024-03-06T12:11:38.032Z"
   },
   {
    "duration": 31,
    "start_time": "2024-03-06T12:11:38.046Z"
   },
   {
    "duration": 42,
    "start_time": "2024-03-06T12:11:38.079Z"
   },
   {
    "duration": 763,
    "start_time": "2024-03-06T12:11:38.123Z"
   },
   {
    "duration": 13,
    "start_time": "2024-03-06T12:11:38.888Z"
   },
   {
    "duration": 20,
    "start_time": "2024-03-06T12:11:38.903Z"
   },
   {
    "duration": 466,
    "start_time": "2024-03-06T12:11:38.925Z"
   },
   {
    "duration": 192,
    "start_time": "2024-03-06T12:11:39.393Z"
   },
   {
    "duration": 28,
    "start_time": "2024-03-06T12:11:39.590Z"
   },
   {
    "duration": 16,
    "start_time": "2024-03-06T12:11:39.620Z"
   },
   {
    "duration": 31,
    "start_time": "2024-03-06T12:11:39.637Z"
   },
   {
    "duration": 15,
    "start_time": "2024-03-06T12:11:39.669Z"
   },
   {
    "duration": 17,
    "start_time": "2024-03-06T12:11:39.685Z"
   },
   {
    "duration": 507,
    "start_time": "2024-03-06T12:11:39.704Z"
   },
   {
    "duration": 463,
    "start_time": "2024-03-06T12:11:40.212Z"
   },
   {
    "duration": 125,
    "start_time": "2024-03-06T12:11:40.677Z"
   },
   {
    "duration": 25,
    "start_time": "2024-03-06T12:11:40.803Z"
   },
   {
    "duration": 135,
    "start_time": "2024-03-06T12:11:40.830Z"
   },
   {
    "duration": 23,
    "start_time": "2024-03-06T12:11:40.967Z"
   },
   {
    "duration": 5,
    "start_time": "2024-03-06T12:11:40.992Z"
   },
   {
    "duration": 399,
    "start_time": "2024-03-06T12:11:40.999Z"
   },
   {
    "duration": 23,
    "start_time": "2024-03-06T12:11:41.401Z"
   },
   {
    "duration": 229,
    "start_time": "2024-03-06T12:11:41.426Z"
   },
   {
    "duration": 75,
    "start_time": "2024-03-06T12:11:41.657Z"
   },
   {
    "duration": 9665,
    "start_time": "2024-03-06T12:11:41.733Z"
   },
   {
    "duration": 167,
    "start_time": "2024-03-06T12:11:51.399Z"
   },
   {
    "duration": 212,
    "start_time": "2024-03-06T12:11:51.568Z"
   },
   {
    "duration": 10232,
    "start_time": "2024-03-06T12:11:51.781Z"
   },
   {
    "duration": 175,
    "start_time": "2024-03-06T12:12:02.015Z"
   },
   {
    "duration": 16,
    "start_time": "2024-03-06T12:12:02.191Z"
   },
   {
    "duration": 69,
    "start_time": "2024-03-06T12:12:02.208Z"
   },
   {
    "duration": 50,
    "start_time": "2024-03-06T12:12:02.278Z"
   },
   {
    "duration": 152,
    "start_time": "2024-03-06T12:12:02.330Z"
   },
   {
    "duration": 286,
    "start_time": "2024-03-06T12:12:02.484Z"
   },
   {
    "duration": 118,
    "start_time": "2024-03-06T12:12:02.772Z"
   },
   {
    "duration": 5,
    "start_time": "2024-03-06T12:12:02.891Z"
   },
   {
    "duration": 50,
    "start_time": "2024-03-06T12:12:02.898Z"
   },
   {
    "duration": 132,
    "start_time": "2024-03-06T12:12:02.965Z"
   },
   {
    "duration": 1486,
    "start_time": "2024-03-06T12:12:03.098Z"
   },
   {
    "duration": 95,
    "start_time": "2024-03-06T12:12:04.585Z"
   },
   {
    "duration": 6,
    "start_time": "2024-03-06T12:12:04.681Z"
   },
   {
    "duration": 173,
    "start_time": "2024-03-06T12:12:04.689Z"
   },
   {
    "duration": 0,
    "start_time": "2024-03-06T12:12:04.866Z"
   },
   {
    "duration": 0,
    "start_time": "2024-03-06T12:12:04.867Z"
   },
   {
    "duration": 0,
    "start_time": "2024-03-06T12:12:04.867Z"
   },
   {
    "duration": 0,
    "start_time": "2024-03-06T12:12:04.869Z"
   },
   {
    "duration": 0,
    "start_time": "2024-03-06T12:12:04.869Z"
   },
   {
    "duration": 0,
    "start_time": "2024-03-06T12:12:04.871Z"
   },
   {
    "duration": 0,
    "start_time": "2024-03-06T12:12:04.872Z"
   },
   {
    "duration": 0,
    "start_time": "2024-03-06T12:12:04.872Z"
   },
   {
    "duration": 18,
    "start_time": "2024-03-06T12:14:19.339Z"
   },
   {
    "duration": 181,
    "start_time": "2024-03-06T12:14:44.198Z"
   },
   {
    "duration": 14,
    "start_time": "2024-03-06T12:14:59.406Z"
   },
   {
    "duration": 115,
    "start_time": "2024-03-06T12:15:08.684Z"
   },
   {
    "duration": 12,
    "start_time": "2024-03-06T12:15:27.552Z"
   },
   {
    "duration": 13,
    "start_time": "2024-03-06T12:19:36.181Z"
   },
   {
    "duration": 3,
    "start_time": "2024-03-06T12:20:14.858Z"
   },
   {
    "duration": 1569,
    "start_time": "2024-03-06T12:20:16.524Z"
   },
   {
    "duration": 66,
    "start_time": "2024-03-06T12:20:18.094Z"
   },
   {
    "duration": 6,
    "start_time": "2024-03-06T12:20:18.161Z"
   },
   {
    "duration": 165,
    "start_time": "2024-03-06T12:20:18.169Z"
   },
   {
    "duration": 43,
    "start_time": "2024-03-06T12:20:18.336Z"
   },
   {
    "duration": 32,
    "start_time": "2024-03-06T12:20:18.758Z"
   },
   {
    "duration": 28,
    "start_time": "2024-03-06T12:20:18.793Z"
   },
   {
    "duration": 95,
    "start_time": "2024-03-06T12:20:18.823Z"
   },
   {
    "duration": 147,
    "start_time": "2024-03-06T12:20:18.919Z"
   },
   {
    "duration": 65,
    "start_time": "2024-03-06T12:20:19.068Z"
   },
   {
    "duration": 33,
    "start_time": "2024-03-06T12:20:19.135Z"
   },
   {
    "duration": 25,
    "start_time": "2024-03-06T12:20:19.170Z"
   },
   {
    "duration": 41,
    "start_time": "2024-03-06T12:20:19.197Z"
   },
   {
    "duration": 36,
    "start_time": "2024-03-06T12:20:19.239Z"
   },
   {
    "duration": 10,
    "start_time": "2024-03-06T12:20:19.276Z"
   },
   {
    "duration": 8,
    "start_time": "2024-03-06T12:20:19.287Z"
   },
   {
    "duration": 103,
    "start_time": "2024-03-06T12:20:19.296Z"
   },
   {
    "duration": 10,
    "start_time": "2024-03-06T12:20:19.401Z"
   },
   {
    "duration": 19,
    "start_time": "2024-03-06T12:20:19.412Z"
   },
   {
    "duration": 41,
    "start_time": "2024-03-06T12:20:19.434Z"
   },
   {
    "duration": 10,
    "start_time": "2024-03-06T12:20:19.477Z"
   },
   {
    "duration": 21,
    "start_time": "2024-03-06T12:20:19.488Z"
   },
   {
    "duration": 10,
    "start_time": "2024-03-06T12:20:19.510Z"
   },
   {
    "duration": 106,
    "start_time": "2024-03-06T12:20:19.521Z"
   },
   {
    "duration": 17,
    "start_time": "2024-03-06T12:20:19.628Z"
   },
   {
    "duration": 33,
    "start_time": "2024-03-06T12:20:19.646Z"
   },
   {
    "duration": 3,
    "start_time": "2024-03-06T12:20:19.680Z"
   },
   {
    "duration": 25,
    "start_time": "2024-03-06T12:20:19.684Z"
   },
   {
    "duration": 7,
    "start_time": "2024-03-06T12:20:19.710Z"
   },
   {
    "duration": 21,
    "start_time": "2024-03-06T12:20:19.718Z"
   },
   {
    "duration": 32,
    "start_time": "2024-03-06T12:20:19.740Z"
   },
   {
    "duration": 21,
    "start_time": "2024-03-06T12:20:19.774Z"
   },
   {
    "duration": 8,
    "start_time": "2024-03-06T12:20:19.797Z"
   },
   {
    "duration": 18,
    "start_time": "2024-03-06T12:20:19.806Z"
   },
   {
    "duration": 45,
    "start_time": "2024-03-06T12:20:19.826Z"
   },
   {
    "duration": 726,
    "start_time": "2024-03-06T12:20:19.873Z"
   },
   {
    "duration": 14,
    "start_time": "2024-03-06T12:20:20.601Z"
   },
   {
    "duration": 11,
    "start_time": "2024-03-06T12:20:20.616Z"
   },
   {
    "duration": 460,
    "start_time": "2024-03-06T12:20:20.665Z"
   },
   {
    "duration": 174,
    "start_time": "2024-03-06T12:20:21.126Z"
   },
   {
    "duration": 27,
    "start_time": "2024-03-06T12:20:21.301Z"
   },
   {
    "duration": 15,
    "start_time": "2024-03-06T12:20:21.329Z"
   },
   {
    "duration": 23,
    "start_time": "2024-03-06T12:20:21.345Z"
   },
   {
    "duration": 8,
    "start_time": "2024-03-06T12:20:21.369Z"
   },
   {
    "duration": 12,
    "start_time": "2024-03-06T12:20:21.378Z"
   },
   {
    "duration": 534,
    "start_time": "2024-03-06T12:20:21.391Z"
   },
   {
    "duration": 443,
    "start_time": "2024-03-06T12:20:21.927Z"
   },
   {
    "duration": 116,
    "start_time": "2024-03-06T12:20:22.371Z"
   },
   {
    "duration": 25,
    "start_time": "2024-03-06T12:20:22.489Z"
   },
   {
    "duration": 128,
    "start_time": "2024-03-06T12:20:22.516Z"
   },
   {
    "duration": 32,
    "start_time": "2024-03-06T12:20:22.646Z"
   },
   {
    "duration": 6,
    "start_time": "2024-03-06T12:20:22.680Z"
   },
   {
    "duration": 346,
    "start_time": "2024-03-06T12:20:23.380Z"
   },
   {
    "duration": 22,
    "start_time": "2024-03-06T12:20:23.727Z"
   },
   {
    "duration": 213,
    "start_time": "2024-03-06T12:20:23.766Z"
   },
   {
    "duration": 85,
    "start_time": "2024-03-06T12:20:23.980Z"
   },
   {
    "duration": 9553,
    "start_time": "2024-03-06T12:20:24.068Z"
   },
   {
    "duration": 155,
    "start_time": "2024-03-06T12:20:33.623Z"
   },
   {
    "duration": 192,
    "start_time": "2024-03-06T12:20:33.779Z"
   },
   {
    "duration": 9436,
    "start_time": "2024-03-06T12:20:33.972Z"
   },
   {
    "duration": 167,
    "start_time": "2024-03-06T12:20:43.411Z"
   },
   {
    "duration": 15,
    "start_time": "2024-03-06T12:20:43.580Z"
   },
   {
    "duration": 70,
    "start_time": "2024-03-06T12:20:43.597Z"
   },
   {
    "duration": 48,
    "start_time": "2024-03-06T12:20:43.668Z"
   },
   {
    "duration": 124,
    "start_time": "2024-03-06T12:20:43.717Z"
   },
   {
    "duration": 248,
    "start_time": "2024-03-06T12:20:43.844Z"
   },
   {
    "duration": 135,
    "start_time": "2024-03-06T12:20:44.093Z"
   },
   {
    "duration": 6,
    "start_time": "2024-03-06T12:20:44.229Z"
   },
   {
    "duration": 66,
    "start_time": "2024-03-06T12:20:44.236Z"
   },
   {
    "duration": 142,
    "start_time": "2024-03-06T12:20:44.304Z"
   },
   {
    "duration": 1546,
    "start_time": "2024-03-06T12:20:44.448Z"
   },
   {
    "duration": 95,
    "start_time": "2024-03-06T12:20:45.996Z"
   },
   {
    "duration": 6,
    "start_time": "2024-03-06T12:20:46.092Z"
   },
   {
    "duration": 191,
    "start_time": "2024-03-06T12:20:46.099Z"
   },
   {
    "duration": 13,
    "start_time": "2024-03-06T12:20:46.291Z"
   },
   {
    "duration": 105,
    "start_time": "2024-03-06T12:20:46.305Z"
   },
   {
    "duration": 10,
    "start_time": "2024-03-06T12:20:46.411Z"
   },
   {
    "duration": 35,
    "start_time": "2024-03-06T12:20:46.422Z"
   },
   {
    "duration": 367,
    "start_time": "2024-03-06T12:20:46.466Z"
   },
   {
    "duration": 0,
    "start_time": "2024-03-06T12:20:46.834Z"
   },
   {
    "duration": 0,
    "start_time": "2024-03-06T12:20:46.835Z"
   },
   {
    "duration": 0,
    "start_time": "2024-03-06T12:20:46.836Z"
   },
   {
    "duration": 0,
    "start_time": "2024-03-06T12:20:46.837Z"
   },
   {
    "duration": 245,
    "start_time": "2024-03-06T12:26:06.755Z"
   },
   {
    "duration": 249,
    "start_time": "2024-03-06T12:26:35.592Z"
   },
   {
    "duration": 13,
    "start_time": "2024-03-06T12:28:02.618Z"
   },
   {
    "duration": 12,
    "start_time": "2024-03-06T12:28:36.843Z"
   },
   {
    "duration": 246,
    "start_time": "2024-03-06T12:28:39.591Z"
   },
   {
    "duration": 3,
    "start_time": "2024-03-06T12:30:21.534Z"
   },
   {
    "duration": 1498,
    "start_time": "2024-03-06T12:30:21.995Z"
   },
   {
    "duration": 67,
    "start_time": "2024-03-06T12:30:23.494Z"
   },
   {
    "duration": 6,
    "start_time": "2024-03-06T12:30:23.563Z"
   },
   {
    "duration": 167,
    "start_time": "2024-03-06T12:30:23.570Z"
   },
   {
    "duration": 49,
    "start_time": "2024-03-06T12:30:23.739Z"
   },
   {
    "duration": 31,
    "start_time": "2024-03-06T12:30:23.790Z"
   },
   {
    "duration": 15,
    "start_time": "2024-03-06T12:30:23.823Z"
   },
   {
    "duration": 133,
    "start_time": "2024-03-06T12:30:23.839Z"
   },
   {
    "duration": 222,
    "start_time": "2024-03-06T12:30:23.974Z"
   },
   {
    "duration": 114,
    "start_time": "2024-03-06T12:30:24.198Z"
   },
   {
    "duration": 19,
    "start_time": "2024-03-06T12:30:24.366Z"
   },
   {
    "duration": 79,
    "start_time": "2024-03-06T12:30:24.386Z"
   },
   {
    "duration": 39,
    "start_time": "2024-03-06T12:30:24.467Z"
   },
   {
    "duration": 64,
    "start_time": "2024-03-06T12:30:24.509Z"
   },
   {
    "duration": 10,
    "start_time": "2024-03-06T12:30:24.575Z"
   },
   {
    "duration": 8,
    "start_time": "2024-03-06T12:30:24.587Z"
   },
   {
    "duration": 114,
    "start_time": "2024-03-06T12:30:24.596Z"
   },
   {
    "duration": 11,
    "start_time": "2024-03-06T12:30:24.711Z"
   },
   {
    "duration": 30,
    "start_time": "2024-03-06T12:30:24.723Z"
   },
   {
    "duration": 26,
    "start_time": "2024-03-06T12:30:24.754Z"
   },
   {
    "duration": 10,
    "start_time": "2024-03-06T12:30:24.782Z"
   },
   {
    "duration": 23,
    "start_time": "2024-03-06T12:30:24.794Z"
   },
   {
    "duration": 12,
    "start_time": "2024-03-06T12:30:24.819Z"
   },
   {
    "duration": 144,
    "start_time": "2024-03-06T12:30:24.833Z"
   },
   {
    "duration": 18,
    "start_time": "2024-03-06T12:30:24.978Z"
   },
   {
    "duration": 15,
    "start_time": "2024-03-06T12:30:24.998Z"
   },
   {
    "duration": 2,
    "start_time": "2024-03-06T12:30:25.015Z"
   },
   {
    "duration": 24,
    "start_time": "2024-03-06T12:30:25.018Z"
   },
   {
    "duration": 16,
    "start_time": "2024-03-06T12:30:25.044Z"
   },
   {
    "duration": 35,
    "start_time": "2024-03-06T12:30:25.061Z"
   },
   {
    "duration": 17,
    "start_time": "2024-03-06T12:30:25.097Z"
   },
   {
    "duration": 18,
    "start_time": "2024-03-06T12:30:25.116Z"
   },
   {
    "duration": 8,
    "start_time": "2024-03-06T12:30:25.135Z"
   },
   {
    "duration": 50,
    "start_time": "2024-03-06T12:30:25.144Z"
   },
   {
    "duration": 28,
    "start_time": "2024-03-06T12:30:25.195Z"
   },
   {
    "duration": 967,
    "start_time": "2024-03-06T12:30:25.224Z"
   },
   {
    "duration": 13,
    "start_time": "2024-03-06T12:30:26.192Z"
   },
   {
    "duration": 67,
    "start_time": "2024-03-06T12:30:26.207Z"
   },
   {
    "duration": 894,
    "start_time": "2024-03-06T12:30:26.276Z"
   },
   {
    "duration": 215,
    "start_time": "2024-03-06T12:30:27.171Z"
   },
   {
    "duration": 81,
    "start_time": "2024-03-06T12:30:27.390Z"
   },
   {
    "duration": 19,
    "start_time": "2024-03-06T12:30:27.473Z"
   },
   {
    "duration": 20,
    "start_time": "2024-03-06T12:30:27.493Z"
   },
   {
    "duration": 8,
    "start_time": "2024-03-06T12:30:27.514Z"
   },
   {
    "duration": 13,
    "start_time": "2024-03-06T12:30:27.523Z"
   },
   {
    "duration": 550,
    "start_time": "2024-03-06T12:30:27.538Z"
   },
   {
    "duration": 797,
    "start_time": "2024-03-06T12:30:28.090Z"
   },
   {
    "duration": 214,
    "start_time": "2024-03-06T12:30:28.888Z"
   },
   {
    "duration": 78,
    "start_time": "2024-03-06T12:30:29.103Z"
   },
   {
    "duration": 217,
    "start_time": "2024-03-06T12:30:29.183Z"
   },
   {
    "duration": 20,
    "start_time": "2024-03-06T12:30:29.402Z"
   },
   {
    "duration": 45,
    "start_time": "2024-03-06T12:30:29.424Z"
   },
   {
    "duration": 369,
    "start_time": "2024-03-06T12:30:29.470Z"
   },
   {
    "duration": 42,
    "start_time": "2024-03-06T12:30:29.840Z"
   },
   {
    "duration": 220,
    "start_time": "2024-03-06T12:30:29.883Z"
   },
   {
    "duration": 70,
    "start_time": "2024-03-06T12:30:30.104Z"
   },
   {
    "duration": 10760,
    "start_time": "2024-03-06T12:30:30.176Z"
   },
   {
    "duration": 153,
    "start_time": "2024-03-06T12:30:40.939Z"
   },
   {
    "duration": 196,
    "start_time": "2024-03-06T12:30:41.094Z"
   },
   {
    "duration": 9493,
    "start_time": "2024-03-06T12:30:41.292Z"
   },
   {
    "duration": 182,
    "start_time": "2024-03-06T12:30:50.787Z"
   },
   {
    "duration": 14,
    "start_time": "2024-03-06T12:30:50.971Z"
   },
   {
    "duration": 29,
    "start_time": "2024-03-06T12:30:50.987Z"
   },
   {
    "duration": 50,
    "start_time": "2024-03-06T12:30:51.066Z"
   },
   {
    "duration": 106,
    "start_time": "2024-03-06T12:30:51.120Z"
   },
   {
    "duration": 249,
    "start_time": "2024-03-06T12:30:51.228Z"
   },
   {
    "duration": 115,
    "start_time": "2024-03-06T12:30:51.478Z"
   },
   {
    "duration": 6,
    "start_time": "2024-03-06T12:30:51.595Z"
   },
   {
    "duration": 70,
    "start_time": "2024-03-06T12:30:51.602Z"
   },
   {
    "duration": 139,
    "start_time": "2024-03-06T12:30:51.674Z"
   },
   {
    "duration": 1539,
    "start_time": "2024-03-06T12:30:51.815Z"
   },
   {
    "duration": 68,
    "start_time": "2024-03-06T12:30:53.356Z"
   },
   {
    "duration": 6,
    "start_time": "2024-03-06T12:30:53.465Z"
   },
   {
    "duration": 189,
    "start_time": "2024-03-06T12:30:53.472Z"
   },
   {
    "duration": 13,
    "start_time": "2024-03-06T12:30:53.666Z"
   },
   {
    "duration": 108,
    "start_time": "2024-03-06T12:30:53.680Z"
   },
   {
    "duration": 12,
    "start_time": "2024-03-06T12:30:53.790Z"
   },
   {
    "duration": 262,
    "start_time": "2024-03-06T12:30:53.804Z"
   },
   {
    "duration": 12,
    "start_time": "2024-03-06T12:30:54.068Z"
   },
   {
    "duration": 24,
    "start_time": "2024-03-06T12:30:54.081Z"
   },
   {
    "duration": 159,
    "start_time": "2024-03-06T12:30:54.106Z"
   },
   {
    "duration": 166,
    "start_time": "2024-03-06T12:30:54.266Z"
   },
   {
    "duration": 8,
    "start_time": "2024-03-06T12:36:44.344Z"
   },
   {
    "duration": 13,
    "start_time": "2024-03-06T12:37:23.948Z"
   },
   {
    "duration": 456,
    "start_time": "2024-03-06T12:38:09.785Z"
   },
   {
    "duration": 16,
    "start_time": "2024-03-06T12:40:14.723Z"
   },
   {
    "duration": 13,
    "start_time": "2024-03-06T12:40:53.824Z"
   },
   {
    "duration": 475,
    "start_time": "2024-03-06T12:43:25.137Z"
   },
   {
    "duration": 7,
    "start_time": "2024-03-06T12:46:01.691Z"
   },
   {
    "duration": 10,
    "start_time": "2024-03-06T12:46:13.963Z"
   },
   {
    "duration": 8,
    "start_time": "2024-03-06T12:46:33.904Z"
   },
   {
    "duration": 163,
    "start_time": "2024-03-06T12:48:13.745Z"
   },
   {
    "duration": 160,
    "start_time": "2024-03-06T12:56:33.011Z"
   },
   {
    "duration": 16,
    "start_time": "2024-03-06T12:57:19.645Z"
   },
   {
    "duration": 94,
    "start_time": "2024-03-06T13:00:38.078Z"
   },
   {
    "duration": 84,
    "start_time": "2024-03-06T13:05:06.066Z"
   },
   {
    "duration": 162,
    "start_time": "2024-03-06T13:08:10.473Z"
   },
   {
    "duration": 97,
    "start_time": "2024-03-06T13:12:07.800Z"
   },
   {
    "duration": 119,
    "start_time": "2024-03-06T13:15:40.843Z"
   },
   {
    "duration": 113,
    "start_time": "2024-03-06T13:17:21.201Z"
   },
   {
    "duration": 152,
    "start_time": "2024-03-06T13:19:20.532Z"
   },
   {
    "duration": 16,
    "start_time": "2024-03-06T13:26:01.381Z"
   },
   {
    "duration": 15,
    "start_time": "2024-03-06T13:26:25.449Z"
   },
   {
    "duration": 20,
    "start_time": "2024-03-06T13:27:07.504Z"
   },
   {
    "duration": 15,
    "start_time": "2024-03-06T13:28:14.593Z"
   },
   {
    "duration": 14,
    "start_time": "2024-03-06T13:29:49.433Z"
   },
   {
    "duration": 21,
    "start_time": "2024-03-06T14:53:31.649Z"
   },
   {
    "duration": 16,
    "start_time": "2024-03-06T14:53:51.694Z"
   },
   {
    "duration": 15,
    "start_time": "2024-03-06T14:54:05.469Z"
   },
   {
    "duration": 66,
    "start_time": "2024-03-06T16:22:32.072Z"
   },
   {
    "duration": 455,
    "start_time": "2024-03-06T16:29:32.440Z"
   },
   {
    "duration": 10,
    "start_time": "2024-03-06T16:38:55.723Z"
   },
   {
    "duration": 3,
    "start_time": "2024-03-06T16:40:38.359Z"
   },
   {
    "duration": 1688,
    "start_time": "2024-03-06T16:40:38.364Z"
   },
   {
    "duration": 70,
    "start_time": "2024-03-06T16:40:40.054Z"
   },
   {
    "duration": 8,
    "start_time": "2024-03-06T16:40:40.125Z"
   },
   {
    "duration": 183,
    "start_time": "2024-03-06T16:40:40.135Z"
   },
   {
    "duration": 25,
    "start_time": "2024-03-06T16:40:40.320Z"
   },
   {
    "duration": 39,
    "start_time": "2024-03-06T16:40:40.366Z"
   },
   {
    "duration": 17,
    "start_time": "2024-03-06T16:40:40.406Z"
   },
   {
    "duration": 99,
    "start_time": "2024-03-06T16:40:40.425Z"
   },
   {
    "duration": 150,
    "start_time": "2024-03-06T16:40:40.526Z"
   },
   {
    "duration": 88,
    "start_time": "2024-03-06T16:40:40.679Z"
   },
   {
    "duration": 20,
    "start_time": "2024-03-06T16:40:40.769Z"
   },
   {
    "duration": 36,
    "start_time": "2024-03-06T16:40:40.790Z"
   },
   {
    "duration": 54,
    "start_time": "2024-03-06T16:40:40.828Z"
   },
   {
    "duration": 16,
    "start_time": "2024-03-06T16:40:40.884Z"
   },
   {
    "duration": 11,
    "start_time": "2024-03-06T16:40:40.901Z"
   },
   {
    "duration": 16,
    "start_time": "2024-03-06T16:40:40.913Z"
   },
   {
    "duration": 116,
    "start_time": "2024-03-06T16:40:40.931Z"
   },
   {
    "duration": 11,
    "start_time": "2024-03-06T16:40:41.048Z"
   },
   {
    "duration": 15,
    "start_time": "2024-03-06T16:40:41.065Z"
   },
   {
    "duration": 30,
    "start_time": "2024-03-06T16:40:41.081Z"
   },
   {
    "duration": 11,
    "start_time": "2024-03-06T16:40:41.113Z"
   },
   {
    "duration": 45,
    "start_time": "2024-03-06T16:40:41.125Z"
   },
   {
    "duration": 11,
    "start_time": "2024-03-06T16:40:41.171Z"
   },
   {
    "duration": 102,
    "start_time": "2024-03-06T16:40:41.183Z"
   },
   {
    "duration": 20,
    "start_time": "2024-03-06T16:40:41.287Z"
   },
   {
    "duration": 17,
    "start_time": "2024-03-06T16:40:41.309Z"
   },
   {
    "duration": 2,
    "start_time": "2024-03-06T16:40:41.328Z"
   },
   {
    "duration": 52,
    "start_time": "2024-03-06T16:40:41.335Z"
   },
   {
    "duration": 8,
    "start_time": "2024-03-06T16:40:41.389Z"
   },
   {
    "duration": 20,
    "start_time": "2024-03-06T16:40:41.398Z"
   },
   {
    "duration": 18,
    "start_time": "2024-03-06T16:40:41.419Z"
   },
   {
    "duration": 19,
    "start_time": "2024-03-06T16:40:41.466Z"
   },
   {
    "duration": 8,
    "start_time": "2024-03-06T16:40:41.487Z"
   },
   {
    "duration": 18,
    "start_time": "2024-03-06T16:40:41.496Z"
   },
   {
    "duration": 54,
    "start_time": "2024-03-06T16:40:41.516Z"
   },
   {
    "duration": 818,
    "start_time": "2024-03-06T16:40:41.572Z"
   },
   {
    "duration": 9,
    "start_time": "2024-03-06T16:40:42.391Z"
   },
   {
    "duration": 15,
    "start_time": "2024-03-06T16:40:42.401Z"
   },
   {
    "duration": 14,
    "start_time": "2024-03-06T16:40:42.418Z"
   },
   {
    "duration": 493,
    "start_time": "2024-03-06T16:40:42.466Z"
   },
   {
    "duration": 242,
    "start_time": "2024-03-06T16:40:42.961Z"
   },
   {
    "duration": 27,
    "start_time": "2024-03-06T16:40:43.205Z"
   },
   {
    "duration": 40,
    "start_time": "2024-03-06T16:40:43.233Z"
   },
   {
    "duration": 4,
    "start_time": "2024-03-06T16:40:43.274Z"
   },
   {
    "duration": 7,
    "start_time": "2024-03-06T16:40:43.280Z"
   },
   {
    "duration": 11,
    "start_time": "2024-03-06T16:40:43.288Z"
   },
   {
    "duration": 571,
    "start_time": "2024-03-06T16:40:43.300Z"
   },
   {
    "duration": 461,
    "start_time": "2024-03-06T16:40:43.872Z"
   },
   {
    "duration": 130,
    "start_time": "2024-03-06T16:40:44.335Z"
   },
   {
    "duration": 24,
    "start_time": "2024-03-06T16:40:44.467Z"
   },
   {
    "duration": 128,
    "start_time": "2024-03-06T16:40:44.492Z"
   },
   {
    "duration": 22,
    "start_time": "2024-03-06T16:40:44.622Z"
   },
   {
    "duration": 23,
    "start_time": "2024-03-06T16:40:44.645Z"
   },
   {
    "duration": 392,
    "start_time": "2024-03-06T16:40:44.670Z"
   },
   {
    "duration": 37,
    "start_time": "2024-03-06T16:40:45.064Z"
   },
   {
    "duration": 265,
    "start_time": "2024-03-06T16:40:45.103Z"
   },
   {
    "duration": 74,
    "start_time": "2024-03-06T16:40:45.370Z"
   },
   {
    "duration": 10689,
    "start_time": "2024-03-06T16:40:45.446Z"
   },
   {
    "duration": 141,
    "start_time": "2024-03-06T16:40:56.138Z"
   },
   {
    "duration": 287,
    "start_time": "2024-03-06T16:40:56.280Z"
   },
   {
    "duration": 0,
    "start_time": "2024-03-06T16:40:56.569Z"
   },
   {
    "duration": 0,
    "start_time": "2024-03-06T16:40:56.571Z"
   },
   {
    "duration": 0,
    "start_time": "2024-03-06T16:40:56.572Z"
   },
   {
    "duration": 0,
    "start_time": "2024-03-06T16:40:56.572Z"
   },
   {
    "duration": 0,
    "start_time": "2024-03-06T16:40:56.574Z"
   },
   {
    "duration": 0,
    "start_time": "2024-03-06T16:40:56.575Z"
   },
   {
    "duration": 0,
    "start_time": "2024-03-06T16:40:56.576Z"
   },
   {
    "duration": 0,
    "start_time": "2024-03-06T16:40:56.578Z"
   },
   {
    "duration": 0,
    "start_time": "2024-03-06T16:40:56.579Z"
   },
   {
    "duration": 0,
    "start_time": "2024-03-06T16:40:56.581Z"
   },
   {
    "duration": 0,
    "start_time": "2024-03-06T16:40:56.582Z"
   },
   {
    "duration": 0,
    "start_time": "2024-03-06T16:40:56.584Z"
   },
   {
    "duration": 0,
    "start_time": "2024-03-06T16:40:56.585Z"
   },
   {
    "duration": 0,
    "start_time": "2024-03-06T16:40:56.586Z"
   },
   {
    "duration": 0,
    "start_time": "2024-03-06T16:40:56.588Z"
   },
   {
    "duration": 0,
    "start_time": "2024-03-06T16:40:56.590Z"
   },
   {
    "duration": 0,
    "start_time": "2024-03-06T16:40:56.591Z"
   },
   {
    "duration": 0,
    "start_time": "2024-03-06T16:40:56.592Z"
   },
   {
    "duration": 0,
    "start_time": "2024-03-06T16:40:56.594Z"
   },
   {
    "duration": 0,
    "start_time": "2024-03-06T16:40:56.595Z"
   },
   {
    "duration": 0,
    "start_time": "2024-03-06T16:40:56.596Z"
   },
   {
    "duration": 0,
    "start_time": "2024-03-06T16:40:56.597Z"
   },
   {
    "duration": 0,
    "start_time": "2024-03-06T16:40:56.599Z"
   },
   {
    "duration": 0,
    "start_time": "2024-03-06T16:40:56.600Z"
   },
   {
    "duration": 0,
    "start_time": "2024-03-06T16:40:56.601Z"
   },
   {
    "duration": 0,
    "start_time": "2024-03-06T16:40:56.602Z"
   },
   {
    "duration": 123,
    "start_time": "2024-03-06T16:41:54.094Z"
   },
   {
    "duration": 3,
    "start_time": "2024-03-06T16:42:35.389Z"
   },
   {
    "duration": 1633,
    "start_time": "2024-03-06T16:42:35.393Z"
   },
   {
    "duration": 67,
    "start_time": "2024-03-06T16:42:37.028Z"
   },
   {
    "duration": 6,
    "start_time": "2024-03-06T16:42:37.097Z"
   },
   {
    "duration": 174,
    "start_time": "2024-03-06T16:42:37.106Z"
   },
   {
    "duration": 25,
    "start_time": "2024-03-06T16:42:37.281Z"
   },
   {
    "duration": 33,
    "start_time": "2024-03-06T16:42:37.307Z"
   },
   {
    "duration": 39,
    "start_time": "2024-03-06T16:42:37.342Z"
   },
   {
    "duration": 94,
    "start_time": "2024-03-06T16:42:37.382Z"
   },
   {
    "duration": 137,
    "start_time": "2024-03-06T16:42:37.478Z"
   },
   {
    "duration": 85,
    "start_time": "2024-03-06T16:42:37.618Z"
   },
   {
    "duration": 19,
    "start_time": "2024-03-06T16:42:37.705Z"
   },
   {
    "duration": 42,
    "start_time": "2024-03-06T16:42:37.726Z"
   },
   {
    "duration": 44,
    "start_time": "2024-03-06T16:42:37.770Z"
   },
   {
    "duration": 22,
    "start_time": "2024-03-06T16:42:37.816Z"
   },
   {
    "duration": 32,
    "start_time": "2024-03-06T16:42:37.840Z"
   },
   {
    "duration": 16,
    "start_time": "2024-03-06T16:42:37.874Z"
   },
   {
    "duration": 101,
    "start_time": "2024-03-06T16:42:37.891Z"
   },
   {
    "duration": 10,
    "start_time": "2024-03-06T16:42:37.994Z"
   },
   {
    "duration": 16,
    "start_time": "2024-03-06T16:42:38.006Z"
   },
   {
    "duration": 51,
    "start_time": "2024-03-06T16:42:38.024Z"
   },
   {
    "duration": 10,
    "start_time": "2024-03-06T16:42:38.077Z"
   },
   {
    "duration": 21,
    "start_time": "2024-03-06T16:42:38.089Z"
   },
   {
    "duration": 11,
    "start_time": "2024-03-06T16:42:38.111Z"
   },
   {
    "duration": 123,
    "start_time": "2024-03-06T16:42:38.124Z"
   },
   {
    "duration": 26,
    "start_time": "2024-03-06T16:42:38.248Z"
   },
   {
    "duration": 19,
    "start_time": "2024-03-06T16:42:38.276Z"
   },
   {
    "duration": 2,
    "start_time": "2024-03-06T16:42:38.297Z"
   },
   {
    "duration": 34,
    "start_time": "2024-03-06T16:42:38.304Z"
   },
   {
    "duration": 27,
    "start_time": "2024-03-06T16:42:38.340Z"
   },
   {
    "duration": 20,
    "start_time": "2024-03-06T16:42:38.369Z"
   },
   {
    "duration": 19,
    "start_time": "2024-03-06T16:42:38.391Z"
   },
   {
    "duration": 44,
    "start_time": "2024-03-06T16:42:38.411Z"
   },
   {
    "duration": 15,
    "start_time": "2024-03-06T16:42:38.457Z"
   },
   {
    "duration": 24,
    "start_time": "2024-03-06T16:42:38.473Z"
   },
   {
    "duration": 27,
    "start_time": "2024-03-06T16:42:38.498Z"
   },
   {
    "duration": 890,
    "start_time": "2024-03-06T16:42:38.527Z"
   },
   {
    "duration": 8,
    "start_time": "2024-03-06T16:42:39.418Z"
   },
   {
    "duration": 42,
    "start_time": "2024-03-06T16:42:39.428Z"
   },
   {
    "duration": 11,
    "start_time": "2024-03-06T16:42:39.473Z"
   },
   {
    "duration": 465,
    "start_time": "2024-03-06T16:42:39.486Z"
   },
   {
    "duration": 171,
    "start_time": "2024-03-06T16:42:39.952Z"
   },
   {
    "duration": 59,
    "start_time": "2024-03-06T16:42:40.124Z"
   },
   {
    "duration": 15,
    "start_time": "2024-03-06T16:42:40.184Z"
   },
   {
    "duration": 4,
    "start_time": "2024-03-06T16:42:40.201Z"
   },
   {
    "duration": 8,
    "start_time": "2024-03-06T16:42:40.207Z"
   },
   {
    "duration": 12,
    "start_time": "2024-03-06T16:42:40.216Z"
   },
   {
    "duration": 562,
    "start_time": "2024-03-06T16:42:40.230Z"
   },
   {
    "duration": 446,
    "start_time": "2024-03-06T16:42:40.794Z"
   },
   {
    "duration": 131,
    "start_time": "2024-03-06T16:42:41.242Z"
   },
   {
    "duration": 24,
    "start_time": "2024-03-06T16:42:41.375Z"
   },
   {
    "duration": 133,
    "start_time": "2024-03-06T16:42:41.401Z"
   },
   {
    "duration": 33,
    "start_time": "2024-03-06T16:42:41.535Z"
   },
   {
    "duration": 5,
    "start_time": "2024-03-06T16:42:41.570Z"
   },
   {
    "duration": 368,
    "start_time": "2024-03-06T16:42:41.576Z"
   },
   {
    "duration": 35,
    "start_time": "2024-03-06T16:42:41.945Z"
   },
   {
    "duration": 235,
    "start_time": "2024-03-06T16:42:41.982Z"
   },
   {
    "duration": 82,
    "start_time": "2024-03-06T16:42:42.218Z"
   },
   {
    "duration": 11464,
    "start_time": "2024-03-06T16:42:42.302Z"
   },
   {
    "duration": 128,
    "start_time": "2024-03-06T16:42:53.768Z"
   },
   {
    "duration": 203,
    "start_time": "2024-03-06T16:42:53.898Z"
   },
   {
    "duration": 9879,
    "start_time": "2024-03-06T16:42:54.103Z"
   },
   {
    "duration": 187,
    "start_time": "2024-03-06T16:43:03.985Z"
   },
   {
    "duration": 16,
    "start_time": "2024-03-06T16:43:04.174Z"
   },
   {
    "duration": 15,
    "start_time": "2024-03-06T16:43:04.192Z"
   },
   {
    "duration": 104,
    "start_time": "2024-03-06T16:43:04.208Z"
   },
   {
    "duration": 125,
    "start_time": "2024-03-06T16:43:04.314Z"
   },
   {
    "duration": 258,
    "start_time": "2024-03-06T16:43:04.441Z"
   },
   {
    "duration": 144,
    "start_time": "2024-03-06T16:43:04.701Z"
   },
   {
    "duration": 6,
    "start_time": "2024-03-06T16:43:04.847Z"
   },
   {
    "duration": 50,
    "start_time": "2024-03-06T16:43:04.866Z"
   },
   {
    "duration": 169,
    "start_time": "2024-03-06T16:43:04.918Z"
   },
   {
    "duration": 1612,
    "start_time": "2024-03-06T16:43:05.089Z"
   },
   {
    "duration": 104,
    "start_time": "2024-03-06T16:43:06.703Z"
   },
   {
    "duration": 7,
    "start_time": "2024-03-06T16:43:06.808Z"
   },
   {
    "duration": 201,
    "start_time": "2024-03-06T16:43:06.816Z"
   },
   {
    "duration": 14,
    "start_time": "2024-03-06T16:43:07.019Z"
   },
   {
    "duration": 113,
    "start_time": "2024-03-06T16:43:07.035Z"
   },
   {
    "duration": 29,
    "start_time": "2024-03-06T16:43:07.149Z"
   },
   {
    "duration": 501,
    "start_time": "2024-03-06T16:43:07.179Z"
   },
   {
    "duration": 15,
    "start_time": "2024-03-06T16:43:07.682Z"
   },
   {
    "duration": 527,
    "start_time": "2024-03-06T16:43:07.699Z"
   },
   {
    "duration": 8,
    "start_time": "2024-03-06T16:43:08.231Z"
   },
   {
    "duration": 173,
    "start_time": "2024-03-06T16:43:08.240Z"
   },
   {
    "duration": 164,
    "start_time": "2024-03-06T16:43:08.415Z"
   },
   {
    "duration": 97,
    "start_time": "2024-03-06T16:43:08.581Z"
   },
   {
    "duration": 99,
    "start_time": "2024-03-06T16:44:45.269Z"
   },
   {
    "duration": 182,
    "start_time": "2024-03-06T16:46:58.696Z"
   },
   {
    "duration": 24,
    "start_time": "2024-03-06T16:47:50.498Z"
   },
   {
    "duration": 3,
    "start_time": "2024-03-06T17:42:36.503Z"
   },
   {
    "duration": 1673,
    "start_time": "2024-03-06T17:42:36.524Z"
   },
   {
    "duration": 68,
    "start_time": "2024-03-06T17:42:38.199Z"
   },
   {
    "duration": 7,
    "start_time": "2024-03-06T17:42:38.269Z"
   },
   {
    "duration": 172,
    "start_time": "2024-03-06T17:42:38.278Z"
   },
   {
    "duration": 25,
    "start_time": "2024-03-06T17:42:38.465Z"
   },
   {
    "duration": 33,
    "start_time": "2024-03-06T17:42:38.492Z"
   },
   {
    "duration": 45,
    "start_time": "2024-03-06T17:42:38.526Z"
   },
   {
    "duration": 76,
    "start_time": "2024-03-06T17:42:38.573Z"
   },
   {
    "duration": 154,
    "start_time": "2024-03-06T17:42:38.651Z"
   },
   {
    "duration": 76,
    "start_time": "2024-03-06T17:42:38.807Z"
   },
   {
    "duration": 20,
    "start_time": "2024-03-06T17:42:38.884Z"
   },
   {
    "duration": 26,
    "start_time": "2024-03-06T17:42:38.906Z"
   },
   {
    "duration": 62,
    "start_time": "2024-03-06T17:42:38.934Z"
   },
   {
    "duration": 14,
    "start_time": "2024-03-06T17:42:38.998Z"
   },
   {
    "duration": 10,
    "start_time": "2024-03-06T17:42:39.014Z"
   },
   {
    "duration": 15,
    "start_time": "2024-03-06T17:42:39.026Z"
   },
   {
    "duration": 102,
    "start_time": "2024-03-06T17:42:39.066Z"
   },
   {
    "duration": 11,
    "start_time": "2024-03-06T17:42:39.170Z"
   },
   {
    "duration": 18,
    "start_time": "2024-03-06T17:42:39.183Z"
   },
   {
    "duration": 27,
    "start_time": "2024-03-06T17:42:39.203Z"
   },
   {
    "duration": 35,
    "start_time": "2024-03-06T17:42:39.232Z"
   },
   {
    "duration": 22,
    "start_time": "2024-03-06T17:42:39.269Z"
   },
   {
    "duration": 11,
    "start_time": "2024-03-06T17:42:39.293Z"
   },
   {
    "duration": 108,
    "start_time": "2024-03-06T17:42:39.306Z"
   },
   {
    "duration": 19,
    "start_time": "2024-03-06T17:42:39.416Z"
   },
   {
    "duration": 41,
    "start_time": "2024-03-06T17:42:39.437Z"
   },
   {
    "duration": 3,
    "start_time": "2024-03-06T17:42:39.479Z"
   },
   {
    "duration": 28,
    "start_time": "2024-03-06T17:42:39.485Z"
   },
   {
    "duration": 8,
    "start_time": "2024-03-06T17:42:39.515Z"
   },
   {
    "duration": 23,
    "start_time": "2024-03-06T17:42:39.524Z"
   },
   {
    "duration": 31,
    "start_time": "2024-03-06T17:42:39.548Z"
   },
   {
    "duration": 18,
    "start_time": "2024-03-06T17:42:39.581Z"
   },
   {
    "duration": 9,
    "start_time": "2024-03-06T17:42:39.600Z"
   },
   {
    "duration": 26,
    "start_time": "2024-03-06T17:42:39.610Z"
   },
   {
    "duration": 47,
    "start_time": "2024-03-06T17:42:39.638Z"
   },
   {
    "duration": 781,
    "start_time": "2024-03-06T17:42:39.687Z"
   },
   {
    "duration": 11,
    "start_time": "2024-03-06T17:42:40.470Z"
   },
   {
    "duration": 20,
    "start_time": "2024-03-06T17:42:40.483Z"
   },
   {
    "duration": 10,
    "start_time": "2024-03-06T17:42:40.504Z"
   },
   {
    "duration": 256,
    "start_time": "2024-03-06T17:42:40.515Z"
   },
   {
    "duration": 0,
    "start_time": "2024-03-06T17:42:40.772Z"
   },
   {
    "duration": 0,
    "start_time": "2024-03-06T17:42:40.773Z"
   },
   {
    "duration": 0,
    "start_time": "2024-03-06T17:42:40.774Z"
   },
   {
    "duration": 0,
    "start_time": "2024-03-06T17:42:40.774Z"
   },
   {
    "duration": 0,
    "start_time": "2024-03-06T17:42:40.775Z"
   },
   {
    "duration": 0,
    "start_time": "2024-03-06T17:42:40.776Z"
   },
   {
    "duration": 0,
    "start_time": "2024-03-06T17:42:40.777Z"
   },
   {
    "duration": 0,
    "start_time": "2024-03-06T17:42:40.778Z"
   },
   {
    "duration": 0,
    "start_time": "2024-03-06T17:42:40.778Z"
   },
   {
    "duration": 0,
    "start_time": "2024-03-06T17:42:40.779Z"
   },
   {
    "duration": 0,
    "start_time": "2024-03-06T17:42:40.779Z"
   },
   {
    "duration": 0,
    "start_time": "2024-03-06T17:42:40.780Z"
   },
   {
    "duration": 0,
    "start_time": "2024-03-06T17:42:40.781Z"
   },
   {
    "duration": 0,
    "start_time": "2024-03-06T17:42:40.781Z"
   },
   {
    "duration": 0,
    "start_time": "2024-03-06T17:42:40.782Z"
   },
   {
    "duration": 0,
    "start_time": "2024-03-06T17:42:40.783Z"
   },
   {
    "duration": 0,
    "start_time": "2024-03-06T17:42:40.783Z"
   },
   {
    "duration": 0,
    "start_time": "2024-03-06T17:42:40.784Z"
   },
   {
    "duration": 0,
    "start_time": "2024-03-06T17:42:40.785Z"
   },
   {
    "duration": 0,
    "start_time": "2024-03-06T17:42:40.785Z"
   },
   {
    "duration": 0,
    "start_time": "2024-03-06T17:42:40.786Z"
   },
   {
    "duration": 0,
    "start_time": "2024-03-06T17:42:40.788Z"
   },
   {
    "duration": 0,
    "start_time": "2024-03-06T17:42:40.789Z"
   },
   {
    "duration": 0,
    "start_time": "2024-03-06T17:42:40.790Z"
   },
   {
    "duration": 0,
    "start_time": "2024-03-06T17:42:40.790Z"
   },
   {
    "duration": 0,
    "start_time": "2024-03-06T17:42:40.791Z"
   },
   {
    "duration": 0,
    "start_time": "2024-03-06T17:42:40.792Z"
   },
   {
    "duration": 0,
    "start_time": "2024-03-06T17:42:40.793Z"
   },
   {
    "duration": 0,
    "start_time": "2024-03-06T17:42:40.794Z"
   },
   {
    "duration": 0,
    "start_time": "2024-03-06T17:42:40.794Z"
   },
   {
    "duration": 0,
    "start_time": "2024-03-06T17:42:40.795Z"
   },
   {
    "duration": 0,
    "start_time": "2024-03-06T17:42:40.796Z"
   },
   {
    "duration": 0,
    "start_time": "2024-03-06T17:42:40.797Z"
   },
   {
    "duration": 0,
    "start_time": "2024-03-06T17:42:40.798Z"
   },
   {
    "duration": 0,
    "start_time": "2024-03-06T17:42:40.798Z"
   },
   {
    "duration": 0,
    "start_time": "2024-03-06T17:42:40.799Z"
   },
   {
    "duration": 0,
    "start_time": "2024-03-06T17:42:40.800Z"
   },
   {
    "duration": 0,
    "start_time": "2024-03-06T17:42:40.801Z"
   },
   {
    "duration": 0,
    "start_time": "2024-03-06T17:42:40.802Z"
   },
   {
    "duration": 0,
    "start_time": "2024-03-06T17:42:40.803Z"
   },
   {
    "duration": 0,
    "start_time": "2024-03-06T17:42:40.804Z"
   },
   {
    "duration": 0,
    "start_time": "2024-03-06T17:42:40.805Z"
   },
   {
    "duration": 0,
    "start_time": "2024-03-06T17:42:40.806Z"
   },
   {
    "duration": 0,
    "start_time": "2024-03-06T17:42:40.807Z"
   },
   {
    "duration": 0,
    "start_time": "2024-03-06T17:42:40.808Z"
   },
   {
    "duration": 4,
    "start_time": "2024-03-06T17:43:28.253Z"
   },
   {
    "duration": 1634,
    "start_time": "2024-03-06T17:43:28.282Z"
   },
   {
    "duration": 66,
    "start_time": "2024-03-06T17:43:29.918Z"
   },
   {
    "duration": 6,
    "start_time": "2024-03-06T17:43:29.986Z"
   },
   {
    "duration": 250,
    "start_time": "2024-03-06T17:43:29.994Z"
   },
   {
    "duration": 41,
    "start_time": "2024-03-06T17:43:30.246Z"
   },
   {
    "duration": 160,
    "start_time": "2024-03-06T17:43:30.288Z"
   },
   {
    "duration": 69,
    "start_time": "2024-03-06T17:43:30.449Z"
   },
   {
    "duration": 175,
    "start_time": "2024-03-06T17:43:30.520Z"
   },
   {
    "duration": 156,
    "start_time": "2024-03-06T17:43:30.697Z"
   },
   {
    "duration": 70,
    "start_time": "2024-03-06T17:43:30.855Z"
   },
   {
    "duration": 45,
    "start_time": "2024-03-06T17:43:30.927Z"
   },
   {
    "duration": 51,
    "start_time": "2024-03-06T17:43:30.974Z"
   },
   {
    "duration": 113,
    "start_time": "2024-03-06T17:43:31.027Z"
   },
   {
    "duration": 40,
    "start_time": "2024-03-06T17:43:31.143Z"
   },
   {
    "duration": 31,
    "start_time": "2024-03-06T17:43:31.185Z"
   },
   {
    "duration": 32,
    "start_time": "2024-03-06T17:43:31.217Z"
   },
   {
    "duration": 124,
    "start_time": "2024-03-06T17:43:31.250Z"
   },
   {
    "duration": 10,
    "start_time": "2024-03-06T17:43:31.375Z"
   },
   {
    "duration": 74,
    "start_time": "2024-03-06T17:43:31.386Z"
   },
   {
    "duration": 49,
    "start_time": "2024-03-06T17:43:31.462Z"
   },
   {
    "duration": 13,
    "start_time": "2024-03-06T17:43:31.513Z"
   },
   {
    "duration": 33,
    "start_time": "2024-03-06T17:43:31.528Z"
   },
   {
    "duration": 19,
    "start_time": "2024-03-06T17:43:31.563Z"
   },
   {
    "duration": 101,
    "start_time": "2024-03-06T17:43:31.584Z"
   },
   {
    "duration": 19,
    "start_time": "2024-03-06T17:43:31.687Z"
   },
   {
    "duration": 45,
    "start_time": "2024-03-06T17:43:31.708Z"
   },
   {
    "duration": 2,
    "start_time": "2024-03-06T17:43:31.755Z"
   },
   {
    "duration": 28,
    "start_time": "2024-03-06T17:43:31.759Z"
   },
   {
    "duration": 9,
    "start_time": "2024-03-06T17:43:31.789Z"
   },
   {
    "duration": 38,
    "start_time": "2024-03-06T17:43:31.799Z"
   },
   {
    "duration": 18,
    "start_time": "2024-03-06T17:43:31.838Z"
   },
   {
    "duration": 33,
    "start_time": "2024-03-06T17:43:31.857Z"
   },
   {
    "duration": 39,
    "start_time": "2024-03-06T17:43:31.892Z"
   },
   {
    "duration": 26,
    "start_time": "2024-03-06T17:43:31.932Z"
   },
   {
    "duration": 27,
    "start_time": "2024-03-06T17:43:31.960Z"
   },
   {
    "duration": 777,
    "start_time": "2024-03-06T17:43:31.989Z"
   },
   {
    "duration": 10,
    "start_time": "2024-03-06T17:43:32.768Z"
   },
   {
    "duration": 34,
    "start_time": "2024-03-06T17:43:32.779Z"
   },
   {
    "duration": 11,
    "start_time": "2024-03-06T17:43:32.815Z"
   },
   {
    "duration": 455,
    "start_time": "2024-03-06T17:43:32.828Z"
   },
   {
    "duration": 207,
    "start_time": "2024-03-06T17:43:33.289Z"
   },
   {
    "duration": 27,
    "start_time": "2024-03-06T17:43:33.497Z"
   },
   {
    "duration": 14,
    "start_time": "2024-03-06T17:43:33.526Z"
   },
   {
    "duration": 23,
    "start_time": "2024-03-06T17:43:33.542Z"
   },
   {
    "duration": 6,
    "start_time": "2024-03-06T17:43:33.567Z"
   },
   {
    "duration": 10,
    "start_time": "2024-03-06T17:43:33.575Z"
   },
   {
    "duration": 505,
    "start_time": "2024-03-06T17:43:33.586Z"
   },
   {
    "duration": 452,
    "start_time": "2024-03-06T17:43:34.093Z"
   },
   {
    "duration": 125,
    "start_time": "2024-03-06T17:43:34.547Z"
   },
   {
    "duration": 25,
    "start_time": "2024-03-06T17:43:34.674Z"
   },
   {
    "duration": 131,
    "start_time": "2024-03-06T17:43:34.700Z"
   },
   {
    "duration": 32,
    "start_time": "2024-03-06T17:43:34.833Z"
   },
   {
    "duration": 4,
    "start_time": "2024-03-06T17:43:34.867Z"
   },
   {
    "duration": 349,
    "start_time": "2024-03-06T17:43:34.873Z"
   },
   {
    "duration": 23,
    "start_time": "2024-03-06T17:43:35.223Z"
   },
   {
    "duration": 239,
    "start_time": "2024-03-06T17:43:35.247Z"
   },
   {
    "duration": 80,
    "start_time": "2024-03-06T17:43:35.488Z"
   },
   {
    "duration": 9366,
    "start_time": "2024-03-06T17:43:35.570Z"
   },
   {
    "duration": 233,
    "start_time": "2024-03-06T17:43:44.938Z"
   },
   {
    "duration": 171,
    "start_time": "2024-03-06T17:43:45.173Z"
   },
   {
    "duration": 9408,
    "start_time": "2024-03-06T17:43:45.346Z"
   },
   {
    "duration": 147,
    "start_time": "2024-03-06T17:43:54.757Z"
   },
   {
    "duration": 67,
    "start_time": "2024-03-06T17:43:54.905Z"
   },
   {
    "duration": 16,
    "start_time": "2024-03-06T17:43:54.974Z"
   },
   {
    "duration": 101,
    "start_time": "2024-03-06T17:43:54.991Z"
   },
   {
    "duration": 110,
    "start_time": "2024-03-06T17:43:55.093Z"
   },
   {
    "duration": 256,
    "start_time": "2024-03-06T17:43:55.204Z"
   },
   {
    "duration": 110,
    "start_time": "2024-03-06T17:43:55.465Z"
   },
   {
    "duration": 5,
    "start_time": "2024-03-06T17:43:55.577Z"
   },
   {
    "duration": 67,
    "start_time": "2024-03-06T17:43:55.584Z"
   },
   {
    "duration": 131,
    "start_time": "2024-03-06T17:43:55.652Z"
   },
   {
    "duration": 1525,
    "start_time": "2024-03-06T17:43:55.784Z"
   },
   {
    "duration": 91,
    "start_time": "2024-03-06T17:43:57.311Z"
   },
   {
    "duration": 5,
    "start_time": "2024-03-06T17:43:57.404Z"
   },
   {
    "duration": 188,
    "start_time": "2024-03-06T17:43:57.410Z"
   },
   {
    "duration": 11,
    "start_time": "2024-03-06T17:43:57.600Z"
   },
   {
    "duration": 99,
    "start_time": "2024-03-06T17:43:57.613Z"
   },
   {
    "duration": 12,
    "start_time": "2024-03-06T17:43:57.714Z"
   },
   {
    "duration": 538,
    "start_time": "2024-03-06T17:43:57.727Z"
   },
   {
    "duration": 12,
    "start_time": "2024-03-06T17:43:58.267Z"
   },
   {
    "duration": 496,
    "start_time": "2024-03-06T17:43:58.281Z"
   },
   {
    "duration": 7,
    "start_time": "2024-03-06T17:43:58.779Z"
   },
   {
    "duration": 177,
    "start_time": "2024-03-06T17:43:58.788Z"
   },
   {
    "duration": 157,
    "start_time": "2024-03-06T17:43:58.967Z"
   },
   {
    "duration": 96,
    "start_time": "2024-03-06T17:43:59.125Z"
   },
   {
    "duration": 3,
    "start_time": "2024-03-06T18:19:59.472Z"
   },
   {
    "duration": 1663,
    "start_time": "2024-03-06T18:19:59.477Z"
   },
   {
    "duration": 109,
    "start_time": "2024-03-06T18:20:01.142Z"
   },
   {
    "duration": 63,
    "start_time": "2024-03-06T18:20:01.253Z"
   },
   {
    "duration": 245,
    "start_time": "2024-03-06T18:20:01.320Z"
   },
   {
    "duration": 22,
    "start_time": "2024-03-06T18:20:01.567Z"
   },
   {
    "duration": 93,
    "start_time": "2024-03-06T18:20:01.590Z"
   },
   {
    "duration": 339,
    "start_time": "2024-03-06T18:20:01.685Z"
   },
   {
    "duration": 156,
    "start_time": "2024-03-06T18:20:02.026Z"
   },
   {
    "duration": 185,
    "start_time": "2024-03-06T18:20:02.184Z"
   },
   {
    "duration": 76,
    "start_time": "2024-03-06T18:20:02.370Z"
   },
   {
    "duration": 34,
    "start_time": "2024-03-06T18:20:02.447Z"
   },
   {
    "duration": 84,
    "start_time": "2024-03-06T18:20:02.482Z"
   },
   {
    "duration": 89,
    "start_time": "2024-03-06T18:20:02.567Z"
   },
   {
    "duration": 137,
    "start_time": "2024-03-06T18:20:02.658Z"
   },
   {
    "duration": 65,
    "start_time": "2024-03-06T18:20:02.796Z"
   },
   {
    "duration": 52,
    "start_time": "2024-03-06T18:20:02.862Z"
   },
   {
    "duration": 104,
    "start_time": "2024-03-06T18:20:02.915Z"
   },
   {
    "duration": 9,
    "start_time": "2024-03-06T18:20:03.020Z"
   },
   {
    "duration": 143,
    "start_time": "2024-03-06T18:20:03.030Z"
   },
   {
    "duration": 32,
    "start_time": "2024-03-06T18:20:03.174Z"
   },
   {
    "duration": 83,
    "start_time": "2024-03-06T18:20:03.207Z"
   },
   {
    "duration": 122,
    "start_time": "2024-03-06T18:20:03.293Z"
   },
   {
    "duration": 97,
    "start_time": "2024-03-06T18:20:03.416Z"
   },
   {
    "duration": 135,
    "start_time": "2024-03-06T18:20:03.515Z"
   },
   {
    "duration": 18,
    "start_time": "2024-03-06T18:20:03.651Z"
   },
   {
    "duration": 124,
    "start_time": "2024-03-06T18:20:03.671Z"
   },
   {
    "duration": 191,
    "start_time": "2024-03-06T18:20:03.796Z"
   },
   {
    "duration": 206,
    "start_time": "2024-03-06T18:20:03.989Z"
   },
   {
    "duration": 9,
    "start_time": "2024-03-06T18:20:04.196Z"
   },
   {
    "duration": 29,
    "start_time": "2024-03-06T18:20:04.206Z"
   },
   {
    "duration": 16,
    "start_time": "2024-03-06T18:20:04.236Z"
   },
   {
    "duration": 20,
    "start_time": "2024-03-06T18:20:04.253Z"
   },
   {
    "duration": 11,
    "start_time": "2024-03-06T18:20:04.275Z"
   },
   {
    "duration": 25,
    "start_time": "2024-03-06T18:20:04.289Z"
   },
   {
    "duration": 23,
    "start_time": "2024-03-06T18:20:04.315Z"
   },
   {
    "duration": 729,
    "start_time": "2024-03-06T18:20:04.339Z"
   },
   {
    "duration": 8,
    "start_time": "2024-03-06T18:20:05.069Z"
   },
   {
    "duration": 28,
    "start_time": "2024-03-06T18:20:05.078Z"
   },
   {
    "duration": 16,
    "start_time": "2024-03-06T18:20:05.108Z"
   },
   {
    "duration": 408,
    "start_time": "2024-03-06T18:20:05.126Z"
   },
   {
    "duration": 149,
    "start_time": "2024-03-06T18:20:05.535Z"
   },
   {
    "duration": 24,
    "start_time": "2024-03-06T18:20:05.686Z"
   },
   {
    "duration": 37,
    "start_time": "2024-03-06T18:20:05.711Z"
   },
   {
    "duration": 3,
    "start_time": "2024-03-06T18:20:05.750Z"
   },
   {
    "duration": 7,
    "start_time": "2024-03-06T18:20:05.754Z"
   },
   {
    "duration": 22,
    "start_time": "2024-03-06T18:20:05.762Z"
   },
   {
    "duration": 496,
    "start_time": "2024-03-06T18:20:05.785Z"
   },
   {
    "duration": 468,
    "start_time": "2024-03-06T18:20:06.282Z"
   },
   {
    "duration": 18,
    "start_time": "2024-03-06T18:20:06.751Z"
   },
   {
    "duration": 20,
    "start_time": "2024-03-06T18:20:06.771Z"
   },
   {
    "duration": 122,
    "start_time": "2024-03-06T18:20:06.792Z"
   },
   {
    "duration": 32,
    "start_time": "2024-03-06T18:20:06.915Z"
   },
   {
    "duration": 3,
    "start_time": "2024-03-06T18:20:06.949Z"
   },
   {
    "duration": 335,
    "start_time": "2024-03-06T18:20:06.954Z"
   },
   {
    "duration": 20,
    "start_time": "2024-03-06T18:20:07.291Z"
   },
   {
    "duration": 208,
    "start_time": "2024-03-06T18:20:07.312Z"
   },
   {
    "duration": 72,
    "start_time": "2024-03-06T18:20:07.521Z"
   },
   {
    "duration": 8781,
    "start_time": "2024-03-06T18:20:07.594Z"
   },
   {
    "duration": 106,
    "start_time": "2024-03-06T18:20:16.376Z"
   },
   {
    "duration": 231,
    "start_time": "2024-03-06T18:20:16.483Z"
   },
   {
    "duration": 8818,
    "start_time": "2024-03-06T18:20:16.715Z"
   },
   {
    "duration": 153,
    "start_time": "2024-03-06T18:20:25.534Z"
   },
   {
    "duration": 63,
    "start_time": "2024-03-06T18:20:25.688Z"
   },
   {
    "duration": 12,
    "start_time": "2024-03-06T18:20:25.753Z"
   },
   {
    "duration": 94,
    "start_time": "2024-03-06T18:20:25.767Z"
   },
   {
    "duration": 91,
    "start_time": "2024-03-06T18:20:25.863Z"
   },
   {
    "duration": 216,
    "start_time": "2024-03-06T18:20:25.959Z"
   },
   {
    "duration": 107,
    "start_time": "2024-03-06T18:20:26.176Z"
   },
   {
    "duration": 5,
    "start_time": "2024-03-06T18:20:26.285Z"
   },
   {
    "duration": 58,
    "start_time": "2024-03-06T18:20:26.291Z"
   },
   {
    "duration": 123,
    "start_time": "2024-03-06T18:20:26.351Z"
   },
   {
    "duration": 1444,
    "start_time": "2024-03-06T18:20:26.476Z"
   },
   {
    "duration": 64,
    "start_time": "2024-03-06T18:20:27.921Z"
   },
   {
    "duration": 6,
    "start_time": "2024-03-06T18:20:27.986Z"
   },
   {
    "duration": 200,
    "start_time": "2024-03-06T18:20:27.993Z"
   },
   {
    "duration": 10,
    "start_time": "2024-03-06T18:20:28.194Z"
   },
   {
    "duration": 100,
    "start_time": "2024-03-06T18:20:28.206Z"
   },
   {
    "duration": 11,
    "start_time": "2024-03-06T18:20:28.308Z"
   },
   {
    "duration": 449,
    "start_time": "2024-03-06T18:20:28.321Z"
   },
   {
    "duration": 11,
    "start_time": "2024-03-06T18:20:28.772Z"
   },
   {
    "duration": 430,
    "start_time": "2024-03-06T18:20:28.784Z"
   },
   {
    "duration": 7,
    "start_time": "2024-03-06T18:20:29.216Z"
   },
   {
    "duration": 154,
    "start_time": "2024-03-06T18:20:29.224Z"
   },
   {
    "duration": 147,
    "start_time": "2024-03-06T18:20:29.379Z"
   },
   {
    "duration": 87,
    "start_time": "2024-03-06T18:20:29.528Z"
   },
   {
    "duration": 3,
    "start_time": "2024-03-06T18:31:38.757Z"
   },
   {
    "duration": 11,
    "start_time": "2024-03-06T18:37:18.236Z"
   },
   {
    "duration": 3,
    "start_time": "2024-03-06T18:41:54.299Z"
   },
   {
    "duration": 1501,
    "start_time": "2024-03-06T18:41:54.306Z"
   },
   {
    "duration": 68,
    "start_time": "2024-03-06T18:41:55.809Z"
   },
   {
    "duration": 6,
    "start_time": "2024-03-06T18:41:55.878Z"
   },
   {
    "duration": 167,
    "start_time": "2024-03-06T18:41:55.886Z"
   },
   {
    "duration": 23,
    "start_time": "2024-03-06T18:41:56.054Z"
   },
   {
    "duration": 29,
    "start_time": "2024-03-06T18:41:56.078Z"
   },
   {
    "duration": 39,
    "start_time": "2024-03-06T18:41:56.109Z"
   },
   {
    "duration": 71,
    "start_time": "2024-03-06T18:41:56.149Z"
   },
   {
    "duration": 123,
    "start_time": "2024-03-06T18:41:56.222Z"
   },
   {
    "duration": 61,
    "start_time": "2024-03-06T18:41:56.349Z"
   },
   {
    "duration": 17,
    "start_time": "2024-03-06T18:41:56.411Z"
   },
   {
    "duration": 24,
    "start_time": "2024-03-06T18:41:56.446Z"
   },
   {
    "duration": 44,
    "start_time": "2024-03-06T18:41:56.471Z"
   },
   {
    "duration": 32,
    "start_time": "2024-03-06T18:41:56.516Z"
   },
   {
    "duration": 9,
    "start_time": "2024-03-06T18:41:56.549Z"
   },
   {
    "duration": 31,
    "start_time": "2024-03-06T18:41:56.560Z"
   },
   {
    "duration": 92,
    "start_time": "2024-03-06T18:41:56.593Z"
   },
   {
    "duration": 9,
    "start_time": "2024-03-06T18:41:56.686Z"
   },
   {
    "duration": 23,
    "start_time": "2024-03-06T18:41:56.697Z"
   },
   {
    "duration": 56,
    "start_time": "2024-03-06T18:41:56.721Z"
   },
   {
    "duration": 9,
    "start_time": "2024-03-06T18:41:56.779Z"
   },
   {
    "duration": 18,
    "start_time": "2024-03-06T18:41:56.789Z"
   },
   {
    "duration": 8,
    "start_time": "2024-03-06T18:41:56.808Z"
   },
   {
    "duration": 89,
    "start_time": "2024-03-06T18:41:56.817Z"
   },
   {
    "duration": 16,
    "start_time": "2024-03-06T18:41:56.908Z"
   },
   {
    "duration": 21,
    "start_time": "2024-03-06T18:41:56.925Z"
   },
   {
    "duration": 2,
    "start_time": "2024-03-06T18:41:56.947Z"
   },
   {
    "duration": 21,
    "start_time": "2024-03-06T18:41:56.952Z"
   },
   {
    "duration": 6,
    "start_time": "2024-03-06T18:41:56.974Z"
   },
   {
    "duration": 29,
    "start_time": "2024-03-06T18:41:56.981Z"
   },
   {
    "duration": 49,
    "start_time": "2024-03-06T18:41:57.012Z"
   },
   {
    "duration": 26,
    "start_time": "2024-03-06T18:41:57.062Z"
   },
   {
    "duration": 9,
    "start_time": "2024-03-06T18:41:57.089Z"
   },
   {
    "duration": 14,
    "start_time": "2024-03-06T18:41:57.145Z"
   },
   {
    "duration": 33,
    "start_time": "2024-03-06T18:41:57.161Z"
   },
   {
    "duration": 1305,
    "start_time": "2024-03-06T18:41:57.246Z"
   },
   {
    "duration": 7,
    "start_time": "2024-03-06T18:41:58.553Z"
   },
   {
    "duration": 25,
    "start_time": "2024-03-06T18:41:58.561Z"
   },
   {
    "duration": 58,
    "start_time": "2024-03-06T18:41:58.587Z"
   },
   {
    "duration": 834,
    "start_time": "2024-03-06T18:41:58.646Z"
   },
   {
    "duration": 279,
    "start_time": "2024-03-06T18:41:59.482Z"
   },
   {
    "duration": 24,
    "start_time": "2024-03-06T18:41:59.762Z"
   },
   {
    "duration": 65,
    "start_time": "2024-03-06T18:41:59.788Z"
   },
   {
    "duration": 3,
    "start_time": "2024-03-06T18:41:59.855Z"
   },
   {
    "duration": 7,
    "start_time": "2024-03-06T18:41:59.859Z"
   },
   {
    "duration": 9,
    "start_time": "2024-03-06T18:41:59.867Z"
   },
   {
    "duration": 551,
    "start_time": "2024-03-06T18:41:59.877Z"
   },
   {
    "duration": 416,
    "start_time": "2024-03-06T18:42:00.430Z"
   },
   {
    "duration": 114,
    "start_time": "2024-03-06T18:42:00.848Z"
   },
   {
    "duration": 22,
    "start_time": "2024-03-06T18:42:00.964Z"
   },
   {
    "duration": 123,
    "start_time": "2024-03-06T18:42:00.988Z"
   },
   {
    "duration": 19,
    "start_time": "2024-03-06T18:42:01.113Z"
   },
   {
    "duration": 36,
    "start_time": "2024-03-06T18:42:01.145Z"
   },
   {
    "duration": 338,
    "start_time": "2024-03-06T18:42:01.183Z"
   },
   {
    "duration": 28,
    "start_time": "2024-03-06T18:42:01.522Z"
   },
   {
    "duration": 298,
    "start_time": "2024-03-06T18:42:01.551Z"
   },
   {
    "duration": 74,
    "start_time": "2024-03-06T18:42:01.850Z"
   },
   {
    "duration": 9085,
    "start_time": "2024-03-06T18:42:01.947Z"
   },
   {
    "duration": 126,
    "start_time": "2024-03-06T18:42:11.045Z"
   },
   {
    "duration": 194,
    "start_time": "2024-03-06T18:42:11.172Z"
   },
   {
    "duration": 8797,
    "start_time": "2024-03-06T18:42:11.367Z"
   },
   {
    "duration": 180,
    "start_time": "2024-03-06T18:42:20.165Z"
   },
   {
    "duration": 14,
    "start_time": "2024-03-06T18:42:20.346Z"
   },
   {
    "duration": 13,
    "start_time": "2024-03-06T18:42:20.361Z"
   },
   {
    "duration": 100,
    "start_time": "2024-03-06T18:42:20.375Z"
   },
   {
    "duration": 96,
    "start_time": "2024-03-06T18:42:20.476Z"
   },
   {
    "duration": 220,
    "start_time": "2024-03-06T18:42:20.573Z"
   },
   {
    "duration": 101,
    "start_time": "2024-03-06T18:42:20.794Z"
   },
   {
    "duration": 5,
    "start_time": "2024-03-06T18:42:20.896Z"
   },
   {
    "duration": 55,
    "start_time": "2024-03-06T18:42:20.902Z"
   },
   {
    "duration": 124,
    "start_time": "2024-03-06T18:42:20.958Z"
   },
   {
    "duration": 1387,
    "start_time": "2024-03-06T18:42:21.084Z"
   },
   {
    "duration": 82,
    "start_time": "2024-03-06T18:42:22.472Z"
   },
   {
    "duration": 5,
    "start_time": "2024-03-06T18:42:22.555Z"
   },
   {
    "duration": 190,
    "start_time": "2024-03-06T18:42:22.561Z"
   },
   {
    "duration": 10,
    "start_time": "2024-03-06T18:42:22.752Z"
   },
   {
    "duration": 89,
    "start_time": "2024-03-06T18:42:22.763Z"
   },
   {
    "duration": 11,
    "start_time": "2024-03-06T18:42:22.853Z"
   },
   {
    "duration": 600,
    "start_time": "2024-03-06T18:42:22.865Z"
   },
   {
    "duration": 11,
    "start_time": "2024-03-06T18:42:23.466Z"
   },
   {
    "duration": 501,
    "start_time": "2024-03-06T18:42:23.479Z"
   },
   {
    "duration": 6,
    "start_time": "2024-03-06T18:42:23.985Z"
   },
   {
    "duration": 141,
    "start_time": "2024-03-06T18:42:23.992Z"
   },
   {
    "duration": 143,
    "start_time": "2024-03-06T18:42:24.135Z"
   },
   {
    "duration": 81,
    "start_time": "2024-03-06T18:42:24.279Z"
   },
   {
    "duration": 50,
    "start_time": "2024-03-07T03:51:42.870Z"
   },
   {
    "duration": 1920,
    "start_time": "2024-03-07T03:53:24.183Z"
   },
   {
    "duration": 115,
    "start_time": "2024-03-07T03:53:26.104Z"
   },
   {
    "duration": 7,
    "start_time": "2024-03-07T03:53:26.220Z"
   },
   {
    "duration": 180,
    "start_time": "2024-03-07T03:53:26.229Z"
   },
   {
    "duration": 28,
    "start_time": "2024-03-07T03:53:26.410Z"
   },
   {
    "duration": 58,
    "start_time": "2024-03-07T03:53:26.439Z"
   },
   {
    "duration": 18,
    "start_time": "2024-03-07T03:53:26.498Z"
   },
   {
    "duration": 105,
    "start_time": "2024-03-07T03:53:26.517Z"
   },
   {
    "duration": 136,
    "start_time": "2024-03-07T03:53:26.624Z"
   },
   {
    "duration": 79,
    "start_time": "2024-03-07T03:53:26.763Z"
   },
   {
    "duration": 37,
    "start_time": "2024-03-07T03:53:26.844Z"
   },
   {
    "duration": 26,
    "start_time": "2024-03-07T03:53:26.883Z"
   },
   {
    "duration": 41,
    "start_time": "2024-03-07T03:53:26.911Z"
   },
   {
    "duration": 37,
    "start_time": "2024-03-07T03:53:26.953Z"
   },
   {
    "duration": 11,
    "start_time": "2024-03-07T03:53:26.991Z"
   },
   {
    "duration": 8,
    "start_time": "2024-03-07T03:53:27.004Z"
   },
   {
    "duration": 118,
    "start_time": "2024-03-07T03:53:27.013Z"
   },
   {
    "duration": 10,
    "start_time": "2024-03-07T03:53:27.133Z"
   },
   {
    "duration": 20,
    "start_time": "2024-03-07T03:53:27.144Z"
   },
   {
    "duration": 38,
    "start_time": "2024-03-07T03:53:27.166Z"
   },
   {
    "duration": 11,
    "start_time": "2024-03-07T03:53:27.206Z"
   },
   {
    "duration": 21,
    "start_time": "2024-03-07T03:53:27.219Z"
   },
   {
    "duration": 40,
    "start_time": "2024-03-07T03:53:27.242Z"
   },
   {
    "duration": 89,
    "start_time": "2024-03-07T03:53:27.284Z"
   },
   {
    "duration": 20,
    "start_time": "2024-03-07T03:53:27.382Z"
   },
   {
    "duration": 16,
    "start_time": "2024-03-07T03:53:27.404Z"
   },
   {
    "duration": 2,
    "start_time": "2024-03-07T03:53:27.422Z"
   },
   {
    "duration": 54,
    "start_time": "2024-03-07T03:53:27.428Z"
   },
   {
    "duration": 8,
    "start_time": "2024-03-07T03:53:27.484Z"
   },
   {
    "duration": 19,
    "start_time": "2024-03-07T03:53:27.494Z"
   },
   {
    "duration": 19,
    "start_time": "2024-03-07T03:53:27.515Z"
   },
   {
    "duration": 47,
    "start_time": "2024-03-07T03:53:27.536Z"
   },
   {
    "duration": 8,
    "start_time": "2024-03-07T03:53:27.585Z"
   },
   {
    "duration": 18,
    "start_time": "2024-03-07T03:53:27.594Z"
   },
   {
    "duration": 27,
    "start_time": "2024-03-07T03:53:27.613Z"
   },
   {
    "duration": 862,
    "start_time": "2024-03-07T03:53:27.642Z"
   },
   {
    "duration": 9,
    "start_time": "2024-03-07T03:53:28.506Z"
   },
   {
    "duration": 16,
    "start_time": "2024-03-07T03:53:28.516Z"
   },
   {
    "duration": 14,
    "start_time": "2024-03-07T03:53:28.533Z"
   },
   {
    "duration": 516,
    "start_time": "2024-03-07T03:53:28.548Z"
   },
   {
    "duration": 180,
    "start_time": "2024-03-07T03:53:29.066Z"
   },
   {
    "duration": 61,
    "start_time": "2024-03-07T03:53:29.248Z"
   },
   {
    "duration": 18,
    "start_time": "2024-03-07T03:53:29.311Z"
   },
   {
    "duration": 4,
    "start_time": "2024-03-07T03:53:29.330Z"
   },
   {
    "duration": 29,
    "start_time": "2024-03-07T03:53:29.336Z"
   },
   {
    "duration": 23,
    "start_time": "2024-03-07T03:53:29.367Z"
   },
   {
    "duration": 563,
    "start_time": "2024-03-07T03:53:29.392Z"
   },
   {
    "duration": 503,
    "start_time": "2024-03-07T03:53:29.957Z"
   },
   {
    "duration": 139,
    "start_time": "2024-03-07T03:53:30.461Z"
   },
   {
    "duration": 25,
    "start_time": "2024-03-07T03:53:30.602Z"
   },
   {
    "duration": 142,
    "start_time": "2024-03-07T03:53:30.628Z"
   },
   {
    "duration": 23,
    "start_time": "2024-03-07T03:53:30.781Z"
   },
   {
    "duration": 58,
    "start_time": "2024-03-07T03:53:30.805Z"
   },
   {
    "duration": 388,
    "start_time": "2024-03-07T03:53:30.865Z"
   },
   {
    "duration": 34,
    "start_time": "2024-03-07T03:53:31.255Z"
   },
   {
    "duration": 264,
    "start_time": "2024-03-07T03:53:31.292Z"
   },
   {
    "duration": 91,
    "start_time": "2024-03-07T03:53:31.557Z"
   },
   {
    "duration": 10654,
    "start_time": "2024-03-07T03:53:31.650Z"
   },
   {
    "duration": 181,
    "start_time": "2024-03-07T03:53:42.306Z"
   },
   {
    "duration": 233,
    "start_time": "2024-03-07T03:53:42.488Z"
   },
   {
    "duration": 10274,
    "start_time": "2024-03-07T03:53:42.722Z"
   },
   {
    "duration": 204,
    "start_time": "2024-03-07T03:53:52.998Z"
   },
   {
    "duration": 17,
    "start_time": "2024-03-07T03:53:53.204Z"
   },
   {
    "duration": 72,
    "start_time": "2024-03-07T03:53:53.222Z"
   },
   {
    "duration": 90,
    "start_time": "2024-03-07T03:53:53.295Z"
   },
   {
    "duration": 104,
    "start_time": "2024-03-07T03:53:53.387Z"
   },
   {
    "duration": 273,
    "start_time": "2024-03-07T03:53:53.492Z"
   },
   {
    "duration": 136,
    "start_time": "2024-03-07T03:53:53.767Z"
   },
   {
    "duration": 7,
    "start_time": "2024-03-07T03:53:53.905Z"
   },
   {
    "duration": 72,
    "start_time": "2024-03-07T03:53:53.914Z"
   },
   {
    "duration": 170,
    "start_time": "2024-03-07T03:53:53.987Z"
   },
   {
    "duration": 1646,
    "start_time": "2024-03-07T03:53:54.159Z"
   },
   {
    "duration": 125,
    "start_time": "2024-03-07T03:53:55.807Z"
   },
   {
    "duration": 7,
    "start_time": "2024-03-07T03:53:55.934Z"
   },
   {
    "duration": 228,
    "start_time": "2024-03-07T03:53:55.943Z"
   },
   {
    "duration": 19,
    "start_time": "2024-03-07T03:53:56.173Z"
   },
   {
    "duration": 112,
    "start_time": "2024-03-07T03:53:56.194Z"
   },
   {
    "duration": 13,
    "start_time": "2024-03-07T03:53:56.308Z"
   },
   {
    "duration": 551,
    "start_time": "2024-03-07T03:53:56.322Z"
   },
   {
    "duration": 15,
    "start_time": "2024-03-07T03:53:56.875Z"
   },
   {
    "duration": 521,
    "start_time": "2024-03-07T03:53:56.891Z"
   },
   {
    "duration": 8,
    "start_time": "2024-03-07T03:53:57.418Z"
   },
   {
    "duration": 188,
    "start_time": "2024-03-07T03:53:57.427Z"
   },
   {
    "duration": 178,
    "start_time": "2024-03-07T03:53:57.616Z"
   },
   {
    "duration": 118,
    "start_time": "2024-03-07T03:53:57.795Z"
   },
   {
    "duration": 5,
    "start_time": "2024-03-07T04:02:44.746Z"
   },
   {
    "duration": 5,
    "start_time": "2024-03-07T04:03:51.205Z"
   },
   {
    "duration": 10,
    "start_time": "2024-03-07T04:07:58.143Z"
   },
   {
    "duration": 22,
    "start_time": "2024-03-07T04:09:13.263Z"
   },
   {
    "duration": 6,
    "start_time": "2024-03-07T04:09:46.283Z"
   },
   {
    "duration": 12,
    "start_time": "2024-03-07T04:09:51.702Z"
   },
   {
    "duration": 538,
    "start_time": "2024-03-07T04:18:17.552Z"
   },
   {
    "duration": 515,
    "start_time": "2024-03-07T04:18:42.949Z"
   },
   {
    "duration": 15,
    "start_time": "2024-03-07T04:30:29.948Z"
   },
   {
    "duration": 18,
    "start_time": "2024-03-07T04:36:33.329Z"
   },
   {
    "duration": 19,
    "start_time": "2024-03-07T04:37:57.707Z"
   },
   {
    "duration": 26,
    "start_time": "2024-03-07T04:38:35.503Z"
   },
   {
    "duration": 17,
    "start_time": "2024-03-07T04:38:55.948Z"
   },
   {
    "duration": 16,
    "start_time": "2024-03-07T04:45:35.699Z"
   },
   {
    "duration": 378,
    "start_time": "2024-03-07T04:59:11.734Z"
   },
   {
    "duration": 744,
    "start_time": "2024-03-07T05:02:25.307Z"
   },
   {
    "duration": 358,
    "start_time": "2024-03-07T05:03:43.432Z"
   },
   {
    "duration": 20,
    "start_time": "2024-03-07T05:13:51.378Z"
   },
   {
    "duration": 29,
    "start_time": "2024-03-07T05:15:01.289Z"
   },
   {
    "duration": 3,
    "start_time": "2024-03-07T05:16:06.730Z"
   },
   {
    "duration": 3,
    "start_time": "2024-03-07T05:16:49.117Z"
   },
   {
    "duration": 3,
    "start_time": "2024-03-07T05:17:22.950Z"
   },
   {
    "duration": 4166,
    "start_time": "2024-03-07T05:28:10.714Z"
   },
   {
    "duration": 253,
    "start_time": "2024-03-07T05:32:16.217Z"
   },
   {
    "duration": 3,
    "start_time": "2024-03-07T05:33:08.717Z"
   },
   {
    "duration": 429,
    "start_time": "2024-03-07T05:36:21.493Z"
   },
   {
    "duration": 3,
    "start_time": "2024-03-07T05:37:42.420Z"
   },
   {
    "duration": 405,
    "start_time": "2024-03-07T05:38:07.304Z"
   },
   {
    "duration": 56,
    "start_time": "2024-03-07T05:39:36.645Z"
   },
   {
    "duration": 397,
    "start_time": "2024-03-07T05:40:58.787Z"
   },
   {
    "duration": 371,
    "start_time": "2024-03-07T05:41:30.299Z"
   },
   {
    "duration": 355,
    "start_time": "2024-03-07T05:43:08.537Z"
   },
   {
    "duration": 379,
    "start_time": "2024-03-07T05:44:15.320Z"
   },
   {
    "duration": 166,
    "start_time": "2024-03-07T05:47:19.320Z"
   },
   {
    "duration": 167,
    "start_time": "2024-03-07T05:47:32.743Z"
   },
   {
    "duration": 1701,
    "start_time": "2024-03-07T10:22:19.839Z"
   },
   {
    "duration": 111,
    "start_time": "2024-03-07T10:22:21.541Z"
   },
   {
    "duration": 5,
    "start_time": "2024-03-07T10:22:21.654Z"
   },
   {
    "duration": 151,
    "start_time": "2024-03-07T10:22:21.661Z"
   },
   {
    "duration": 40,
    "start_time": "2024-03-07T10:22:21.814Z"
   },
   {
    "duration": 27,
    "start_time": "2024-03-07T10:22:21.856Z"
   },
   {
    "duration": 23,
    "start_time": "2024-03-07T10:22:21.884Z"
   },
   {
    "duration": 85,
    "start_time": "2024-03-07T10:22:21.909Z"
   },
   {
    "duration": 118,
    "start_time": "2024-03-07T10:22:21.995Z"
   },
   {
    "duration": 69,
    "start_time": "2024-03-07T10:22:22.115Z"
   },
   {
    "duration": 78,
    "start_time": "2024-03-07T10:22:22.185Z"
   },
   {
    "duration": 24,
    "start_time": "2024-03-07T10:22:22.264Z"
   },
   {
    "duration": 56,
    "start_time": "2024-03-07T10:22:22.289Z"
   },
   {
    "duration": 13,
    "start_time": "2024-03-07T10:22:22.346Z"
   },
   {
    "duration": 23,
    "start_time": "2024-03-07T10:22:22.360Z"
   },
   {
    "duration": 21,
    "start_time": "2024-03-07T10:22:22.384Z"
   },
   {
    "duration": 105,
    "start_time": "2024-03-07T10:22:22.407Z"
   },
   {
    "duration": 9,
    "start_time": "2024-03-07T10:22:22.514Z"
   },
   {
    "duration": 24,
    "start_time": "2024-03-07T10:22:22.524Z"
   },
   {
    "duration": 23,
    "start_time": "2024-03-07T10:22:22.549Z"
   },
   {
    "duration": 35,
    "start_time": "2024-03-07T10:22:22.573Z"
   },
   {
    "duration": 43,
    "start_time": "2024-03-07T10:22:22.609Z"
   },
   {
    "duration": 43,
    "start_time": "2024-03-07T10:22:22.653Z"
   },
   {
    "duration": 83,
    "start_time": "2024-03-07T10:22:22.697Z"
   },
   {
    "duration": 15,
    "start_time": "2024-03-07T10:22:22.781Z"
   },
   {
    "duration": 24,
    "start_time": "2024-03-07T10:22:22.798Z"
   },
   {
    "duration": 2,
    "start_time": "2024-03-07T10:22:22.823Z"
   },
   {
    "duration": 26,
    "start_time": "2024-03-07T10:22:22.828Z"
   },
   {
    "duration": 6,
    "start_time": "2024-03-07T10:22:22.856Z"
   },
   {
    "duration": 19,
    "start_time": "2024-03-07T10:22:22.863Z"
   },
   {
    "duration": 15,
    "start_time": "2024-03-07T10:22:22.884Z"
   },
   {
    "duration": 29,
    "start_time": "2024-03-07T10:22:22.900Z"
   },
   {
    "duration": 18,
    "start_time": "2024-03-07T10:22:22.930Z"
   },
   {
    "duration": 20,
    "start_time": "2024-03-07T10:22:22.949Z"
   },
   {
    "duration": 23,
    "start_time": "2024-03-07T10:22:22.970Z"
   },
   {
    "duration": 708,
    "start_time": "2024-03-07T10:22:22.994Z"
   },
   {
    "duration": 8,
    "start_time": "2024-03-07T10:22:23.703Z"
   },
   {
    "duration": 44,
    "start_time": "2024-03-07T10:22:23.712Z"
   },
   {
    "duration": 27,
    "start_time": "2024-03-07T10:22:23.758Z"
   },
   {
    "duration": 455,
    "start_time": "2024-03-07T10:22:23.787Z"
   },
   {
    "duration": 149,
    "start_time": "2024-03-07T10:22:24.243Z"
   },
   {
    "duration": 23,
    "start_time": "2024-03-07T10:22:24.393Z"
   },
   {
    "duration": 13,
    "start_time": "2024-03-07T10:22:24.445Z"
   },
   {
    "duration": 16,
    "start_time": "2024-03-07T10:22:24.459Z"
   },
   {
    "duration": 26,
    "start_time": "2024-03-07T10:22:24.476Z"
   },
   {
    "duration": 18,
    "start_time": "2024-03-07T10:22:24.504Z"
   },
   {
    "duration": 532,
    "start_time": "2024-03-07T10:22:24.523Z"
   },
   {
    "duration": 385,
    "start_time": "2024-03-07T10:22:25.056Z"
   },
   {
    "duration": 108,
    "start_time": "2024-03-07T10:22:25.444Z"
   },
   {
    "duration": 21,
    "start_time": "2024-03-07T10:22:25.553Z"
   },
   {
    "duration": 41,
    "start_time": "2024-03-07T10:22:25.575Z"
   },
   {
    "duration": 134,
    "start_time": "2024-03-07T10:22:25.618Z"
   },
   {
    "duration": 3,
    "start_time": "2024-03-07T10:22:25.753Z"
   },
   {
    "duration": 76,
    "start_time": "2024-03-07T10:22:25.757Z"
   },
   {
    "duration": 31,
    "start_time": "2024-03-07T10:22:25.834Z"
   },
   {
    "duration": 21,
    "start_time": "2024-03-07T10:22:25.866Z"
   },
   {
    "duration": 366,
    "start_time": "2024-03-07T10:22:25.888Z"
   },
   {
    "duration": 3,
    "start_time": "2024-03-07T10:22:26.255Z"
   },
   {
    "duration": 37,
    "start_time": "2024-03-07T10:22:26.259Z"
   },
   {
    "duration": 163,
    "start_time": "2024-03-07T10:22:26.298Z"
   },
   {
    "duration": 0,
    "start_time": "2024-03-07T10:22:26.463Z"
   },
   {
    "duration": 0,
    "start_time": "2024-03-07T10:22:26.464Z"
   },
   {
    "duration": 0,
    "start_time": "2024-03-07T10:22:26.465Z"
   },
   {
    "duration": 0,
    "start_time": "2024-03-07T10:22:26.465Z"
   },
   {
    "duration": 0,
    "start_time": "2024-03-07T10:22:26.466Z"
   },
   {
    "duration": 0,
    "start_time": "2024-03-07T10:22:26.467Z"
   },
   {
    "duration": 0,
    "start_time": "2024-03-07T10:22:26.468Z"
   },
   {
    "duration": 0,
    "start_time": "2024-03-07T10:22:26.469Z"
   },
   {
    "duration": 0,
    "start_time": "2024-03-07T10:22:26.470Z"
   },
   {
    "duration": 0,
    "start_time": "2024-03-07T10:22:26.471Z"
   },
   {
    "duration": 0,
    "start_time": "2024-03-07T10:22:26.472Z"
   },
   {
    "duration": 0,
    "start_time": "2024-03-07T10:22:26.473Z"
   },
   {
    "duration": 0,
    "start_time": "2024-03-07T10:22:26.474Z"
   },
   {
    "duration": 0,
    "start_time": "2024-03-07T10:22:26.475Z"
   },
   {
    "duration": 0,
    "start_time": "2024-03-07T10:22:26.476Z"
   },
   {
    "duration": 0,
    "start_time": "2024-03-07T10:22:26.477Z"
   },
   {
    "duration": 0,
    "start_time": "2024-03-07T10:22:26.478Z"
   },
   {
    "duration": 0,
    "start_time": "2024-03-07T10:22:26.479Z"
   },
   {
    "duration": 0,
    "start_time": "2024-03-07T10:22:26.481Z"
   },
   {
    "duration": 0,
    "start_time": "2024-03-07T10:22:26.481Z"
   },
   {
    "duration": 0,
    "start_time": "2024-03-07T10:22:26.482Z"
   },
   {
    "duration": 0,
    "start_time": "2024-03-07T10:22:26.483Z"
   },
   {
    "duration": 0,
    "start_time": "2024-03-07T10:22:26.484Z"
   },
   {
    "duration": 0,
    "start_time": "2024-03-07T10:22:26.485Z"
   },
   {
    "duration": 0,
    "start_time": "2024-03-07T10:22:26.486Z"
   },
   {
    "duration": 0,
    "start_time": "2024-03-07T10:22:26.487Z"
   },
   {
    "duration": 0,
    "start_time": "2024-03-07T10:22:26.489Z"
   },
   {
    "duration": 0,
    "start_time": "2024-03-07T10:22:26.491Z"
   },
   {
    "duration": 0,
    "start_time": "2024-03-07T10:22:26.492Z"
   },
   {
    "duration": 0,
    "start_time": "2024-03-07T10:22:26.544Z"
   },
   {
    "duration": 0,
    "start_time": "2024-03-07T10:22:26.545Z"
   },
   {
    "duration": 8,
    "start_time": "2024-03-07T10:30:57.633Z"
   },
   {
    "duration": 66,
    "start_time": "2024-03-07T10:33:28.769Z"
   },
   {
    "duration": 10095,
    "start_time": "2024-03-07T10:33:28.836Z"
   },
   {
    "duration": 134,
    "start_time": "2024-03-07T10:33:38.933Z"
   },
   {
    "duration": 176,
    "start_time": "2024-03-07T10:33:39.069Z"
   },
   {
    "duration": 8750,
    "start_time": "2024-03-07T10:33:39.248Z"
   },
   {
    "duration": 163,
    "start_time": "2024-03-07T10:33:48.001Z"
   },
   {
    "duration": 14,
    "start_time": "2024-03-07T10:33:48.165Z"
   },
   {
    "duration": 19,
    "start_time": "2024-03-07T10:33:48.180Z"
   },
   {
    "duration": 204,
    "start_time": "2024-03-07T10:33:48.245Z"
   },
   {
    "duration": 44,
    "start_time": "2024-03-07T10:33:48.450Z"
   },
   {
    "duration": 93,
    "start_time": "2024-03-07T10:33:48.495Z"
   },
   {
    "duration": 2,
    "start_time": "2024-03-07T10:33:48.590Z"
   },
   {
    "duration": 344,
    "start_time": "2024-03-07T10:33:48.593Z"
   },
   {
    "duration": 107,
    "start_time": "2024-03-07T10:33:48.940Z"
   },
   {
    "duration": 5,
    "start_time": "2024-03-07T10:33:49.048Z"
   },
   {
    "duration": 75,
    "start_time": "2024-03-07T10:33:49.054Z"
   },
   {
    "duration": 116,
    "start_time": "2024-03-07T10:33:49.131Z"
   },
   {
    "duration": 1400,
    "start_time": "2024-03-07T10:33:49.248Z"
   },
   {
    "duration": 104,
    "start_time": "2024-03-07T10:33:50.650Z"
   },
   {
    "duration": 5,
    "start_time": "2024-03-07T10:33:50.755Z"
   },
   {
    "duration": 177,
    "start_time": "2024-03-07T10:33:50.761Z"
   },
   {
    "duration": 12,
    "start_time": "2024-03-07T10:33:50.940Z"
   },
   {
    "duration": 103,
    "start_time": "2024-03-07T10:33:50.953Z"
   },
   {
    "duration": 10,
    "start_time": "2024-03-07T10:33:51.058Z"
   },
   {
    "duration": 448,
    "start_time": "2024-03-07T10:33:51.069Z"
   },
   {
    "duration": 12,
    "start_time": "2024-03-07T10:33:51.519Z"
   },
   {
    "duration": 431,
    "start_time": "2024-03-07T10:33:51.549Z"
   },
   {
    "duration": 8,
    "start_time": "2024-03-07T10:33:51.981Z"
   },
   {
    "duration": 157,
    "start_time": "2024-03-07T10:33:51.990Z"
   },
   {
    "duration": 142,
    "start_time": "2024-03-07T10:33:52.148Z"
   },
   {
    "duration": 85,
    "start_time": "2024-03-07T10:33:52.291Z"
   },
   {
    "duration": 171,
    "start_time": "2024-03-07T12:16:20.253Z"
   },
   {
    "duration": 174,
    "start_time": "2024-03-07T12:17:07.947Z"
   },
   {
    "duration": 188,
    "start_time": "2024-03-07T12:20:40.788Z"
   },
   {
    "duration": 168,
    "start_time": "2024-03-07T12:21:04.733Z"
   },
   {
    "duration": 184,
    "start_time": "2024-03-07T12:21:17.018Z"
   },
   {
    "duration": 187,
    "start_time": "2024-03-07T12:22:30.374Z"
   },
   {
    "duration": 3,
    "start_time": "2024-03-07T12:26:11.666Z"
   },
   {
    "duration": 80,
    "start_time": "2024-03-07T12:26:16.581Z"
   },
   {
    "duration": 164,
    "start_time": "2024-03-07T12:28:47.400Z"
   },
   {
    "duration": 180,
    "start_time": "2024-03-07T12:29:18.850Z"
   },
   {
    "duration": 23,
    "start_time": "2024-03-07T12:31:41.506Z"
   },
   {
    "duration": 72,
    "start_time": "2024-03-07T12:32:13.438Z"
   },
   {
    "duration": 71,
    "start_time": "2024-03-07T12:32:35.818Z"
   },
   {
    "duration": 529,
    "start_time": "2024-03-07T12:37:11.353Z"
   },
   {
    "duration": 391,
    "start_time": "2024-03-07T12:39:18.680Z"
   },
   {
    "duration": 382,
    "start_time": "2024-03-07T12:42:17.887Z"
   },
   {
    "duration": 444,
    "start_time": "2024-03-07T12:44:22.871Z"
   },
   {
    "duration": 2,
    "start_time": "2024-03-07T12:45:14.988Z"
   },
   {
    "duration": 59,
    "start_time": "2024-03-07T12:46:21.645Z"
   },
   {
    "duration": 53,
    "start_time": "2024-03-07T12:46:59.517Z"
   },
   {
    "duration": 52,
    "start_time": "2024-03-07T12:47:49.011Z"
   },
   {
    "duration": 98,
    "start_time": "2024-03-07T12:53:36.136Z"
   },
   {
    "duration": 1569,
    "start_time": "2024-03-07T14:02:10.128Z"
   },
   {
    "duration": 109,
    "start_time": "2024-03-07T14:02:11.699Z"
   },
   {
    "duration": 6,
    "start_time": "2024-03-07T14:02:11.809Z"
   },
   {
    "duration": 156,
    "start_time": "2024-03-07T14:02:11.817Z"
   },
   {
    "duration": 24,
    "start_time": "2024-03-07T14:02:11.975Z"
   },
   {
    "duration": 32,
    "start_time": "2024-03-07T14:02:12.000Z"
   },
   {
    "duration": 39,
    "start_time": "2024-03-07T14:02:12.034Z"
   },
   {
    "duration": 94,
    "start_time": "2024-03-07T14:02:12.075Z"
   },
   {
    "duration": 125,
    "start_time": "2024-03-07T14:02:12.172Z"
   },
   {
    "duration": 75,
    "start_time": "2024-03-07T14:02:12.299Z"
   },
   {
    "duration": 22,
    "start_time": "2024-03-07T14:02:12.375Z"
   },
   {
    "duration": 26,
    "start_time": "2024-03-07T14:02:12.398Z"
   },
   {
    "duration": 60,
    "start_time": "2024-03-07T14:02:12.425Z"
   },
   {
    "duration": 15,
    "start_time": "2024-03-07T14:02:12.488Z"
   },
   {
    "duration": 10,
    "start_time": "2024-03-07T14:02:12.504Z"
   },
   {
    "duration": 13,
    "start_time": "2024-03-07T14:02:12.515Z"
   },
   {
    "duration": 113,
    "start_time": "2024-03-07T14:02:12.530Z"
   },
   {
    "duration": 10,
    "start_time": "2024-03-07T14:02:12.644Z"
   },
   {
    "duration": 18,
    "start_time": "2024-03-07T14:02:12.656Z"
   },
   {
    "duration": 26,
    "start_time": "2024-03-07T14:02:12.676Z"
   },
   {
    "duration": 10,
    "start_time": "2024-03-07T14:02:12.703Z"
   },
   {
    "duration": 20,
    "start_time": "2024-03-07T14:02:12.715Z"
   },
   {
    "duration": 38,
    "start_time": "2024-03-07T14:02:12.736Z"
   },
   {
    "duration": 100,
    "start_time": "2024-03-07T14:02:12.776Z"
   },
   {
    "duration": 18,
    "start_time": "2024-03-07T14:02:12.878Z"
   },
   {
    "duration": 16,
    "start_time": "2024-03-07T14:02:12.897Z"
   },
   {
    "duration": 2,
    "start_time": "2024-03-07T14:02:12.915Z"
   },
   {
    "duration": 22,
    "start_time": "2024-03-07T14:02:12.918Z"
   },
   {
    "duration": 30,
    "start_time": "2024-03-07T14:02:12.941Z"
   },
   {
    "duration": 18,
    "start_time": "2024-03-07T14:02:12.972Z"
   },
   {
    "duration": 16,
    "start_time": "2024-03-07T14:02:12.991Z"
   },
   {
    "duration": 18,
    "start_time": "2024-03-07T14:02:13.008Z"
   },
   {
    "duration": 9,
    "start_time": "2024-03-07T14:02:13.028Z"
   },
   {
    "duration": 16,
    "start_time": "2024-03-07T14:02:13.064Z"
   },
   {
    "duration": 24,
    "start_time": "2024-03-07T14:02:13.081Z"
   },
   {
    "duration": 732,
    "start_time": "2024-03-07T14:02:13.106Z"
   },
   {
    "duration": 8,
    "start_time": "2024-03-07T14:02:13.865Z"
   },
   {
    "duration": 24,
    "start_time": "2024-03-07T14:02:13.875Z"
   },
   {
    "duration": 10,
    "start_time": "2024-03-07T14:02:13.901Z"
   },
   {
    "duration": 480,
    "start_time": "2024-03-07T14:02:13.912Z"
   },
   {
    "duration": 190,
    "start_time": "2024-03-07T14:02:14.396Z"
   },
   {
    "duration": 27,
    "start_time": "2024-03-07T14:02:14.587Z"
   },
   {
    "duration": 17,
    "start_time": "2024-03-07T14:02:14.615Z"
   },
   {
    "duration": 4,
    "start_time": "2024-03-07T14:02:14.633Z"
   },
   {
    "duration": 6,
    "start_time": "2024-03-07T14:02:14.664Z"
   },
   {
    "duration": 11,
    "start_time": "2024-03-07T14:02:14.672Z"
   },
   {
    "duration": 489,
    "start_time": "2024-03-07T14:02:14.684Z"
   },
   {
    "duration": 451,
    "start_time": "2024-03-07T14:02:15.175Z"
   },
   {
    "duration": 116,
    "start_time": "2024-03-07T14:02:15.628Z"
   },
   {
    "duration": 34,
    "start_time": "2024-03-07T14:02:15.745Z"
   },
   {
    "duration": 3,
    "start_time": "2024-03-07T14:02:15.780Z"
   },
   {
    "duration": 175,
    "start_time": "2024-03-07T14:02:15.784Z"
   },
   {
    "duration": 22,
    "start_time": "2024-03-07T14:02:15.961Z"
   },
   {
    "duration": 53,
    "start_time": "2024-03-07T14:02:15.984Z"
   },
   {
    "duration": 2,
    "start_time": "2024-03-07T14:02:16.039Z"
   },
   {
    "duration": 45,
    "start_time": "2024-03-07T14:02:16.043Z"
   },
   {
    "duration": 4,
    "start_time": "2024-03-07T14:02:16.090Z"
   },
   {
    "duration": 18,
    "start_time": "2024-03-07T14:02:16.095Z"
   },
   {
    "duration": 343,
    "start_time": "2024-03-07T14:02:16.114Z"
   },
   {
    "duration": 3,
    "start_time": "2024-03-07T14:02:16.458Z"
   },
   {
    "duration": 52,
    "start_time": "2024-03-07T14:02:16.462Z"
   },
   {
    "duration": 3,
    "start_time": "2024-03-07T14:02:16.515Z"
   },
   {
    "duration": 53,
    "start_time": "2024-03-07T14:02:16.519Z"
   },
   {
    "duration": 9555,
    "start_time": "2024-03-07T14:02:16.574Z"
   },
   {
    "duration": 68,
    "start_time": "2024-03-07T14:02:26.132Z"
   },
   {
    "duration": 217,
    "start_time": "2024-03-07T14:02:26.201Z"
   },
   {
    "duration": 9402,
    "start_time": "2024-03-07T14:02:26.419Z"
   },
   {
    "duration": 170,
    "start_time": "2024-03-07T14:02:35.824Z"
   },
   {
    "duration": 15,
    "start_time": "2024-03-07T14:02:35.995Z"
   },
   {
    "duration": 2,
    "start_time": "2024-03-07T14:02:36.065Z"
   },
   {
    "duration": 243,
    "start_time": "2024-03-07T14:02:36.069Z"
   },
   {
    "duration": 55,
    "start_time": "2024-03-07T14:02:36.314Z"
   },
   {
    "duration": 84,
    "start_time": "2024-03-07T14:02:36.370Z"
   },
   {
    "duration": 3,
    "start_time": "2024-03-07T14:02:36.464Z"
   },
   {
    "duration": 375,
    "start_time": "2024-03-07T14:02:36.468Z"
   },
   {
    "duration": 119,
    "start_time": "2024-03-07T14:02:36.844Z"
   },
   {
    "duration": 6,
    "start_time": "2024-03-07T14:02:36.965Z"
   },
   {
    "duration": 51,
    "start_time": "2024-03-07T14:02:36.972Z"
   },
   {
    "duration": 153,
    "start_time": "2024-03-07T14:02:37.025Z"
   },
   {
    "duration": 1536,
    "start_time": "2024-03-07T14:02:37.179Z"
   },
   {
    "duration": 90,
    "start_time": "2024-03-07T14:02:38.717Z"
   },
   {
    "duration": 7,
    "start_time": "2024-03-07T14:02:38.808Z"
   },
   {
    "duration": 234,
    "start_time": "2024-03-07T14:02:38.816Z"
   },
   {
    "duration": 16,
    "start_time": "2024-03-07T14:02:39.052Z"
   },
   {
    "duration": 82,
    "start_time": "2024-03-07T14:02:39.070Z"
   },
   {
    "duration": 12,
    "start_time": "2024-03-07T14:02:39.164Z"
   },
   {
    "duration": 484,
    "start_time": "2024-03-07T14:02:39.178Z"
   },
   {
    "duration": 15,
    "start_time": "2024-03-07T14:02:39.665Z"
   },
   {
    "duration": 547,
    "start_time": "2024-03-07T14:02:39.681Z"
   },
   {
    "duration": 9,
    "start_time": "2024-03-07T14:02:40.229Z"
   },
   {
    "duration": 163,
    "start_time": "2024-03-07T14:02:40.239Z"
   },
   {
    "duration": 158,
    "start_time": "2024-03-07T14:02:40.403Z"
   },
   {
    "duration": 85,
    "start_time": "2024-03-07T14:02:40.562Z"
   }
  ],
  "kernelspec": {
   "display_name": "Python 3 (ipykernel)",
   "language": "python",
   "name": "python3"
  },
  "language_info": {
   "codemirror_mode": {
    "name": "ipython",
    "version": 3
   },
   "file_extension": ".py",
   "mimetype": "text/x-python",
   "name": "python",
   "nbconvert_exporter": "python",
   "pygments_lexer": "ipython3",
   "version": "3.12.3"
  },
  "toc": {
   "base_numbering": 1,
   "nav_menu": {},
   "number_sections": true,
   "sideBar": true,
   "skip_h1_title": true,
   "title_cell": "Table of Contents",
   "title_sidebar": "Contents",
   "toc_cell": false,
   "toc_position": {
    "height": "calc(100% - 180px)",
    "left": "10px",
    "top": "150px",
    "width": "228.034px"
   },
   "toc_section_display": true,
   "toc_window_display": true
  }
 },
 "nbformat": 4,
 "nbformat_minor": 4
}
